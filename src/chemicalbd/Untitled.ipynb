{
 "cells": [
  {
   "cell_type": "code",
   "execution_count": 1,
   "id": "2c620cf2-8f4d-432d-919c-34b40606890e",
   "metadata": {},
   "outputs": [
    {
     "name": "stdout",
     "output_type": "stream",
     "text": [
      "The molecule inserted looks like this:\n"
     ]
    },
    {
     "data": {
      "image/png": "[encoded data removed]",
      "image/svg+xml": [
       "<?xml version='1.0' encoding='iso-8859-1'?>\n",
       "<svg version='1.1' baseProfile='full'\n",
       "              xmlns='http://www.w3.org/2000/svg'\n",
       "                      xmlns:rdkit='http://www.rdkit.org/xml'\n",
       "                      xmlns:xlink='http://www.w3.org/1999/xlink'\n",
       "                  xml:space='preserve'\n",
       "width='450px' height='150px' viewBox='0 0 450 150'>\n",
       "<!-- END OF HEADER -->\n",
       "<rect style='opacity:1.0;fill:#FFFFFF;stroke:none' width='450.0' height='150.0' x='0.0' y='0.0'> </rect>\n",
       "<path class='bond-0 atom-0 atom-1' d='M 23.4,92.4 L 122.0,35.5' style='fill:none;fill-rule:evenodd;stroke:#000000;stroke-width:2.0px;stroke-linecap:butt;stroke-linejoin:miter;stroke-opacity:1' />\n",
       "<path class='bond-1 atom-1 atom-2' d='M 122.0,35.5 L 220.6,92.4' style='fill:none;fill-rule:evenodd;stroke:#000000;stroke-width:2.0px;stroke-linecap:butt;stroke-linejoin:miter;stroke-opacity:1' />\n",
       "<path class='bond-2 atom-2 atom-3' d='M 220.6,92.4 L 319.3,35.5' style='fill:none;fill-rule:evenodd;stroke:#000000;stroke-width:2.0px;stroke-linecap:butt;stroke-linejoin:miter;stroke-opacity:1' />\n",
       "<path class='bond-3 atom-3 atom-4' d='M 319.3,35.5 L 360.2,59.1' style='fill:none;fill-rule:evenodd;stroke:#000000;stroke-width:2.0px;stroke-linecap:butt;stroke-linejoin:miter;stroke-opacity:1' />\n",
       "<path class='bond-3 atom-3 atom-4' d='M 360.2,59.1 L 401.1,82.7' style='fill:none;fill-rule:evenodd;stroke:#FF0000;stroke-width:2.0px;stroke-linecap:butt;stroke-linejoin:miter;stroke-opacity:1' />\n",
       "<path class='bond-3 atom-3 atom-4' d='M 319.3,55.2 L 351.6,73.9' style='fill:none;fill-rule:evenodd;stroke:#000000;stroke-width:2.0px;stroke-linecap:butt;stroke-linejoin:miter;stroke-opacity:1' />\n",
       "<path class='bond-3 atom-3 atom-4' d='M 351.6,73.9 L 392.6,97.5' style='fill:none;fill-rule:evenodd;stroke:#FF0000;stroke-width:2.0px;stroke-linecap:butt;stroke-linejoin:miter;stroke-opacity:1' />\n",
       "<path d='M 117.1,38.3 L 122.0,35.5 L 126.9,38.3' style='fill:none;stroke:#000000;stroke-width:2.0px;stroke-linecap:butt;stroke-linejoin:miter;stroke-opacity:1;' />\n",
       "<path d='M 215.7,89.5 L 220.6,92.4 L 225.6,89.5' style='fill:none;stroke:#000000;stroke-width:2.0px;stroke-linecap:butt;stroke-linejoin:miter;stroke-opacity:1;' />\n",
       "<path d='M 314.3,38.3 L 319.3,35.5 L 321.3,36.6' style='fill:none;stroke:#000000;stroke-width:2.0px;stroke-linecap:butt;stroke-linejoin:miter;stroke-opacity:1;' />\n",
       "<path class='atom-4' d='M 400.6 99.9\n",
       "Q 400.6 93.1, 404.0 89.3\n",
       "Q 407.3 85.5, 413.6 85.5\n",
       "Q 419.9 85.5, 423.2 89.3\n",
       "Q 426.6 93.1, 426.6 99.9\n",
       "Q 426.6 106.7, 423.2 110.7\n",
       "Q 419.8 114.5, 413.6 114.5\n",
       "Q 407.4 114.5, 404.0 110.7\n",
       "Q 400.6 106.8, 400.6 99.9\n",
       "M 413.6 111.3\n",
       "Q 417.9 111.3, 420.2 108.5\n",
       "Q 422.6 105.5, 422.6 99.9\n",
       "Q 422.6 94.3, 420.2 91.5\n",
       "Q 417.9 88.7, 413.6 88.7\n",
       "Q 409.3 88.7, 406.9 91.5\n",
       "Q 404.6 94.3, 404.6 99.9\n",
       "Q 404.6 105.6, 406.9 108.5\n",
       "Q 409.3 111.3, 413.6 111.3\n",
       "' fill='#FF0000'/>\n",
       "</svg>\n"
      ],
      "text/html": [
       "<?xml version='1.0' encoding='iso-8859-1'?>\n",
       "<svg version='1.1' baseProfile='full'\n",
       "              xmlns='http://www.w3.org/2000/svg'\n",
       "                      xmlns:rdkit='http://www.rdkit.org/xml'\n",
       "                      xmlns:xlink='http://www.w3.org/1999/xlink'\n",
       "                  xml:space='preserve'\n",
       "width='450px' height='150px' viewBox='0 0 450 150'>\n",
       "<!-- END OF HEADER -->\n",
       "<rect style='opacity:1.0;fill:#FFFFFF;stroke:none' width='450.0' height='150.0' x='0.0' y='0.0'> </rect>\n",
       "<path class='bond-0 atom-0 atom-1' d='M 23.4,92.4 L 122.0,35.5' style='fill:none;fill-rule:evenodd;stroke:#000000;stroke-width:2.0px;stroke-linecap:butt;stroke-linejoin:miter;stroke-opacity:1' />\n",
       "<path class='bond-1 atom-1 atom-2' d='M 122.0,35.5 L 220.6,92.4' style='fill:none;fill-rule:evenodd;stroke:#000000;stroke-width:2.0px;stroke-linecap:butt;stroke-linejoin:miter;stroke-opacity:1' />\n",
       "<path class='bond-2 atom-2 atom-3' d='M 220.6,92.4 L 319.3,35.5' style='fill:none;fill-rule:evenodd;stroke:#000000;stroke-width:2.0px;stroke-linecap:butt;stroke-linejoin:miter;stroke-opacity:1' />\n",
       "<path class='bond-3 atom-3 atom-4' d='M 319.3,35.5 L 360.2,59.1' style='fill:none;fill-rule:evenodd;stroke:#000000;stroke-width:2.0px;stroke-linecap:butt;stroke-linejoin:miter;stroke-opacity:1' />\n",
       "<path class='bond-3 atom-3 atom-4' d='M 360.2,59.1 L 401.1,82.7' style='fill:none;fill-rule:evenodd;stroke:#FF0000;stroke-width:2.0px;stroke-linecap:butt;stroke-linejoin:miter;stroke-opacity:1' />\n",
       "<path class='bond-3 atom-3 atom-4' d='M 319.3,55.2 L 351.6,73.9' style='fill:none;fill-rule:evenodd;stroke:#000000;stroke-width:2.0px;stroke-linecap:butt;stroke-linejoin:miter;stroke-opacity:1' />\n",
       "<path class='bond-3 atom-3 atom-4' d='M 351.6,73.9 L 392.6,97.5' style='fill:none;fill-rule:evenodd;stroke:#FF0000;stroke-width:2.0px;stroke-linecap:butt;stroke-linejoin:miter;stroke-opacity:1' />\n",
       "<path d='M 117.1,38.3 L 122.0,35.5 L 126.9,38.3' style='fill:none;stroke:#000000;stroke-width:2.0px;stroke-linecap:butt;stroke-linejoin:miter;stroke-opacity:1;' />\n",
       "<path d='M 215.7,89.5 L 220.6,92.4 L 225.6,89.5' style='fill:none;stroke:#000000;stroke-width:2.0px;stroke-linecap:butt;stroke-linejoin:miter;stroke-opacity:1;' />\n",
       "<path d='M 314.3,38.3 L 319.3,35.5 L 321.3,36.6' style='fill:none;stroke:#000000;stroke-width:2.0px;stroke-linecap:butt;stroke-linejoin:miter;stroke-opacity:1;' />\n",
       "<path class='atom-4' d='M 400.6 99.9\n",
       "Q 400.6 93.1, 404.0 89.3\n",
       "Q 407.3 85.5, 413.6 85.5\n",
       "Q 419.9 85.5, 423.2 89.3\n",
       "Q 426.6 93.1, 426.6 99.9\n",
       "Q 426.6 106.7, 423.2 110.7\n",
       "Q 419.8 114.5, 413.6 114.5\n",
       "Q 407.4 114.5, 404.0 110.7\n",
       "Q 400.6 106.8, 400.6 99.9\n",
       "M 413.6 111.3\n",
       "Q 417.9 111.3, 420.2 108.5\n",
       "Q 422.6 105.5, 422.6 99.9\n",
       "Q 422.6 94.3, 420.2 91.5\n",
       "Q 417.9 88.7, 413.6 88.7\n",
       "Q 409.3 88.7, 406.9 91.5\n",
       "Q 404.6 94.3, 404.6 99.9\n",
       "Q 404.6 105.6, 406.9 108.5\n",
       "Q 409.3 111.3, 413.6 111.3\n",
       "' fill='#FF0000'/>\n",
       "</svg>\n"
      ],
      "text/plain": [
       "<rdkit.Chem.rdchem.Mol at 0x175804a11c0>"
      ]
     },
     "metadata": {},
     "output_type": "display_data"
    },
    {
     "name": "stdout",
     "output_type": "stream",
     "text": [
      "--------------------------------------\n",
      "--------------------------------------\n",
      "Aldehyde disconnection spotted\n",
      "--------------------------------------\n",
      "Option 1\n",
      "Reactants\n"
     ]
    },
    {
     "data": {
      "image/svg+xml": [
       "<svg xmlns=\"http://www.w3.org/2000/svg\" xmlns:rdkit=\"http://www.rdkit.org/xml\" xmlns:xlink=\"http://www.w3.org/1999/xlink\" version=\"1.1\" baseProfile=\"full\" xml:space=\"preserve\" width=\"800px\" height=\"200px\" viewBox=\"0 0 800 200\">\n",
       "<!-- END OF HEADER -->\n",
       "<rect style=\"opacity:1.0;fill:#FFFFFF;stroke:none\" width=\"800.0\" height=\"200.0\" x=\"0.0\" y=\"0.0\"> </rect>\n",
       "<path class=\"bond-0 atom-0 atom-1\" d=\"M 10.0,108.2 L 50.4,84.9\" style=\"fill:none;fill-rule:evenodd;stroke:#000000;stroke-width:2.0px;stroke-linecap:butt;stroke-linejoin:miter;stroke-opacity:1\"/>\n",
       "<path class=\"bond-1 atom-1 atom-2\" d=\"M 50.4,84.9 L 90.8,108.2\" style=\"fill:none;fill-rule:evenodd;stroke:#000000;stroke-width:2.0px;stroke-linecap:butt;stroke-linejoin:miter;stroke-opacity:1\"/>\n",
       "<path class=\"bond-2 atom-2 atom-3\" d=\"M 90.8,108.2 L 131.2,84.9\" style=\"fill:none;fill-rule:evenodd;stroke:#000000;stroke-width:2.0px;stroke-linecap:butt;stroke-linejoin:miter;stroke-opacity:1\"/>\n",
       "<path class=\"bond-3 atom-3 atom-4\" d=\"M 131.2,84.9 L 147.6,94.4\" style=\"fill:none;fill-rule:evenodd;stroke:#000000;stroke-width:2.0px;stroke-linecap:butt;stroke-linejoin:miter;stroke-opacity:1\"/>\n",
       "<path class=\"bond-3 atom-3 atom-4\" d=\"M 147.6,94.4 L 163.9,103.8\" style=\"fill:none;fill-rule:evenodd;stroke:#FF0000;stroke-width:2.0px;stroke-linecap:butt;stroke-linejoin:miter;stroke-opacity:1\"/>\n",
       "<path d=\"M 48.4,86.1 L 50.4,84.9 L 52.4,86.1\" style=\"fill:none;stroke:#000000;stroke-width:2.0px;stroke-linecap:butt;stroke-linejoin:miter;stroke-opacity:1;\"/>\n",
       "<path d=\"M 88.8,107.1 L 90.8,108.2 L 92.8,107.1\" style=\"fill:none;stroke:#000000;stroke-width:2.0px;stroke-linecap:butt;stroke-linejoin:miter;stroke-opacity:1;\"/>\n",
       "<path d=\"M 129.1,86.1 L 131.2,84.9 L 132.0,85.4\" style=\"fill:none;stroke:#000000;stroke-width:2.0px;stroke-linecap:butt;stroke-linejoin:miter;stroke-opacity:1;\"/>\n",
       "<path class=\"atom-4\" d=\"M 165.5 108.3 Q 165.5 105.1, 167.1 103.3 Q 168.6 101.5, 171.5 101.5 Q 174.5 101.5, 176.0 103.3 Q 177.6 105.1, 177.6 108.3 Q 177.6 111.5, 176.0 113.3 Q 174.4 115.1, 171.5 115.1 Q 168.6 115.1, 167.1 113.3 Q 165.5 111.5, 165.5 108.3 M 171.5 113.6 Q 173.6 113.6, 174.6 112.3 Q 175.7 110.9, 175.7 108.3 Q 175.7 105.7, 174.6 104.4 Q 173.6 103.0, 171.5 103.0 Q 169.5 103.0, 168.4 104.3 Q 167.4 105.6, 167.4 108.3 Q 167.4 110.9, 168.4 112.3 Q 169.5 113.6, 171.5 113.6 \" fill=\"#FF0000\"/>\n",
       "<path class=\"atom-4\" d=\"M 179.7 101.7 L 181.5 101.7 L 181.5 107.3 L 188.2 107.3 L 188.2 101.7 L 190.0 101.7 L 190.0 114.9 L 188.2 114.9 L 188.2 108.8 L 181.5 108.8 L 181.5 114.9 L 179.7 114.9 L 179.7 101.7 \" fill=\"#FF0000\"/>\n",
       "<path class=\"bond-0 atom-0 atom-1\" d=\"M 259.6,138.3 L 276.9,128.3\" style=\"fill:none;fill-rule:evenodd;stroke:#000000;stroke-width:2.0px;stroke-linecap:butt;stroke-linejoin:miter;stroke-opacity:1\"/>\n",
       "<path class=\"bond-0 atom-0 atom-1\" d=\"M 276.9,128.3 L 294.2,118.3\" style=\"fill:none;fill-rule:evenodd;stroke:#CCCC00;stroke-width:2.0px;stroke-linecap:butt;stroke-linejoin:miter;stroke-opacity:1\"/>\n",
       "<path class=\"bond-1 atom-1 atom-2\" d=\"M 305.8,118.3 L 323.1,128.3\" style=\"fill:none;fill-rule:evenodd;stroke:#CCCC00;stroke-width:2.0px;stroke-linecap:butt;stroke-linejoin:miter;stroke-opacity:1\"/>\n",
       "<path class=\"bond-1 atom-1 atom-2\" d=\"M 323.1,128.3 L 340.4,138.3\" style=\"fill:none;fill-rule:evenodd;stroke:#000000;stroke-width:2.0px;stroke-linecap:butt;stroke-linejoin:miter;stroke-opacity:1\"/>\n",
       "<path class=\"bond-2 atom-1 atom-3\" d=\"M 303.5,106.9 L 303.5,91.8\" style=\"fill:none;fill-rule:evenodd;stroke:#CCCC00;stroke-width:2.0px;stroke-linecap:butt;stroke-linejoin:miter;stroke-opacity:1\"/>\n",
       "<path class=\"bond-2 atom-1 atom-3\" d=\"M 303.5,91.8 L 303.5,76.8\" style=\"fill:none;fill-rule:evenodd;stroke:#FF0000;stroke-width:2.0px;stroke-linecap:butt;stroke-linejoin:miter;stroke-opacity:1\"/>\n",
       "<path class=\"bond-2 atom-1 atom-3\" d=\"M 296.5,106.9 L 296.5,91.8\" style=\"fill:none;fill-rule:evenodd;stroke:#CCCC00;stroke-width:2.0px;stroke-linecap:butt;stroke-linejoin:miter;stroke-opacity:1\"/>\n",
       "<path class=\"bond-2 atom-1 atom-3\" d=\"M 296.5,91.8 L 296.5,76.8\" style=\"fill:none;fill-rule:evenodd;stroke:#FF0000;stroke-width:2.0px;stroke-linecap:butt;stroke-linejoin:miter;stroke-opacity:1\"/>\n",
       "<path class=\"atom-1\" d=\"M 296.3 119.5 Q 296.4 119.6, 297.0 119.8 Q 297.6 120.1, 298.3 120.3 Q 299.0 120.4, 299.7 120.4 Q 300.9 120.4, 301.7 119.8 Q 302.4 119.2, 302.4 118.2 Q 302.4 117.4, 302.0 117.0 Q 301.7 116.5, 301.1 116.3 Q 300.5 116.0, 299.6 115.8 Q 298.4 115.4, 297.7 115.1 Q 297.0 114.7, 296.5 114.0 Q 296.0 113.3, 296.0 112.1 Q 296.0 110.5, 297.2 109.4 Q 298.3 108.4, 300.5 108.4 Q 302.1 108.4, 303.8 109.1 L 303.4 110.6 Q 301.8 109.9, 300.6 109.9 Q 299.3 109.9, 298.6 110.5 Q 297.9 111.0, 297.9 111.9 Q 297.9 112.6, 298.3 113.0 Q 298.6 113.5, 299.2 113.7 Q 299.7 114.0, 300.6 114.2 Q 301.8 114.6, 302.5 115.0 Q 303.2 115.4, 303.7 116.1 Q 304.2 116.9, 304.2 118.2 Q 304.2 120.0, 303.0 121.0 Q 301.8 121.9, 299.8 121.9 Q 298.6 121.9, 297.7 121.7 Q 296.8 121.4, 295.8 121.0 L 296.3 119.5 \" fill=\"#CCCC00\"/>\n",
       "<path class=\"atom-3\" d=\"M 293.9 68.4 Q 293.9 65.2, 295.5 63.5 Q 297.1 61.7, 300.0 61.7 Q 302.9 61.7, 304.5 63.5 Q 306.1 65.2, 306.1 68.4 Q 306.1 71.6, 304.5 73.4 Q 302.9 75.2, 300.0 75.2 Q 297.1 75.2, 295.5 73.4 Q 293.9 71.6, 293.9 68.4 M 300.0 73.8 Q 302.0 73.8, 303.1 72.4 Q 304.2 71.0, 304.2 68.4 Q 304.2 65.8, 303.1 64.5 Q 302.0 63.2, 300.0 63.2 Q 298.0 63.2, 296.9 64.5 Q 295.8 65.8, 295.8 68.4 Q 295.8 71.1, 296.9 72.4 Q 298.0 73.8, 300.0 73.8 \" fill=\"#FF0000\"/>\n",
       "<path class=\"bond-0 atom-0 atom-1\" d=\"M 578.8,96.2 L 544.5,127.8\" style=\"fill:none;fill-rule:evenodd;stroke:#000000;stroke-width:2.0px;stroke-linecap:butt;stroke-linejoin:miter;stroke-opacity:1\"/>\n",
       "<path class=\"bond-1 atom-1 atom-2\" d=\"M 544.5,127.8 L 525.5,121.9\" style=\"fill:none;fill-rule:evenodd;stroke:#000000;stroke-width:2.0px;stroke-linecap:butt;stroke-linejoin:miter;stroke-opacity:1\"/>\n",
       "<path class=\"bond-1 atom-1 atom-2\" d=\"M 525.5,121.9 L 506.5,116.0\" style=\"fill:none;fill-rule:evenodd;stroke:#0000FF;stroke-width:2.0px;stroke-linecap:butt;stroke-linejoin:miter;stroke-opacity:1\"/>\n",
       "<path class=\"bond-2 atom-2 atom-3\" d=\"M 493.5,119.9 L 479.6,132.7\" style=\"fill:none;fill-rule:evenodd;stroke:#0000FF;stroke-width:2.0px;stroke-linecap:butt;stroke-linejoin:miter;stroke-opacity:1\"/>\n",
       "<path class=\"bond-2 atom-2 atom-3\" d=\"M 479.6,132.7 L 465.7,145.5\" style=\"fill:none;fill-rule:evenodd;stroke:#000000;stroke-width:2.0px;stroke-linecap:butt;stroke-linejoin:miter;stroke-opacity:1\"/>\n",
       "<path class=\"bond-3 atom-3 atom-4\" d=\"M 465.7,145.5 L 421.2,131.6\" style=\"fill:none;fill-rule:evenodd;stroke:#000000;stroke-width:2.0px;stroke-linecap:butt;stroke-linejoin:miter;stroke-opacity:1\"/>\n",
       "<path class=\"bond-4 atom-2 atom-5\" d=\"M 498.2,105.8 L 494.0,87.1\" style=\"fill:none;fill-rule:evenodd;stroke:#0000FF;stroke-width:2.0px;stroke-linecap:butt;stroke-linejoin:miter;stroke-opacity:1\"/>\n",
       "<path class=\"bond-4 atom-2 atom-5\" d=\"M 494.0,87.1 L 489.8,68.4\" style=\"fill:none;fill-rule:evenodd;stroke:#000000;stroke-width:2.0px;stroke-linecap:butt;stroke-linejoin:miter;stroke-opacity:1\"/>\n",
       "<path class=\"bond-5 atom-5 atom-6\" d=\"M 489.8,68.4 L 445.3,54.5\" style=\"fill:none;fill-rule:evenodd;stroke:#000000;stroke-width:2.0px;stroke-linecap:butt;stroke-linejoin:miter;stroke-opacity:1\"/>\n",
       "<path d=\"M 546.2,126.2 L 544.5,127.8 L 543.6,127.5\" style=\"fill:none;stroke:#000000;stroke-width:2.0px;stroke-linecap:butt;stroke-linejoin:miter;stroke-opacity:1;\"/>\n",
       "<path d=\"M 466.4,144.9 L 465.7,145.5 L 463.5,144.8\" style=\"fill:none;stroke:#000000;stroke-width:2.0px;stroke-linecap:butt;stroke-linejoin:miter;stroke-opacity:1;\"/>\n",
       "<path d=\"M 490.0,69.3 L 489.8,68.4 L 487.6,67.7\" style=\"fill:none;stroke:#000000;stroke-width:2.0px;stroke-linecap:butt;stroke-linejoin:miter;stroke-opacity:1;\"/>\n",
       "<path class=\"atom-2\" d=\"M 497.1 107.3 L 501.4 114.3 Q 501.8 115.0, 502.5 116.2 Q 503.2 117.5, 503.3 117.6 L 503.3 107.3 L 505.0 107.3 L 505.0 120.5 L 503.2 120.5 L 498.6 112.9 Q 498.0 112.0, 497.4 110.9 Q 496.9 109.9, 496.7 109.6 L 496.7 120.5 L 495.0 120.5 L 495.0 107.3 L 497.1 107.3 \" fill=\"#0000FF\"/>\n",
       "<path class=\"bond-0 atom-0 atom-1\" d=\"M 657.9,136.2 L 668.3,118.0\" style=\"fill:none;fill-rule:evenodd;stroke:#00CC00;stroke-width:2.0px;stroke-linecap:butt;stroke-linejoin:miter;stroke-opacity:1\"/>\n",
       "<path class=\"bond-0 atom-0 atom-1\" d=\"M 668.3,118.0 L 678.8,99.9\" style=\"fill:none;fill-rule:evenodd;stroke:#000000;stroke-width:2.0px;stroke-linecap:butt;stroke-linejoin:miter;stroke-opacity:1\"/>\n",
       "<path class=\"bond-1 atom-1 atom-2\" d=\"M 682.8,99.9 L 673.1,83.1\" style=\"fill:none;fill-rule:evenodd;stroke:#000000;stroke-width:2.0px;stroke-linecap:butt;stroke-linejoin:miter;stroke-opacity:1\"/>\n",
       "<path class=\"bond-1 atom-1 atom-2\" d=\"M 673.1,83.1 L 663.4,66.2\" style=\"fill:none;fill-rule:evenodd;stroke:#FF0000;stroke-width:2.0px;stroke-linecap:butt;stroke-linejoin:miter;stroke-opacity:1\"/>\n",
       "<path class=\"bond-1 atom-1 atom-2\" d=\"M 676.8,103.4 L 667.0,86.6\" style=\"fill:none;fill-rule:evenodd;stroke:#000000;stroke-width:2.0px;stroke-linecap:butt;stroke-linejoin:miter;stroke-opacity:1\"/>\n",
       "<path class=\"bond-1 atom-1 atom-2\" d=\"M 667.0,86.6 L 657.3,69.7\" style=\"fill:none;fill-rule:evenodd;stroke:#FF0000;stroke-width:2.0px;stroke-linecap:butt;stroke-linejoin:miter;stroke-opacity:1\"/>\n",
       "<path class=\"bond-2 atom-1 atom-3\" d=\"M 678.8,99.9 L 725.4,99.9\" style=\"fill:none;fill-rule:evenodd;stroke:#000000;stroke-width:2.0px;stroke-linecap:butt;stroke-linejoin:miter;stroke-opacity:1\"/>\n",
       "<path class=\"bond-3 atom-3 atom-4\" d=\"M 721.4,99.9 L 731.2,116.9\" style=\"fill:none;fill-rule:evenodd;stroke:#000000;stroke-width:2.0px;stroke-linecap:butt;stroke-linejoin:miter;stroke-opacity:1\"/>\n",
       "<path class=\"bond-3 atom-3 atom-4\" d=\"M 731.2,116.9 L 741.0,133.8\" style=\"fill:none;fill-rule:evenodd;stroke:#FF0000;stroke-width:2.0px;stroke-linecap:butt;stroke-linejoin:miter;stroke-opacity:1\"/>\n",
       "<path class=\"bond-3 atom-3 atom-4\" d=\"M 727.5,96.4 L 737.2,113.4\" style=\"fill:none;fill-rule:evenodd;stroke:#000000;stroke-width:2.0px;stroke-linecap:butt;stroke-linejoin:miter;stroke-opacity:1\"/>\n",
       "<path class=\"bond-3 atom-3 atom-4\" d=\"M 737.2,113.4 L 747.0,130.3\" style=\"fill:none;fill-rule:evenodd;stroke:#FF0000;stroke-width:2.0px;stroke-linecap:butt;stroke-linejoin:miter;stroke-opacity:1\"/>\n",
       "<path class=\"bond-4 atom-3 atom-5\" d=\"M 725.4,99.9 L 734.6,84.1\" style=\"fill:none;fill-rule:evenodd;stroke:#000000;stroke-width:2.0px;stroke-linecap:butt;stroke-linejoin:miter;stroke-opacity:1\"/>\n",
       "<path class=\"bond-4 atom-3 atom-5\" d=\"M 734.6,84.1 L 743.7,68.3\" style=\"fill:none;fill-rule:evenodd;stroke:#00CC00;stroke-width:2.0px;stroke-linecap:butt;stroke-linejoin:miter;stroke-opacity:1\"/>\n",
       "<path d=\"M 678.3,100.8 L 678.8,99.9 L 681.1,99.9\" style=\"fill:none;stroke:#000000;stroke-width:2.0px;stroke-linecap:butt;stroke-linejoin:miter;stroke-opacity:1;\"/>\n",
       "<path d=\"M 723.1,99.9 L 725.4,99.9 L 725.9,99.1\" style=\"fill:none;stroke:#000000;stroke-width:2.0px;stroke-linecap:butt;stroke-linejoin:miter;stroke-opacity:1;\"/>\n",
       "<path class=\"atom-0\" d=\"M 643.1 140.8 Q 643.1 137.5, 644.6 135.8 Q 646.2 134.0, 649.1 134.0 Q 651.8 134.0, 653.3 135.9 L 652.1 137.0 Q 651.0 135.6, 649.1 135.6 Q 647.1 135.6, 646.0 136.9 Q 645.0 138.2, 645.0 140.8 Q 645.0 143.4, 646.1 144.7 Q 647.2 146.1, 649.3 146.1 Q 650.8 146.1, 652.5 145.2 L 653.0 146.6 Q 652.3 147.0, 651.2 147.3 Q 650.2 147.5, 649.0 147.5 Q 646.2 147.5, 644.6 145.8 Q 643.1 144.0, 643.1 140.8 \" fill=\"#00CC00\"/>\n",
       "<path class=\"atom-0\" d=\"M 654.6 133.2 L 656.3 133.2 L 656.3 147.4 L 654.6 147.4 L 654.6 133.2 \" fill=\"#00CC00\"/>\n",
       "<path class=\"atom-2\" d=\"M 649.4 59.6 Q 649.4 56.4, 651.0 54.6 Q 652.6 52.9, 655.5 52.9 Q 658.4 52.9, 660.0 54.6 Q 661.5 56.4, 661.5 59.6 Q 661.5 62.8, 660.0 64.6 Q 658.4 66.4, 655.5 66.4 Q 652.6 66.4, 651.0 64.6 Q 649.4 62.8, 649.4 59.6 M 655.5 64.9 Q 657.5 64.9, 658.6 63.6 Q 659.7 62.2, 659.7 59.6 Q 659.7 57.0, 658.6 55.7 Q 657.5 54.3, 655.5 54.3 Q 653.5 54.3, 652.4 55.6 Q 651.3 57.0, 651.3 59.6 Q 651.3 62.2, 652.4 63.6 Q 653.5 64.9, 655.5 64.9 \" fill=\"#FF0000\"/>\n",
       "<path class=\"atom-4\" d=\"M 742.7 140.3 Q 742.7 137.2, 744.3 135.4 Q 745.8 133.6, 748.8 133.6 Q 751.7 133.6, 753.2 135.4 Q 754.8 137.2, 754.8 140.3 Q 754.8 143.5, 753.2 145.4 Q 751.6 147.2, 748.8 147.2 Q 745.8 147.2, 744.3 145.4 Q 742.7 143.6, 742.7 140.3 M 748.8 145.7 Q 750.8 145.7, 751.8 144.4 Q 752.9 143.0, 752.9 140.3 Q 752.9 137.7, 751.8 136.4 Q 750.8 135.1, 748.8 135.1 Q 746.7 135.1, 745.6 136.4 Q 744.6 137.7, 744.6 140.3 Q 744.6 143.0, 745.6 144.4 Q 746.7 145.7, 748.8 145.7 \" fill=\"#FF0000\"/>\n",
       "<path class=\"atom-5\" d=\"M 743.7 60.0 Q 743.7 56.7, 745.2 55.0 Q 746.7 53.3, 749.7 53.3 Q 752.4 53.3, 753.8 55.2 L 752.6 56.2 Q 751.6 54.8, 749.7 54.8 Q 747.7 54.8, 746.6 56.1 Q 745.6 57.4, 745.6 60.0 Q 745.6 62.6, 746.6 63.9 Q 747.7 65.3, 749.9 65.3 Q 751.3 65.3, 753.0 64.4 L 753.5 65.8 Q 752.9 66.3, 751.8 66.5 Q 750.8 66.8, 749.6 66.8 Q 746.7 66.8, 745.2 65.0 Q 743.7 63.3, 743.7 60.0 \" fill=\"#00CC00\"/>\n",
       "<path class=\"atom-5\" d=\"M 755.2 52.5 L 756.9 52.5 L 756.9 66.6 L 755.2 66.6 L 755.2 52.5 \" fill=\"#00CC00\"/>\n",
       "</svg>"
      ],
      "text/plain": [
       "<IPython.core.display.SVG object>"
      ]
     },
     "metadata": {},
     "output_type": "display_data"
    },
    {
     "name": "stdout",
     "output_type": "stream",
     "text": [
      "--------------------------------------\n",
      "--------------------------------------\n"
     ]
    }
   ],
   "source": [
    "from bond_disconnector import disconnections\n",
    "\n",
    "mol = 'CCCC=O'\n",
    "disconnections(mol)"
   ]
  },
  {
   "cell_type": "code",
   "execution_count": null,
   "id": "9cb0ceee-5a33-4b73-b4ce-0d84165a49a0",
   "metadata": {},
   "outputs": [],
   "source": []
  }
 ],
 "metadata": {
  "kernelspec": {
   "display_name": "Python 3 (ipykernel)",
   "language": "python",
   "name": "python3"
  },
  "language_info": {
   "codemirror_mode": {
    "name": "ipython",
    "version": 3
   },
   "file_extension": ".py",
   "mimetype": "text/x-python",
   "name": "python",
   "nbconvert_exporter": "python",
   "pygments_lexer": "ipython3",
   "version": "3.10.14"
  }
 },
 "nbformat": 4,
 "nbformat_minor": 5
}
