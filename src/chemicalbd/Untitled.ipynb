{
 "cells": [
  {
   "cell_type": "code",
   "execution_count": 14,
   "id": "ddec2d89-13e9-431b-982a-02a25d0c999e",
   "metadata": {},
   "outputs": [
    {
     "name": "stdout",
     "output_type": "stream",
     "text": [
      "C(sp3)-S disconection available\n",
      "--------------------------------------\n",
      "Option 1\n",
      "Reactant 1\n"
     ]
    },
    {
     "data": {
      "image/svg+xml": [
       "<svg xmlns=\"http://www.w3.org/2000/svg\" xmlns:rdkit=\"http://www.rdkit.org/xml\" xmlns:xlink=\"http://www.w3.org/1999/xlink\" version=\"1.1\" baseProfile=\"full\" xml:space=\"preserve\" width=\"600px\" height=\"200px\" viewBox=\"0 0 600 200\">\n",
       "<!-- END OF HEADER -->\n",
       "<rect style=\"opacity:1.0;fill:#FFFFFF;stroke:none\" width=\"600.0\" height=\"200.0\" x=\"0.0\" y=\"0.0\"> </rect>\n",
       "<path class=\"bond-0 atom-0 atom-1\" d=\"M 10.7,100.0 L 95.2,100.0\" style=\"fill:none;fill-rule:evenodd;stroke:#000000;stroke-width:2.0px;stroke-linecap:butt;stroke-linejoin:miter;stroke-opacity:1\"/>\n",
       "<path class=\"bond-0 atom-0 atom-1\" d=\"M 95.2,100.0 L 179.6,100.0\" style=\"fill:none;fill-rule:evenodd;stroke:#A01EEF;stroke-width:2.0px;stroke-linecap:butt;stroke-linejoin:miter;stroke-opacity:1\"/>\n",
       "<path class=\"atom-1\" d=\"M 185.5 85.8 L 189.3 85.8 L 189.3 114.2 L 185.5 114.2 L 185.5 85.8 \" fill=\"#A01EEF\"/>\n",
       "</svg>"
      ],
      "text/plain": [
       "<IPython.core.display.SVG object>"
      ]
     },
     "metadata": {},
     "output_type": "display_data"
    },
    {
     "name": "stdout",
     "output_type": "stream",
     "text": [
      "Reactant 2\n"
     ]
    },
    {
     "data": {
      "image/svg+xml": [
       "<svg xmlns=\"http://www.w3.org/2000/svg\" xmlns:rdkit=\"http://www.rdkit.org/xml\" xmlns:xlink=\"http://www.w3.org/1999/xlink\" version=\"1.1\" baseProfile=\"full\" xml:space=\"preserve\" width=\"600px\" height=\"200px\" viewBox=\"0 0 600 200\">\n",
       "<!-- END OF HEADER -->\n",
       "<rect style=\"opacity:1.0;fill:#FFFFFF;stroke:none\" width=\"600.0\" height=\"200.0\" x=\"0.0\" y=\"0.0\"> </rect>\n",
       "<path class=\"bond-0 atom-0 atom-1\" d=\"M 32.6,111.3 L 88.6,79.0\" style=\"fill:none;fill-rule:evenodd;stroke:#000000;stroke-width:2.0px;stroke-linecap:butt;stroke-linejoin:miter;stroke-opacity:1\"/>\n",
       "<path class=\"bond-1 atom-1 atom-2\" d=\"M 88.6,79.0 L 112.6,92.9\" style=\"fill:none;fill-rule:evenodd;stroke:#000000;stroke-width:2.0px;stroke-linecap:butt;stroke-linejoin:miter;stroke-opacity:1\"/>\n",
       "<path class=\"bond-1 atom-1 atom-2\" d=\"M 112.6,92.9 L 136.6,106.7\" style=\"fill:none;fill-rule:evenodd;stroke:#CCCC00;stroke-width:2.0px;stroke-linecap:butt;stroke-linejoin:miter;stroke-opacity:1\"/>\n",
       "<path d=\"M 85.8,80.6 L 88.6,79.0 L 89.8,79.7\" style=\"fill:none;stroke:#000000;stroke-width:2.0px;stroke-linecap:butt;stroke-linejoin:miter;stroke-opacity:1;\"/>\n",
       "<path class=\"atom-2\" d=\"M 139.5 117.7 Q 139.7 117.7, 140.5 118.1 Q 141.4 118.5, 142.3 118.7 Q 143.3 118.9, 144.2 118.9 Q 145.9 118.9, 146.9 118.1 Q 147.9 117.2, 147.9 115.7 Q 147.9 114.7, 147.4 114.1 Q 146.9 113.5, 146.2 113.2 Q 145.4 112.8, 144.1 112.4 Q 142.5 111.9, 141.5 111.5 Q 140.5 111.0, 139.8 110.0 Q 139.2 109.0, 139.2 107.4 Q 139.2 105.1, 140.7 103.7 Q 142.3 102.2, 145.4 102.2 Q 147.5 102.2, 149.9 103.2 L 149.3 105.2 Q 147.1 104.3, 145.5 104.3 Q 143.7 104.3, 142.7 105.1 Q 141.7 105.8, 141.7 107.1 Q 141.7 108.1, 142.2 108.7 Q 142.7 109.2, 143.5 109.6 Q 144.2 109.9, 145.5 110.3 Q 147.1 110.8, 148.1 111.3 Q 149.1 111.9, 149.8 112.9 Q 150.5 114.0, 150.5 115.7 Q 150.5 118.3, 148.8 119.6 Q 147.1 121.0, 144.3 121.0 Q 142.7 121.0, 141.4 120.6 Q 140.2 120.3, 138.8 119.7 L 139.5 117.7 \" fill=\"#CCCC00\"/>\n",
       "<path class=\"atom-2\" d=\"M 153.0 102.2 L 155.5 102.2 L 155.5 110.0 L 164.9 110.0 L 164.9 102.2 L 167.4 102.2 L 167.4 120.5 L 164.9 120.5 L 164.9 112.0 L 155.5 112.0 L 155.5 120.5 L 153.0 120.5 L 153.0 102.2 \" fill=\"#CCCC00\"/>\n",
       "<path class=\"bond-0 atom-0 atom-1\" d=\"M 269.5,102.4 L 269.5,130.5\" style=\"fill:none;fill-rule:evenodd;stroke:#000000;stroke-width:2.0px;stroke-linecap:butt;stroke-linejoin:miter;stroke-opacity:1\"/>\n",
       "<path class=\"bond-0 atom-0 atom-1\" d=\"M 269.5,130.5 L 269.5,158.5\" style=\"fill:none;fill-rule:evenodd;stroke:#FF0000;stroke-width:2.0px;stroke-linecap:butt;stroke-linejoin:miter;stroke-opacity:1\"/>\n",
       "<path class=\"bond-0 atom-0 atom-1\" d=\"M 279.2,102.4 L 279.2,130.5\" style=\"fill:none;fill-rule:evenodd;stroke:#000000;stroke-width:2.0px;stroke-linecap:butt;stroke-linejoin:miter;stroke-opacity:1\"/>\n",
       "<path class=\"bond-0 atom-0 atom-1\" d=\"M 279.2,130.5 L 279.2,158.5\" style=\"fill:none;fill-rule:evenodd;stroke:#FF0000;stroke-width:2.0px;stroke-linecap:butt;stroke-linejoin:miter;stroke-opacity:1\"/>\n",
       "<path class=\"bond-1 atom-0 atom-2\" d=\"M 274.4,105.2 L 297.1,92.1\" style=\"fill:none;fill-rule:evenodd;stroke:#000000;stroke-width:2.0px;stroke-linecap:butt;stroke-linejoin:miter;stroke-opacity:1\"/>\n",
       "<path class=\"bond-1 atom-0 atom-2\" d=\"M 297.1,92.1 L 319.9,79.0\" style=\"fill:none;fill-rule:evenodd;stroke:#FF0000;stroke-width:2.0px;stroke-linecap:butt;stroke-linejoin:miter;stroke-opacity:1\"/>\n",
       "<path class=\"bond-2 atom-0 atom-3\" d=\"M 274.4,105.2 L 251.7,92.1\" style=\"fill:none;fill-rule:evenodd;stroke:#000000;stroke-width:2.0px;stroke-linecap:butt;stroke-linejoin:miter;stroke-opacity:1\"/>\n",
       "<path class=\"bond-2 atom-0 atom-3\" d=\"M 251.7,92.1 L 228.9,79.0\" style=\"fill:none;fill-rule:evenodd;stroke:#FF0000;stroke-width:2.0px;stroke-linecap:butt;stroke-linejoin:miter;stroke-opacity:1\"/>\n",
       "<path d=\"M 275.5,104.6 L 274.4,105.2 L 273.3,104.6\" style=\"fill:none;stroke:#000000;stroke-width:2.0px;stroke-linecap:butt;stroke-linejoin:miter;stroke-opacity:1;\"/>\n",
       "<path class=\"atom-1\" d=\"M 266.0 169.9 Q 266.0 165.6, 268.2 163.1 Q 270.3 160.6, 274.4 160.6 Q 278.5 160.6, 280.6 163.1 Q 282.8 165.6, 282.8 169.9 Q 282.8 174.4, 280.6 176.9 Q 278.4 179.4, 274.4 179.4 Q 270.4 179.4, 268.2 176.9 Q 266.0 174.4, 266.0 169.9 M 274.4 177.4 Q 277.2 177.4, 278.7 175.5 Q 280.2 173.6, 280.2 169.9 Q 280.2 166.4, 278.7 164.5 Q 277.2 162.7, 274.4 162.7 Q 271.6 162.7, 270.1 164.5 Q 268.6 166.3, 268.6 169.9 Q 268.6 173.6, 270.1 175.5 Q 271.6 177.4, 274.4 177.4 \" fill=\"#FF0000\"/>\n",
       "<path class=\"atom-2\" d=\"M 322.0 73.0 Q 322.0 68.6, 324.2 66.1 Q 326.3 63.7, 330.4 63.7 Q 334.4 63.7, 336.6 66.1 Q 338.8 68.6, 338.8 73.0 Q 338.8 77.4, 336.6 79.9 Q 334.4 82.5, 330.4 82.5 Q 326.4 82.5, 324.2 79.9 Q 322.0 77.4, 322.0 73.0 M 330.4 80.4 Q 333.2 80.4, 334.7 78.5 Q 336.2 76.6, 336.2 73.0 Q 336.2 69.4, 334.7 67.6 Q 333.2 65.7, 330.4 65.7 Q 327.6 65.7, 326.1 67.5 Q 324.6 69.3, 324.6 73.0 Q 324.6 76.7, 326.1 78.5 Q 327.6 80.4, 330.4 80.4 \" fill=\"#FF0000\"/>\n",
       "<path class=\"atom-2\" d=\"M 341.4 66.6 L 347.7 66.6 L 347.7 68.0 L 341.4 68.0 L 341.4 66.6 \" fill=\"#FF0000\"/>\n",
       "<path class=\"atom-3\" d=\"M 210.0 73.0 Q 210.0 68.6, 212.2 66.1 Q 214.3 63.7, 218.4 63.7 Q 222.5 63.7, 224.6 66.1 Q 226.8 68.6, 226.8 73.0 Q 226.8 77.4, 224.6 79.9 Q 222.4 82.5, 218.4 82.5 Q 214.4 82.5, 212.2 79.9 Q 210.0 77.4, 210.0 73.0 M 218.4 80.4 Q 221.2 80.4, 222.7 78.5 Q 224.2 76.6, 224.2 73.0 Q 224.2 69.4, 222.7 67.6 Q 221.2 65.7, 218.4 65.7 Q 215.6 65.7, 214.1 67.5 Q 212.6 69.3, 212.6 73.0 Q 212.6 76.7, 214.1 78.5 Q 215.6 80.4, 218.4 80.4 \" fill=\"#FF0000\"/>\n",
       "<path class=\"atom-3\" d=\"M 229.4 66.6 L 235.7 66.6 L 235.7 68.0 L 229.4 68.0 L 229.4 66.6 \" fill=\"#FF0000\"/>\n",
       "<path class=\"atom-4\" d=\"M 267.3 20.7 L 269.8 20.7 L 269.8 39.0 L 267.3 39.0 L 267.3 20.7 M 277.5 20.7 L 280.9 20.7 L 273.6 29.0 L 281.4 39.0 L 278.2 39.0 L 270.4 29.1 L 277.5 20.7 \" fill=\"#000000\"/>\n",
       "<path class=\"atom-4\" d=\"M 282.9 24.0 L 286.2 24.0 L 286.2 20.6 L 287.6 20.6 L 287.6 24.0 L 290.9 24.0 L 290.9 25.2 L 287.6 25.2 L 287.6 28.6 L 286.2 28.6 L 286.2 25.2 L 282.9 25.2 L 282.9 24.0 \" fill=\"#000000\"/>\n",
       "<path class=\"atom-5\" d=\"M 366.4 96.1 L 368.9 96.1 L 368.9 114.4 L 366.4 114.4 L 366.4 96.1 M 376.6 96.1 L 380.0 96.1 L 372.7 104.4 L 380.5 114.4 L 377.3 114.4 L 369.5 104.5 L 376.6 96.1 \" fill=\"#000000\"/>\n",
       "<path class=\"atom-5\" d=\"M 382.0 99.4 L 385.3 99.4 L 385.3 96.0 L 386.7 96.0 L 386.7 99.4 L 390.0 99.4 L 390.0 100.6 L 386.7 100.6 L 386.7 104.0 L 385.3 104.0 L 385.3 100.6 L 382.0 100.6 L 382.0 99.4 \" fill=\"#000000\"/>\n",
       "</svg>"
      ],
      "text/plain": [
       "<IPython.core.display.SVG object>"
      ]
     },
     "metadata": {},
     "output_type": "display_data"
    },
    {
     "name": "stdout",
     "output_type": "stream",
     "text": [
      "--------------------------------------\n",
      "Option 2\n",
      "Reactant 1\n"
     ]
    },
    {
     "data": {
      "image/svg+xml": [
       "<svg xmlns=\"http://www.w3.org/2000/svg\" xmlns:rdkit=\"http://www.rdkit.org/xml\" xmlns:xlink=\"http://www.w3.org/1999/xlink\" version=\"1.1\" baseProfile=\"full\" xml:space=\"preserve\" width=\"600px\" height=\"200px\" viewBox=\"0 0 600 200\">\n",
       "<!-- END OF HEADER -->\n",
       "<rect style=\"opacity:1.0;fill:#FFFFFF;stroke:none\" width=\"600.0\" height=\"200.0\" x=\"0.0\" y=\"0.0\"> </rect>\n",
       "<path class=\"bond-0 atom-0 atom-1\" d=\"M 10.0,118.6 L 99.0,67.2\" style=\"fill:none;fill-rule:evenodd;stroke:#000000;stroke-width:2.0px;stroke-linecap:butt;stroke-linejoin:miter;stroke-opacity:1\"/>\n",
       "<path class=\"bond-1 atom-1 atom-2\" d=\"M 99.0,67.2 L 140.9,91.4\" style=\"fill:none;fill-rule:evenodd;stroke:#000000;stroke-width:2.0px;stroke-linecap:butt;stroke-linejoin:miter;stroke-opacity:1\"/>\n",
       "<path class=\"bond-1 atom-1 atom-2\" d=\"M 140.9,91.4 L 182.8,115.5\" style=\"fill:none;fill-rule:evenodd;stroke:#A01EEF;stroke-width:2.0px;stroke-linecap:butt;stroke-linejoin:miter;stroke-opacity:1\"/>\n",
       "<path d=\"M 94.6,69.8 L 99.0,67.2 L 101.1,68.4\" style=\"fill:none;stroke:#000000;stroke-width:2.0px;stroke-linecap:butt;stroke-linejoin:miter;stroke-opacity:1;\"/>\n",
       "<path class=\"atom-2\" d=\"M 186.2 104.4 L 190.0 104.4 L 190.0 132.8 L 186.2 132.8 L 186.2 104.4 \" fill=\"#A01EEF\"/>\n",
       "</svg>"
      ],
      "text/plain": [
       "<IPython.core.display.SVG object>"
      ]
     },
     "metadata": {},
     "output_type": "display_data"
    },
    {
     "name": "stdout",
     "output_type": "stream",
     "text": [
      "Reactant 2\n"
     ]
    },
    {
     "data": {
      "image/svg+xml": [
       "<svg xmlns=\"http://www.w3.org/2000/svg\" xmlns:rdkit=\"http://www.rdkit.org/xml\" xmlns:xlink=\"http://www.w3.org/1999/xlink\" version=\"1.1\" baseProfile=\"full\" xml:space=\"preserve\" width=\"600px\" height=\"200px\" viewBox=\"0 0 600 200\">\n",
       "<!-- END OF HEADER -->\n",
       "<rect style=\"opacity:1.0;fill:#FFFFFF;stroke:none\" width=\"600.0\" height=\"200.0\" x=\"0.0\" y=\"0.0\"> </rect>\n",
       "<path class=\"bond-0 atom-0 atom-1\" d=\"M 56.3,99.8 L 84.6,99.8\" style=\"fill:none;fill-rule:evenodd;stroke:#000000;stroke-width:2.0px;stroke-linecap:butt;stroke-linejoin:miter;stroke-opacity:1\"/>\n",
       "<path class=\"bond-0 atom-0 atom-1\" d=\"M 84.6,99.8 L 113.0,99.8\" style=\"fill:none;fill-rule:evenodd;stroke:#CCCC00;stroke-width:2.0px;stroke-linecap:butt;stroke-linejoin:miter;stroke-opacity:1\"/>\n",
       "<path class=\"atom-1\" d=\"M 115.8 106.1 Q 116.0 106.1, 116.9 106.5 Q 117.7 106.9, 118.6 107.1 Q 119.6 107.3, 120.5 107.3 Q 122.3 107.3, 123.3 106.5 Q 124.3 105.6, 124.3 104.2 Q 124.3 103.1, 123.8 102.5 Q 123.3 101.9, 122.5 101.6 Q 121.7 101.2, 120.4 100.8 Q 118.8 100.3, 117.8 99.9 Q 116.9 99.4, 116.2 98.4 Q 115.5 97.5, 115.5 95.8 Q 115.5 93.5, 117.0 92.1 Q 118.6 90.7, 121.7 90.7 Q 123.8 90.7, 126.2 91.7 L 125.6 93.7 Q 123.5 92.7, 121.8 92.7 Q 120.0 92.7, 119.0 93.5 Q 118.0 94.2, 118.1 95.5 Q 118.1 96.5, 118.6 97.1 Q 119.1 97.7, 119.8 98.0 Q 120.6 98.3, 121.8 98.7 Q 123.5 99.2, 124.4 99.8 Q 125.4 100.3, 126.1 101.3 Q 126.8 102.4, 126.8 104.2 Q 126.8 106.7, 125.1 108.1 Q 123.5 109.4, 120.6 109.4 Q 119.0 109.4, 117.8 109.0 Q 116.5 108.7, 115.1 108.1 L 115.8 106.1 \" fill=\"#CCCC00\"/>\n",
       "<path class=\"atom-1\" d=\"M 129.4 90.6 L 131.8 90.6 L 131.8 98.4 L 141.2 98.4 L 141.2 90.6 L 143.7 90.6 L 143.7 108.9 L 141.2 108.9 L 141.2 100.5 L 131.8 100.5 L 131.8 108.9 L 129.4 108.9 L 129.4 90.6 \" fill=\"#CCCC00\"/>\n",
       "<path class=\"bond-0 atom-0 atom-1\" d=\"M 269.5,102.4 L 269.5,130.5\" style=\"fill:none;fill-rule:evenodd;stroke:#000000;stroke-width:2.0px;stroke-linecap:butt;stroke-linejoin:miter;stroke-opacity:1\"/>\n",
       "<path class=\"bond-0 atom-0 atom-1\" d=\"M 269.5,130.5 L 269.5,158.5\" style=\"fill:none;fill-rule:evenodd;stroke:#FF0000;stroke-width:2.0px;stroke-linecap:butt;stroke-linejoin:miter;stroke-opacity:1\"/>\n",
       "<path class=\"bond-0 atom-0 atom-1\" d=\"M 279.2,102.4 L 279.2,130.5\" style=\"fill:none;fill-rule:evenodd;stroke:#000000;stroke-width:2.0px;stroke-linecap:butt;stroke-linejoin:miter;stroke-opacity:1\"/>\n",
       "<path class=\"bond-0 atom-0 atom-1\" d=\"M 279.2,130.5 L 279.2,158.5\" style=\"fill:none;fill-rule:evenodd;stroke:#FF0000;stroke-width:2.0px;stroke-linecap:butt;stroke-linejoin:miter;stroke-opacity:1\"/>\n",
       "<path class=\"bond-1 atom-0 atom-2\" d=\"M 274.4,105.2 L 297.1,92.1\" style=\"fill:none;fill-rule:evenodd;stroke:#000000;stroke-width:2.0px;stroke-linecap:butt;stroke-linejoin:miter;stroke-opacity:1\"/>\n",
       "<path class=\"bond-1 atom-0 atom-2\" d=\"M 297.1,92.1 L 319.9,79.0\" style=\"fill:none;fill-rule:evenodd;stroke:#FF0000;stroke-width:2.0px;stroke-linecap:butt;stroke-linejoin:miter;stroke-opacity:1\"/>\n",
       "<path class=\"bond-2 atom-0 atom-3\" d=\"M 274.4,105.2 L 251.7,92.1\" style=\"fill:none;fill-rule:evenodd;stroke:#000000;stroke-width:2.0px;stroke-linecap:butt;stroke-linejoin:miter;stroke-opacity:1\"/>\n",
       "<path class=\"bond-2 atom-0 atom-3\" d=\"M 251.7,92.1 L 228.9,79.0\" style=\"fill:none;fill-rule:evenodd;stroke:#FF0000;stroke-width:2.0px;stroke-linecap:butt;stroke-linejoin:miter;stroke-opacity:1\"/>\n",
       "<path d=\"M 275.5,104.6 L 274.4,105.2 L 273.3,104.6\" style=\"fill:none;stroke:#000000;stroke-width:2.0px;stroke-linecap:butt;stroke-linejoin:miter;stroke-opacity:1;\"/>\n",
       "<path class=\"atom-1\" d=\"M 266.0 169.9 Q 266.0 165.6, 268.2 163.1 Q 270.3 160.6, 274.4 160.6 Q 278.5 160.6, 280.6 163.1 Q 282.8 165.6, 282.8 169.9 Q 282.8 174.4, 280.6 176.9 Q 278.4 179.4, 274.4 179.4 Q 270.4 179.4, 268.2 176.9 Q 266.0 174.4, 266.0 169.9 M 274.4 177.4 Q 277.2 177.4, 278.7 175.5 Q 280.2 173.6, 280.2 169.9 Q 280.2 166.4, 278.7 164.5 Q 277.2 162.7, 274.4 162.7 Q 271.6 162.7, 270.1 164.5 Q 268.6 166.3, 268.6 169.9 Q 268.6 173.6, 270.1 175.5 Q 271.6 177.4, 274.4 177.4 \" fill=\"#FF0000\"/>\n",
       "<path class=\"atom-2\" d=\"M 322.0 73.0 Q 322.0 68.6, 324.2 66.1 Q 326.3 63.7, 330.4 63.7 Q 334.4 63.7, 336.6 66.1 Q 338.8 68.6, 338.8 73.0 Q 338.8 77.4, 336.6 79.9 Q 334.4 82.5, 330.4 82.5 Q 326.4 82.5, 324.2 79.9 Q 322.0 77.4, 322.0 73.0 M 330.4 80.4 Q 333.2 80.4, 334.7 78.5 Q 336.2 76.6, 336.2 73.0 Q 336.2 69.4, 334.7 67.6 Q 333.2 65.7, 330.4 65.7 Q 327.6 65.7, 326.1 67.5 Q 324.6 69.3, 324.6 73.0 Q 324.6 76.7, 326.1 78.5 Q 327.6 80.4, 330.4 80.4 \" fill=\"#FF0000\"/>\n",
       "<path class=\"atom-2\" d=\"M 341.4 66.6 L 347.7 66.6 L 347.7 68.0 L 341.4 68.0 L 341.4 66.6 \" fill=\"#FF0000\"/>\n",
       "<path class=\"atom-3\" d=\"M 210.0 73.0 Q 210.0 68.6, 212.2 66.1 Q 214.3 63.7, 218.4 63.7 Q 222.5 63.7, 224.6 66.1 Q 226.8 68.6, 226.8 73.0 Q 226.8 77.4, 224.6 79.9 Q 222.4 82.5, 218.4 82.5 Q 214.4 82.5, 212.2 79.9 Q 210.0 77.4, 210.0 73.0 M 218.4 80.4 Q 221.2 80.4, 222.7 78.5 Q 224.2 76.6, 224.2 73.0 Q 224.2 69.4, 222.7 67.6 Q 221.2 65.7, 218.4 65.7 Q 215.6 65.7, 214.1 67.5 Q 212.6 69.3, 212.6 73.0 Q 212.6 76.7, 214.1 78.5 Q 215.6 80.4, 218.4 80.4 \" fill=\"#FF0000\"/>\n",
       "<path class=\"atom-3\" d=\"M 229.4 66.6 L 235.7 66.6 L 235.7 68.0 L 229.4 68.0 L 229.4 66.6 \" fill=\"#FF0000\"/>\n",
       "<path class=\"atom-4\" d=\"M 267.3 20.7 L 269.8 20.7 L 269.8 39.0 L 267.3 39.0 L 267.3 20.7 M 277.5 20.7 L 280.9 20.7 L 273.6 29.0 L 281.4 39.0 L 278.2 39.0 L 270.4 29.1 L 277.5 20.7 \" fill=\"#000000\"/>\n",
       "<path class=\"atom-4\" d=\"M 282.9 24.0 L 286.2 24.0 L 286.2 20.6 L 287.6 20.6 L 287.6 24.0 L 290.9 24.0 L 290.9 25.2 L 287.6 25.2 L 287.6 28.6 L 286.2 28.6 L 286.2 25.2 L 282.9 25.2 L 282.9 24.0 \" fill=\"#000000\"/>\n",
       "<path class=\"atom-5\" d=\"M 366.4 96.1 L 368.9 96.1 L 368.9 114.4 L 366.4 114.4 L 366.4 96.1 M 376.6 96.1 L 380.0 96.1 L 372.7 104.4 L 380.5 114.4 L 377.3 114.4 L 369.5 104.5 L 376.6 96.1 \" fill=\"#000000\"/>\n",
       "<path class=\"atom-5\" d=\"M 382.0 99.4 L 385.3 99.4 L 385.3 96.0 L 386.7 96.0 L 386.7 99.4 L 390.0 99.4 L 390.0 100.6 L 386.7 100.6 L 386.7 104.0 L 385.3 104.0 L 385.3 100.6 L 382.0 100.6 L 382.0 99.4 \" fill=\"#000000\"/>\n",
       "</svg>"
      ],
      "text/plain": [
       "<IPython.core.display.SVG object>"
      ]
     },
     "metadata": {},
     "output_type": "display_data"
    },
    {
     "name": "stdout",
     "output_type": "stream",
     "text": [
      "--------------------------------------\n",
      "--------------------------------------\n"
     ]
    }
   ],
   "source": [
    "from chemicalbd.bond_disconnector import C_S_disconnection\n",
    "from rdkit import Chem\n",
    "\n",
    "mol = Chem.MolFromSmiles('CSCC')\n",
    "reactant_list = C_S_disconnection(mol)[1]\n",
    "assert Chem.MolToSmiles(reactant_list[0]) == Chem.MolToSmiles(Chem.MolFromSmiles('CI'))\n",
    "assert Chem.MolToSmiles(reactant_list[1]) == Chem.MolToSmiles(Chem.MolFromSmiles('CCS'))\n",
    "assert Chem.MolToSmiles(reactant_list[2]) == Chem.MolToSmiles(Chem.MolFromSmiles('C(=O)([O-])[O-].[K+].[K+]'))\n",
    "assert Chem.MolToSmiles(reactant_list[3]) == Chem.MolToSmiles(Chem.MolFromSmiles('CCI'))\n",
    "assert Chem.MolToSmiles(reactant_list[4]) == Chem.MolToSmiles(Chem.MolFromSmiles('CS'))\n",
    "assert Chem.MolToSmiles(reactant_list[5]) == Chem.MolToSmiles(Chem.MolFromSmiles('C(=O)([O-])[O-].[K+].[K+]'))\n",
    "    "
   ]
  },
  {
   "cell_type": "code",
   "execution_count": null,
   "id": "e5194196-9e93-4425-9f90-0b7318da9fc2",
   "metadata": {},
   "outputs": [],
   "source": []
  }
 ],
 "metadata": {
  "kernelspec": {
   "display_name": "Python 3 (ipykernel)",
   "language": "python",
   "name": "python3"
  },
  "language_info": {
   "codemirror_mode": {
    "name": "ipython",
    "version": 3
   },
   "file_extension": ".py",
   "mimetype": "text/x-python",
   "name": "python",
   "nbconvert_exporter": "python",
   "pygments_lexer": "ipython3",
   "version": "3.10.14"
  }
 },
 "nbformat": 4,
 "nbformat_minor": 5
}
