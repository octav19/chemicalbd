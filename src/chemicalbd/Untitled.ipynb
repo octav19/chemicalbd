{
 "cells": [
  {
   "cell_type": "code",
   "execution_count": 6,
   "id": "ddec2d89-13e9-431b-982a-02a25d0c999e",
   "metadata": {},
   "outputs": [],
   "source": [
    "from chemicalbd.bond_disconnector import C_S_disconnection\n",
    "from rdkit import Chem\n",
    "\n",
    "mol = Chem.MolFromSmiles('CSCC')\n",
    "reactant_list = C_S_disconnection(mol)[1]\n",
    "    assert Chem.MolToSmiles(reactant_list[0]) == Chem.MolToSmiles(Chem.MolFromSmiles('CI'))"
   ]
  },
  {
   "cell_type": "code",
   "execution_count": 5,
   "id": "90d5da70-1062-4368-a424-ce5055cbeeb3",
   "metadata": {},
   "outputs": [
    {
     "ename": "NameError",
     "evalue": "name 'reactant_list' is not defined",
     "output_type": "error",
     "traceback": [
      "\u001b[1;31m---------------------------------------------------------------------------\u001b[0m",
      "\u001b[1;31mNameError\u001b[0m                                 Traceback (most recent call last)",
      "Cell \u001b[1;32mIn[5], line 1\u001b[0m\n\u001b[1;32m----> 1\u001b[0m \u001b[38;5;28;01massert\u001b[39;00m Chem\u001b[38;5;241m.\u001b[39mMolToSmiles(\u001b[43mreactant_list\u001b[49m[\u001b[38;5;241m0\u001b[39m]) \u001b[38;5;241m==\u001b[39m Chem\u001b[38;5;241m.\u001b[39mMolToSmiles(Chem\u001b[38;5;241m.\u001b[39mMolFromSmiles(\u001b[38;5;124m'\u001b[39m\u001b[38;5;124mCI\u001b[39m\u001b[38;5;124m'\u001b[39m))\n",
      "\u001b[1;31mNameError\u001b[0m: name 'reactant_list' is not defined"
     ]
    }
   ],
   "source": [
    " assert Chem.MolToSmiles(reactant_list[0]) == Chem.MolToSmiles(Chem.MolFromSmiles('CI'))"
   ]
  },
  {
   "cell_type": "code",
   "execution_count": null,
   "id": "e5194196-9e93-4425-9f90-0b7318da9fc2",
   "metadata": {},
   "outputs": [],
   "source": []
  }
 ],
 "metadata": {
  "kernelspec": {
   "display_name": "Python 3 (ipykernel)",
   "language": "python",
   "name": "python3"
  },
  "language_info": {
   "codemirror_mode": {
    "name": "ipython",
    "version": 3
   },
   "file_extension": ".py",
   "mimetype": "text/x-python",
   "name": "python",
   "nbconvert_exporter": "python",
   "pygments_lexer": "ipython3",
   "version": "3.10.14"
  }
 },
 "nbformat": 4,
 "nbformat_minor": 5
}
