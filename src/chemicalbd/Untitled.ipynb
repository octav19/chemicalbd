{
 "cells": [
  {
   "cell_type": "code",
   "execution_count": 9,
   "id": "e023e0e4-688e-4f4e-9dab-e29aec7c78c0",
   "metadata": {},
   "outputs": [
    {
     "data": {
      "text/plain": [
       "0"
      ]
     },
     "execution_count": 9,
     "metadata": {},
     "output_type": "execute_result"
    }
   ],
   "source": [
    "from bond_disconnector import C_S_disconnection\n",
    "from rdkit import Chem\n",
    "\n",
    "mol = Chem.MolFromSmiles('CCC')\n",
    "C_S_disconnection(mol)"
   ]
  },
  {
   "cell_type": "code",
   "execution_count": 12,
   "id": "1245fa08-dba9-41a8-885e-d2e14a0ffd72",
   "metadata": {},
   "outputs": [],
   "source": [
    "assert C_S_disconnection(mol) == 0"
   ]
  },
  {
   "cell_type": "code",
   "execution_count": null,
   "id": "05a89d03-c438-46a4-9891-638d18ce9728",
   "metadata": {},
   "outputs": [],
   "source": []
  }
 ],
 "metadata": {
  "kernelspec": {
   "display_name": "Python 3 (ipykernel)",
   "language": "python",
   "name": "python3"
  },
  "language_info": {
   "codemirror_mode": {
    "name": "ipython",
    "version": 3
   },
   "file_extension": ".py",
   "mimetype": "text/x-python",
   "name": "python",
   "nbconvert_exporter": "python",
   "pygments_lexer": "ipython3",
   "version": "3.10.14"
  }
 },
 "nbformat": 4,
 "nbformat_minor": 5
}
