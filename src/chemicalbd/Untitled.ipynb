{
 "cells": [
  {
   "cell_type": "code",
   "execution_count": 7,
   "id": "8596f4b7-0312-4069-b316-fd955591c50c",
   "metadata": {},
   "outputs": [
    {
     "name": "stdout",
     "output_type": "stream",
     "text": [
      "The molecule inserted looks like this:\n"
     ]
    },
    {
     "data": {
      "image/png": "[encoded data removed]",
      "image/svg+xml": [
       "<?xml version='1.0' encoding='iso-8859-1'?>\n",
       "<svg version='1.1' baseProfile='full'\n",
       "              xmlns='http://www.w3.org/2000/svg'\n",
       "                      xmlns:rdkit='http://www.rdkit.org/xml'\n",
       "                      xmlns:xlink='http://www.w3.org/1999/xlink'\n",
       "                  xml:space='preserve'\n",
       "width='450px' height='150px' viewBox='0 0 450 150'>\n",
       "<!-- END OF HEADER -->\n",
       "<rect style='opacity:1.0;fill:#FFFFFF;stroke:none' width='450.0' height='150.0' x='0.0' y='0.0'> </rect>\n",
       "<path class='bond-0 atom-0 atom-1' d='M 23.4,92.4 L 122.0,35.5' style='fill:none;fill-rule:evenodd;stroke:#000000;stroke-width:2.0px;stroke-linecap:butt;stroke-linejoin:miter;stroke-opacity:1' />\n",
       "<path class='bond-1 atom-1 atom-2' d='M 122.0,35.5 L 220.6,92.4' style='fill:none;fill-rule:evenodd;stroke:#000000;stroke-width:2.0px;stroke-linecap:butt;stroke-linejoin:miter;stroke-opacity:1' />\n",
       "<path class='bond-2 atom-2 atom-3' d='M 220.6,92.4 L 319.3,35.5' style='fill:none;fill-rule:evenodd;stroke:#000000;stroke-width:2.0px;stroke-linecap:butt;stroke-linejoin:miter;stroke-opacity:1' />\n",
       "<path class='bond-3 atom-3 atom-4' d='M 319.3,35.5 L 360.2,59.1' style='fill:none;fill-rule:evenodd;stroke:#000000;stroke-width:2.0px;stroke-linecap:butt;stroke-linejoin:miter;stroke-opacity:1' />\n",
       "<path class='bond-3 atom-3 atom-4' d='M 360.2,59.1 L 401.1,82.7' style='fill:none;fill-rule:evenodd;stroke:#FF0000;stroke-width:2.0px;stroke-linecap:butt;stroke-linejoin:miter;stroke-opacity:1' />\n",
       "<path class='bond-3 atom-3 atom-4' d='M 319.3,55.2 L 351.6,73.9' style='fill:none;fill-rule:evenodd;stroke:#000000;stroke-width:2.0px;stroke-linecap:butt;stroke-linejoin:miter;stroke-opacity:1' />\n",
       "<path class='bond-3 atom-3 atom-4' d='M 351.6,73.9 L 392.6,97.5' style='fill:none;fill-rule:evenodd;stroke:#FF0000;stroke-width:2.0px;stroke-linecap:butt;stroke-linejoin:miter;stroke-opacity:1' />\n",
       "<path d='M 117.1,38.3 L 122.0,35.5 L 126.9,38.3' style='fill:none;stroke:#000000;stroke-width:2.0px;stroke-linecap:butt;stroke-linejoin:miter;stroke-opacity:1;' />\n",
       "<path d='M 215.7,89.5 L 220.6,92.4 L 225.6,89.5' style='fill:none;stroke:#000000;stroke-width:2.0px;stroke-linecap:butt;stroke-linejoin:miter;stroke-opacity:1;' />\n",
       "<path d='M 314.3,38.3 L 319.3,35.5 L 321.3,36.6' style='fill:none;stroke:#000000;stroke-width:2.0px;stroke-linecap:butt;stroke-linejoin:miter;stroke-opacity:1;' />\n",
       "<path class='atom-4' d='M 400.6 99.9\n",
       "Q 400.6 93.1, 404.0 89.3\n",
       "Q 407.3 85.5, 413.6 85.5\n",
       "Q 419.9 85.5, 423.2 89.3\n",
       "Q 426.6 93.1, 426.6 99.9\n",
       "Q 426.6 106.7, 423.2 110.7\n",
       "Q 419.8 114.5, 413.6 114.5\n",
       "Q 407.4 114.5, 404.0 110.7\n",
       "Q 400.6 106.8, 400.6 99.9\n",
       "M 413.6 111.3\n",
       "Q 417.9 111.3, 420.2 108.5\n",
       "Q 422.6 105.5, 422.6 99.9\n",
       "Q 422.6 94.3, 420.2 91.5\n",
       "Q 417.9 88.7, 413.6 88.7\n",
       "Q 409.3 88.7, 406.9 91.5\n",
       "Q 404.6 94.3, 404.6 99.9\n",
       "Q 404.6 105.6, 406.9 108.5\n",
       "Q 409.3 111.3, 413.6 111.3\n",
       "' fill='#FF0000'/>\n",
       "</svg>\n"
      ],
      "text/html": [
       "<?xml version='1.0' encoding='iso-8859-1'?>\n",
       "<svg version='1.1' baseProfile='full'\n",
       "              xmlns='http://www.w3.org/2000/svg'\n",
       "                      xmlns:rdkit='http://www.rdkit.org/xml'\n",
       "                      xmlns:xlink='http://www.w3.org/1999/xlink'\n",
       "                  xml:space='preserve'\n",
       "width='450px' height='150px' viewBox='0 0 450 150'>\n",
       "<!-- END OF HEADER -->\n",
       "<rect style='opacity:1.0;fill:#FFFFFF;stroke:none' width='450.0' height='150.0' x='0.0' y='0.0'> </rect>\n",
       "<path class='bond-0 atom-0 atom-1' d='M 23.4,92.4 L 122.0,35.5' style='fill:none;fill-rule:evenodd;stroke:#000000;stroke-width:2.0px;stroke-linecap:butt;stroke-linejoin:miter;stroke-opacity:1' />\n",
       "<path class='bond-1 atom-1 atom-2' d='M 122.0,35.5 L 220.6,92.4' style='fill:none;fill-rule:evenodd;stroke:#000000;stroke-width:2.0px;stroke-linecap:butt;stroke-linejoin:miter;stroke-opacity:1' />\n",
       "<path class='bond-2 atom-2 atom-3' d='M 220.6,92.4 L 319.3,35.5' style='fill:none;fill-rule:evenodd;stroke:#000000;stroke-width:2.0px;stroke-linecap:butt;stroke-linejoin:miter;stroke-opacity:1' />\n",
       "<path class='bond-3 atom-3 atom-4' d='M 319.3,35.5 L 360.2,59.1' style='fill:none;fill-rule:evenodd;stroke:#000000;stroke-width:2.0px;stroke-linecap:butt;stroke-linejoin:miter;stroke-opacity:1' />\n",
       "<path class='bond-3 atom-3 atom-4' d='M 360.2,59.1 L 401.1,82.7' style='fill:none;fill-rule:evenodd;stroke:#FF0000;stroke-width:2.0px;stroke-linecap:butt;stroke-linejoin:miter;stroke-opacity:1' />\n",
       "<path class='bond-3 atom-3 atom-4' d='M 319.3,55.2 L 351.6,73.9' style='fill:none;fill-rule:evenodd;stroke:#000000;stroke-width:2.0px;stroke-linecap:butt;stroke-linejoin:miter;stroke-opacity:1' />\n",
       "<path class='bond-3 atom-3 atom-4' d='M 351.6,73.9 L 392.6,97.5' style='fill:none;fill-rule:evenodd;stroke:#FF0000;stroke-width:2.0px;stroke-linecap:butt;stroke-linejoin:miter;stroke-opacity:1' />\n",
       "<path d='M 117.1,38.3 L 122.0,35.5 L 126.9,38.3' style='fill:none;stroke:#000000;stroke-width:2.0px;stroke-linecap:butt;stroke-linejoin:miter;stroke-opacity:1;' />\n",
       "<path d='M 215.7,89.5 L 220.6,92.4 L 225.6,89.5' style='fill:none;stroke:#000000;stroke-width:2.0px;stroke-linecap:butt;stroke-linejoin:miter;stroke-opacity:1;' />\n",
       "<path d='M 314.3,38.3 L 319.3,35.5 L 321.3,36.6' style='fill:none;stroke:#000000;stroke-width:2.0px;stroke-linecap:butt;stroke-linejoin:miter;stroke-opacity:1;' />\n",
       "<path class='atom-4' d='M 400.6 99.9\n",
       "Q 400.6 93.1, 404.0 89.3\n",
       "Q 407.3 85.5, 413.6 85.5\n",
       "Q 419.9 85.5, 423.2 89.3\n",
       "Q 426.6 93.1, 426.6 99.9\n",
       "Q 426.6 106.7, 423.2 110.7\n",
       "Q 419.8 114.5, 413.6 114.5\n",
       "Q 407.4 114.5, 404.0 110.7\n",
       "Q 400.6 106.8, 400.6 99.9\n",
       "M 413.6 111.3\n",
       "Q 417.9 111.3, 420.2 108.5\n",
       "Q 422.6 105.5, 422.6 99.9\n",
       "Q 422.6 94.3, 420.2 91.5\n",
       "Q 417.9 88.7, 413.6 88.7\n",
       "Q 409.3 88.7, 406.9 91.5\n",
       "Q 404.6 94.3, 404.6 99.9\n",
       "Q 404.6 105.6, 406.9 108.5\n",
       "Q 409.3 111.3, 413.6 111.3\n",
       "' fill='#FF0000'/>\n",
       "</svg>\n"
      ],
      "text/plain": [
       "<rdkit.Chem.rdchem.Mol at 0x14670f54580>"
      ]
     },
     "metadata": {},
     "output_type": "display_data"
    },
    {
     "name": "stdout",
     "output_type": "stream",
     "text": [
      "--------------------------------------\n",
      "--------------------------------------\n",
      "Aldehyde disconnection spotted\n",
      "--------------------------------------\n",
      "Option 1\n",
      "Reactants\n"
     ]
    },
    {
     "data": {
      "image/svg+xml": [
       "<svg xmlns=\"http://www.w3.org/2000/svg\" xmlns:rdkit=\"http://www.rdkit.org/xml\" xmlns:xlink=\"http://www.w3.org/1999/xlink\" version=\"1.1\" baseProfile=\"full\" xml:space=\"preserve\" width=\"600px\" height=\"400px\" viewBox=\"0 0 600 400\">\n",
       "<!-- END OF HEADER -->\n",
       "<rect style=\"opacity:1.0;fill:#FFFFFF;stroke:none\" width=\"600.0\" height=\"400.0\" x=\"0.0\" y=\"0.0\"> </rect>\n",
       "<path class=\"bond-0 atom-0 atom-1\" d=\"M 10.0,108.2 L 50.4,84.9\" style=\"fill:none;fill-rule:evenodd;stroke:#000000;stroke-width:2.0px;stroke-linecap:butt;stroke-linejoin:miter;stroke-opacity:1\"/>\n",
       "<path class=\"bond-1 atom-1 atom-2\" d=\"M 50.4,84.9 L 90.8,108.2\" style=\"fill:none;fill-rule:evenodd;stroke:#000000;stroke-width:2.0px;stroke-linecap:butt;stroke-linejoin:miter;stroke-opacity:1\"/>\n",
       "<path class=\"bond-2 atom-2 atom-3\" d=\"M 90.8,108.2 L 131.2,84.9\" style=\"fill:none;fill-rule:evenodd;stroke:#000000;stroke-width:2.0px;stroke-linecap:butt;stroke-linejoin:miter;stroke-opacity:1\"/>\n",
       "<path class=\"bond-3 atom-3 atom-4\" d=\"M 131.2,84.9 L 147.6,94.4\" style=\"fill:none;fill-rule:evenodd;stroke:#000000;stroke-width:2.0px;stroke-linecap:butt;stroke-linejoin:miter;stroke-opacity:1\"/>\n",
       "<path class=\"bond-3 atom-3 atom-4\" d=\"M 147.6,94.4 L 163.9,103.8\" style=\"fill:none;fill-rule:evenodd;stroke:#FF0000;stroke-width:2.0px;stroke-linecap:butt;stroke-linejoin:miter;stroke-opacity:1\"/>\n",
       "<path d=\"M 48.4,86.1 L 50.4,84.9 L 52.4,86.1\" style=\"fill:none;stroke:#000000;stroke-width:2.0px;stroke-linecap:butt;stroke-linejoin:miter;stroke-opacity:1;\"/>\n",
       "<path d=\"M 88.8,107.1 L 90.8,108.2 L 92.8,107.1\" style=\"fill:none;stroke:#000000;stroke-width:2.0px;stroke-linecap:butt;stroke-linejoin:miter;stroke-opacity:1;\"/>\n",
       "<path d=\"M 129.1,86.1 L 131.2,84.9 L 132.0,85.4\" style=\"fill:none;stroke:#000000;stroke-width:2.0px;stroke-linecap:butt;stroke-linejoin:miter;stroke-opacity:1;\"/>\n",
       "<path class=\"atom-4\" d=\"M 165.5 108.3 Q 165.5 105.1, 167.1 103.3 Q 168.6 101.5, 171.5 101.5 Q 174.5 101.5, 176.0 103.3 Q 177.6 105.1, 177.6 108.3 Q 177.6 111.5, 176.0 113.3 Q 174.4 115.1, 171.5 115.1 Q 168.6 115.1, 167.1 113.3 Q 165.5 111.5, 165.5 108.3 M 171.5 113.6 Q 173.6 113.6, 174.6 112.3 Q 175.7 110.9, 175.7 108.3 Q 175.7 105.7, 174.6 104.4 Q 173.6 103.0, 171.5 103.0 Q 169.5 103.0, 168.4 104.3 Q 167.4 105.6, 167.4 108.3 Q 167.4 110.9, 168.4 112.3 Q 169.5 113.6, 171.5 113.6 \" fill=\"#FF0000\"/>\n",
       "<path class=\"atom-4\" d=\"M 179.7 101.7 L 181.5 101.7 L 181.5 107.3 L 188.2 107.3 L 188.2 101.7 L 190.0 101.7 L 190.0 114.9 L 188.2 114.9 L 188.2 108.8 L 181.5 108.8 L 181.5 114.9 L 179.7 114.9 L 179.7 101.7 \" fill=\"#FF0000\"/>\n",
       "<path class=\"bond-0 atom-0 atom-1\" d=\"M 259.6,138.3 L 276.9,128.3\" style=\"fill:none;fill-rule:evenodd;stroke:#000000;stroke-width:2.0px;stroke-linecap:butt;stroke-linejoin:miter;stroke-opacity:1\"/>\n",
       "<path class=\"bond-0 atom-0 atom-1\" d=\"M 276.9,128.3 L 294.2,118.3\" style=\"fill:none;fill-rule:evenodd;stroke:#CCCC00;stroke-width:2.0px;stroke-linecap:butt;stroke-linejoin:miter;stroke-opacity:1\"/>\n",
       "<path class=\"bond-1 atom-1 atom-2\" d=\"M 305.8,118.3 L 323.1,128.3\" style=\"fill:none;fill-rule:evenodd;stroke:#CCCC00;stroke-width:2.0px;stroke-linecap:butt;stroke-linejoin:miter;stroke-opacity:1\"/>\n",
       "<path class=\"bond-1 atom-1 atom-2\" d=\"M 323.1,128.3 L 340.4,138.3\" style=\"fill:none;fill-rule:evenodd;stroke:#000000;stroke-width:2.0px;stroke-linecap:butt;stroke-linejoin:miter;stroke-opacity:1\"/>\n",
       "<path class=\"bond-2 atom-1 atom-3\" d=\"M 303.5,106.9 L 303.5,91.8\" style=\"fill:none;fill-rule:evenodd;stroke:#CCCC00;stroke-width:2.0px;stroke-linecap:butt;stroke-linejoin:miter;stroke-opacity:1\"/>\n",
       "<path class=\"bond-2 atom-1 atom-3\" d=\"M 303.5,91.8 L 303.5,76.8\" style=\"fill:none;fill-rule:evenodd;stroke:#FF0000;stroke-width:2.0px;stroke-linecap:butt;stroke-linejoin:miter;stroke-opacity:1\"/>\n",
       "<path class=\"bond-2 atom-1 atom-3\" d=\"M 296.5,106.9 L 296.5,91.8\" style=\"fill:none;fill-rule:evenodd;stroke:#CCCC00;stroke-width:2.0px;stroke-linecap:butt;stroke-linejoin:miter;stroke-opacity:1\"/>\n",
       "<path class=\"bond-2 atom-1 atom-3\" d=\"M 296.5,91.8 L 296.5,76.8\" style=\"fill:none;fill-rule:evenodd;stroke:#FF0000;stroke-width:2.0px;stroke-linecap:butt;stroke-linejoin:miter;stroke-opacity:1\"/>\n",
       "<path class=\"atom-1\" d=\"M 296.3 119.5 Q 296.4 119.6, 297.0 119.8 Q 297.6 120.1, 298.3 120.3 Q 299.0 120.4, 299.7 120.4 Q 300.9 120.4, 301.7 119.8 Q 302.4 119.2, 302.4 118.2 Q 302.4 117.4, 302.0 117.0 Q 301.7 116.5, 301.1 116.3 Q 300.5 116.0, 299.6 115.8 Q 298.4 115.4, 297.7 115.1 Q 297.0 114.7, 296.5 114.0 Q 296.0 113.3, 296.0 112.1 Q 296.0 110.5, 297.2 109.4 Q 298.3 108.4, 300.5 108.4 Q 302.1 108.4, 303.8 109.1 L 303.4 110.6 Q 301.8 109.9, 300.6 109.9 Q 299.3 109.9, 298.6 110.5 Q 297.9 111.0, 297.9 111.9 Q 297.9 112.6, 298.3 113.0 Q 298.6 113.5, 299.2 113.7 Q 299.7 114.0, 300.6 114.2 Q 301.8 114.6, 302.5 115.0 Q 303.2 115.4, 303.7 116.1 Q 304.2 116.9, 304.2 118.2 Q 304.2 120.0, 303.0 121.0 Q 301.8 121.9, 299.8 121.9 Q 298.6 121.9, 297.7 121.7 Q 296.8 121.4, 295.8 121.0 L 296.3 119.5 \" fill=\"#CCCC00\"/>\n",
       "<path class=\"atom-3\" d=\"M 293.9 68.4 Q 293.9 65.2, 295.5 63.5 Q 297.1 61.7, 300.0 61.7 Q 302.9 61.7, 304.5 63.5 Q 306.1 65.2, 306.1 68.4 Q 306.1 71.6, 304.5 73.4 Q 302.9 75.2, 300.0 75.2 Q 297.1 75.2, 295.5 73.4 Q 293.9 71.6, 293.9 68.4 M 300.0 73.8 Q 302.0 73.8, 303.1 72.4 Q 304.2 71.0, 304.2 68.4 Q 304.2 65.8, 303.1 64.5 Q 302.0 63.2, 300.0 63.2 Q 298.0 63.2, 296.9 64.5 Q 295.8 65.8, 295.8 68.4 Q 295.8 71.1, 296.9 72.4 Q 298.0 73.8, 300.0 73.8 \" fill=\"#FF0000\"/>\n",
       "<path class=\"bond-0 atom-0 atom-1\" d=\"M 578.8,96.2 L 544.5,127.8\" style=\"fill:none;fill-rule:evenodd;stroke:#000000;stroke-width:2.0px;stroke-linecap:butt;stroke-linejoin:miter;stroke-opacity:1\"/>\n",
       "<path class=\"bond-1 atom-1 atom-2\" d=\"M 544.5,127.8 L 525.5,121.9\" style=\"fill:none;fill-rule:evenodd;stroke:#000000;stroke-width:2.0px;stroke-linecap:butt;stroke-linejoin:miter;stroke-opacity:1\"/>\n",
       "<path class=\"bond-1 atom-1 atom-2\" d=\"M 525.5,121.9 L 506.5,116.0\" style=\"fill:none;fill-rule:evenodd;stroke:#0000FF;stroke-width:2.0px;stroke-linecap:butt;stroke-linejoin:miter;stroke-opacity:1\"/>\n",
       "<path class=\"bond-2 atom-2 atom-3\" d=\"M 493.5,119.9 L 479.6,132.7\" style=\"fill:none;fill-rule:evenodd;stroke:#0000FF;stroke-width:2.0px;stroke-linecap:butt;stroke-linejoin:miter;stroke-opacity:1\"/>\n",
       "<path class=\"bond-2 atom-2 atom-3\" d=\"M 479.6,132.7 L 465.7,145.5\" style=\"fill:none;fill-rule:evenodd;stroke:#000000;stroke-width:2.0px;stroke-linecap:butt;stroke-linejoin:miter;stroke-opacity:1\"/>\n",
       "<path class=\"bond-3 atom-3 atom-4\" d=\"M 465.7,145.5 L 421.2,131.6\" style=\"fill:none;fill-rule:evenodd;stroke:#000000;stroke-width:2.0px;stroke-linecap:butt;stroke-linejoin:miter;stroke-opacity:1\"/>\n",
       "<path class=\"bond-4 atom-2 atom-5\" d=\"M 498.2,105.8 L 494.0,87.1\" style=\"fill:none;fill-rule:evenodd;stroke:#0000FF;stroke-width:2.0px;stroke-linecap:butt;stroke-linejoin:miter;stroke-opacity:1\"/>\n",
       "<path class=\"bond-4 atom-2 atom-5\" d=\"M 494.0,87.1 L 489.8,68.4\" style=\"fill:none;fill-rule:evenodd;stroke:#000000;stroke-width:2.0px;stroke-linecap:butt;stroke-linejoin:miter;stroke-opacity:1\"/>\n",
       "<path class=\"bond-5 atom-5 atom-6\" d=\"M 489.8,68.4 L 445.3,54.5\" style=\"fill:none;fill-rule:evenodd;stroke:#000000;stroke-width:2.0px;stroke-linecap:butt;stroke-linejoin:miter;stroke-opacity:1\"/>\n",
       "<path d=\"M 546.2,126.2 L 544.5,127.8 L 543.6,127.5\" style=\"fill:none;stroke:#000000;stroke-width:2.0px;stroke-linecap:butt;stroke-linejoin:miter;stroke-opacity:1;\"/>\n",
       "<path d=\"M 466.4,144.9 L 465.7,145.5 L 463.5,144.8\" style=\"fill:none;stroke:#000000;stroke-width:2.0px;stroke-linecap:butt;stroke-linejoin:miter;stroke-opacity:1;\"/>\n",
       "<path d=\"M 490.0,69.3 L 489.8,68.4 L 487.6,67.7\" style=\"fill:none;stroke:#000000;stroke-width:2.0px;stroke-linecap:butt;stroke-linejoin:miter;stroke-opacity:1;\"/>\n",
       "<path class=\"atom-2\" d=\"M 497.1 107.3 L 501.4 114.3 Q 501.8 115.0, 502.5 116.2 Q 503.2 117.5, 503.3 117.6 L 503.3 107.3 L 505.0 107.3 L 505.0 120.5 L 503.2 120.5 L 498.6 112.9 Q 498.0 112.0, 497.4 110.9 Q 496.9 109.9, 496.7 109.6 L 496.7 120.5 L 495.0 120.5 L 495.0 107.3 L 497.1 107.3 \" fill=\"#0000FF\"/>\n",
       "<path class=\"bond-0 atom-0 atom-1\" d=\"M 57.9,336.2 L 68.3,318.0\" style=\"fill:none;fill-rule:evenodd;stroke:#00CC00;stroke-width:2.0px;stroke-linecap:butt;stroke-linejoin:miter;stroke-opacity:1\"/>\n",
       "<path class=\"bond-0 atom-0 atom-1\" d=\"M 68.3,318.0 L 78.8,299.9\" style=\"fill:none;fill-rule:evenodd;stroke:#000000;stroke-width:2.0px;stroke-linecap:butt;stroke-linejoin:miter;stroke-opacity:1\"/>\n",
       "<path class=\"bond-1 atom-1 atom-2\" d=\"M 82.8,299.9 L 73.1,283.1\" style=\"fill:none;fill-rule:evenodd;stroke:#000000;stroke-width:2.0px;stroke-linecap:butt;stroke-linejoin:miter;stroke-opacity:1\"/>\n",
       "<path class=\"bond-1 atom-1 atom-2\" d=\"M 73.1,283.1 L 63.4,266.2\" style=\"fill:none;fill-rule:evenodd;stroke:#FF0000;stroke-width:2.0px;stroke-linecap:butt;stroke-linejoin:miter;stroke-opacity:1\"/>\n",
       "<path class=\"bond-1 atom-1 atom-2\" d=\"M 76.8,303.4 L 67.0,286.6\" style=\"fill:none;fill-rule:evenodd;stroke:#000000;stroke-width:2.0px;stroke-linecap:butt;stroke-linejoin:miter;stroke-opacity:1\"/>\n",
       "<path class=\"bond-1 atom-1 atom-2\" d=\"M 67.0,286.6 L 57.3,269.7\" style=\"fill:none;fill-rule:evenodd;stroke:#FF0000;stroke-width:2.0px;stroke-linecap:butt;stroke-linejoin:miter;stroke-opacity:1\"/>\n",
       "<path class=\"bond-2 atom-1 atom-3\" d=\"M 78.8,299.9 L 125.4,299.9\" style=\"fill:none;fill-rule:evenodd;stroke:#000000;stroke-width:2.0px;stroke-linecap:butt;stroke-linejoin:miter;stroke-opacity:1\"/>\n",
       "<path class=\"bond-3 atom-3 atom-4\" d=\"M 121.4,299.9 L 131.2,316.9\" style=\"fill:none;fill-rule:evenodd;stroke:#000000;stroke-width:2.0px;stroke-linecap:butt;stroke-linejoin:miter;stroke-opacity:1\"/>\n",
       "<path class=\"bond-3 atom-3 atom-4\" d=\"M 131.2,316.9 L 141.0,333.8\" style=\"fill:none;fill-rule:evenodd;stroke:#FF0000;stroke-width:2.0px;stroke-linecap:butt;stroke-linejoin:miter;stroke-opacity:1\"/>\n",
       "<path class=\"bond-3 atom-3 atom-4\" d=\"M 127.5,296.4 L 137.2,313.4\" style=\"fill:none;fill-rule:evenodd;stroke:#000000;stroke-width:2.0px;stroke-linecap:butt;stroke-linejoin:miter;stroke-opacity:1\"/>\n",
       "<path class=\"bond-3 atom-3 atom-4\" d=\"M 137.2,313.4 L 147.0,330.3\" style=\"fill:none;fill-rule:evenodd;stroke:#FF0000;stroke-width:2.0px;stroke-linecap:butt;stroke-linejoin:miter;stroke-opacity:1\"/>\n",
       "<path class=\"bond-4 atom-3 atom-5\" d=\"M 125.4,299.9 L 134.6,284.1\" style=\"fill:none;fill-rule:evenodd;stroke:#000000;stroke-width:2.0px;stroke-linecap:butt;stroke-linejoin:miter;stroke-opacity:1\"/>\n",
       "<path class=\"bond-4 atom-3 atom-5\" d=\"M 134.6,284.1 L 143.7,268.3\" style=\"fill:none;fill-rule:evenodd;stroke:#00CC00;stroke-width:2.0px;stroke-linecap:butt;stroke-linejoin:miter;stroke-opacity:1\"/>\n",
       "<path d=\"M 78.3,300.8 L 78.8,299.9 L 81.1,299.9\" style=\"fill:none;stroke:#000000;stroke-width:2.0px;stroke-linecap:butt;stroke-linejoin:miter;stroke-opacity:1;\"/>\n",
       "<path d=\"M 123.1,299.9 L 125.4,299.9 L 125.9,299.1\" style=\"fill:none;stroke:#000000;stroke-width:2.0px;stroke-linecap:butt;stroke-linejoin:miter;stroke-opacity:1;\"/>\n",
       "<path class=\"atom-0\" d=\"M 43.1 340.8 Q 43.1 337.5, 44.6 335.8 Q 46.2 334.0, 49.1 334.0 Q 51.8 334.0, 53.3 335.9 L 52.1 337.0 Q 51.0 335.6, 49.1 335.6 Q 47.1 335.6, 46.0 336.9 Q 45.0 338.2, 45.0 340.8 Q 45.0 343.4, 46.1 344.7 Q 47.2 346.1, 49.3 346.1 Q 50.8 346.1, 52.5 345.2 L 53.0 346.6 Q 52.3 347.0, 51.2 347.3 Q 50.2 347.5, 49.0 347.5 Q 46.2 347.5, 44.6 345.8 Q 43.1 344.0, 43.1 340.8 \" fill=\"#00CC00\"/>\n",
       "<path class=\"atom-0\" d=\"M 54.6 333.2 L 56.3 333.2 L 56.3 347.4 L 54.6 347.4 L 54.6 333.2 \" fill=\"#00CC00\"/>\n",
       "<path class=\"atom-2\" d=\"M 49.4 259.6 Q 49.4 256.4, 51.0 254.6 Q 52.6 252.9, 55.5 252.9 Q 58.4 252.9, 60.0 254.6 Q 61.5 256.4, 61.5 259.6 Q 61.5 262.8, 60.0 264.6 Q 58.4 266.4, 55.5 266.4 Q 52.6 266.4, 51.0 264.6 Q 49.4 262.8, 49.4 259.6 M 55.5 264.9 Q 57.5 264.9, 58.6 263.6 Q 59.7 262.2, 59.7 259.6 Q 59.7 257.0, 58.6 255.7 Q 57.5 254.3, 55.5 254.3 Q 53.5 254.3, 52.4 255.6 Q 51.3 257.0, 51.3 259.6 Q 51.3 262.2, 52.4 263.6 Q 53.5 264.9, 55.5 264.9 \" fill=\"#FF0000\"/>\n",
       "<path class=\"atom-4\" d=\"M 142.7 340.3 Q 142.7 337.2, 144.3 335.4 Q 145.8 333.6, 148.8 333.6 Q 151.7 333.6, 153.2 335.4 Q 154.8 337.2, 154.8 340.3 Q 154.8 343.5, 153.2 345.4 Q 151.6 347.2, 148.8 347.2 Q 145.8 347.2, 144.3 345.4 Q 142.7 343.6, 142.7 340.3 M 148.8 345.7 Q 150.8 345.7, 151.8 344.4 Q 152.9 343.0, 152.9 340.3 Q 152.9 337.7, 151.8 336.4 Q 150.8 335.1, 148.8 335.1 Q 146.7 335.1, 145.6 336.4 Q 144.6 337.7, 144.6 340.3 Q 144.6 343.0, 145.6 344.4 Q 146.7 345.7, 148.8 345.7 \" fill=\"#FF0000\"/>\n",
       "<path class=\"atom-5\" d=\"M 143.7 260.0 Q 143.7 256.7, 145.2 255.0 Q 146.7 253.3, 149.7 253.3 Q 152.4 253.3, 153.8 255.2 L 152.6 256.2 Q 151.6 254.8, 149.7 254.8 Q 147.7 254.8, 146.6 256.1 Q 145.6 257.4, 145.6 260.0 Q 145.6 262.6, 146.6 263.9 Q 147.7 265.3, 149.9 265.3 Q 151.3 265.3, 153.0 264.4 L 153.5 265.8 Q 152.9 266.3, 151.8 266.5 Q 150.8 266.8, 149.6 266.8 Q 146.7 266.8, 145.2 265.0 Q 143.7 263.3, 143.7 260.0 \" fill=\"#00CC00\"/>\n",
       "<path class=\"atom-5\" d=\"M 155.2 252.5 L 156.9 252.5 L 156.9 266.6 L 155.2 266.6 L 155.2 252.5 \" fill=\"#00CC00\"/>\n",
       "</svg>"
      ],
      "text/plain": [
       "<IPython.core.display.SVG object>"
      ]
     },
     "metadata": {},
     "output_type": "display_data"
    },
    {
     "name": "stdout",
     "output_type": "stream",
     "text": [
      "--------------------------------------\n",
      "--------------------------------------\n"
     ]
    }
   ],
   "source": [
    "from bond_disconnector import disconnections\n",
    "\n",
    "mol = 'CCCC=O'\n",
    "disconnections(mol)"
   ]
  },
  {
   "cell_type": "code",
   "execution_count": null,
   "id": "78bdac1b-fef2-4cb4-969c-23761aef4725",
   "metadata": {},
   "outputs": [],
   "source": []
  },
  {
   "cell_type": "code",
   "execution_count": null,
   "id": "d3ad1002-3351-4777-9f70-9442cb20a645",
   "metadata": {},
   "outputs": [],
   "source": []
  }
 ],
 "metadata": {
  "kernelspec": {
   "display_name": "Python 3 (ipykernel)",
   "language": "python",
   "name": "python3"
  },
  "language_info": {
   "codemirror_mode": {
    "name": "ipython",
    "version": 3
   },
   "file_extension": ".py",
   "mimetype": "text/x-python",
   "name": "python",
   "nbconvert_exporter": "python",
   "pygments_lexer": "ipython3",
   "version": "3.10.14"
  }
 },
 "nbformat": 4,
 "nbformat_minor": 5
}
