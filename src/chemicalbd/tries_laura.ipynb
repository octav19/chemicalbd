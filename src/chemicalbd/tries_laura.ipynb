{
 "cells": [
  {
   "cell_type": "code",
   "execution_count": 7,
   "id": "87b2ebde-5e51-478a-8aa7-7e526aaf45c1",
   "metadata": {},
   "outputs": [
    {
     "name": "stdout",
     "output_type": "stream",
     "text": [
      "The molecule inserted looks like this:\n"
     ]
    },
    {
     "data": {
      "image/png": "[encoded data removed]",
      "image/svg+xml": [
       "<?xml version='1.0' encoding='iso-8859-1'?>\n",
       "<svg version='1.1' baseProfile='full'\n",
       "              xmlns='http://www.w3.org/2000/svg'\n",
       "                      xmlns:rdkit='http://www.rdkit.org/xml'\n",
       "                      xmlns:xlink='http://www.w3.org/1999/xlink'\n",
       "                  xml:space='preserve'\n",
       "width='450px' height='150px' viewBox='0 0 450 150'>\n",
       "<!-- END OF HEADER -->\n",
       "<rect style='opacity:1.0;fill:#FFFFFF;stroke:none' width='450.0' height='150.0' x='0.0' y='0.0'> </rect>\n",
       "<path class='bond-0 atom-0 atom-1' d='M 20.5,12.9 L 85.1,58.3' style='fill:none;fill-rule:evenodd;stroke:#000000;stroke-width:2.0px;stroke-linecap:butt;stroke-linejoin:miter;stroke-opacity:1' />\n",
       "<path class='bond-1 atom-1 atom-2' d='M 85.1,58.3 L 78.1,137.1' style='fill:none;fill-rule:evenodd;stroke:#000000;stroke-width:2.0px;stroke-linecap:butt;stroke-linejoin:miter;stroke-opacity:1' />\n",
       "<path class='bond-2 atom-1 atom-3' d='M 85.1,58.3 L 114.5,44.7' style='fill:none;fill-rule:evenodd;stroke:#000000;stroke-width:2.0px;stroke-linecap:butt;stroke-linejoin:miter;stroke-opacity:1' />\n",
       "<path class='bond-2 atom-1 atom-3' d='M 114.5,44.7 L 143.9,31.0' style='fill:none;fill-rule:evenodd;stroke:#FF0000;stroke-width:2.0px;stroke-linecap:butt;stroke-linejoin:miter;stroke-opacity:1' />\n",
       "<path class='bond-3 atom-3 atom-4' d='M 169.7,34.1 L 195.6,52.3' style='fill:none;fill-rule:evenodd;stroke:#FF0000;stroke-width:2.0px;stroke-linecap:butt;stroke-linejoin:miter;stroke-opacity:1' />\n",
       "<path class='bond-3 atom-3 atom-4' d='M 195.6,52.3 L 221.5,70.5' style='fill:none;fill-rule:evenodd;stroke:#000000;stroke-width:2.0px;stroke-linecap:butt;stroke-linejoin:miter;stroke-opacity:1' />\n",
       "<path class='bond-4 atom-4 atom-5' d='M 221.5,70.5 L 293.2,37.2' style='fill:none;fill-rule:evenodd;stroke:#000000;stroke-width:2.0px;stroke-linecap:butt;stroke-linejoin:miter;stroke-opacity:1' />\n",
       "<path class='bond-4 atom-4 atom-5' d='M 222.7,56.8 L 288.2,26.4' style='fill:none;fill-rule:evenodd;stroke:#000000;stroke-width:2.0px;stroke-linecap:butt;stroke-linejoin:miter;stroke-opacity:1' />\n",
       "<path class='bond-5 atom-5 atom-6' d='M 293.2,37.2 L 357.9,82.6' style='fill:none;fill-rule:evenodd;stroke:#000000;stroke-width:2.0px;stroke-linecap:butt;stroke-linejoin:miter;stroke-opacity:1' />\n",
       "<path class='bond-6 atom-6 atom-7' d='M 357.9,82.6 L 429.5,49.3' style='fill:none;fill-rule:evenodd;stroke:#000000;stroke-width:2.0px;stroke-linecap:butt;stroke-linejoin:miter;stroke-opacity:1' />\n",
       "<path d='M 220.2,69.6 L 221.5,70.5 L 225.1,68.8' style='fill:none;stroke:#000000;stroke-width:2.0px;stroke-linecap:butt;stroke-linejoin:miter;stroke-opacity:1;' />\n",
       "<path d='M 289.6,38.8 L 293.2,37.2 L 296.4,39.4' style='fill:none;stroke:#000000;stroke-width:2.0px;stroke-linecap:butt;stroke-linejoin:miter;stroke-opacity:1;' />\n",
       "<path d='M 354.6,80.3 L 357.9,82.6 L 361.4,80.9' style='fill:none;stroke:#000000;stroke-width:2.0px;stroke-linecap:butt;stroke-linejoin:miter;stroke-opacity:1;' />\n",
       "<path class='atom-3' d='M 146.5 25.1\n",
       "Q 146.5 19.7, 149.2 16.7\n",
       "Q 151.9 13.7, 156.8 13.7\n",
       "Q 161.8 13.7, 164.4 16.7\n",
       "Q 167.1 19.7, 167.1 25.1\n",
       "Q 167.1 30.5, 164.4 33.6\n",
       "Q 161.7 36.7, 156.8 36.7\n",
       "Q 151.9 36.7, 149.2 33.6\n",
       "Q 146.5 30.6, 146.5 25.1\n",
       "M 156.8 34.2\n",
       "Q 160.2 34.2, 162.1 31.9\n",
       "Q 163.9 29.6, 163.9 25.1\n",
       "Q 163.9 20.7, 162.1 18.5\n",
       "Q 160.2 16.3, 156.8 16.3\n",
       "Q 153.4 16.3, 151.5 18.5\n",
       "Q 149.7 20.7, 149.7 25.1\n",
       "Q 149.7 29.6, 151.5 31.9\n",
       "Q 153.4 34.2, 156.8 34.2\n",
       "' fill='#FF0000'/>\n",
       "</svg>\n"
      ],
      "text/html": [
       "<?xml version='1.0' encoding='iso-8859-1'?>\n",
       "<svg version='1.1' baseProfile='full'\n",
       "              xmlns='http://www.w3.org/2000/svg'\n",
       "                      xmlns:rdkit='http://www.rdkit.org/xml'\n",
       "                      xmlns:xlink='http://www.w3.org/1999/xlink'\n",
       "                  xml:space='preserve'\n",
       "width='450px' height='150px' viewBox='0 0 450 150'>\n",
       "<!-- END OF HEADER -->\n",
       "<rect style='opacity:1.0;fill:#FFFFFF;stroke:none' width='450.0' height='150.0' x='0.0' y='0.0'> </rect>\n",
       "<path class='bond-0 atom-0 atom-1' d='M 20.5,12.9 L 85.1,58.3' style='fill:none;fill-rule:evenodd;stroke:#000000;stroke-width:2.0px;stroke-linecap:butt;stroke-linejoin:miter;stroke-opacity:1' />\n",
       "<path class='bond-1 atom-1 atom-2' d='M 85.1,58.3 L 78.1,137.1' style='fill:none;fill-rule:evenodd;stroke:#000000;stroke-width:2.0px;stroke-linecap:butt;stroke-linejoin:miter;stroke-opacity:1' />\n",
       "<path class='bond-2 atom-1 atom-3' d='M 85.1,58.3 L 114.5,44.7' style='fill:none;fill-rule:evenodd;stroke:#000000;stroke-width:2.0px;stroke-linecap:butt;stroke-linejoin:miter;stroke-opacity:1' />\n",
       "<path class='bond-2 atom-1 atom-3' d='M 114.5,44.7 L 143.9,31.0' style='fill:none;fill-rule:evenodd;stroke:#FF0000;stroke-width:2.0px;stroke-linecap:butt;stroke-linejoin:miter;stroke-opacity:1' />\n",
       "<path class='bond-3 atom-3 atom-4' d='M 169.7,34.1 L 195.6,52.3' style='fill:none;fill-rule:evenodd;stroke:#FF0000;stroke-width:2.0px;stroke-linecap:butt;stroke-linejoin:miter;stroke-opacity:1' />\n",
       "<path class='bond-3 atom-3 atom-4' d='M 195.6,52.3 L 221.5,70.5' style='fill:none;fill-rule:evenodd;stroke:#000000;stroke-width:2.0px;stroke-linecap:butt;stroke-linejoin:miter;stroke-opacity:1' />\n",
       "<path class='bond-4 atom-4 atom-5' d='M 221.5,70.5 L 293.2,37.2' style='fill:none;fill-rule:evenodd;stroke:#000000;stroke-width:2.0px;stroke-linecap:butt;stroke-linejoin:miter;stroke-opacity:1' />\n",
       "<path class='bond-4 atom-4 atom-5' d='M 222.7,56.8 L 288.2,26.4' style='fill:none;fill-rule:evenodd;stroke:#000000;stroke-width:2.0px;stroke-linecap:butt;stroke-linejoin:miter;stroke-opacity:1' />\n",
       "<path class='bond-5 atom-5 atom-6' d='M 293.2,37.2 L 357.9,82.6' style='fill:none;fill-rule:evenodd;stroke:#000000;stroke-width:2.0px;stroke-linecap:butt;stroke-linejoin:miter;stroke-opacity:1' />\n",
       "<path class='bond-6 atom-6 atom-7' d='M 357.9,82.6 L 429.5,49.3' style='fill:none;fill-rule:evenodd;stroke:#000000;stroke-width:2.0px;stroke-linecap:butt;stroke-linejoin:miter;stroke-opacity:1' />\n",
       "<path d='M 220.2,69.6 L 221.5,70.5 L 225.1,68.8' style='fill:none;stroke:#000000;stroke-width:2.0px;stroke-linecap:butt;stroke-linejoin:miter;stroke-opacity:1;' />\n",
       "<path d='M 289.6,38.8 L 293.2,37.2 L 296.4,39.4' style='fill:none;stroke:#000000;stroke-width:2.0px;stroke-linecap:butt;stroke-linejoin:miter;stroke-opacity:1;' />\n",
       "<path d='M 354.6,80.3 L 357.9,82.6 L 361.4,80.9' style='fill:none;stroke:#000000;stroke-width:2.0px;stroke-linecap:butt;stroke-linejoin:miter;stroke-opacity:1;' />\n",
       "<path class='atom-3' d='M 146.5 25.1\n",
       "Q 146.5 19.7, 149.2 16.7\n",
       "Q 151.9 13.7, 156.8 13.7\n",
       "Q 161.8 13.7, 164.4 16.7\n",
       "Q 167.1 19.7, 167.1 25.1\n",
       "Q 167.1 30.5, 164.4 33.6\n",
       "Q 161.7 36.7, 156.8 36.7\n",
       "Q 151.9 36.7, 149.2 33.6\n",
       "Q 146.5 30.6, 146.5 25.1\n",
       "M 156.8 34.2\n",
       "Q 160.2 34.2, 162.1 31.9\n",
       "Q 163.9 29.6, 163.9 25.1\n",
       "Q 163.9 20.7, 162.1 18.5\n",
       "Q 160.2 16.3, 156.8 16.3\n",
       "Q 153.4 16.3, 151.5 18.5\n",
       "Q 149.7 20.7, 149.7 25.1\n",
       "Q 149.7 29.6, 151.5 31.9\n",
       "Q 153.4 34.2, 156.8 34.2\n",
       "' fill='#FF0000'/>\n",
       "</svg>\n"
      ],
      "text/plain": [
       "<rdkit.Chem.rdchem.Mol at 0x1143b2af220>"
      ]
     },
     "metadata": {},
     "output_type": "display_data"
    },
    {
     "name": "stdout",
     "output_type": "stream",
     "text": [
      "Reactant 1:\n"
     ]
    },
    {
     "data": {
      "image/png": "[encoded data removed]",
      "image/svg+xml": [
       "<?xml version='1.0' encoding='iso-8859-1'?>\n",
       "<svg version='1.1' baseProfile='full'\n",
       "              xmlns='http://www.w3.org/2000/svg'\n",
       "                      xmlns:rdkit='http://www.rdkit.org/xml'\n",
       "                      xmlns:xlink='http://www.w3.org/1999/xlink'\n",
       "                  xml:space='preserve'\n",
       "width='450px' height='150px' viewBox='0 0 450 150'>\n",
       "<!-- END OF HEADER -->\n",
       "<rect style='opacity:1.0;fill:#FFFFFF;stroke:none' width='450.0' height='150.0' x='0.0' y='0.0'> </rect>\n",
       "<path class='bond-0 atom-0 atom-1' d='M 225.0,101.7 L 225.0,67.4' style='fill:none;fill-rule:evenodd;stroke:#000000;stroke-width:2.0px;stroke-linecap:butt;stroke-linejoin:miter;stroke-opacity:1' />\n",
       "<path class='bond-0 atom-0 atom-1' d='M 225.0,67.4 L 225.0,33.2' style='fill:none;fill-rule:evenodd;stroke:#A01EEF;stroke-width:2.0px;stroke-linecap:butt;stroke-linejoin:miter;stroke-opacity:1' />\n",
       "<path class='bond-1 atom-2 atom-0' d='M 153.1,143.2 L 225.0,101.7' style='fill:none;fill-rule:evenodd;stroke:#000000;stroke-width:2.0px;stroke-linecap:butt;stroke-linejoin:miter;stroke-opacity:1' />\n",
       "<path class='bond-2 atom-0 atom-3' d='M 225.0,101.7 L 296.9,143.2' style='fill:none;fill-rule:evenodd;stroke:#000000;stroke-width:2.0px;stroke-linecap:butt;stroke-linejoin:miter;stroke-opacity:1' />\n",
       "<path class='atom-1' d='M 223.4 6.8\n",
       "L 226.6 6.8\n",
       "L 226.6 30.4\n",
       "L 223.4 30.4\n",
       "L 223.4 6.8\n",
       "' fill='#A01EEF'/>\n",
       "</svg>\n"
      ],
      "text/html": [
       "<?xml version='1.0' encoding='iso-8859-1'?>\n",
       "<svg version='1.1' baseProfile='full'\n",
       "              xmlns='http://www.w3.org/2000/svg'\n",
       "                      xmlns:rdkit='http://www.rdkit.org/xml'\n",
       "                      xmlns:xlink='http://www.w3.org/1999/xlink'\n",
       "                  xml:space='preserve'\n",
       "width='450px' height='150px' viewBox='0 0 450 150'>\n",
       "<!-- END OF HEADER -->\n",
       "<rect style='opacity:1.0;fill:#FFFFFF;stroke:none' width='450.0' height='150.0' x='0.0' y='0.0'> </rect>\n",
       "<path class='bond-0 atom-0 atom-1' d='M 225.0,101.7 L 225.0,67.4' style='fill:none;fill-rule:evenodd;stroke:#000000;stroke-width:2.0px;stroke-linecap:butt;stroke-linejoin:miter;stroke-opacity:1' />\n",
       "<path class='bond-0 atom-0 atom-1' d='M 225.0,67.4 L 225.0,33.2' style='fill:none;fill-rule:evenodd;stroke:#A01EEF;stroke-width:2.0px;stroke-linecap:butt;stroke-linejoin:miter;stroke-opacity:1' />\n",
       "<path class='bond-1 atom-2 atom-0' d='M 153.1,143.2 L 225.0,101.7' style='fill:none;fill-rule:evenodd;stroke:#000000;stroke-width:2.0px;stroke-linecap:butt;stroke-linejoin:miter;stroke-opacity:1' />\n",
       "<path class='bond-2 atom-0 atom-3' d='M 225.0,101.7 L 296.9,143.2' style='fill:none;fill-rule:evenodd;stroke:#000000;stroke-width:2.0px;stroke-linecap:butt;stroke-linejoin:miter;stroke-opacity:1' />\n",
       "<path class='atom-1' d='M 223.4 6.8\n",
       "L 226.6 6.8\n",
       "L 226.6 30.4\n",
       "L 223.4 30.4\n",
       "L 223.4 6.8\n",
       "' fill='#A01EEF'/>\n",
       "</svg>\n"
      ],
      "text/plain": [
       "<rdkit.Chem.rdchem.Mol at 0x1143b0a7b50>"
      ]
     },
     "metadata": {},
     "output_type": "display_data"
    },
    {
     "name": "stdout",
     "output_type": "stream",
     "text": [
      "Reactant 2:\n"
     ]
    },
    {
     "data": {
      "image/svg+xml": [
       "<svg xmlns=\"http://www.w3.org/2000/svg\" xmlns:rdkit=\"http://www.rdkit.org/xml\" xmlns:xlink=\"http://www.w3.org/1999/xlink\" version=\"1.1\" baseProfile=\"full\" xml:space=\"preserve\" width=\"600px\" height=\"200px\" viewBox=\"0 0 600 200\">\n",
       "<!-- END OF HEADER -->\n",
       "<rect style=\"opacity:1.0;fill:#FFFFFF;stroke:none\" width=\"600.0\" height=\"200.0\" x=\"0.0\" y=\"0.0\"> </rect>\n",
       "<path class=\"bond-0 atom-0 atom-1\" d=\"M 164.6,103.9 L 148.0,94.3\" style=\"fill:none;fill-rule:evenodd;stroke:#FF0000;stroke-width:2.0px;stroke-linecap:butt;stroke-linejoin:miter;stroke-opacity:1\"/>\n",
       "<path class=\"bond-0 atom-0 atom-1\" d=\"M 148.0,94.3 L 131.5,84.7\" style=\"fill:none;fill-rule:evenodd;stroke:#000000;stroke-width:2.0px;stroke-linecap:butt;stroke-linejoin:miter;stroke-opacity:1\"/>\n",
       "<path class=\"bond-1 atom-1 atom-2\" d=\"M 131.5,84.7 L 90.7,108.3\" style=\"fill:none;fill-rule:evenodd;stroke:#000000;stroke-width:2.0px;stroke-linecap:butt;stroke-linejoin:miter;stroke-opacity:1\"/>\n",
       "<path class=\"bond-1 atom-1 atom-2\" d=\"M 131.5,92.9 L 94.2,114.4\" style=\"fill:none;fill-rule:evenodd;stroke:#000000;stroke-width:2.0px;stroke-linecap:butt;stroke-linejoin:miter;stroke-opacity:1\"/>\n",
       "<path class=\"bond-2 atom-2 atom-3\" d=\"M 90.7,108.3 L 49.9,84.7\" style=\"fill:none;fill-rule:evenodd;stroke:#000000;stroke-width:2.0px;stroke-linecap:butt;stroke-linejoin:miter;stroke-opacity:1\"/>\n",
       "<path class=\"bond-3 atom-3 atom-4\" d=\"M 49.9,84.7 L 9.1,108.3\" style=\"fill:none;fill-rule:evenodd;stroke:#000000;stroke-width:2.0px;stroke-linecap:butt;stroke-linejoin:miter;stroke-opacity:1\"/>\n",
       "<path d=\"M 132.3,85.2 L 131.5,84.7 L 129.4,85.9\" style=\"fill:none;stroke:#000000;stroke-width:2.0px;stroke-linecap:butt;stroke-linejoin:miter;stroke-opacity:1;\"/>\n",
       "<path d=\"M 92.7,107.1 L 90.7,108.3 L 88.6,107.1\" style=\"fill:none;stroke:#000000;stroke-width:2.0px;stroke-linecap:butt;stroke-linejoin:miter;stroke-opacity:1;\"/>\n",
       "<path d=\"M 51.9,85.9 L 49.9,84.7 L 47.8,85.9\" style=\"fill:none;stroke:#000000;stroke-width:2.0px;stroke-linecap:butt;stroke-linejoin:miter;stroke-opacity:1;\"/>\n",
       "<path class=\"atom-0\" d=\"M 166.1 108.3 Q 166.1 105.1, 167.7 103.3 Q 169.3 101.6, 172.3 101.6 Q 175.2 101.6, 176.8 103.3 Q 178.4 105.1, 178.4 108.3 Q 178.4 111.6, 176.8 113.4 Q 175.2 115.3, 172.3 115.3 Q 169.3 115.3, 167.7 113.4 Q 166.1 111.6, 166.1 108.3 M 172.3 113.7 Q 174.3 113.7, 175.4 112.4 Q 176.5 111.0, 176.5 108.3 Q 176.5 105.7, 175.4 104.4 Q 174.3 103.1, 172.3 103.1 Q 170.2 103.1, 169.1 104.4 Q 168.0 105.7, 168.0 108.3 Q 168.0 111.0, 169.1 112.4 Q 170.2 113.7, 172.3 113.7 \" fill=\"#FF0000\"/>\n",
       "<path class=\"atom-0\" d=\"M 180.5 101.7 L 182.3 101.7 L 182.3 107.4 L 189.1 107.4 L 189.1 101.7 L 190.9 101.7 L 190.9 115.0 L 189.1 115.0 L 189.1 108.9 L 182.3 108.9 L 182.3 115.0 L 180.5 115.0 L 180.5 101.7 \" fill=\"#FF0000\"/>\n",
       "<path class=\"atom-0\" d=\"M 310.5 93.2 L 314.9 100.3 Q 315.3 101.0, 316.0 102.3 Q 316.7 103.5, 316.7 103.6 L 316.7 93.2 L 318.5 93.2 L 318.5 106.6 L 316.7 106.6 L 312.0 98.8 Q 311.4 97.9, 310.9 96.9 Q 310.3 95.9, 310.1 95.5 L 310.1 106.6 L 308.4 106.6 L 308.4 93.2 L 310.5 93.2 \" fill=\"#000000\"/>\n",
       "<path class=\"atom-0\" d=\"M 321.0 103.9 Q 321.0 102.4, 322.2 101.6 Q 323.5 100.7, 325.7 100.7 L 327.2 100.7 L 327.2 100.3 Q 327.2 99.1, 326.7 98.6 Q 326.2 98.1, 325.0 98.1 Q 324.2 98.1, 323.6 98.3 Q 323.0 98.4, 322.0 98.8 L 321.5 97.6 Q 323.3 96.7, 325.0 96.7 Q 327.1 96.7, 328.0 97.6 Q 328.9 98.5, 328.9 100.4 L 328.9 106.6 L 327.6 106.6 Q 327.6 106.5, 327.5 106.2 Q 327.4 105.9, 327.3 105.4 Q 326.0 106.8, 324.2 106.8 Q 322.7 106.8, 321.8 106.0 Q 321.0 105.2, 321.0 103.9 M 322.7 103.9 Q 322.7 104.6, 323.2 105.0 Q 323.7 105.4, 324.5 105.4 Q 325.3 105.4, 326.0 105.1 Q 326.7 104.7, 327.2 104.1 L 327.2 102.0 L 325.9 102.0 Q 324.3 102.0, 323.5 102.5 Q 322.7 103.0, 322.7 103.9 \" fill=\"#000000\"/>\n",
       "<path class=\"atom-0\" d=\"M 331.3 97.3 L 333.6 97.3 L 333.6 94.8 L 334.7 94.8 L 334.7 97.3 L 337.1 97.3 L 337.1 98.2 L 334.7 98.2 L 334.7 100.6 L 333.6 100.6 L 333.6 98.2 L 331.3 98.2 L 331.3 97.3 \" fill=\"#000000\"/>\n",
       "<path class=\"atom-1\" d=\"M 262.9 93.3 L 264.7 93.3 L 264.7 99.0 L 271.5 99.0 L 271.5 93.3 L 273.3 93.3 L 273.3 106.6 L 271.5 106.6 L 271.5 100.5 L 264.7 100.5 L 264.7 106.6 L 262.9 106.6 L 262.9 93.3 \" fill=\"#FF0000\"/>\n",
       "<path class=\"atom-1\" d=\"M 275.9 99.9 Q 275.9 96.7, 277.5 94.9 Q 279.1 93.2, 282.1 93.2 Q 285.0 93.2, 286.6 94.9 Q 288.2 96.7, 288.2 99.9 Q 288.2 103.2, 286.6 105.0 Q 285.0 106.8, 282.1 106.8 Q 279.1 106.8, 277.5 105.0 Q 275.9 103.2, 275.9 99.9 M 282.1 105.3 Q 284.1 105.3, 285.2 104.0 Q 286.3 102.6, 286.3 99.9 Q 286.3 97.3, 285.2 96.0 Q 284.1 94.7, 282.1 94.7 Q 280.0 94.7, 278.9 96.0 Q 277.8 97.3, 277.8 99.9 Q 277.8 102.6, 278.9 104.0 Q 280.0 105.3, 282.1 105.3 \" fill=\"#FF0000\"/>\n",
       "<path class=\"atom-1\" d=\"M 290.1 95.3 L 294.7 95.3 L 294.7 96.3 L 290.1 96.3 L 290.1 95.3 \" fill=\"#FF0000\"/>\n",
       "</svg>"
      ],
      "text/plain": [
       "<IPython.core.display.SVG object>"
      ]
     },
     "metadata": {},
     "output_type": "display_data"
    }
   ],
   "source": [
    "from rdkit import Chem\n",
    "from itertools import chain\n",
    "from rdkit.Chem import AllChem\n",
    "from rdkit.Chem import Draw\n",
    "from rdkit.Chem.Draw import IPythonConsole\n",
    "IPythonConsole.ipython_useSVG=True\n",
    "\n",
    "\n",
    "mol_smiles = 'CC(C)OC=CCC'\n",
    "iodine_smiles = 'I'\n",
    "sodium_hydroxyde_smiles ='[Na+].[OH-]'\n",
    "mol=Chem.MolFromSmiles(mol_smiles)\n",
    "print (f\"The molecule inserted looks like this:\")\n",
    "display(mol)\n",
    "if mol.HasSubstructMatch(Chem.MolFromSmarts('[^3][O]')):\n",
    "    iodine = Chem.MolFromSmiles(iodine_smiles)\n",
    "    sodium_hydroxyde = Chem.MolFromSmiles(sodium_hydroxyde_smiles)\n",
    "    rxn_1 = AllChem.ReactionFromSmarts('[C^3:1][O:2]>>[C:1].[O:2]')\n",
    "    products = list(chain.from_iterable(rxn_1.RunReactants((mol, ))))\n",
    "    rxn_2 = AllChem.ReactionFromSmarts('[C:1].[I:2]>>[C:1][I:2]')\n",
    "    reactant_1 = list(chain.from_iterable(rxn_2.RunReactants((products[0],iodine))))\n",
    "    reactant_2 = [products[1], sodium_hydroxyde]\n",
    "    print (f\"Reactant 1:\")\n",
    "    display(reactant_1[0])\n",
    "    print (f\"Reactant 2:\")\n",
    "    display(Draw.MolsToGridImage(reactant_2))\n",
    "else:\n",
    "    print(f\"Molecule has no known disconnections\")"
   ]
  },
  {
   "cell_type": "code",
   "execution_count": 74,
   "id": "d28d66d2-917b-4093-8792-dcf695efe3aa",
   "metadata": {},
   "outputs": [],
   "source": [
    "from rdkit import Chem\n",
    "from itertools import chain\n",
    "from rdkit.Chem import AllChem\n",
    "from rdkit.Chem import Draw\n",
    "from rdkit.Chem.Draw import IPythonConsole\n",
    "IPythonConsole.ipython_useSVG=True\n",
    "\n",
    "def amid_disconnection (mol: Chem.rdchem.Mol) ->int:\n",
    "    \n",
    "    if mol.HasSubstructMatch(Chem.MolFromSmarts('[^2](=[O])[N][C]')): #Verifies if an amid is present \n",
    "        print (f\"Amid disconnection available\")\n",
    "        print (f\"--------------------------------------\")\n",
    "        amido_radical_smiles = '[N]'\n",
    "        pyridine_smiles = 'c1ccncc1'\n",
    "        pyridine = Chem.MolFromSmiles(pyridine_smiles)\n",
    "        acid_chloride_smile = 'C(=O)Cl'\n",
    "        amido_radical = Chem.MolFromSmiles(amido_radical_smiles)\n",
    "        rxn = AllChem.ReactionFromSmarts('[C^2:1](=[O:2])[N:3].[Cl:4]>>[C^2:1](=[O:2])[Cl:4].[N:3]') #Searches for the amid and returns\n",
    "        reactants = unique_list_reactants(rxn.RunReactants((mol, amido_radical))) #reactants to make the amid in a list of lists; each list = reactive site\n",
    "        opt = 1 #Parameter to count the number of possible reactants that form amids\n",
    "        for r in reactants: #Prints the reactants and the catalyst\n",
    "            print(f\"Option {opt}\")\n",
    "            reactant_1 = [r[0]]\n",
    "            reactant_2 = [r[1]]\n",
    "            catalyst = [pyridine]\n",
    "            print(f\"Reactant 1\")\n",
    "            display(Draw.MolsToGridImage(reactant_1))\n",
    "            print(f\"Reactant 2\")\n",
    "            display(Draw.MolsToGridImage(reactant_2))\n",
    "            print(f\"pyridine\")\n",
    "            display(Draw.MolsToGridImage(pyridine))\n",
    "            opt += 1\n",
    "            print (f\"--------------------------------------\")\n",
    "        print (f\"--------------------------------------\")\n",
    "        return 1\n",
    "    return 0"
   ]
  },
  {
   "cell_type": "code",
   "execution_count": null,
   "id": "5245fd05-9a10-4871-be46-0b3018a4f45b",
   "metadata": {},
   "outputs": [],
   "source": []
  },
  {
   "cell_type": "code",
   "execution_count": null,
   "id": "1bf1d6ed-99d3-4df2-a9c7-20ef703f2828",
   "metadata": {},
   "outputs": [],
   "source": []
  },
  {
   "cell_type": "code",
   "execution_count": null,
   "id": "343a8e2c-ed50-446d-9fa0-dca83c54a29b",
   "metadata": {},
   "outputs": [],
   "source": []
  }
 ],
 "metadata": {
  "kernelspec": {
   "display_name": "Python 3 (ipykernel)",
   "language": "python",
   "name": "python3"
  },
  "language_info": {
   "codemirror_mode": {
    "name": "ipython",
    "version": 3
   },
   "file_extension": ".py",
   "mimetype": "text/x-python",
   "name": "python",
   "nbconvert_exporter": "python",
   "pygments_lexer": "ipython3",
   "version": "3.10.13"
  }
 },
 "nbformat": 4,
 "nbformat_minor": 5
}
