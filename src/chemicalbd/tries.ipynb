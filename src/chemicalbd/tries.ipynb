{
 "cells": [
  {
   "cell_type": "code",
   "execution_count": 22,
   "id": "047fef59-dcc9-4276-8a42-17ea570167f7",
   "metadata": {},
   "outputs": [
    {
     "name": "stdout",
     "output_type": "stream",
     "text": [
      "The molecule inserted looks like this:\n"
     ]
    },
    {
     "data": {
      "image/png": "[encoded data removed]",
      "image/svg+xml": [
       "<?xml version='1.0' encoding='iso-8859-1'?>\n",
       "<svg version='1.1' baseProfile='full'\n",
       "              xmlns='http://www.w3.org/2000/svg'\n",
       "                      xmlns:rdkit='http://www.rdkit.org/xml'\n",
       "                      xmlns:xlink='http://www.w3.org/1999/xlink'\n",
       "                  xml:space='preserve'\n",
       "width='450px' height='150px' viewBox='0 0 450 150'>\n",
       "<!-- END OF HEADER -->\n",
       "<rect style='opacity:1.0;fill:#FFFFFF;stroke:none' width='450.0' height='150.0' x='0.0' y='0.0'> </rect>\n",
       "<path class='bond-0 atom-0 atom-1' d='M 22.5,86.5 L 103.6,45.0' style='fill:none;fill-rule:evenodd;stroke:#000000;stroke-width:2.0px;stroke-linecap:butt;stroke-linejoin:miter;stroke-opacity:1' />\n",
       "<path class='bond-1 atom-1 atom-2' d='M 103.6,45.0 L 136.2,66.1' style='fill:none;fill-rule:evenodd;stroke:#000000;stroke-width:2.0px;stroke-linecap:butt;stroke-linejoin:miter;stroke-opacity:1' />\n",
       "<path class='bond-1 atom-1 atom-2' d='M 136.2,66.1 L 168.8,87.2' style='fill:none;fill-rule:evenodd;stroke:#CCCC00;stroke-width:2.0px;stroke-linecap:butt;stroke-linejoin:miter;stroke-opacity:1' />\n",
       "<path class='bond-2 atom-2 atom-3' d='M 191.4,88.8 L 226.3,70.9' style='fill:none;fill-rule:evenodd;stroke:#CCCC00;stroke-width:2.0px;stroke-linecap:butt;stroke-linejoin:miter;stroke-opacity:1' />\n",
       "<path class='bond-2 atom-2 atom-3' d='M 226.3,70.9 L 261.2,53.0' style='fill:none;fill-rule:evenodd;stroke:#000000;stroke-width:2.0px;stroke-linecap:butt;stroke-linejoin:miter;stroke-opacity:1' />\n",
       "<path class='bond-3 atom-3 atom-4' d='M 261.2,53.0 L 337.7,102.5' style='fill:none;fill-rule:evenodd;stroke:#000000;stroke-width:2.0px;stroke-linecap:butt;stroke-linejoin:miter;stroke-opacity:1' />\n",
       "<path class='bond-4 atom-4 atom-5' d='M 337.7,102.5 L 370.8,85.6' style='fill:none;fill-rule:evenodd;stroke:#000000;stroke-width:2.0px;stroke-linecap:butt;stroke-linejoin:miter;stroke-opacity:1' />\n",
       "<path class='bond-4 atom-4 atom-5' d='M 370.8,85.6 L 403.9,68.6' style='fill:none;fill-rule:evenodd;stroke:#FF0000;stroke-width:2.0px;stroke-linecap:butt;stroke-linejoin:miter;stroke-opacity:1' />\n",
       "<path class='bond-4 atom-4 atom-5' d='M 338.5,86.8 L 364.6,73.4' style='fill:none;fill-rule:evenodd;stroke:#000000;stroke-width:2.0px;stroke-linecap:butt;stroke-linejoin:miter;stroke-opacity:1' />\n",
       "<path class='bond-4 atom-4 atom-5' d='M 364.6,73.4 L 397.7,56.5' style='fill:none;fill-rule:evenodd;stroke:#FF0000;stroke-width:2.0px;stroke-linecap:butt;stroke-linejoin:miter;stroke-opacity:1' />\n",
       "<path d='M 99.5,47.1 L 103.6,45.0 L 105.2,46.1' style='fill:none;stroke:#000000;stroke-width:2.0px;stroke-linecap:butt;stroke-linejoin:miter;stroke-opacity:1;' />\n",
       "<path d='M 259.4,53.9 L 261.2,53.0 L 265.0,55.5' style='fill:none;stroke:#000000;stroke-width:2.0px;stroke-linecap:butt;stroke-linejoin:miter;stroke-opacity:1;' />\n",
       "<path d='M 333.8,100.1 L 337.7,102.5 L 339.3,101.7' style='fill:none;stroke:#000000;stroke-width:2.0px;stroke-linecap:butt;stroke-linejoin:miter;stroke-opacity:1;' />\n",
       "<path class='atom-2' d='M 172.8 103.4\n",
       "Q 173.1 103.5, 174.3 104.0\n",
       "Q 175.5 104.5, 176.8 104.8\n",
       "Q 178.2 105.1, 179.5 105.1\n",
       "Q 181.9 105.1, 183.3 104.0\n",
       "Q 184.7 102.8, 184.7 100.7\n",
       "Q 184.7 99.3, 184.0 98.4\n",
       "Q 183.3 97.5, 182.2 97.0\n",
       "Q 181.1 96.6, 179.3 96.0\n",
       "Q 177.0 95.3, 175.6 94.7\n",
       "Q 174.3 94.0, 173.3 92.6\n",
       "Q 172.4 91.2, 172.4 88.9\n",
       "Q 172.4 85.7, 174.5 83.7\n",
       "Q 176.8 81.7, 181.1 81.7\n",
       "Q 184.1 81.7, 187.5 83.1\n",
       "L 186.7 85.9\n",
       "Q 183.6 84.6, 181.2 84.6\n",
       "Q 178.7 84.6, 177.4 85.7\n",
       "Q 176.0 86.7, 176.0 88.5\n",
       "Q 176.0 89.9, 176.7 90.7\n",
       "Q 177.4 91.5, 178.4 92.0\n",
       "Q 179.5 92.5, 181.2 93.0\n",
       "Q 183.6 93.8, 185.0 94.5\n",
       "Q 186.4 95.2, 187.3 96.7\n",
       "Q 188.4 98.2, 188.4 100.7\n",
       "Q 188.4 104.3, 185.9 106.2\n",
       "Q 183.6 108.1, 179.6 108.1\n",
       "Q 177.3 108.1, 175.6 107.6\n",
       "Q 173.9 107.1, 171.8 106.3\n",
       "L 172.8 103.4\n",
       "' fill='#CCCC00'/>\n",
       "<path class='atom-5' d='M 403.8 55.0\n",
       "Q 403.8 48.8, 406.9 45.4\n",
       "Q 409.9 41.9, 415.7 41.9\n",
       "Q 421.4 41.9, 424.4 45.4\n",
       "Q 427.5 48.8, 427.5 55.0\n",
       "Q 427.5 61.3, 424.4 64.9\n",
       "Q 421.3 68.4, 415.7 68.4\n",
       "Q 410.0 68.4, 406.9 64.9\n",
       "Q 403.8 61.3, 403.8 55.0\n",
       "M 415.7 65.5\n",
       "Q 419.6 65.5, 421.7 62.9\n",
       "Q 423.9 60.2, 423.9 55.0\n",
       "Q 423.9 50.0, 421.7 47.4\n",
       "Q 419.6 44.8, 415.7 44.8\n",
       "Q 411.7 44.8, 409.6 47.4\n",
       "Q 407.5 49.9, 407.5 55.0\n",
       "Q 407.5 60.2, 409.6 62.9\n",
       "Q 411.7 65.5, 415.7 65.5\n",
       "' fill='#FF0000'/>\n",
       "</svg>\n"
      ],
      "text/html": [
       "<?xml version='1.0' encoding='iso-8859-1'?>\n",
       "<svg version='1.1' baseProfile='full'\n",
       "              xmlns='http://www.w3.org/2000/svg'\n",
       "                      xmlns:rdkit='http://www.rdkit.org/xml'\n",
       "                      xmlns:xlink='http://www.w3.org/1999/xlink'\n",
       "                  xml:space='preserve'\n",
       "width='450px' height='150px' viewBox='0 0 450 150'>\n",
       "<!-- END OF HEADER -->\n",
       "<rect style='opacity:1.0;fill:#FFFFFF;stroke:none' width='450.0' height='150.0' x='0.0' y='0.0'> </rect>\n",
       "<path class='bond-0 atom-0 atom-1' d='M 22.5,86.5 L 103.6,45.0' style='fill:none;fill-rule:evenodd;stroke:#000000;stroke-width:2.0px;stroke-linecap:butt;stroke-linejoin:miter;stroke-opacity:1' />\n",
       "<path class='bond-1 atom-1 atom-2' d='M 103.6,45.0 L 136.2,66.1' style='fill:none;fill-rule:evenodd;stroke:#000000;stroke-width:2.0px;stroke-linecap:butt;stroke-linejoin:miter;stroke-opacity:1' />\n",
       "<path class='bond-1 atom-1 atom-2' d='M 136.2,66.1 L 168.8,87.2' style='fill:none;fill-rule:evenodd;stroke:#CCCC00;stroke-width:2.0px;stroke-linecap:butt;stroke-linejoin:miter;stroke-opacity:1' />\n",
       "<path class='bond-2 atom-2 atom-3' d='M 191.4,88.8 L 226.3,70.9' style='fill:none;fill-rule:evenodd;stroke:#CCCC00;stroke-width:2.0px;stroke-linecap:butt;stroke-linejoin:miter;stroke-opacity:1' />\n",
       "<path class='bond-2 atom-2 atom-3' d='M 226.3,70.9 L 261.2,53.0' style='fill:none;fill-rule:evenodd;stroke:#000000;stroke-width:2.0px;stroke-linecap:butt;stroke-linejoin:miter;stroke-opacity:1' />\n",
       "<path class='bond-3 atom-3 atom-4' d='M 261.2,53.0 L 337.7,102.5' style='fill:none;fill-rule:evenodd;stroke:#000000;stroke-width:2.0px;stroke-linecap:butt;stroke-linejoin:miter;stroke-opacity:1' />\n",
       "<path class='bond-4 atom-4 atom-5' d='M 337.7,102.5 L 370.8,85.6' style='fill:none;fill-rule:evenodd;stroke:#000000;stroke-width:2.0px;stroke-linecap:butt;stroke-linejoin:miter;stroke-opacity:1' />\n",
       "<path class='bond-4 atom-4 atom-5' d='M 370.8,85.6 L 403.9,68.6' style='fill:none;fill-rule:evenodd;stroke:#FF0000;stroke-width:2.0px;stroke-linecap:butt;stroke-linejoin:miter;stroke-opacity:1' />\n",
       "<path class='bond-4 atom-4 atom-5' d='M 338.5,86.8 L 364.6,73.4' style='fill:none;fill-rule:evenodd;stroke:#000000;stroke-width:2.0px;stroke-linecap:butt;stroke-linejoin:miter;stroke-opacity:1' />\n",
       "<path class='bond-4 atom-4 atom-5' d='M 364.6,73.4 L 397.7,56.5' style='fill:none;fill-rule:evenodd;stroke:#FF0000;stroke-width:2.0px;stroke-linecap:butt;stroke-linejoin:miter;stroke-opacity:1' />\n",
       "<path d='M 99.5,47.1 L 103.6,45.0 L 105.2,46.1' style='fill:none;stroke:#000000;stroke-width:2.0px;stroke-linecap:butt;stroke-linejoin:miter;stroke-opacity:1;' />\n",
       "<path d='M 259.4,53.9 L 261.2,53.0 L 265.0,55.5' style='fill:none;stroke:#000000;stroke-width:2.0px;stroke-linecap:butt;stroke-linejoin:miter;stroke-opacity:1;' />\n",
       "<path d='M 333.8,100.1 L 337.7,102.5 L 339.3,101.7' style='fill:none;stroke:#000000;stroke-width:2.0px;stroke-linecap:butt;stroke-linejoin:miter;stroke-opacity:1;' />\n",
       "<path class='atom-2' d='M 172.8 103.4\n",
       "Q 173.1 103.5, 174.3 104.0\n",
       "Q 175.5 104.5, 176.8 104.8\n",
       "Q 178.2 105.1, 179.5 105.1\n",
       "Q 181.9 105.1, 183.3 104.0\n",
       "Q 184.7 102.8, 184.7 100.7\n",
       "Q 184.7 99.3, 184.0 98.4\n",
       "Q 183.3 97.5, 182.2 97.0\n",
       "Q 181.1 96.6, 179.3 96.0\n",
       "Q 177.0 95.3, 175.6 94.7\n",
       "Q 174.3 94.0, 173.3 92.6\n",
       "Q 172.4 91.2, 172.4 88.9\n",
       "Q 172.4 85.7, 174.5 83.7\n",
       "Q 176.8 81.7, 181.1 81.7\n",
       "Q 184.1 81.7, 187.5 83.1\n",
       "L 186.7 85.9\n",
       "Q 183.6 84.6, 181.2 84.6\n",
       "Q 178.7 84.6, 177.4 85.7\n",
       "Q 176.0 86.7, 176.0 88.5\n",
       "Q 176.0 89.9, 176.7 90.7\n",
       "Q 177.4 91.5, 178.4 92.0\n",
       "Q 179.5 92.5, 181.2 93.0\n",
       "Q 183.6 93.8, 185.0 94.5\n",
       "Q 186.4 95.2, 187.3 96.7\n",
       "Q 188.4 98.2, 188.4 100.7\n",
       "Q 188.4 104.3, 185.9 106.2\n",
       "Q 183.6 108.1, 179.6 108.1\n",
       "Q 177.3 108.1, 175.6 107.6\n",
       "Q 173.9 107.1, 171.8 106.3\n",
       "L 172.8 103.4\n",
       "' fill='#CCCC00'/>\n",
       "<path class='atom-5' d='M 403.8 55.0\n",
       "Q 403.8 48.8, 406.9 45.4\n",
       "Q 409.9 41.9, 415.7 41.9\n",
       "Q 421.4 41.9, 424.4 45.4\n",
       "Q 427.5 48.8, 427.5 55.0\n",
       "Q 427.5 61.3, 424.4 64.9\n",
       "Q 421.3 68.4, 415.7 68.4\n",
       "Q 410.0 68.4, 406.9 64.9\n",
       "Q 403.8 61.3, 403.8 55.0\n",
       "M 415.7 65.5\n",
       "Q 419.6 65.5, 421.7 62.9\n",
       "Q 423.9 60.2, 423.9 55.0\n",
       "Q 423.9 50.0, 421.7 47.4\n",
       "Q 419.6 44.8, 415.7 44.8\n",
       "Q 411.7 44.8, 409.6 47.4\n",
       "Q 407.5 49.9, 407.5 55.0\n",
       "Q 407.5 60.2, 409.6 62.9\n",
       "Q 411.7 65.5, 415.7 65.5\n",
       "' fill='#FF0000'/>\n",
       "</svg>\n"
      ],
      "text/plain": [
       "<rdkit.Chem.rdchem.Mol at 0x133aab30190>"
      ]
     },
     "metadata": {},
     "output_type": "display_data"
    },
    {
     "name": "stdout",
     "output_type": "stream",
     "text": [
      "--------------------------------------\n",
      "--------------------------------------\n",
      "C(sp3)-S disconection available\n",
      "--------------------------------------\n",
      "Option 1\n",
      "Reactant 1\n"
     ]
    },
    {
     "data": {
      "image/svg+xml": [
       "<svg xmlns=\"http://www.w3.org/2000/svg\" xmlns:rdkit=\"http://www.rdkit.org/xml\" xmlns:xlink=\"http://www.w3.org/1999/xlink\" version=\"1.1\" baseProfile=\"full\" xml:space=\"preserve\" width=\"600px\" height=\"200px\" viewBox=\"0 0 600 200\">\n",
       "<!-- END OF HEADER -->\n",
       "<rect style=\"opacity:1.0;fill:#FFFFFF;stroke:none\" width=\"600.0\" height=\"200.0\" x=\"0.0\" y=\"0.0\"> </rect>\n",
       "<path class=\"bond-0 atom-0 atom-1\" d=\"M 10.0,118.6 L 99.0,67.2\" style=\"fill:none;fill-rule:evenodd;stroke:#000000;stroke-width:2.0px;stroke-linecap:butt;stroke-linejoin:miter;stroke-opacity:1\"/>\n",
       "<path class=\"bond-1 atom-1 atom-2\" d=\"M 99.0,67.2 L 140.9,91.4\" style=\"fill:none;fill-rule:evenodd;stroke:#000000;stroke-width:2.0px;stroke-linecap:butt;stroke-linejoin:miter;stroke-opacity:1\"/>\n",
       "<path class=\"bond-1 atom-1 atom-2\" d=\"M 140.9,91.4 L 182.8,115.5\" style=\"fill:none;fill-rule:evenodd;stroke:#A01EEF;stroke-width:2.0px;stroke-linecap:butt;stroke-linejoin:miter;stroke-opacity:1\"/>\n",
       "<path d=\"M 94.6,69.8 L 99.0,67.2 L 101.1,68.4\" style=\"fill:none;stroke:#000000;stroke-width:2.0px;stroke-linecap:butt;stroke-linejoin:miter;stroke-opacity:1;\"/>\n",
       "<path class=\"atom-2\" d=\"M 186.2 104.4 L 190.0 104.4 L 190.0 132.8 L 186.2 132.8 L 186.2 104.4 \" fill=\"#A01EEF\"/>\n",
       "</svg>"
      ],
      "text/plain": [
       "<IPython.core.display.SVG object>"
      ]
     },
     "metadata": {},
     "output_type": "display_data"
    },
    {
     "name": "stdout",
     "output_type": "stream",
     "text": [
      "Reactant 2\n"
     ]
    },
    {
     "data": {
      "image/svg+xml": [
       "<svg xmlns=\"http://www.w3.org/2000/svg\" xmlns:rdkit=\"http://www.rdkit.org/xml\" xmlns:xlink=\"http://www.w3.org/1999/xlink\" version=\"1.1\" baseProfile=\"full\" xml:space=\"preserve\" width=\"600px\" height=\"200px\" viewBox=\"0 0 600 200\">\n",
       "<!-- END OF HEADER -->\n",
       "<rect style=\"opacity:1.0;fill:#FFFFFF;stroke:none\" width=\"600.0\" height=\"200.0\" x=\"0.0\" y=\"0.0\"> </rect>\n",
       "<path class=\"bond-0 atom-0 atom-1\" d=\"M 174.7,101.0 L 152.8,91.7\" style=\"fill:none;fill-rule:evenodd;stroke:#FF0000;stroke-width:2.0px;stroke-linecap:butt;stroke-linejoin:miter;stroke-opacity:1\"/>\n",
       "<path class=\"bond-0 atom-0 atom-1\" d=\"M 152.8,91.7 L 130.9,82.4\" style=\"fill:none;fill-rule:evenodd;stroke:#000000;stroke-width:2.0px;stroke-linecap:butt;stroke-linejoin:miter;stroke-opacity:1\"/>\n",
       "<path class=\"bond-0 atom-0 atom-1\" d=\"M 171.3,109.0 L 149.4,99.7\" style=\"fill:none;fill-rule:evenodd;stroke:#FF0000;stroke-width:2.0px;stroke-linecap:butt;stroke-linejoin:miter;stroke-opacity:1\"/>\n",
       "<path class=\"bond-0 atom-0 atom-1\" d=\"M 149.4,99.7 L 132.1,92.3\" style=\"fill:none;fill-rule:evenodd;stroke:#000000;stroke-width:2.0px;stroke-linecap:butt;stroke-linejoin:miter;stroke-opacity:1\"/>\n",
       "<path class=\"bond-1 atom-1 atom-2\" d=\"M 130.9,82.4 L 84.6,117.2\" style=\"fill:none;fill-rule:evenodd;stroke:#000000;stroke-width:2.0px;stroke-linecap:butt;stroke-linejoin:miter;stroke-opacity:1\"/>\n",
       "<path class=\"bond-2 atom-2 atom-3\" d=\"M 84.6,117.2 L 61.5,107.4\" style=\"fill:none;fill-rule:evenodd;stroke:#000000;stroke-width:2.0px;stroke-linecap:butt;stroke-linejoin:miter;stroke-opacity:1\"/>\n",
       "<path class=\"bond-2 atom-2 atom-3\" d=\"M 61.5,107.4 L 38.4,97.6\" style=\"fill:none;fill-rule:evenodd;stroke:#CCCC00;stroke-width:2.0px;stroke-linecap:butt;stroke-linejoin:miter;stroke-opacity:1\"/>\n",
       "<path d=\"M 132.0,82.8 L 130.9,82.4 L 128.5,84.1\" style=\"fill:none;stroke:#000000;stroke-width:2.0px;stroke-linecap:butt;stroke-linejoin:miter;stroke-opacity:1;\"/>\n",
       "<path d=\"M 86.9,115.5 L 84.6,117.2 L 83.4,116.7\" style=\"fill:none;stroke:#000000;stroke-width:2.0px;stroke-linecap:butt;stroke-linejoin:miter;stroke-opacity:1;\"/>\n",
       "<path class=\"atom-0\" d=\"M 174.9 109.1 Q 174.9 105.2, 176.9 103.0 Q 178.8 100.8, 182.5 100.8 Q 186.1 100.8, 188.1 103.0 Q 190.0 105.2, 190.0 109.1 Q 190.0 113.1, 188.0 115.4 Q 186.1 117.6, 182.5 117.6 Q 178.9 117.6, 176.9 115.4 Q 174.9 113.1, 174.9 109.1 M 182.5 115.8 Q 185.0 115.8, 186.3 114.1 Q 187.7 112.4, 187.7 109.1 Q 187.7 105.9, 186.3 104.3 Q 185.0 102.6, 182.5 102.6 Q 180.0 102.6, 178.6 104.2 Q 177.3 105.9, 177.3 109.1 Q 177.3 112.4, 178.6 114.1 Q 180.0 115.8, 182.5 115.8 \" fill=\"#FF0000\"/>\n",
       "<path class=\"atom-3\" d=\"M 10.0 86.3 L 12.2 86.3 L 12.2 93.3 L 20.6 93.3 L 20.6 86.3 L 22.8 86.3 L 22.8 102.7 L 20.6 102.7 L 20.6 95.1 L 12.2 95.1 L 12.2 102.7 L 10.0 102.7 L 10.0 86.3 \" fill=\"#CCCC00\"/>\n",
       "<path class=\"atom-3\" d=\"M 26.6 100.2 Q 26.8 100.2, 27.6 100.6 Q 28.3 100.9, 29.2 101.1 Q 30.0 101.3, 30.8 101.3 Q 32.4 101.3, 33.3 100.5 Q 34.2 99.8, 34.2 98.5 Q 34.2 97.6, 33.7 97.0 Q 33.3 96.4, 32.6 96.1 Q 31.9 95.8, 30.8 95.5 Q 29.3 95.1, 28.4 94.6 Q 27.6 94.2, 26.9 93.3 Q 26.3 92.5, 26.3 91.0 Q 26.3 88.9, 27.7 87.6 Q 29.1 86.4, 31.9 86.4 Q 33.8 86.4, 36.0 87.3 L 35.4 89.1 Q 33.5 88.2, 32.0 88.2 Q 30.4 88.2, 29.5 88.9 Q 28.6 89.6, 28.6 90.7 Q 28.6 91.6, 29.1 92.1 Q 29.5 92.6, 30.2 92.9 Q 30.9 93.2, 32.0 93.6 Q 33.5 94.1, 34.3 94.5 Q 35.2 95.0, 35.9 95.9 Q 36.5 96.9, 36.5 98.5 Q 36.5 100.7, 35.0 102.0 Q 33.5 103.2, 30.9 103.2 Q 29.5 103.2, 28.4 102.8 Q 27.3 102.5, 26.0 102.0 L 26.6 100.2 \" fill=\"#CCCC00\"/>\n",
       "<path class=\"bond-0 atom-0 atom-1\" d=\"M 272.7,102.2 L 272.7,127.3\" style=\"fill:none;fill-rule:evenodd;stroke:#000000;stroke-width:2.0px;stroke-linecap:butt;stroke-linejoin:miter;stroke-opacity:1\"/>\n",
       "<path class=\"bond-0 atom-0 atom-1\" d=\"M 272.7,127.3 L 272.7,152.4\" style=\"fill:none;fill-rule:evenodd;stroke:#FF0000;stroke-width:2.0px;stroke-linecap:butt;stroke-linejoin:miter;stroke-opacity:1\"/>\n",
       "<path class=\"bond-0 atom-0 atom-1\" d=\"M 281.4,102.2 L 281.4,127.3\" style=\"fill:none;fill-rule:evenodd;stroke:#000000;stroke-width:2.0px;stroke-linecap:butt;stroke-linejoin:miter;stroke-opacity:1\"/>\n",
       "<path class=\"bond-0 atom-0 atom-1\" d=\"M 281.4,127.3 L 281.4,152.4\" style=\"fill:none;fill-rule:evenodd;stroke:#FF0000;stroke-width:2.0px;stroke-linecap:butt;stroke-linejoin:miter;stroke-opacity:1\"/>\n",
       "<path class=\"bond-1 atom-0 atom-2\" d=\"M 277.1,104.7 L 297.4,92.9\" style=\"fill:none;fill-rule:evenodd;stroke:#000000;stroke-width:2.0px;stroke-linecap:butt;stroke-linejoin:miter;stroke-opacity:1\"/>\n",
       "<path class=\"bond-1 atom-0 atom-2\" d=\"M 297.4,92.9 L 317.8,81.2\" style=\"fill:none;fill-rule:evenodd;stroke:#FF0000;stroke-width:2.0px;stroke-linecap:butt;stroke-linejoin:miter;stroke-opacity:1\"/>\n",
       "<path class=\"bond-2 atom-0 atom-3\" d=\"M 277.1,104.7 L 256.7,92.9\" style=\"fill:none;fill-rule:evenodd;stroke:#000000;stroke-width:2.0px;stroke-linecap:butt;stroke-linejoin:miter;stroke-opacity:1\"/>\n",
       "<path class=\"bond-2 atom-0 atom-3\" d=\"M 256.7,92.9 L 236.3,81.2\" style=\"fill:none;fill-rule:evenodd;stroke:#FF0000;stroke-width:2.0px;stroke-linecap:butt;stroke-linejoin:miter;stroke-opacity:1\"/>\n",
       "<path d=\"M 278.1,104.1 L 277.1,104.7 L 276.0,104.1\" style=\"fill:none;stroke:#000000;stroke-width:2.0px;stroke-linecap:butt;stroke-linejoin:miter;stroke-opacity:1;\"/>\n",
       "<path class=\"atom-1\" d=\"M 269.5 162.7 Q 269.5 158.7, 271.5 156.5 Q 273.4 154.3, 277.1 154.3 Q 280.7 154.3, 282.6 156.5 Q 284.6 158.7, 284.6 162.7 Q 284.6 166.7, 282.6 168.9 Q 280.6 171.2, 277.1 171.2 Q 273.4 171.2, 271.5 168.9 Q 269.5 166.7, 269.5 162.7 M 277.1 169.3 Q 279.6 169.3, 280.9 167.7 Q 282.3 166.0, 282.3 162.7 Q 282.3 159.5, 280.9 157.8 Q 279.6 156.2, 277.1 156.2 Q 274.6 156.2, 273.2 157.8 Q 271.8 159.4, 271.8 162.7 Q 271.8 166.0, 273.2 167.7 Q 274.6 169.3, 277.1 169.3 \" fill=\"#FF0000\"/>\n",
       "<path class=\"atom-2\" d=\"M 319.7 75.8 Q 319.7 71.8, 321.6 69.6 Q 323.6 67.4, 327.2 67.4 Q 330.9 67.4, 332.8 69.6 Q 334.8 71.8, 334.8 75.8 Q 334.8 79.8, 332.8 82.0 Q 330.8 84.3, 327.2 84.3 Q 323.6 84.3, 321.6 82.0 Q 319.7 79.8, 319.7 75.8 M 327.2 82.4 Q 329.7 82.4, 331.1 80.8 Q 332.4 79.1, 332.4 75.8 Q 332.4 72.6, 331.1 70.9 Q 329.7 69.3, 327.2 69.3 Q 324.7 69.3, 323.4 70.9 Q 322.0 72.5, 322.0 75.8 Q 322.0 79.1, 323.4 80.8 Q 324.7 82.4, 327.2 82.4 \" fill=\"#FF0000\"/>\n",
       "<path class=\"atom-2\" d=\"M 337.1 70.1 L 342.7 70.1 L 342.7 71.3 L 337.1 71.3 L 337.1 70.1 \" fill=\"#FF0000\"/>\n",
       "<path class=\"atom-3\" d=\"M 219.3 75.8 Q 219.3 71.8, 221.3 69.6 Q 223.2 67.4, 226.9 67.4 Q 230.5 67.4, 232.5 69.6 Q 234.4 71.8, 234.4 75.8 Q 234.4 79.8, 232.4 82.0 Q 230.5 84.3, 226.9 84.3 Q 223.3 84.3, 221.3 82.0 Q 219.3 79.8, 219.3 75.8 M 226.9 82.4 Q 229.4 82.4, 230.7 80.8 Q 232.1 79.1, 232.1 75.8 Q 232.1 72.6, 230.7 70.9 Q 229.4 69.3, 226.9 69.3 Q 224.4 69.3, 223.0 70.9 Q 221.7 72.5, 221.7 75.8 Q 221.7 79.1, 223.0 80.8 Q 224.4 82.4, 226.9 82.4 \" fill=\"#FF0000\"/>\n",
       "<path class=\"atom-3\" d=\"M 236.7 70.1 L 242.4 70.1 L 242.4 71.3 L 236.7 71.3 L 236.7 70.1 \" fill=\"#FF0000\"/>\n",
       "<path class=\"atom-4\" d=\"M 270.7 28.9 L 272.9 28.9 L 272.9 45.3 L 270.7 45.3 L 270.7 28.9 M 279.8 28.9 L 282.9 28.9 L 276.4 36.4 L 283.4 45.3 L 280.5 45.3 L 273.5 36.5 L 279.8 28.9 \" fill=\"#000000\"/>\n",
       "<path class=\"atom-4\" d=\"M 284.7 31.9 L 287.6 31.9 L 287.6 28.8 L 288.9 28.8 L 288.9 31.9 L 291.8 31.9 L 291.8 33.0 L 288.9 33.0 L 288.9 36.0 L 287.6 36.0 L 287.6 33.0 L 284.7 33.0 L 284.7 31.9 \" fill=\"#000000\"/>\n",
       "<path class=\"atom-5\" d=\"M 359.5 96.5 L 361.7 96.5 L 361.7 112.9 L 359.5 112.9 L 359.5 96.5 M 368.7 96.5 L 371.7 96.5 L 365.2 104.0 L 372.2 112.9 L 369.3 112.9 L 362.3 104.0 L 368.7 96.5 \" fill=\"#000000\"/>\n",
       "<path class=\"atom-5\" d=\"M 373.5 99.5 L 376.4 99.5 L 376.4 96.4 L 377.7 96.4 L 377.7 99.5 L 380.7 99.5 L 380.7 100.6 L 377.7 100.6 L 377.7 103.6 L 376.4 103.6 L 376.4 100.6 L 373.5 100.6 L 373.5 99.5 \" fill=\"#000000\"/>\n",
       "</svg>"
      ],
      "text/plain": [
       "<IPython.core.display.SVG object>"
      ]
     },
     "metadata": {},
     "output_type": "display_data"
    },
    {
     "name": "stdout",
     "output_type": "stream",
     "text": [
      "--------------------------------------\n",
      "Option 2\n",
      "Reactant 1\n"
     ]
    },
    {
     "data": {
      "image/svg+xml": [
       "<svg xmlns=\"http://www.w3.org/2000/svg\" xmlns:rdkit=\"http://www.rdkit.org/xml\" xmlns:xlink=\"http://www.w3.org/1999/xlink\" version=\"1.1\" baseProfile=\"full\" xml:space=\"preserve\" width=\"600px\" height=\"200px\" viewBox=\"0 0 600 200\">\n",
       "<!-- END OF HEADER -->\n",
       "<rect style=\"opacity:1.0;fill:#FFFFFF;stroke:none\" width=\"600.0\" height=\"200.0\" x=\"0.0\" y=\"0.0\"> </rect>\n",
       "<path class=\"bond-0 atom-0 atom-1\" d=\"M 172.8,101.2 L 148.1,90.7\" style=\"fill:none;fill-rule:evenodd;stroke:#FF0000;stroke-width:2.0px;stroke-linecap:butt;stroke-linejoin:miter;stroke-opacity:1\"/>\n",
       "<path class=\"bond-0 atom-0 atom-1\" d=\"M 148.1,90.7 L 123.4,80.2\" style=\"fill:none;fill-rule:evenodd;stroke:#000000;stroke-width:2.0px;stroke-linecap:butt;stroke-linejoin:miter;stroke-opacity:1\"/>\n",
       "<path class=\"bond-0 atom-0 atom-1\" d=\"M 169.0,110.2 L 144.3,99.7\" style=\"fill:none;fill-rule:evenodd;stroke:#FF0000;stroke-width:2.0px;stroke-linecap:butt;stroke-linejoin:miter;stroke-opacity:1\"/>\n",
       "<path class=\"bond-0 atom-0 atom-1\" d=\"M 144.3,99.7 L 124.8,91.4\" style=\"fill:none;fill-rule:evenodd;stroke:#000000;stroke-width:2.0px;stroke-linecap:butt;stroke-linejoin:miter;stroke-opacity:1\"/>\n",
       "<path class=\"bond-1 atom-1 atom-2\" d=\"M 123.4,80.2 L 71.3,119.4\" style=\"fill:none;fill-rule:evenodd;stroke:#000000;stroke-width:2.0px;stroke-linecap:butt;stroke-linejoin:miter;stroke-opacity:1\"/>\n",
       "<path class=\"bond-2 atom-2 atom-3\" d=\"M 71.3,119.4 L 43.0,107.3\" style=\"fill:none;fill-rule:evenodd;stroke:#000000;stroke-width:2.0px;stroke-linecap:butt;stroke-linejoin:miter;stroke-opacity:1\"/>\n",
       "<path class=\"bond-2 atom-2 atom-3\" d=\"M 43.0,107.3 L 14.6,95.3\" style=\"fill:none;fill-rule:evenodd;stroke:#A01EEF;stroke-width:2.0px;stroke-linecap:butt;stroke-linejoin:miter;stroke-opacity:1\"/>\n",
       "<path d=\"M 124.6,80.7 L 123.4,80.2 L 120.8,82.1\" style=\"fill:none;stroke:#000000;stroke-width:2.0px;stroke-linecap:butt;stroke-linejoin:miter;stroke-opacity:1;\"/>\n",
       "<path d=\"M 73.9,117.4 L 71.3,119.4 L 69.9,118.8\" style=\"fill:none;stroke:#000000;stroke-width:2.0px;stroke-linecap:butt;stroke-linejoin:miter;stroke-opacity:1;\"/>\n",
       "<path class=\"atom-0\" d=\"M 173.0 110.3 Q 173.0 105.8, 175.2 103.3 Q 177.4 100.9, 181.5 100.9 Q 185.6 100.9, 187.8 103.3 Q 190.0 105.8, 190.0 110.3 Q 190.0 114.7, 187.8 117.3 Q 185.6 119.8, 181.5 119.8 Q 177.4 119.8, 175.2 117.3 Q 173.0 114.8, 173.0 110.3 M 181.5 117.8 Q 184.3 117.8, 185.9 115.9 Q 187.4 114.0, 187.4 110.3 Q 187.4 106.6, 185.9 104.8 Q 184.3 103.0, 181.5 103.0 Q 178.7 103.0, 177.2 104.8 Q 175.6 106.6, 175.6 110.3 Q 175.6 114.0, 177.2 115.9 Q 178.7 117.8, 181.5 117.8 \" fill=\"#FF0000\"/>\n",
       "<path class=\"atom-3\" d=\"M 10.0 84.6 L 12.5 84.6 L 12.5 103.1 L 10.0 103.1 L 10.0 84.6 \" fill=\"#A01EEF\"/>\n",
       "</svg>"
      ],
      "text/plain": [
       "<IPython.core.display.SVG object>"
      ]
     },
     "metadata": {},
     "output_type": "display_data"
    },
    {
     "name": "stdout",
     "output_type": "stream",
     "text": [
      "Reactant 2\n"
     ]
    },
    {
     "data": {
      "image/svg+xml": [
       "<svg xmlns=\"http://www.w3.org/2000/svg\" xmlns:rdkit=\"http://www.rdkit.org/xml\" xmlns:xlink=\"http://www.w3.org/1999/xlink\" version=\"1.1\" baseProfile=\"full\" xml:space=\"preserve\" width=\"600px\" height=\"200px\" viewBox=\"0 0 600 200\">\n",
       "<!-- END OF HEADER -->\n",
       "<rect style=\"opacity:1.0;fill:#FFFFFF;stroke:none\" width=\"600.0\" height=\"200.0\" x=\"0.0\" y=\"0.0\"> </rect>\n",
       "<path class=\"bond-0 atom-0 atom-1\" d=\"M 32.6,111.3 L 88.6,79.0\" style=\"fill:none;fill-rule:evenodd;stroke:#000000;stroke-width:2.0px;stroke-linecap:butt;stroke-linejoin:miter;stroke-opacity:1\"/>\n",
       "<path class=\"bond-1 atom-1 atom-2\" d=\"M 88.6,79.0 L 112.6,92.9\" style=\"fill:none;fill-rule:evenodd;stroke:#000000;stroke-width:2.0px;stroke-linecap:butt;stroke-linejoin:miter;stroke-opacity:1\"/>\n",
       "<path class=\"bond-1 atom-1 atom-2\" d=\"M 112.6,92.9 L 136.6,106.7\" style=\"fill:none;fill-rule:evenodd;stroke:#CCCC00;stroke-width:2.0px;stroke-linecap:butt;stroke-linejoin:miter;stroke-opacity:1\"/>\n",
       "<path d=\"M 85.8,80.6 L 88.6,79.0 L 89.8,79.7\" style=\"fill:none;stroke:#000000;stroke-width:2.0px;stroke-linecap:butt;stroke-linejoin:miter;stroke-opacity:1;\"/>\n",
       "<path class=\"atom-2\" d=\"M 139.5 117.7 Q 139.7 117.7, 140.5 118.1 Q 141.4 118.5, 142.3 118.7 Q 143.3 118.9, 144.2 118.9 Q 145.9 118.9, 146.9 118.1 Q 147.9 117.2, 147.9 115.7 Q 147.9 114.7, 147.4 114.1 Q 146.9 113.5, 146.2 113.2 Q 145.4 112.8, 144.1 112.4 Q 142.5 111.9, 141.5 111.5 Q 140.5 111.0, 139.8 110.0 Q 139.2 109.0, 139.2 107.4 Q 139.2 105.1, 140.7 103.7 Q 142.3 102.2, 145.4 102.2 Q 147.5 102.2, 149.9 103.2 L 149.3 105.2 Q 147.1 104.3, 145.5 104.3 Q 143.7 104.3, 142.7 105.1 Q 141.7 105.8, 141.7 107.1 Q 141.7 108.1, 142.2 108.7 Q 142.7 109.2, 143.5 109.6 Q 144.2 109.9, 145.5 110.3 Q 147.1 110.8, 148.1 111.3 Q 149.1 111.9, 149.8 112.9 Q 150.5 114.0, 150.5 115.7 Q 150.5 118.3, 148.8 119.6 Q 147.1 121.0, 144.3 121.0 Q 142.7 121.0, 141.4 120.6 Q 140.2 120.3, 138.8 119.7 L 139.5 117.7 \" fill=\"#CCCC00\"/>\n",
       "<path class=\"atom-2\" d=\"M 153.0 102.2 L 155.5 102.2 L 155.5 110.0 L 164.9 110.0 L 164.9 102.2 L 167.4 102.2 L 167.4 120.5 L 164.9 120.5 L 164.9 112.0 L 155.5 112.0 L 155.5 120.5 L 153.0 120.5 L 153.0 102.2 \" fill=\"#CCCC00\"/>\n",
       "<path class=\"bond-0 atom-0 atom-1\" d=\"M 269.5,102.4 L 269.5,130.5\" style=\"fill:none;fill-rule:evenodd;stroke:#000000;stroke-width:2.0px;stroke-linecap:butt;stroke-linejoin:miter;stroke-opacity:1\"/>\n",
       "<path class=\"bond-0 atom-0 atom-1\" d=\"M 269.5,130.5 L 269.5,158.5\" style=\"fill:none;fill-rule:evenodd;stroke:#FF0000;stroke-width:2.0px;stroke-linecap:butt;stroke-linejoin:miter;stroke-opacity:1\"/>\n",
       "<path class=\"bond-0 atom-0 atom-1\" d=\"M 279.2,102.4 L 279.2,130.5\" style=\"fill:none;fill-rule:evenodd;stroke:#000000;stroke-width:2.0px;stroke-linecap:butt;stroke-linejoin:miter;stroke-opacity:1\"/>\n",
       "<path class=\"bond-0 atom-0 atom-1\" d=\"M 279.2,130.5 L 279.2,158.5\" style=\"fill:none;fill-rule:evenodd;stroke:#FF0000;stroke-width:2.0px;stroke-linecap:butt;stroke-linejoin:miter;stroke-opacity:1\"/>\n",
       "<path class=\"bond-1 atom-0 atom-2\" d=\"M 274.4,105.2 L 297.1,92.1\" style=\"fill:none;fill-rule:evenodd;stroke:#000000;stroke-width:2.0px;stroke-linecap:butt;stroke-linejoin:miter;stroke-opacity:1\"/>\n",
       "<path class=\"bond-1 atom-0 atom-2\" d=\"M 297.1,92.1 L 319.9,79.0\" style=\"fill:none;fill-rule:evenodd;stroke:#FF0000;stroke-width:2.0px;stroke-linecap:butt;stroke-linejoin:miter;stroke-opacity:1\"/>\n",
       "<path class=\"bond-2 atom-0 atom-3\" d=\"M 274.4,105.2 L 251.7,92.1\" style=\"fill:none;fill-rule:evenodd;stroke:#000000;stroke-width:2.0px;stroke-linecap:butt;stroke-linejoin:miter;stroke-opacity:1\"/>\n",
       "<path class=\"bond-2 atom-0 atom-3\" d=\"M 251.7,92.1 L 228.9,79.0\" style=\"fill:none;fill-rule:evenodd;stroke:#FF0000;stroke-width:2.0px;stroke-linecap:butt;stroke-linejoin:miter;stroke-opacity:1\"/>\n",
       "<path d=\"M 275.5,104.6 L 274.4,105.2 L 273.3,104.6\" style=\"fill:none;stroke:#000000;stroke-width:2.0px;stroke-linecap:butt;stroke-linejoin:miter;stroke-opacity:1;\"/>\n",
       "<path class=\"atom-1\" d=\"M 266.0 169.9 Q 266.0 165.6, 268.2 163.1 Q 270.3 160.6, 274.4 160.6 Q 278.5 160.6, 280.6 163.1 Q 282.8 165.6, 282.8 169.9 Q 282.8 174.4, 280.6 176.9 Q 278.4 179.4, 274.4 179.4 Q 270.4 179.4, 268.2 176.9 Q 266.0 174.4, 266.0 169.9 M 274.4 177.4 Q 277.2 177.4, 278.7 175.5 Q 280.2 173.6, 280.2 169.9 Q 280.2 166.4, 278.7 164.5 Q 277.2 162.7, 274.4 162.7 Q 271.6 162.7, 270.1 164.5 Q 268.6 166.3, 268.6 169.9 Q 268.6 173.6, 270.1 175.5 Q 271.6 177.4, 274.4 177.4 \" fill=\"#FF0000\"/>\n",
       "<path class=\"atom-2\" d=\"M 322.0 73.0 Q 322.0 68.6, 324.2 66.1 Q 326.3 63.7, 330.4 63.7 Q 334.4 63.7, 336.6 66.1 Q 338.8 68.6, 338.8 73.0 Q 338.8 77.4, 336.6 79.9 Q 334.4 82.5, 330.4 82.5 Q 326.4 82.5, 324.2 79.9 Q 322.0 77.4, 322.0 73.0 M 330.4 80.4 Q 333.2 80.4, 334.7 78.5 Q 336.2 76.6, 336.2 73.0 Q 336.2 69.4, 334.7 67.6 Q 333.2 65.7, 330.4 65.7 Q 327.6 65.7, 326.1 67.5 Q 324.6 69.3, 324.6 73.0 Q 324.6 76.7, 326.1 78.5 Q 327.6 80.4, 330.4 80.4 \" fill=\"#FF0000\"/>\n",
       "<path class=\"atom-2\" d=\"M 341.4 66.6 L 347.7 66.6 L 347.7 68.0 L 341.4 68.0 L 341.4 66.6 \" fill=\"#FF0000\"/>\n",
       "<path class=\"atom-3\" d=\"M 210.0 73.0 Q 210.0 68.6, 212.2 66.1 Q 214.3 63.7, 218.4 63.7 Q 222.5 63.7, 224.6 66.1 Q 226.8 68.6, 226.8 73.0 Q 226.8 77.4, 224.6 79.9 Q 222.4 82.5, 218.4 82.5 Q 214.4 82.5, 212.2 79.9 Q 210.0 77.4, 210.0 73.0 M 218.4 80.4 Q 221.2 80.4, 222.7 78.5 Q 224.2 76.6, 224.2 73.0 Q 224.2 69.4, 222.7 67.6 Q 221.2 65.7, 218.4 65.7 Q 215.6 65.7, 214.1 67.5 Q 212.6 69.3, 212.6 73.0 Q 212.6 76.7, 214.1 78.5 Q 215.6 80.4, 218.4 80.4 \" fill=\"#FF0000\"/>\n",
       "<path class=\"atom-3\" d=\"M 229.4 66.6 L 235.7 66.6 L 235.7 68.0 L 229.4 68.0 L 229.4 66.6 \" fill=\"#FF0000\"/>\n",
       "<path class=\"atom-4\" d=\"M 267.3 20.7 L 269.8 20.7 L 269.8 39.0 L 267.3 39.0 L 267.3 20.7 M 277.5 20.7 L 280.9 20.7 L 273.6 29.0 L 281.4 39.0 L 278.2 39.0 L 270.4 29.1 L 277.5 20.7 \" fill=\"#000000\"/>\n",
       "<path class=\"atom-4\" d=\"M 282.9 24.0 L 286.2 24.0 L 286.2 20.6 L 287.6 20.6 L 287.6 24.0 L 290.9 24.0 L 290.9 25.2 L 287.6 25.2 L 287.6 28.6 L 286.2 28.6 L 286.2 25.2 L 282.9 25.2 L 282.9 24.0 \" fill=\"#000000\"/>\n",
       "<path class=\"atom-5\" d=\"M 366.4 96.1 L 368.9 96.1 L 368.9 114.4 L 366.4 114.4 L 366.4 96.1 M 376.6 96.1 L 380.0 96.1 L 372.7 104.4 L 380.5 114.4 L 377.3 114.4 L 369.5 104.5 L 376.6 96.1 \" fill=\"#000000\"/>\n",
       "<path class=\"atom-5\" d=\"M 382.0 99.4 L 385.3 99.4 L 385.3 96.0 L 386.7 96.0 L 386.7 99.4 L 390.0 99.4 L 390.0 100.6 L 386.7 100.6 L 386.7 104.0 L 385.3 104.0 L 385.3 100.6 L 382.0 100.6 L 382.0 99.4 \" fill=\"#000000\"/>\n",
       "</svg>"
      ],
      "text/plain": [
       "<IPython.core.display.SVG object>"
      ]
     },
     "metadata": {},
     "output_type": "display_data"
    },
    {
     "name": "stdout",
     "output_type": "stream",
     "text": [
      "--------------------------------------\n",
      "--------------------------------------\n"
     ]
    }
   ],
   "source": [
    "from bond_disconnector import disconnections\n",
    "\n",
    "mol = 'CCSCC=O'\n",
    "disconnections(mol)"
   ]
  },
  {
   "cell_type": "code",
   "execution_count": null,
   "id": "13f97e3e-af40-4ec3-ab20-78e52fc32c2c",
   "metadata": {},
   "outputs": [],
   "source": []
  },
  {
   "cell_type": "code",
   "execution_count": null,
   "id": "449eda70-5e14-4451-a461-496fce5a8d9f",
   "metadata": {},
   "outputs": [],
   "source": []
  }
 ],
 "metadata": {
  "kernelspec": {
   "display_name": "Python 3 (ipykernel)",
   "language": "python",
   "name": "python3"
  },
  "language_info": {
   "codemirror_mode": {
    "name": "ipython",
    "version": 3
   },
   "file_extension": ".py",
   "mimetype": "text/x-python",
   "name": "python",
   "nbconvert_exporter": "python",
   "pygments_lexer": "ipython3",
   "version": "3.10.14"
  }
 },
 "nbformat": 4,
 "nbformat_minor": 5
}
