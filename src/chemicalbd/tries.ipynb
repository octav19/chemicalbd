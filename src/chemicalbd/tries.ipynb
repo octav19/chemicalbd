{
 "cells": [
  {
   "cell_type": "code",
   "execution_count": 26,
   "id": "047fef59-dcc9-4276-8a42-17ea570167f7",
   "metadata": {},
   "outputs": [
    {
     "ename": "NameError",
     "evalue": "name 'bond_disconnector' is not defined",
     "output_type": "error",
     "traceback": [
      "\u001b[1;31m---------------------------------------------------------------------------\u001b[0m",
      "\u001b[1;31mNameError\u001b[0m                                 Traceback (most recent call last)",
      "Cell \u001b[1;32mIn[26], line 3\u001b[0m\n\u001b[0;32m      1\u001b[0m \u001b[38;5;28;01mfrom\u001b[39;00m \u001b[38;5;21;01mbond_disconnector\u001b[39;00m \u001b[38;5;28;01mimport\u001b[39;00m disconnections\n\u001b[0;32m      2\u001b[0m \u001b[38;5;28;01mimport\u001b[39;00m \u001b[38;5;21;01mimportlib\u001b[39;00m\n\u001b[1;32m----> 3\u001b[0m importlib\u001b[38;5;241m.\u001b[39mreload(\u001b[43mbond_disconnector\u001b[49m)\n\u001b[0;32m      4\u001b[0m mol \u001b[38;5;241m=\u001b[39m \u001b[38;5;124m'\u001b[39m\u001b[38;5;124mCCCC=O\u001b[39m\u001b[38;5;124m'\u001b[39m\n\u001b[0;32m      5\u001b[0m disconnections(mol)\n",
      "\u001b[1;31mNameError\u001b[0m: name 'bond_disconnector' is not defined"
     ]
    }
   ],
   "source": [
    "from bond_disconnector import disconnections\n",
    "import importlib\n",
    "importlib.reload(bond_disconnector)\n",
    "mol = 'CCCC=O'\n",
    "disconnections(mol)"
   ]
  },
  {
   "cell_type": "code",
   "execution_count": null,
   "id": "13f97e3e-af40-4ec3-ab20-78e52fc32c2c",
   "metadata": {},
   "outputs": [],
   "source": []
  },
  {
   "cell_type": "code",
   "execution_count": null,
   "id": "449eda70-5e14-4451-a461-496fce5a8d9f",
   "metadata": {},
   "outputs": [],
   "source": []
  }
 ],
 "metadata": {
  "kernelspec": {
   "display_name": "Python 3 (ipykernel)",
   "language": "python",
   "name": "python3"
  },
  "language_info": {
   "codemirror_mode": {
    "name": "ipython",
    "version": 3
   },
   "file_extension": ".py",
   "mimetype": "text/x-python",
   "name": "python",
   "nbconvert_exporter": "python",
   "pygments_lexer": "ipython3",
   "version": "3.10.14"
  }
 },
 "nbformat": 4,
 "nbformat_minor": 5
}
