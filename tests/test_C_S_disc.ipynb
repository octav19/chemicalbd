{
 "cells": [
  {
   "cell_type": "code",
   "execution_count": 2,
   "id": "e53afe3d-8ca1-449b-a11b-a6b191b2cbe5",
   "metadata": {},
   "outputs": [],
   "source": [
    "from chemicalbd.bond_disconnector import C_S_disconnection\n",
    "from rdkit import Chem\n",
    "import pytest\n",
    "\n",
    "def test_C_S_absent():\n",
    "    mol = Chem.MolFromSmiles('CCC')\n",
    "    assert C_S_disconnection(mol) == [0]\n",
    "\n",
    "def test_C_S_invalid ():\n",
    "    mol = 'Ups'\n",
    "    with pytest.raises(TypeError):\n",
    "        C_S_disconnection(mol)\n",
    "\n",
    "def test_C_S_present():\n",
    "    mol = Chem.MolFromSmiles('CSCC')\n",
    "    reactant_list = C_S_disconnection(mol)[1]\n",
    "    assert Chem.MolToSmiles(reactant_list[0]) == Chem.MolToSmiles(Chem.MolFromSmiles('CI'))\n",
    "    assert Chem.MolToSmiles(reactant_list[1]) == Chem.MolToSmiles(Chem.MolFromSmiles('CCS'))\n",
    "    assert Chem.MolToSmiles(reactant_list[2]) == Chem.MolToSmiles(Chem.MolFromSmiles('C(=O)([O-])[O-].[K+].[K+]'))\n",
    "    assert Chem.MolToSmiles(reactant_list[3]) == Chem.MolToSmiles(Chem.MolFromSmiles('CCI'))\n",
    "    assert Chem.MolToSmiles(reactant_list[4]) == Chem.MolToSmiles(Chem.MolFromSmiles('CS'))\n",
    "    assert Chem.MolToSmiles(reactant_list[5]) == Chem.MolToSmiles(Chem.MolFromSmiles('C(=O)([O-])[O-].[K+].[K+]'))"
   ]
  }
 ],
 "metadata": {
  "kernelspec": {
   "display_name": "Python 3 (ipykernel)",
   "language": "python",
   "name": "python3"
  },
  "language_info": {
   "codemirror_mode": {
    "name": "ipython",
    "version": 3
   },
   "file_extension": ".py",
   "mimetype": "text/x-python",
   "name": "python",
   "nbconvert_exporter": "python",
   "pygments_lexer": "ipython3",
   "version": "3.10.14"
  }
 },
 "nbformat": 4,
 "nbformat_minor": 5
}
