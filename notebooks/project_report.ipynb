{
 "cells": [
  {
   "cell_type": "markdown",
   "id": "48392036-b2a4-496b-9bd7-d540fbe0c33d",
   "metadata": {},
   "source": [
    "# Introduction\n"
   ]
  },
  {
   "cell_type": "markdown",
   "id": "e110f58c-0214-4eab-abdd-8ced0290c542",
   "metadata": {},
   "source": [
    "Organic chemistry has as one of its major goals the synthesis of molecules such as drugs or natural products, being thus a discipline of great importance in today's society. Nonetheless, the discipline may seem intimidating at first sight.\n",
    "\n",
    "Among the hardest exercises that are given during organic chemistry lectures are those that require the synthesis of a target molecule from different reactants. The main difficulty of such an exercise is to identify the possible bond disconnections that may take place in the target molecule. Once several disconnections are spottet, the best one may be chosen.\n",
    "\n",
    "However, for a student beginning the study of organic chemistry, being able to identify the possible disconnections may be hard and requires a lot of practice.\n",
    "\n",
    "Keeping this in mind, our team came up with the following idea: a package that has functions which may identify possible bond disconnections in a molecule would be of great help to first/second year bachelor chemistry students. This idea was implemented in the package chemicalbd (chemical bonds disconnector). The package functions in the package allow to display the target molecule and the reactants from which it could be formed."
   ]
  },
  {
   "cell_type": "markdown",
   "id": "8bf78989-90dd-4977-a970-32f2f0f6a5a5",
   "metadata": {},
   "source": [
    "# Results and discussions"
   ]
  },
  {
   "cell_type": "markdown",
   "id": "b9bdc45b-4823-4af9-b2a4-88ed4fae2cb2",
   "metadata": {},
   "source": [
    "## First function\n",
    "\n",
    "The module from which all the functions performing disconnections may be imported is called bond_disconnector.\n",
    "\n",
    "The first function that was implemented in the project is C_S_disconnection. This function identifies the bond C(sp3)-S and disconnects it, giving the reactants from which such a bond may be formed: a thiol in the presence of potassium carbonate, and an alkyl halide. The two reactants give a classical SN2 reaction that produces the target molecule\n",
    "\n",
    "In order to achieve this, it was first of all searched if the molecule contains the following SMARTS pattern: '[C^3][S]', which signifies an sp3 hybridized carbon linked to a sulphur atom. Than, the function ReactantsFromSmarts belonging to rdkit was employed. It basically identifies a pattern in a molecule (the SMARTS of the pattern is given to the function) and transforms it into another pattern (which also needs to be stated in the function ReactantsFromSmarts). Thus, a reverse reaction, **a disconnection**, is defined. This disconnection was applied to the target molecule and an iodine atom (which was needed in order to form one of the two reactants that could form the bond in the target molecule). This was done using the function RunReactants. The reactants needed were then returned and displayed.\n",
    "\n",
    "The function takes in its input a Mol object (object speciffic to rdkit). The functionality of C_S disconnection is ilustrated in the cell below."
   ]
  },
  {
   "cell_type": "code",
   "execution_count": null,
   "id": "21902d18-b062-442c-a3e6-f24d63ebbae1",
   "metadata": {},
   "outputs": [],
   "source": [
    "from chemicalbd.bond_disconnector import C_S_disconnection\n",
    "from rdkit import Chem\n",
    "from IPython.display import display\n",
    "\n",
    "mol_smiles = 'c1ccccc1SC'  #Defines to molecule to be analyzed, using its SMILES representation\n",
    "mol = Chem.MolFromSmiles(mol_smiles) #The a Mol object is created from the SMILES representation\n",
    "C_S_disconnection(mol) #The function is performed."
   ]
  },
  {
   "cell_type": "markdown",
   "id": "3589b093-0431-47e7-bdae-a8da9cc1eb70",
   "metadata": {},
   "source": [
    "The function displays in the beginning the reactants from which the bond can be formed: methyl iodide as reactants 1, and tiophenol in the presence of a weak base, potassium carbonate (the base is needed in order to deprotonate the tiophenol)\n",
    "\n",
    "However, this is not all everything that the function returns. It also returns a list.\n",
    "\n",
    "The first element of the list is 1. This represents that a C(sp3)-S was indeed found in the molecule. If this was not the case, a list containing only 0 would have been returned. The reason for which 1 or 0 is returned in a list is related to the last function, disconnections, and will be explained during the section of the report corresponding to that function. \n",
    "\n",
    "In the example below, it may be observed that only a list containing 0 is returned, as the molecule analyzed contains no C(sp3)-S bond."
   ]
  },
  {
   "cell_type": "code",
   "execution_count": 12,
   "id": "6b2cc5af-74cc-4340-8111-4f2a7df71d2b",
   "metadata": {},
   "outputs": [
    {
     "data": {
      "text/plain": [
       "[0]"
      ]
     },
     "execution_count": 12,
     "metadata": {},
     "output_type": "execute_result"
    }
   ],
   "source": [
    "mol_smiles = 'c1ccccc1OC'  #Defines to molecule to be analyzed, using its SMILES representation\n",
    "mol = Chem.MolFromSmiles(mol_smiles) #The a Mol object is created from the SMILES representation\n",
    "C_S_disconnection(mol) #The function is performed."
   ]
  },
  {
   "cell_type": "markdown",
   "id": "981b9e68-4598-4f03-9b6b-35f8460cd662",
   "metadata": {},
   "source": [
    "Returning to the example where the C(sp3)-S bond was present, apart from 1, the list returned contained as a second element another list. That list contains 3 Mol objects, each corresponding to one of the molecules that are displayed.\n",
    "\n",
    "In fact, the function did not return such a list in its first version. However, it was observed that if the function only displays the molecules but doesn't return something related to the molecules displayed, there is no reliable way to test that it indeed the good molecules are displayed. Therefore, the mol objects, corresponding to the displayed molecules, are also returned. During the tests corresponding to the case that the bond, or molecular pattern searched is present in the target molecule, the SMILES of the molecules expected to be displayed are searched in a list of SMILES strings corresponding to the returned molecules."
   ]
  },
  {
   "cell_type": "markdown",
   "id": "69888c18-9d52-4717-b31e-e8e69664fc5c",
   "metadata": {},
   "source": [
    "The function can also handle TypeErrors, in the case that the input is not a mol object. An example may be observed in the cell below."
   ]
  },
  {
   "cell_type": "code",
   "execution_count": 10,
   "id": "7a3f8707-ab9b-4fe1-8d31-cc40e505c776",
   "metadata": {},
   "outputs": [
    {
     "ename": "TypeError",
     "evalue": " Invalid type <class 'str'>: 'mol' Should be passed as a mol object.",
     "output_type": "error",
     "traceback": [
      "\u001b[1;31m---------------------------------------------------------------------------\u001b[0m",
      "\u001b[1;31mTypeError\u001b[0m                                 Traceback (most recent call last)",
      "Cell \u001b[1;32mIn[10], line 3\u001b[0m\n\u001b[0;32m      1\u001b[0m mol_smiles \u001b[38;5;241m=\u001b[39m \u001b[38;5;124m'\u001b[39m\u001b[38;5;124mc1ccccc1SC\u001b[39m\u001b[38;5;124m'\u001b[39m  \u001b[38;5;66;03m#Defines to molecule to be analyzed, using its SMILES representation\u001b[39;00m\n\u001b[0;32m      2\u001b[0m mol \u001b[38;5;241m=\u001b[39m Chem\u001b[38;5;241m.\u001b[39mMolFromSmiles(mol_smiles) \u001b[38;5;66;03m#The a Mol object is created from the SMILES representation\u001b[39;00m\n\u001b[1;32m----> 3\u001b[0m \u001b[43mC_S_disconnection\u001b[49m\u001b[43m(\u001b[49m\u001b[38;5;124;43m'\u001b[39;49m\u001b[38;5;124;43mmolecule\u001b[39;49m\u001b[38;5;124;43m'\u001b[39;49m\u001b[43m)\u001b[49m \u001b[38;5;66;03m#The function is performed.\u001b[39;00m\n",
      "File \u001b[1;32m~\\chemicalbd\\src\\chemicalbd\\bond_disconnector.py:107\u001b[0m, in \u001b[0;36mC_S_disconnection\u001b[1;34m(mol)\u001b[0m\n\u001b[0;32m    105\u001b[0m \u001b[38;5;66;03m# Validate input type\u001b[39;00m\n\u001b[0;32m    106\u001b[0m \u001b[38;5;28;01mif\u001b[39;00m \u001b[38;5;129;01mnot\u001b[39;00m \u001b[38;5;28misinstance\u001b[39m (mol, Chem\u001b[38;5;241m.\u001b[39mrdchem\u001b[38;5;241m.\u001b[39mMol):\n\u001b[1;32m--> 107\u001b[0m     \u001b[38;5;28;01mraise\u001b[39;00m \u001b[38;5;167;01mTypeError\u001b[39;00m(\n\u001b[0;32m    108\u001b[0m         \u001b[38;5;124mf\u001b[39m\u001b[38;5;124m\"\u001b[39m\u001b[38;5;124m Invalid type \u001b[39m\u001b[38;5;132;01m{\u001b[39;00m\u001b[38;5;28mtype\u001b[39m(mol)\u001b[38;5;132;01m}\u001b[39;00m\u001b[38;5;124m: \u001b[39m\u001b[38;5;124m'\u001b[39m\u001b[38;5;124mmol\u001b[39m\u001b[38;5;124m'\u001b[39m\u001b[38;5;124m\"\u001b[39m\n\u001b[0;32m    109\u001b[0m         \u001b[38;5;124mf\u001b[39m\u001b[38;5;124m\"\u001b[39m\u001b[38;5;124m Should be passed as a mol object.\u001b[39m\u001b[38;5;124m\"\u001b[39m\n\u001b[0;32m    110\u001b[0m     )\n\u001b[0;32m    111\u001b[0m \u001b[38;5;28;01mif\u001b[39;00m mol\u001b[38;5;241m.\u001b[39mHasSubstructMatch(Chem\u001b[38;5;241m.\u001b[39mMolFromSmarts(\u001b[38;5;124m'\u001b[39m\u001b[38;5;124m[C^3][S]\u001b[39m\u001b[38;5;124m'\u001b[39m)): \u001b[38;5;66;03m#Verifies if the C(sp3 hybridized)-S is present\u001b[39;00m\n\u001b[0;32m    112\u001b[0m     \u001b[38;5;28mprint\u001b[39m (\u001b[38;5;124mf\u001b[39m\u001b[38;5;124m\"\u001b[39m\u001b[38;5;124mC(sp3)-S disconection available\u001b[39m\u001b[38;5;124m\"\u001b[39m)\n",
      "\u001b[1;31mTypeError\u001b[0m:  Invalid type <class 'str'>: 'mol' Should be passed as a mol object."
     ]
    }
   ],
   "source": [
    "mol_smiles = 'c1ccccc1SC'  #Defines to molecule to be analyzed, using its SMILES representation\n",
    "mol = Chem.MolFromSmiles(mol_smiles) #The a Mol object is created from the SMILES representation\n",
    "C_S_disconnection('molecule') #The function is performed."
   ]
  },
  {
   "cell_type": "markdown",
   "id": "fd62f8e5-4f43-417f-a1eb-56c07ae9bda1",
   "metadata": {},
   "source": [
    "The function can also handle more complicate cases. The following example is considered as the target molecule."
   ]
  },
  {
   "cell_type": "code",
   "execution_count": 15,
   "id": "e540ceec-c681-4f93-89c5-c144a3e86281",
   "metadata": {},
   "outputs": [
    {
     "data": {
      "image/png": "[encoded data removed]",
      "image/svg+xml": [
       "<?xml version='1.0' encoding='iso-8859-1'?>\n",
       "<svg version='1.1' baseProfile='full'\n",
       "              xmlns='http://www.w3.org/2000/svg'\n",
       "                      xmlns:rdkit='http://www.rdkit.org/xml'\n",
       "                      xmlns:xlink='http://www.w3.org/1999/xlink'\n",
       "                  xml:space='preserve'\n",
       "width='450px' height='150px' viewBox='0 0 450 150'>\n",
       "<!-- END OF HEADER -->\n",
       "<rect style='opacity:1.0;fill:#FFFFFF;stroke:none' width='450.0' height='150.0' x='0.0' y='0.0'> </rect>\n",
       "<path class='bond-0 atom-0 atom-1' d='M 22.5,87.7 L 58.2,69.4' style='fill:none;fill-rule:evenodd;stroke:#000000;stroke-width:2.0px;stroke-linecap:butt;stroke-linejoin:miter;stroke-opacity:1' />\n",
       "<path class='bond-0 atom-0 atom-1' d='M 58.2,69.4 L 93.9,51.2' style='fill:none;fill-rule:evenodd;stroke:#CCCC00;stroke-width:2.0px;stroke-linecap:butt;stroke-linejoin:miter;stroke-opacity:1' />\n",
       "<path class='bond-1 atom-1 atom-2' d='M 116.9,52.7 L 150.2,74.3' style='fill:none;fill-rule:evenodd;stroke:#CCCC00;stroke-width:2.0px;stroke-linecap:butt;stroke-linejoin:miter;stroke-opacity:1' />\n",
       "<path class='bond-1 atom-1 atom-2' d='M 150.2,74.3 L 183.6,95.8' style='fill:none;fill-rule:evenodd;stroke:#000000;stroke-width:2.0px;stroke-linecap:butt;stroke-linejoin:miter;stroke-opacity:1' />\n",
       "<path class='bond-2 atom-2 atom-3' d='M 183.6,95.8 L 266.4,53.4' style='fill:none;fill-rule:evenodd;stroke:#000000;stroke-width:2.0px;stroke-linecap:butt;stroke-linejoin:miter;stroke-opacity:1' />\n",
       "<path class='bond-3 atom-3 atom-4' d='M 266.4,53.4 L 299.8,75.0' style='fill:none;fill-rule:evenodd;stroke:#000000;stroke-width:2.0px;stroke-linecap:butt;stroke-linejoin:miter;stroke-opacity:1' />\n",
       "<path class='bond-3 atom-3 atom-4' d='M 299.8,75.0 L 333.1,96.6' style='fill:none;fill-rule:evenodd;stroke:#CCCC00;stroke-width:2.0px;stroke-linecap:butt;stroke-linejoin:miter;stroke-opacity:1' />\n",
       "<path class='bond-4 atom-4 atom-5' d='M 356.1,98.1 L 391.8,79.9' style='fill:none;fill-rule:evenodd;stroke:#CCCC00;stroke-width:2.0px;stroke-linecap:butt;stroke-linejoin:miter;stroke-opacity:1' />\n",
       "<path class='bond-4 atom-4 atom-5' d='M 391.8,79.9 L 427.5,61.6' style='fill:none;fill-rule:evenodd;stroke:#000000;stroke-width:2.0px;stroke-linecap:butt;stroke-linejoin:miter;stroke-opacity:1' />\n",
       "<path d='M 181.9,94.8 L 183.6,95.8 L 187.7,93.7' style='fill:none;stroke:#000000;stroke-width:2.0px;stroke-linecap:butt;stroke-linejoin:miter;stroke-opacity:1;' />\n",
       "<path d='M 262.3,55.6 L 266.4,53.4 L 268.1,54.5' style='fill:none;stroke:#000000;stroke-width:2.0px;stroke-linecap:butt;stroke-linejoin:miter;stroke-opacity:1;' />\n",
       "<path class='atom-1' d='M 97.9 54.3\n",
       "Q 98.2 54.4, 99.5 54.9\n",
       "Q 100.7 55.5, 102.0 55.8\n",
       "Q 103.4 56.1, 104.8 56.1\n",
       "Q 107.3 56.1, 108.7 54.9\n",
       "Q 110.2 53.7, 110.2 51.6\n",
       "Q 110.2 50.1, 109.4 49.2\n",
       "Q 108.7 48.3, 107.6 47.8\n",
       "Q 106.5 47.3, 104.6 46.8\n",
       "Q 102.3 46.1, 100.8 45.4\n",
       "Q 99.5 44.7, 98.5 43.3\n",
       "Q 97.5 41.9, 97.5 39.5\n",
       "Q 97.5 36.2, 99.7 34.2\n",
       "Q 102.0 32.1, 106.5 32.1\n",
       "Q 109.5 32.1, 113.0 33.6\n",
       "L 112.1 36.4\n",
       "Q 109.0 35.1, 106.6 35.1\n",
       "Q 104.0 35.1, 102.6 36.2\n",
       "Q 101.2 37.3, 101.2 39.1\n",
       "Q 101.2 40.5, 101.9 41.4\n",
       "Q 102.7 42.2, 103.7 42.7\n",
       "Q 104.8 43.2, 106.6 43.7\n",
       "Q 109.0 44.5, 110.4 45.2\n",
       "Q 111.8 46.0, 112.8 47.5\n",
       "Q 113.8 49.0, 113.8 51.6\n",
       "Q 113.8 55.2, 111.4 57.2\n",
       "Q 109.0 59.1, 104.9 59.1\n",
       "Q 102.6 59.1, 100.8 58.6\n",
       "Q 99.0 58.1, 96.9 57.3\n",
       "L 97.9 54.3\n",
       "' fill='#CCCC00'/>\n",
       "<path class='atom-4' d='M 337.2 113.1\n",
       "Q 337.5 113.2, 338.7 113.7\n",
       "Q 339.9 114.2, 341.3 114.6\n",
       "Q 342.6 114.9, 344.0 114.9\n",
       "Q 346.5 114.9, 347.9 113.7\n",
       "Q 349.4 112.4, 349.4 110.3\n",
       "Q 349.4 108.9, 348.6 108.0\n",
       "Q 347.9 107.1, 346.8 106.6\n",
       "Q 345.7 106.1, 343.8 105.6\n",
       "Q 341.5 104.8, 340.1 104.2\n",
       "Q 338.7 103.5, 337.7 102.1\n",
       "Q 336.7 100.7, 336.7 98.3\n",
       "Q 336.7 95.0, 338.9 92.9\n",
       "Q 341.2 90.9, 345.7 90.9\n",
       "Q 348.7 90.9, 352.2 92.3\n",
       "L 351.4 95.2\n",
       "Q 348.2 93.9, 345.8 93.9\n",
       "Q 343.2 93.9, 341.8 95.0\n",
       "Q 340.4 96.0, 340.4 97.8\n",
       "Q 340.4 99.3, 341.1 100.1\n",
       "Q 341.9 101.0, 342.9 101.5\n",
       "Q 344.0 101.9, 345.8 102.5\n",
       "Q 348.2 103.2, 349.6 104.0\n",
       "Q 351.0 104.7, 352.0 106.3\n",
       "Q 353.1 107.8, 353.1 110.3\n",
       "Q 353.1 114.0, 350.6 115.9\n",
       "Q 348.2 117.9, 344.1 117.9\n",
       "Q 341.8 117.9, 340.0 117.4\n",
       "Q 338.2 116.9, 336.2 116.0\n",
       "L 337.2 113.1\n",
       "' fill='#CCCC00'/>\n",
       "</svg>\n"
      ],
      "text/html": [
       "<?xml version='1.0' encoding='iso-8859-1'?>\n",
       "<svg version='1.1' baseProfile='full'\n",
       "              xmlns='http://www.w3.org/2000/svg'\n",
       "                      xmlns:rdkit='http://www.rdkit.org/xml'\n",
       "                      xmlns:xlink='http://www.w3.org/1999/xlink'\n",
       "                  xml:space='preserve'\n",
       "width='450px' height='150px' viewBox='0 0 450 150'>\n",
       "<!-- END OF HEADER -->\n",
       "<rect style='opacity:1.0;fill:#FFFFFF;stroke:none' width='450.0' height='150.0' x='0.0' y='0.0'> </rect>\n",
       "<path class='bond-0 atom-0 atom-1' d='M 22.5,87.7 L 58.2,69.4' style='fill:none;fill-rule:evenodd;stroke:#000000;stroke-width:2.0px;stroke-linecap:butt;stroke-linejoin:miter;stroke-opacity:1' />\n",
       "<path class='bond-0 atom-0 atom-1' d='M 58.2,69.4 L 93.9,51.2' style='fill:none;fill-rule:evenodd;stroke:#CCCC00;stroke-width:2.0px;stroke-linecap:butt;stroke-linejoin:miter;stroke-opacity:1' />\n",
       "<path class='bond-1 atom-1 atom-2' d='M 116.9,52.7 L 150.2,74.3' style='fill:none;fill-rule:evenodd;stroke:#CCCC00;stroke-width:2.0px;stroke-linecap:butt;stroke-linejoin:miter;stroke-opacity:1' />\n",
       "<path class='bond-1 atom-1 atom-2' d='M 150.2,74.3 L 183.6,95.8' style='fill:none;fill-rule:evenodd;stroke:#000000;stroke-width:2.0px;stroke-linecap:butt;stroke-linejoin:miter;stroke-opacity:1' />\n",
       "<path class='bond-2 atom-2 atom-3' d='M 183.6,95.8 L 266.4,53.4' style='fill:none;fill-rule:evenodd;stroke:#000000;stroke-width:2.0px;stroke-linecap:butt;stroke-linejoin:miter;stroke-opacity:1' />\n",
       "<path class='bond-3 atom-3 atom-4' d='M 266.4,53.4 L 299.8,75.0' style='fill:none;fill-rule:evenodd;stroke:#000000;stroke-width:2.0px;stroke-linecap:butt;stroke-linejoin:miter;stroke-opacity:1' />\n",
       "<path class='bond-3 atom-3 atom-4' d='M 299.8,75.0 L 333.1,96.6' style='fill:none;fill-rule:evenodd;stroke:#CCCC00;stroke-width:2.0px;stroke-linecap:butt;stroke-linejoin:miter;stroke-opacity:1' />\n",
       "<path class='bond-4 atom-4 atom-5' d='M 356.1,98.1 L 391.8,79.9' style='fill:none;fill-rule:evenodd;stroke:#CCCC00;stroke-width:2.0px;stroke-linecap:butt;stroke-linejoin:miter;stroke-opacity:1' />\n",
       "<path class='bond-4 atom-4 atom-5' d='M 391.8,79.9 L 427.5,61.6' style='fill:none;fill-rule:evenodd;stroke:#000000;stroke-width:2.0px;stroke-linecap:butt;stroke-linejoin:miter;stroke-opacity:1' />\n",
       "<path d='M 181.9,94.8 L 183.6,95.8 L 187.7,93.7' style='fill:none;stroke:#000000;stroke-width:2.0px;stroke-linecap:butt;stroke-linejoin:miter;stroke-opacity:1;' />\n",
       "<path d='M 262.3,55.6 L 266.4,53.4 L 268.1,54.5' style='fill:none;stroke:#000000;stroke-width:2.0px;stroke-linecap:butt;stroke-linejoin:miter;stroke-opacity:1;' />\n",
       "<path class='atom-1' d='M 97.9 54.3\n",
       "Q 98.2 54.4, 99.5 54.9\n",
       "Q 100.7 55.5, 102.0 55.8\n",
       "Q 103.4 56.1, 104.8 56.1\n",
       "Q 107.3 56.1, 108.7 54.9\n",
       "Q 110.2 53.7, 110.2 51.6\n",
       "Q 110.2 50.1, 109.4 49.2\n",
       "Q 108.7 48.3, 107.6 47.8\n",
       "Q 106.5 47.3, 104.6 46.8\n",
       "Q 102.3 46.1, 100.8 45.4\n",
       "Q 99.5 44.7, 98.5 43.3\n",
       "Q 97.5 41.9, 97.5 39.5\n",
       "Q 97.5 36.2, 99.7 34.2\n",
       "Q 102.0 32.1, 106.5 32.1\n",
       "Q 109.5 32.1, 113.0 33.6\n",
       "L 112.1 36.4\n",
       "Q 109.0 35.1, 106.6 35.1\n",
       "Q 104.0 35.1, 102.6 36.2\n",
       "Q 101.2 37.3, 101.2 39.1\n",
       "Q 101.2 40.5, 101.9 41.4\n",
       "Q 102.7 42.2, 103.7 42.7\n",
       "Q 104.8 43.2, 106.6 43.7\n",
       "Q 109.0 44.5, 110.4 45.2\n",
       "Q 111.8 46.0, 112.8 47.5\n",
       "Q 113.8 49.0, 113.8 51.6\n",
       "Q 113.8 55.2, 111.4 57.2\n",
       "Q 109.0 59.1, 104.9 59.1\n",
       "Q 102.6 59.1, 100.8 58.6\n",
       "Q 99.0 58.1, 96.9 57.3\n",
       "L 97.9 54.3\n",
       "' fill='#CCCC00'/>\n",
       "<path class='atom-4' d='M 337.2 113.1\n",
       "Q 337.5 113.2, 338.7 113.7\n",
       "Q 339.9 114.2, 341.3 114.6\n",
       "Q 342.6 114.9, 344.0 114.9\n",
       "Q 346.5 114.9, 347.9 113.7\n",
       "Q 349.4 112.4, 349.4 110.3\n",
       "Q 349.4 108.9, 348.6 108.0\n",
       "Q 347.9 107.1, 346.8 106.6\n",
       "Q 345.7 106.1, 343.8 105.6\n",
       "Q 341.5 104.8, 340.1 104.2\n",
       "Q 338.7 103.5, 337.7 102.1\n",
       "Q 336.7 100.7, 336.7 98.3\n",
       "Q 336.7 95.0, 338.9 92.9\n",
       "Q 341.2 90.9, 345.7 90.9\n",
       "Q 348.7 90.9, 352.2 92.3\n",
       "L 351.4 95.2\n",
       "Q 348.2 93.9, 345.8 93.9\n",
       "Q 343.2 93.9, 341.8 95.0\n",
       "Q 340.4 96.0, 340.4 97.8\n",
       "Q 340.4 99.3, 341.1 100.1\n",
       "Q 341.9 101.0, 342.9 101.5\n",
       "Q 344.0 101.9, 345.8 102.5\n",
       "Q 348.2 103.2, 349.6 104.0\n",
       "Q 351.0 104.7, 352.0 106.3\n",
       "Q 353.1 107.8, 353.1 110.3\n",
       "Q 353.1 114.0, 350.6 115.9\n",
       "Q 348.2 117.9, 344.1 117.9\n",
       "Q 341.8 117.9, 340.0 117.4\n",
       "Q 338.2 116.9, 336.2 116.0\n",
       "L 337.2 113.1\n",
       "' fill='#CCCC00'/>\n",
       "</svg>\n"
      ],
      "text/plain": [
       "<rdkit.Chem.rdchem.Mol at 0x18280907760>"
      ]
     },
     "metadata": {},
     "output_type": "display_data"
    }
   ],
   "source": [
    "mol_smiles_complicated = 'CSCCSC' #Defines to molecule to be analyzed, using its SMILES representation\n",
    "mol_complicated = Chem.MolFromSmiles(mol_smiles_complicated) #The a Mol object is created from the SMILES representation\n",
    "display(mol_complicated) #The molecule is displayed"
   ]
  },
  {
   "cell_type": "markdown",
   "id": "4427b3d9-30e4-47fc-b0f1-38453e412f8e",
   "metadata": {},
   "source": [
    "This molecule contains thiol functional groups. For each of the two groups, there are 2 C(sp3)-S bonds. Thus, there should be in principle 4 possible disconnections. But this is not the case, as in fact the molecule is symmetric. The 4 hypothetical disonnections could be formed grouped in 2 pairs, each pair containing two identical disonnections. Therefore, there are only 2 possible disonnections.\n",
    "\n",
    "When using the rdkit functionality RunReactants for a defined reaction pattern, the expected molecules to be returned (which are usually products if a standard reaction is considered, but in this case they are reactants are reverse reactions, disconnections are considered) are returned as a nested tuple. Each tuple contains the reactants corresponding to a certain reaction site (an example of reaction site for this case would be the reaction site metyl-sulphur from the left of the molecule, or the methyl-sulphur from the right of the molecule) and these tuple are grouped in a tuples.\n",
    "\n",
    "Thus, the tuple corresponding to the molecule in the example should contain 4 tuples. But as said before, one has only 2 different reactive sites. Therefore, 2 tuples need to be eliminated.\n",
    "\n",
    "First of all, tuples are immutable, meaning that they can't be changed once created. The second problem is that rdkit associates unique Mol objects to the SMILES of molecules, even if the SMILES are identical and corresponding to the same molecule. In order to eliminate the tuples corresponding to identical molecules, the following strategy is employed: the nested tuple is transformed into a nested list of SMILES corresponding to each mol object. Then, the list is tranformed in order to only have unique elements (by transforming it into a list of tuples, then a set of tuples, and fianlly into a list of lists). Finally, the elements of each of the lists belonging to the parent list are converted back into Mol objects. This is done using the function **unique_list_reactants**.\n",
    "\n",
    "With the help of this function, the correct reactants are displayed, as may be observed in the cell below. Also, it can be observed that the function was built such that the possible disconnections are showed consecutively, and correspond to only one bond disconnections"
   ]
  },
  {
   "cell_type": "code",
   "execution_count": 27,
   "id": "70a0ec2f-7b4a-496f-a9f7-f55cb4cb8709",
   "metadata": {},
   "outputs": [
    {
     "name": "stdout",
     "output_type": "stream",
     "text": [
      "C(sp3)-S disconection available\n",
      "--------------------------------------\n",
      "Option 1\n",
      "Reactant 1\n"
     ]
    },
    {
     "data": {
      "image/svg+xml": [
       "<svg xmlns=\"http://www.w3.org/2000/svg\" xmlns:rdkit=\"http://www.rdkit.org/xml\" xmlns:xlink=\"http://www.w3.org/1999/xlink\" version=\"1.1\" baseProfile=\"full\" xml:space=\"preserve\" width=\"600px\" height=\"200px\" viewBox=\"0 0 600 200\">\n",
       "<!-- END OF HEADER -->\n",
       "<rect style=\"opacity:1.0;fill:#FFFFFF;stroke:none\" width=\"600.0\" height=\"200.0\" x=\"0.0\" y=\"0.0\"> </rect>\n",
       "<path class=\"bond-0 atom-0 atom-1\" d=\"M 10.7,100.0 L 95.2,100.0\" style=\"fill:none;fill-rule:evenodd;stroke:#000000;stroke-width:2.0px;stroke-linecap:butt;stroke-linejoin:miter;stroke-opacity:1\"/>\n",
       "<path class=\"bond-0 atom-0 atom-1\" d=\"M 95.2,100.0 L 179.6,100.0\" style=\"fill:none;fill-rule:evenodd;stroke:#A01EEF;stroke-width:2.0px;stroke-linecap:butt;stroke-linejoin:miter;stroke-opacity:1\"/>\n",
       "<path class=\"atom-1\" d=\"M 185.5 85.8 L 189.3 85.8 L 189.3 114.2 L 185.5 114.2 L 185.5 85.8 \" fill=\"#A01EEF\"/>\n",
       "</svg>"
      ],
      "text/plain": [
       "<IPython.core.display.SVG object>"
      ]
     },
     "metadata": {},
     "output_type": "display_data"
    },
    {
     "name": "stdout",
     "output_type": "stream",
     "text": [
      "Reactant 2\n"
     ]
    },
    {
     "data": {
      "image/svg+xml": [
       "<svg xmlns=\"http://www.w3.org/2000/svg\" xmlns:rdkit=\"http://www.rdkit.org/xml\" xmlns:xlink=\"http://www.w3.org/1999/xlink\" version=\"1.1\" baseProfile=\"full\" xml:space=\"preserve\" width=\"600px\" height=\"200px\" viewBox=\"0 0 600 200\">\n",
       "<!-- END OF HEADER -->\n",
       "<rect style=\"opacity:1.0;fill:#FFFFFF;stroke:none\" width=\"600.0\" height=\"200.0\" x=\"0.0\" y=\"0.0\"> </rect>\n",
       "<path class=\"bond-0 atom-0 atom-1\" d=\"M 10.0,111.6 L 27.5,101.5\" style=\"fill:none;fill-rule:evenodd;stroke:#000000;stroke-width:2.0px;stroke-linecap:butt;stroke-linejoin:miter;stroke-opacity:1\"/>\n",
       "<path class=\"bond-0 atom-0 atom-1\" d=\"M 27.5,101.5 L 45.0,91.4\" style=\"fill:none;fill-rule:evenodd;stroke:#CCCC00;stroke-width:2.0px;stroke-linecap:butt;stroke-linejoin:miter;stroke-opacity:1\"/>\n",
       "<path class=\"bond-1 atom-1 atom-2\" d=\"M 56.7,91.4 L 74.2,101.5\" style=\"fill:none;fill-rule:evenodd;stroke:#CCCC00;stroke-width:2.0px;stroke-linecap:butt;stroke-linejoin:miter;stroke-opacity:1\"/>\n",
       "<path class=\"bond-1 atom-1 atom-2\" d=\"M 74.2,101.5 L 91.7,111.6\" style=\"fill:none;fill-rule:evenodd;stroke:#000000;stroke-width:2.0px;stroke-linecap:butt;stroke-linejoin:miter;stroke-opacity:1\"/>\n",
       "<path class=\"bond-2 atom-2 atom-3\" d=\"M 91.7,111.6 L 132.6,88.0\" style=\"fill:none;fill-rule:evenodd;stroke:#000000;stroke-width:2.0px;stroke-linecap:butt;stroke-linejoin:miter;stroke-opacity:1\"/>\n",
       "<path class=\"bond-3 atom-3 atom-4\" d=\"M 132.6,88.0 L 150.1,98.1\" style=\"fill:none;fill-rule:evenodd;stroke:#000000;stroke-width:2.0px;stroke-linecap:butt;stroke-linejoin:miter;stroke-opacity:1\"/>\n",
       "<path class=\"bond-3 atom-3 atom-4\" d=\"M 150.1,98.1 L 167.6,108.2\" style=\"fill:none;fill-rule:evenodd;stroke:#CCCC00;stroke-width:2.0px;stroke-linecap:butt;stroke-linejoin:miter;stroke-opacity:1\"/>\n",
       "<path d=\"M 90.8,111.1 L 91.7,111.6 L 93.8,110.4\" style=\"fill:none;stroke:#000000;stroke-width:2.0px;stroke-linecap:butt;stroke-linejoin:miter;stroke-opacity:1;\"/>\n",
       "<path d=\"M 130.5,89.2 L 132.6,88.0 L 133.4,88.5\" style=\"fill:none;stroke:#000000;stroke-width:2.0px;stroke-linecap:butt;stroke-linejoin:miter;stroke-opacity:1;\"/>\n",
       "<path class=\"atom-1\" d=\"M 47.1 92.6 Q 47.2 92.7, 47.9 92.9 Q 48.5 93.2, 49.2 93.4 Q 49.9 93.5, 50.5 93.5 Q 51.8 93.5, 52.5 92.9 Q 53.3 92.3, 53.3 91.2 Q 53.3 90.5, 52.9 90.0 Q 52.5 89.6, 52.0 89.3 Q 51.4 89.1, 50.5 88.8 Q 49.3 88.4, 48.6 88.1 Q 47.9 87.8, 47.3 87.0 Q 46.9 86.3, 46.9 85.1 Q 46.9 83.4, 48.0 82.4 Q 49.1 81.4, 51.4 81.4 Q 53.0 81.4, 54.7 82.1 L 54.3 83.5 Q 52.7 82.9, 51.5 82.9 Q 50.2 82.9, 49.4 83.4 Q 48.7 84.0, 48.7 84.9 Q 48.7 85.6, 49.1 86.0 Q 49.5 86.5, 50.0 86.7 Q 50.6 87.0, 51.5 87.2 Q 52.7 87.6, 53.4 88.0 Q 54.1 88.4, 54.6 89.1 Q 55.1 89.9, 55.1 91.2 Q 55.1 93.1, 53.9 94.1 Q 52.7 95.0, 50.6 95.0 Q 49.4 95.0, 48.5 94.8 Q 47.6 94.5, 46.6 94.1 L 47.1 92.6 \" fill=\"#CCCC00\"/>\n",
       "<path class=\"atom-4\" d=\"M 169.6 116.2 Q 169.8 116.3, 170.4 116.5 Q 171.0 116.8, 171.7 117.0 Q 172.4 117.1, 173.1 117.1 Q 174.4 117.1, 175.1 116.5 Q 175.8 115.9, 175.8 114.8 Q 175.8 114.1, 175.5 113.6 Q 175.1 113.2, 174.5 112.9 Q 174.0 112.7, 173.0 112.4 Q 171.8 112.0, 171.1 111.7 Q 170.4 111.4, 169.9 110.6 Q 169.4 109.9, 169.4 108.7 Q 169.4 107.0, 170.6 106.0 Q 171.7 105.0, 174.0 105.0 Q 175.5 105.0, 177.3 105.7 L 176.8 107.2 Q 175.2 106.5, 174.0 106.5 Q 172.7 106.5, 172.0 107.0 Q 171.3 107.6, 171.3 108.5 Q 171.3 109.2, 171.7 109.6 Q 172.0 110.1, 172.6 110.3 Q 173.1 110.6, 174.0 110.9 Q 175.2 111.2, 176.0 111.6 Q 176.7 112.0, 177.2 112.8 Q 177.7 113.5, 177.7 114.8 Q 177.7 116.7, 176.5 117.7 Q 175.2 118.6, 173.2 118.6 Q 172.0 118.6, 171.1 118.4 Q 170.2 118.1, 169.1 117.7 L 169.6 116.2 \" fill=\"#CCCC00\"/>\n",
       "<path class=\"atom-4\" d=\"M 179.5 104.9 L 181.4 104.9 L 181.4 110.6 L 188.2 110.6 L 188.2 104.9 L 190.0 104.9 L 190.0 118.3 L 188.2 118.3 L 188.2 112.1 L 181.4 112.1 L 181.4 118.3 L 179.5 118.3 L 179.5 104.9 \" fill=\"#CCCC00\"/>\n",
       "<path class=\"bond-0 atom-0 atom-1\" d=\"M 277.8,101.8 L 277.8,122.2\" style=\"fill:none;fill-rule:evenodd;stroke:#000000;stroke-width:2.0px;stroke-linecap:butt;stroke-linejoin:miter;stroke-opacity:1\"/>\n",
       "<path class=\"bond-0 atom-0 atom-1\" d=\"M 277.8,122.2 L 277.8,142.7\" style=\"fill:none;fill-rule:evenodd;stroke:#FF0000;stroke-width:2.0px;stroke-linecap:butt;stroke-linejoin:miter;stroke-opacity:1\"/>\n",
       "<path class=\"bond-0 atom-0 atom-1\" d=\"M 284.9,101.8 L 284.9,122.2\" style=\"fill:none;fill-rule:evenodd;stroke:#000000;stroke-width:2.0px;stroke-linecap:butt;stroke-linejoin:miter;stroke-opacity:1\"/>\n",
       "<path class=\"bond-0 atom-0 atom-1\" d=\"M 284.9,122.2 L 284.9,142.7\" style=\"fill:none;fill-rule:evenodd;stroke:#FF0000;stroke-width:2.0px;stroke-linecap:butt;stroke-linejoin:miter;stroke-opacity:1\"/>\n",
       "<path class=\"bond-1 atom-0 atom-2\" d=\"M 281.3,103.8 L 297.9,94.3\" style=\"fill:none;fill-rule:evenodd;stroke:#000000;stroke-width:2.0px;stroke-linecap:butt;stroke-linejoin:miter;stroke-opacity:1\"/>\n",
       "<path class=\"bond-1 atom-0 atom-2\" d=\"M 297.9,94.3 L 314.5,84.7\" style=\"fill:none;fill-rule:evenodd;stroke:#FF0000;stroke-width:2.0px;stroke-linecap:butt;stroke-linejoin:miter;stroke-opacity:1\"/>\n",
       "<path class=\"bond-2 atom-0 atom-3\" d=\"M 281.3,103.8 L 264.7,94.3\" style=\"fill:none;fill-rule:evenodd;stroke:#000000;stroke-width:2.0px;stroke-linecap:butt;stroke-linejoin:miter;stroke-opacity:1\"/>\n",
       "<path class=\"bond-2 atom-0 atom-3\" d=\"M 264.7,94.3 L 248.2,84.7\" style=\"fill:none;fill-rule:evenodd;stroke:#FF0000;stroke-width:2.0px;stroke-linecap:butt;stroke-linejoin:miter;stroke-opacity:1\"/>\n",
       "<path d=\"M 282.1,103.3 L 281.3,103.8 L 280.5,103.3\" style=\"fill:none;stroke:#000000;stroke-width:2.0px;stroke-linecap:butt;stroke-linejoin:miter;stroke-opacity:1;\"/>\n",
       "<path class=\"atom-1\" d=\"M 275.2 151.0 Q 275.2 147.8, 276.8 146.0 Q 278.4 144.2, 281.3 144.2 Q 284.3 144.2, 285.9 146.0 Q 287.5 147.8, 287.5 151.0 Q 287.5 154.3, 285.8 156.1 Q 284.2 158.0, 281.3 158.0 Q 278.4 158.0, 276.8 156.1 Q 275.2 154.3, 275.2 151.0 M 281.3 156.5 Q 283.4 156.5, 284.5 155.1 Q 285.6 153.7, 285.6 151.0 Q 285.6 148.4, 284.5 147.1 Q 283.4 145.8, 281.3 145.8 Q 279.3 145.8, 278.2 147.1 Q 277.1 148.4, 277.1 151.0 Q 277.1 153.7, 278.2 155.1 Q 279.3 156.5, 281.3 156.5 \" fill=\"#FF0000\"/>\n",
       "<path class=\"atom-2\" d=\"M 316.0 80.3 Q 316.0 77.1, 317.6 75.3 Q 319.2 73.5, 322.2 73.5 Q 325.1 73.5, 326.7 75.3 Q 328.3 77.1, 328.3 80.3 Q 328.3 83.5, 326.7 85.4 Q 325.1 87.2, 322.2 87.2 Q 319.2 87.2, 317.6 85.4 Q 316.0 83.5, 316.0 80.3 M 322.2 85.7 Q 324.2 85.7, 325.3 84.3 Q 326.4 83.0, 326.4 80.3 Q 326.4 77.7, 325.3 76.3 Q 324.2 75.0, 322.2 75.0 Q 320.1 75.0, 319.0 76.3 Q 317.9 77.6, 317.9 80.3 Q 317.9 83.0, 319.0 84.3 Q 320.1 85.7, 322.2 85.7 \" fill=\"#FF0000\"/>\n",
       "<path class=\"atom-2\" d=\"M 330.2 75.7 L 334.8 75.7 L 334.8 76.7 L 330.2 76.7 L 330.2 75.7 \" fill=\"#FF0000\"/>\n",
       "<path class=\"atom-3\" d=\"M 234.3 80.3 Q 234.3 77.1, 235.9 75.3 Q 237.5 73.5, 240.5 73.5 Q 243.4 73.5, 245.0 75.3 Q 246.6 77.1, 246.6 80.3 Q 246.6 83.5, 245.0 85.4 Q 243.4 87.2, 240.5 87.2 Q 237.5 87.2, 235.9 85.4 Q 234.3 83.5, 234.3 80.3 M 240.5 85.7 Q 242.5 85.7, 243.6 84.3 Q 244.7 83.0, 244.7 80.3 Q 244.7 77.7, 243.6 76.3 Q 242.5 75.0, 240.5 75.0 Q 238.4 75.0, 237.3 76.3 Q 236.2 77.6, 236.2 80.3 Q 236.2 83.0, 237.3 84.3 Q 238.4 85.7, 240.5 85.7 \" fill=\"#FF0000\"/>\n",
       "<path class=\"atom-3\" d=\"M 248.5 75.7 L 253.1 75.7 L 253.1 76.7 L 248.5 76.7 L 248.5 75.7 \" fill=\"#FF0000\"/>\n",
       "<path class=\"atom-4\" d=\"M 276.2 42.1 L 278.0 42.1 L 278.0 55.5 L 276.2 55.5 L 276.2 42.1 M 283.6 42.1 L 286.0 42.1 L 280.8 48.2 L 286.5 55.5 L 284.1 55.5 L 278.4 48.3 L 283.6 42.1 \" fill=\"#000000\"/>\n",
       "<path class=\"atom-4\" d=\"M 287.5 44.5 L 289.9 44.5 L 289.9 42.0 L 290.9 42.0 L 290.9 44.5 L 293.4 44.5 L 293.4 45.4 L 290.9 45.4 L 290.9 47.9 L 289.9 47.9 L 289.9 45.4 L 287.5 45.4 L 287.5 44.5 \" fill=\"#000000\"/>\n",
       "<path class=\"atom-5\" d=\"M 348.5 97.1 L 350.3 97.1 L 350.3 110.5 L 348.5 110.5 L 348.5 97.1 M 355.9 97.1 L 358.4 97.1 L 353.1 103.2 L 358.8 110.5 L 356.4 110.5 L 350.7 103.3 L 355.9 97.1 \" fill=\"#000000\"/>\n",
       "<path class=\"atom-5\" d=\"M 359.9 99.6 L 362.2 99.6 L 362.2 97.1 L 363.3 97.1 L 363.3 99.6 L 365.7 99.6 L 365.7 100.4 L 363.3 100.4 L 363.3 102.9 L 362.2 102.9 L 362.2 100.4 L 359.9 100.4 L 359.9 99.6 \" fill=\"#000000\"/>\n",
       "</svg>"
      ],
      "text/plain": [
       "<IPython.core.display.SVG object>"
      ]
     },
     "metadata": {},
     "output_type": "display_data"
    },
    {
     "name": "stdout",
     "output_type": "stream",
     "text": [
      "--------------------------------------\n",
      "Option 2\n",
      "Reactant 1\n"
     ]
    },
    {
     "data": {
      "image/svg+xml": [
       "<svg xmlns=\"http://www.w3.org/2000/svg\" xmlns:rdkit=\"http://www.rdkit.org/xml\" xmlns:xlink=\"http://www.w3.org/1999/xlink\" version=\"1.1\" baseProfile=\"full\" xml:space=\"preserve\" width=\"600px\" height=\"200px\" viewBox=\"0 0 600 200\">\n",
       "<!-- END OF HEADER -->\n",
       "<rect style=\"opacity:1.0;fill:#FFFFFF;stroke:none\" width=\"600.0\" height=\"200.0\" x=\"0.0\" y=\"0.0\"> </rect>\n",
       "<path class=\"bond-0 atom-0 atom-1\" d=\"M 10.0,112.9 L 29.2,101.8\" style=\"fill:none;fill-rule:evenodd;stroke:#000000;stroke-width:2.0px;stroke-linecap:butt;stroke-linejoin:miter;stroke-opacity:1\"/>\n",
       "<path class=\"bond-0 atom-0 atom-1\" d=\"M 29.2,101.8 L 48.4,90.7\" style=\"fill:none;fill-rule:evenodd;stroke:#CCCC00;stroke-width:2.0px;stroke-linecap:butt;stroke-linejoin:miter;stroke-opacity:1\"/>\n",
       "<path class=\"bond-1 atom-1 atom-2\" d=\"M 61.2,90.7 L 80.3,101.8\" style=\"fill:none;fill-rule:evenodd;stroke:#CCCC00;stroke-width:2.0px;stroke-linecap:butt;stroke-linejoin:miter;stroke-opacity:1\"/>\n",
       "<path class=\"bond-1 atom-1 atom-2\" d=\"M 80.3,101.8 L 99.5,112.9\" style=\"fill:none;fill-rule:evenodd;stroke:#000000;stroke-width:2.0px;stroke-linecap:butt;stroke-linejoin:miter;stroke-opacity:1\"/>\n",
       "<path class=\"bond-2 atom-2 atom-3\" d=\"M 99.5,112.9 L 144.3,87.1\" style=\"fill:none;fill-rule:evenodd;stroke:#000000;stroke-width:2.0px;stroke-linecap:butt;stroke-linejoin:miter;stroke-opacity:1\"/>\n",
       "<path class=\"bond-3 atom-3 atom-4\" d=\"M 144.3,87.1 L 165.3,99.2\" style=\"fill:none;fill-rule:evenodd;stroke:#000000;stroke-width:2.0px;stroke-linecap:butt;stroke-linejoin:miter;stroke-opacity:1\"/>\n",
       "<path class=\"bond-3 atom-3 atom-4\" d=\"M 165.3,99.2 L 186.3,111.3\" style=\"fill:none;fill-rule:evenodd;stroke:#A01EEF;stroke-width:2.0px;stroke-linecap:butt;stroke-linejoin:miter;stroke-opacity:1\"/>\n",
       "<path d=\"M 98.6,112.3 L 99.5,112.9 L 101.7,111.6\" style=\"fill:none;stroke:#000000;stroke-width:2.0px;stroke-linecap:butt;stroke-linejoin:miter;stroke-opacity:1;\"/>\n",
       "<path d=\"M 142.0,88.3 L 144.3,87.1 L 145.3,87.7\" style=\"fill:none;stroke:#000000;stroke-width:2.0px;stroke-linecap:butt;stroke-linejoin:miter;stroke-opacity:1;\"/>\n",
       "<path class=\"atom-1\" d=\"M 50.6 92.1 Q 50.8 92.1, 51.5 92.4 Q 52.1 92.7, 52.9 92.9 Q 53.7 93.1, 54.4 93.1 Q 55.8 93.1, 56.6 92.4 Q 57.4 91.7, 57.4 90.5 Q 57.4 89.7, 57.0 89.2 Q 56.6 88.7, 56.0 88.5 Q 55.4 88.2, 54.3 87.9 Q 53.0 87.5, 52.2 87.1 Q 51.5 86.8, 50.9 86.0 Q 50.4 85.2, 50.4 83.9 Q 50.4 82.0, 51.6 80.9 Q 52.9 79.8, 55.4 79.8 Q 57.0 79.8, 59.0 80.6 L 58.5 82.2 Q 56.7 81.4, 55.4 81.4 Q 54.0 81.4, 53.2 82.0 Q 52.4 82.6, 52.4 83.6 Q 52.4 84.4, 52.8 84.9 Q 53.2 85.4, 53.8 85.6 Q 54.4 85.9, 55.4 86.2 Q 56.7 86.6, 57.5 87.0 Q 58.3 87.4, 58.9 88.3 Q 59.4 89.1, 59.4 90.5 Q 59.4 92.6, 58.1 93.7 Q 56.7 94.7, 54.5 94.7 Q 53.2 94.7, 52.2 94.5 Q 51.2 94.2, 50.1 93.7 L 50.6 92.1 \" fill=\"#CCCC00\"/>\n",
       "<path class=\"atom-4\" d=\"M 188.0 105.5 L 190.0 105.5 L 190.0 120.2 L 188.0 120.2 L 188.0 105.5 \" fill=\"#A01EEF\"/>\n",
       "</svg>"
      ],
      "text/plain": [
       "<IPython.core.display.SVG object>"
      ]
     },
     "metadata": {},
     "output_type": "display_data"
    },
    {
     "name": "stdout",
     "output_type": "stream",
     "text": [
      "Reactant 2\n"
     ]
    },
    {
     "data": {
      "image/svg+xml": [
       "<svg xmlns=\"http://www.w3.org/2000/svg\" xmlns:rdkit=\"http://www.rdkit.org/xml\" xmlns:xlink=\"http://www.w3.org/1999/xlink\" version=\"1.1\" baseProfile=\"full\" xml:space=\"preserve\" width=\"600px\" height=\"200px\" viewBox=\"0 0 600 200\">\n",
       "<!-- END OF HEADER -->\n",
       "<rect style=\"opacity:1.0;fill:#FFFFFF;stroke:none\" width=\"600.0\" height=\"200.0\" x=\"0.0\" y=\"0.0\"> </rect>\n",
       "<path class=\"bond-0 atom-0 atom-1\" d=\"M 56.3,99.8 L 84.6,99.8\" style=\"fill:none;fill-rule:evenodd;stroke:#000000;stroke-width:2.0px;stroke-linecap:butt;stroke-linejoin:miter;stroke-opacity:1\"/>\n",
       "<path class=\"bond-0 atom-0 atom-1\" d=\"M 84.6,99.8 L 113.0,99.8\" style=\"fill:none;fill-rule:evenodd;stroke:#CCCC00;stroke-width:2.0px;stroke-linecap:butt;stroke-linejoin:miter;stroke-opacity:1\"/>\n",
       "<path class=\"atom-1\" d=\"M 115.8 106.1 Q 116.0 106.1, 116.9 106.5 Q 117.7 106.9, 118.6 107.1 Q 119.6 107.3, 120.5 107.3 Q 122.3 107.3, 123.3 106.5 Q 124.3 105.6, 124.3 104.2 Q 124.3 103.1, 123.8 102.5 Q 123.3 101.9, 122.5 101.6 Q 121.7 101.2, 120.4 100.8 Q 118.8 100.3, 117.8 99.9 Q 116.9 99.4, 116.2 98.4 Q 115.5 97.5, 115.5 95.8 Q 115.5 93.5, 117.0 92.1 Q 118.6 90.7, 121.7 90.7 Q 123.8 90.7, 126.2 91.7 L 125.6 93.7 Q 123.5 92.7, 121.8 92.7 Q 120.0 92.7, 119.0 93.5 Q 118.0 94.2, 118.1 95.5 Q 118.1 96.5, 118.6 97.1 Q 119.1 97.7, 119.8 98.0 Q 120.6 98.3, 121.8 98.7 Q 123.5 99.2, 124.4 99.8 Q 125.4 100.3, 126.1 101.3 Q 126.8 102.4, 126.8 104.2 Q 126.8 106.7, 125.1 108.1 Q 123.5 109.4, 120.6 109.4 Q 119.0 109.4, 117.8 109.0 Q 116.5 108.7, 115.1 108.1 L 115.8 106.1 \" fill=\"#CCCC00\"/>\n",
       "<path class=\"atom-1\" d=\"M 129.4 90.6 L 131.8 90.6 L 131.8 98.4 L 141.2 98.4 L 141.2 90.6 L 143.7 90.6 L 143.7 108.9 L 141.2 108.9 L 141.2 100.5 L 131.8 100.5 L 131.8 108.9 L 129.4 108.9 L 129.4 90.6 \" fill=\"#CCCC00\"/>\n",
       "<path class=\"bond-0 atom-0 atom-1\" d=\"M 269.5,102.4 L 269.5,130.5\" style=\"fill:none;fill-rule:evenodd;stroke:#000000;stroke-width:2.0px;stroke-linecap:butt;stroke-linejoin:miter;stroke-opacity:1\"/>\n",
       "<path class=\"bond-0 atom-0 atom-1\" d=\"M 269.5,130.5 L 269.5,158.5\" style=\"fill:none;fill-rule:evenodd;stroke:#FF0000;stroke-width:2.0px;stroke-linecap:butt;stroke-linejoin:miter;stroke-opacity:1\"/>\n",
       "<path class=\"bond-0 atom-0 atom-1\" d=\"M 279.2,102.4 L 279.2,130.5\" style=\"fill:none;fill-rule:evenodd;stroke:#000000;stroke-width:2.0px;stroke-linecap:butt;stroke-linejoin:miter;stroke-opacity:1\"/>\n",
       "<path class=\"bond-0 atom-0 atom-1\" d=\"M 279.2,130.5 L 279.2,158.5\" style=\"fill:none;fill-rule:evenodd;stroke:#FF0000;stroke-width:2.0px;stroke-linecap:butt;stroke-linejoin:miter;stroke-opacity:1\"/>\n",
       "<path class=\"bond-1 atom-0 atom-2\" d=\"M 274.4,105.2 L 297.1,92.1\" style=\"fill:none;fill-rule:evenodd;stroke:#000000;stroke-width:2.0px;stroke-linecap:butt;stroke-linejoin:miter;stroke-opacity:1\"/>\n",
       "<path class=\"bond-1 atom-0 atom-2\" d=\"M 297.1,92.1 L 319.9,79.0\" style=\"fill:none;fill-rule:evenodd;stroke:#FF0000;stroke-width:2.0px;stroke-linecap:butt;stroke-linejoin:miter;stroke-opacity:1\"/>\n",
       "<path class=\"bond-2 atom-0 atom-3\" d=\"M 274.4,105.2 L 251.7,92.1\" style=\"fill:none;fill-rule:evenodd;stroke:#000000;stroke-width:2.0px;stroke-linecap:butt;stroke-linejoin:miter;stroke-opacity:1\"/>\n",
       "<path class=\"bond-2 atom-0 atom-3\" d=\"M 251.7,92.1 L 228.9,79.0\" style=\"fill:none;fill-rule:evenodd;stroke:#FF0000;stroke-width:2.0px;stroke-linecap:butt;stroke-linejoin:miter;stroke-opacity:1\"/>\n",
       "<path d=\"M 275.5,104.6 L 274.4,105.2 L 273.3,104.6\" style=\"fill:none;stroke:#000000;stroke-width:2.0px;stroke-linecap:butt;stroke-linejoin:miter;stroke-opacity:1;\"/>\n",
       "<path class=\"atom-1\" d=\"M 266.0 169.9 Q 266.0 165.6, 268.2 163.1 Q 270.3 160.6, 274.4 160.6 Q 278.5 160.6, 280.6 163.1 Q 282.8 165.6, 282.8 169.9 Q 282.8 174.4, 280.6 176.9 Q 278.4 179.4, 274.4 179.4 Q 270.4 179.4, 268.2 176.9 Q 266.0 174.4, 266.0 169.9 M 274.4 177.4 Q 277.2 177.4, 278.7 175.5 Q 280.2 173.6, 280.2 169.9 Q 280.2 166.4, 278.7 164.5 Q 277.2 162.7, 274.4 162.7 Q 271.6 162.7, 270.1 164.5 Q 268.6 166.3, 268.6 169.9 Q 268.6 173.6, 270.1 175.5 Q 271.6 177.4, 274.4 177.4 \" fill=\"#FF0000\"/>\n",
       "<path class=\"atom-2\" d=\"M 322.0 73.0 Q 322.0 68.6, 324.2 66.1 Q 326.3 63.7, 330.4 63.7 Q 334.4 63.7, 336.6 66.1 Q 338.8 68.6, 338.8 73.0 Q 338.8 77.4, 336.6 79.9 Q 334.4 82.5, 330.4 82.5 Q 326.4 82.5, 324.2 79.9 Q 322.0 77.4, 322.0 73.0 M 330.4 80.4 Q 333.2 80.4, 334.7 78.5 Q 336.2 76.6, 336.2 73.0 Q 336.2 69.4, 334.7 67.6 Q 333.2 65.7, 330.4 65.7 Q 327.6 65.7, 326.1 67.5 Q 324.6 69.3, 324.6 73.0 Q 324.6 76.7, 326.1 78.5 Q 327.6 80.4, 330.4 80.4 \" fill=\"#FF0000\"/>\n",
       "<path class=\"atom-2\" d=\"M 341.4 66.6 L 347.7 66.6 L 347.7 68.0 L 341.4 68.0 L 341.4 66.6 \" fill=\"#FF0000\"/>\n",
       "<path class=\"atom-3\" d=\"M 210.0 73.0 Q 210.0 68.6, 212.2 66.1 Q 214.3 63.7, 218.4 63.7 Q 222.5 63.7, 224.6 66.1 Q 226.8 68.6, 226.8 73.0 Q 226.8 77.4, 224.6 79.9 Q 222.4 82.5, 218.4 82.5 Q 214.4 82.5, 212.2 79.9 Q 210.0 77.4, 210.0 73.0 M 218.4 80.4 Q 221.2 80.4, 222.7 78.5 Q 224.2 76.6, 224.2 73.0 Q 224.2 69.4, 222.7 67.6 Q 221.2 65.7, 218.4 65.7 Q 215.6 65.7, 214.1 67.5 Q 212.6 69.3, 212.6 73.0 Q 212.6 76.7, 214.1 78.5 Q 215.6 80.4, 218.4 80.4 \" fill=\"#FF0000\"/>\n",
       "<path class=\"atom-3\" d=\"M 229.4 66.6 L 235.7 66.6 L 235.7 68.0 L 229.4 68.0 L 229.4 66.6 \" fill=\"#FF0000\"/>\n",
       "<path class=\"atom-4\" d=\"M 267.3 20.7 L 269.8 20.7 L 269.8 39.0 L 267.3 39.0 L 267.3 20.7 M 277.5 20.7 L 280.9 20.7 L 273.6 29.0 L 281.4 39.0 L 278.2 39.0 L 270.4 29.1 L 277.5 20.7 \" fill=\"#000000\"/>\n",
       "<path class=\"atom-4\" d=\"M 282.9 24.0 L 286.2 24.0 L 286.2 20.6 L 287.6 20.6 L 287.6 24.0 L 290.9 24.0 L 290.9 25.2 L 287.6 25.2 L 287.6 28.6 L 286.2 28.6 L 286.2 25.2 L 282.9 25.2 L 282.9 24.0 \" fill=\"#000000\"/>\n",
       "<path class=\"atom-5\" d=\"M 366.4 96.1 L 368.9 96.1 L 368.9 114.4 L 366.4 114.4 L 366.4 96.1 M 376.6 96.1 L 380.0 96.1 L 372.7 104.4 L 380.5 114.4 L 377.3 114.4 L 369.5 104.5 L 376.6 96.1 \" fill=\"#000000\"/>\n",
       "<path class=\"atom-5\" d=\"M 382.0 99.4 L 385.3 99.4 L 385.3 96.0 L 386.7 96.0 L 386.7 99.4 L 390.0 99.4 L 390.0 100.6 L 386.7 100.6 L 386.7 104.0 L 385.3 104.0 L 385.3 100.6 L 382.0 100.6 L 382.0 99.4 \" fill=\"#000000\"/>\n",
       "</svg>"
      ],
      "text/plain": [
       "<IPython.core.display.SVG object>"
      ]
     },
     "metadata": {},
     "output_type": "display_data"
    },
    {
     "name": "stdout",
     "output_type": "stream",
     "text": [
      "--------------------------------------\n",
      "--------------------------------------\n"
     ]
    },
    {
     "data": {
      "text/plain": [
       "[1,\n",
       " [<rdkit.Chem.rdchem.Mol at 0x182808df530>,\n",
       "  <rdkit.Chem.rdchem.Mol at 0x182808df5a0>,\n",
       "  <rdkit.Chem.rdchem.Mol at 0x182808dc200>,\n",
       "  <rdkit.Chem.rdchem.Mol at 0x182808df610>,\n",
       "  <rdkit.Chem.rdchem.Mol at 0x182808df680>,\n",
       "  <rdkit.Chem.rdchem.Mol at 0x182808dc200>]]"
      ]
     },
     "execution_count": 27,
     "metadata": {},
     "output_type": "execute_result"
    }
   ],
   "source": [
    "C_S_disconnection(mol_complicated) #The function is performed."
   ]
  },
  {
   "cell_type": "markdown",
   "id": "259fd849-29c1-40b0-af3f-2a72fb669225",
   "metadata": {},
   "source": [
    "Finally, 3 tests are used for this function. In the first one, the C(sp3)-S bond is absent."
   ]
  },
  {
   "cell_type": "code",
   "execution_count": 22,
   "id": "5d6f6309-4b8d-4731-a544-654965ab1bf9",
   "metadata": {},
   "outputs": [],
   "source": [
    "mol = Chem.MolFromSmiles('CCC') #Defines to molecule to be analyzed, using its SMILES representation and converts it to a Mol object\n",
    "assert C_S_disconnection(mol) == [0] # The output value is tested"
   ]
  },
  {
   "cell_type": "markdown",
   "id": "430e332e-34f7-4a36-8b61-55d9c735597a",
   "metadata": {},
   "source": [
    "In the second one, the value input value is not of Mol type."
   ]
  },
  {
   "cell_type": "code",
   "execution_count": 23,
   "id": "6c96fa78-8e1b-4008-8114-9a1c7dbfe9e0",
   "metadata": {},
   "outputs": [],
   "source": [
    "import pytest\n",
    "\n",
    "mol = 'Ups'\n",
    "with pytest.raises(TypeError):\n",
    "    C_S_disconnection(mol)"
   ]
  },
  {
   "cell_type": "markdown",
   "id": "8de8c197-29c8-4df8-98e6-1579550a1608",
   "metadata": {},
   "source": [
    "In the last one, the input molecule contains the C(sp3)-S bond, and it is tested if the SMILES of the expected reactants are found in the list of the SMILES of the output molecules"
   ]
  },
  {
   "cell_type": "code",
   "execution_count": 24,
   "id": "06b5c245-1d32-4f05-9d7a-ca490be43518",
   "metadata": {},
   "outputs": [
    {
     "name": "stdout",
     "output_type": "stream",
     "text": [
      "C(sp3)-S disconection available\n",
      "--------------------------------------\n",
      "Option 1\n",
      "Reactant 1\n"
     ]
    },
    {
     "data": {
      "image/svg+xml": [
       "<svg xmlns=\"http://www.w3.org/2000/svg\" xmlns:rdkit=\"http://www.rdkit.org/xml\" xmlns:xlink=\"http://www.w3.org/1999/xlink\" version=\"1.1\" baseProfile=\"full\" xml:space=\"preserve\" width=\"600px\" height=\"200px\" viewBox=\"0 0 600 200\">\n",
       "<!-- END OF HEADER -->\n",
       "<rect style=\"opacity:1.0;fill:#FFFFFF;stroke:none\" width=\"600.0\" height=\"200.0\" x=\"0.0\" y=\"0.0\"> </rect>\n",
       "<path class=\"bond-0 atom-0 atom-1\" d=\"M 10.7,100.0 L 95.2,100.0\" style=\"fill:none;fill-rule:evenodd;stroke:#000000;stroke-width:2.0px;stroke-linecap:butt;stroke-linejoin:miter;stroke-opacity:1\"/>\n",
       "<path class=\"bond-0 atom-0 atom-1\" d=\"M 95.2,100.0 L 179.6,100.0\" style=\"fill:none;fill-rule:evenodd;stroke:#A01EEF;stroke-width:2.0px;stroke-linecap:butt;stroke-linejoin:miter;stroke-opacity:1\"/>\n",
       "<path class=\"atom-1\" d=\"M 185.5 85.8 L 189.3 85.8 L 189.3 114.2 L 185.5 114.2 L 185.5 85.8 \" fill=\"#A01EEF\"/>\n",
       "</svg>"
      ],
      "text/plain": [
       "<IPython.core.display.SVG object>"
      ]
     },
     "metadata": {},
     "output_type": "display_data"
    },
    {
     "name": "stdout",
     "output_type": "stream",
     "text": [
      "Reactant 2\n"
     ]
    },
    {
     "data": {
      "image/svg+xml": [
       "<svg xmlns=\"http://www.w3.org/2000/svg\" xmlns:rdkit=\"http://www.rdkit.org/xml\" xmlns:xlink=\"http://www.w3.org/1999/xlink\" version=\"1.1\" baseProfile=\"full\" xml:space=\"preserve\" width=\"600px\" height=\"200px\" viewBox=\"0 0 600 200\">\n",
       "<!-- END OF HEADER -->\n",
       "<rect style=\"opacity:1.0;fill:#FFFFFF;stroke:none\" width=\"600.0\" height=\"200.0\" x=\"0.0\" y=\"0.0\"> </rect>\n",
       "<path class=\"bond-0 atom-0 atom-1\" d=\"M 32.6,111.3 L 88.6,79.0\" style=\"fill:none;fill-rule:evenodd;stroke:#000000;stroke-width:2.0px;stroke-linecap:butt;stroke-linejoin:miter;stroke-opacity:1\"/>\n",
       "<path class=\"bond-1 atom-1 atom-2\" d=\"M 88.6,79.0 L 112.6,92.9\" style=\"fill:none;fill-rule:evenodd;stroke:#000000;stroke-width:2.0px;stroke-linecap:butt;stroke-linejoin:miter;stroke-opacity:1\"/>\n",
       "<path class=\"bond-1 atom-1 atom-2\" d=\"M 112.6,92.9 L 136.6,106.7\" style=\"fill:none;fill-rule:evenodd;stroke:#CCCC00;stroke-width:2.0px;stroke-linecap:butt;stroke-linejoin:miter;stroke-opacity:1\"/>\n",
       "<path d=\"M 85.8,80.6 L 88.6,79.0 L 89.8,79.7\" style=\"fill:none;stroke:#000000;stroke-width:2.0px;stroke-linecap:butt;stroke-linejoin:miter;stroke-opacity:1;\"/>\n",
       "<path class=\"atom-2\" d=\"M 139.5 117.7 Q 139.7 117.7, 140.5 118.1 Q 141.4 118.5, 142.3 118.7 Q 143.3 118.9, 144.2 118.9 Q 145.9 118.9, 146.9 118.1 Q 147.9 117.2, 147.9 115.7 Q 147.9 114.7, 147.4 114.1 Q 146.9 113.5, 146.2 113.2 Q 145.4 112.8, 144.1 112.4 Q 142.5 111.9, 141.5 111.5 Q 140.5 111.0, 139.8 110.0 Q 139.2 109.0, 139.2 107.4 Q 139.2 105.1, 140.7 103.7 Q 142.3 102.2, 145.4 102.2 Q 147.5 102.2, 149.9 103.2 L 149.3 105.2 Q 147.1 104.3, 145.5 104.3 Q 143.7 104.3, 142.7 105.1 Q 141.7 105.8, 141.7 107.1 Q 141.7 108.1, 142.2 108.7 Q 142.7 109.2, 143.5 109.6 Q 144.2 109.9, 145.5 110.3 Q 147.1 110.8, 148.1 111.3 Q 149.1 111.9, 149.8 112.9 Q 150.5 114.0, 150.5 115.7 Q 150.5 118.3, 148.8 119.6 Q 147.1 121.0, 144.3 121.0 Q 142.7 121.0, 141.4 120.6 Q 140.2 120.3, 138.8 119.7 L 139.5 117.7 \" fill=\"#CCCC00\"/>\n",
       "<path class=\"atom-2\" d=\"M 153.0 102.2 L 155.5 102.2 L 155.5 110.0 L 164.9 110.0 L 164.9 102.2 L 167.4 102.2 L 167.4 120.5 L 164.9 120.5 L 164.9 112.0 L 155.5 112.0 L 155.5 120.5 L 153.0 120.5 L 153.0 102.2 \" fill=\"#CCCC00\"/>\n",
       "<path class=\"bond-0 atom-0 atom-1\" d=\"M 269.5,102.4 L 269.5,130.5\" style=\"fill:none;fill-rule:evenodd;stroke:#000000;stroke-width:2.0px;stroke-linecap:butt;stroke-linejoin:miter;stroke-opacity:1\"/>\n",
       "<path class=\"bond-0 atom-0 atom-1\" d=\"M 269.5,130.5 L 269.5,158.5\" style=\"fill:none;fill-rule:evenodd;stroke:#FF0000;stroke-width:2.0px;stroke-linecap:butt;stroke-linejoin:miter;stroke-opacity:1\"/>\n",
       "<path class=\"bond-0 atom-0 atom-1\" d=\"M 279.2,102.4 L 279.2,130.5\" style=\"fill:none;fill-rule:evenodd;stroke:#000000;stroke-width:2.0px;stroke-linecap:butt;stroke-linejoin:miter;stroke-opacity:1\"/>\n",
       "<path class=\"bond-0 atom-0 atom-1\" d=\"M 279.2,130.5 L 279.2,158.5\" style=\"fill:none;fill-rule:evenodd;stroke:#FF0000;stroke-width:2.0px;stroke-linecap:butt;stroke-linejoin:miter;stroke-opacity:1\"/>\n",
       "<path class=\"bond-1 atom-0 atom-2\" d=\"M 274.4,105.2 L 297.1,92.1\" style=\"fill:none;fill-rule:evenodd;stroke:#000000;stroke-width:2.0px;stroke-linecap:butt;stroke-linejoin:miter;stroke-opacity:1\"/>\n",
       "<path class=\"bond-1 atom-0 atom-2\" d=\"M 297.1,92.1 L 319.9,79.0\" style=\"fill:none;fill-rule:evenodd;stroke:#FF0000;stroke-width:2.0px;stroke-linecap:butt;stroke-linejoin:miter;stroke-opacity:1\"/>\n",
       "<path class=\"bond-2 atom-0 atom-3\" d=\"M 274.4,105.2 L 251.7,92.1\" style=\"fill:none;fill-rule:evenodd;stroke:#000000;stroke-width:2.0px;stroke-linecap:butt;stroke-linejoin:miter;stroke-opacity:1\"/>\n",
       "<path class=\"bond-2 atom-0 atom-3\" d=\"M 251.7,92.1 L 228.9,79.0\" style=\"fill:none;fill-rule:evenodd;stroke:#FF0000;stroke-width:2.0px;stroke-linecap:butt;stroke-linejoin:miter;stroke-opacity:1\"/>\n",
       "<path d=\"M 275.5,104.6 L 274.4,105.2 L 273.3,104.6\" style=\"fill:none;stroke:#000000;stroke-width:2.0px;stroke-linecap:butt;stroke-linejoin:miter;stroke-opacity:1;\"/>\n",
       "<path class=\"atom-1\" d=\"M 266.0 169.9 Q 266.0 165.6, 268.2 163.1 Q 270.3 160.6, 274.4 160.6 Q 278.5 160.6, 280.6 163.1 Q 282.8 165.6, 282.8 169.9 Q 282.8 174.4, 280.6 176.9 Q 278.4 179.4, 274.4 179.4 Q 270.4 179.4, 268.2 176.9 Q 266.0 174.4, 266.0 169.9 M 274.4 177.4 Q 277.2 177.4, 278.7 175.5 Q 280.2 173.6, 280.2 169.9 Q 280.2 166.4, 278.7 164.5 Q 277.2 162.7, 274.4 162.7 Q 271.6 162.7, 270.1 164.5 Q 268.6 166.3, 268.6 169.9 Q 268.6 173.6, 270.1 175.5 Q 271.6 177.4, 274.4 177.4 \" fill=\"#FF0000\"/>\n",
       "<path class=\"atom-2\" d=\"M 322.0 73.0 Q 322.0 68.6, 324.2 66.1 Q 326.3 63.7, 330.4 63.7 Q 334.4 63.7, 336.6 66.1 Q 338.8 68.6, 338.8 73.0 Q 338.8 77.4, 336.6 79.9 Q 334.4 82.5, 330.4 82.5 Q 326.4 82.5, 324.2 79.9 Q 322.0 77.4, 322.0 73.0 M 330.4 80.4 Q 333.2 80.4, 334.7 78.5 Q 336.2 76.6, 336.2 73.0 Q 336.2 69.4, 334.7 67.6 Q 333.2 65.7, 330.4 65.7 Q 327.6 65.7, 326.1 67.5 Q 324.6 69.3, 324.6 73.0 Q 324.6 76.7, 326.1 78.5 Q 327.6 80.4, 330.4 80.4 \" fill=\"#FF0000\"/>\n",
       "<path class=\"atom-2\" d=\"M 341.4 66.6 L 347.7 66.6 L 347.7 68.0 L 341.4 68.0 L 341.4 66.6 \" fill=\"#FF0000\"/>\n",
       "<path class=\"atom-3\" d=\"M 210.0 73.0 Q 210.0 68.6, 212.2 66.1 Q 214.3 63.7, 218.4 63.7 Q 222.5 63.7, 224.6 66.1 Q 226.8 68.6, 226.8 73.0 Q 226.8 77.4, 224.6 79.9 Q 222.4 82.5, 218.4 82.5 Q 214.4 82.5, 212.2 79.9 Q 210.0 77.4, 210.0 73.0 M 218.4 80.4 Q 221.2 80.4, 222.7 78.5 Q 224.2 76.6, 224.2 73.0 Q 224.2 69.4, 222.7 67.6 Q 221.2 65.7, 218.4 65.7 Q 215.6 65.7, 214.1 67.5 Q 212.6 69.3, 212.6 73.0 Q 212.6 76.7, 214.1 78.5 Q 215.6 80.4, 218.4 80.4 \" fill=\"#FF0000\"/>\n",
       "<path class=\"atom-3\" d=\"M 229.4 66.6 L 235.7 66.6 L 235.7 68.0 L 229.4 68.0 L 229.4 66.6 \" fill=\"#FF0000\"/>\n",
       "<path class=\"atom-4\" d=\"M 267.3 20.7 L 269.8 20.7 L 269.8 39.0 L 267.3 39.0 L 267.3 20.7 M 277.5 20.7 L 280.9 20.7 L 273.6 29.0 L 281.4 39.0 L 278.2 39.0 L 270.4 29.1 L 277.5 20.7 \" fill=\"#000000\"/>\n",
       "<path class=\"atom-4\" d=\"M 282.9 24.0 L 286.2 24.0 L 286.2 20.6 L 287.6 20.6 L 287.6 24.0 L 290.9 24.0 L 290.9 25.2 L 287.6 25.2 L 287.6 28.6 L 286.2 28.6 L 286.2 25.2 L 282.9 25.2 L 282.9 24.0 \" fill=\"#000000\"/>\n",
       "<path class=\"atom-5\" d=\"M 366.4 96.1 L 368.9 96.1 L 368.9 114.4 L 366.4 114.4 L 366.4 96.1 M 376.6 96.1 L 380.0 96.1 L 372.7 104.4 L 380.5 114.4 L 377.3 114.4 L 369.5 104.5 L 376.6 96.1 \" fill=\"#000000\"/>\n",
       "<path class=\"atom-5\" d=\"M 382.0 99.4 L 385.3 99.4 L 385.3 96.0 L 386.7 96.0 L 386.7 99.4 L 390.0 99.4 L 390.0 100.6 L 386.7 100.6 L 386.7 104.0 L 385.3 104.0 L 385.3 100.6 L 382.0 100.6 L 382.0 99.4 \" fill=\"#000000\"/>\n",
       "</svg>"
      ],
      "text/plain": [
       "<IPython.core.display.SVG object>"
      ]
     },
     "metadata": {},
     "output_type": "display_data"
    },
    {
     "name": "stdout",
     "output_type": "stream",
     "text": [
      "--------------------------------------\n",
      "Option 2\n",
      "Reactant 1\n"
     ]
    },
    {
     "data": {
      "image/svg+xml": [
       "<svg xmlns=\"http://www.w3.org/2000/svg\" xmlns:rdkit=\"http://www.rdkit.org/xml\" xmlns:xlink=\"http://www.w3.org/1999/xlink\" version=\"1.1\" baseProfile=\"full\" xml:space=\"preserve\" width=\"600px\" height=\"200px\" viewBox=\"0 0 600 200\">\n",
       "<!-- END OF HEADER -->\n",
       "<rect style=\"opacity:1.0;fill:#FFFFFF;stroke:none\" width=\"600.0\" height=\"200.0\" x=\"0.0\" y=\"0.0\"> </rect>\n",
       "<path class=\"bond-0 atom-0 atom-1\" d=\"M 10.0,118.6 L 99.0,67.2\" style=\"fill:none;fill-rule:evenodd;stroke:#000000;stroke-width:2.0px;stroke-linecap:butt;stroke-linejoin:miter;stroke-opacity:1\"/>\n",
       "<path class=\"bond-1 atom-1 atom-2\" d=\"M 99.0,67.2 L 140.9,91.4\" style=\"fill:none;fill-rule:evenodd;stroke:#000000;stroke-width:2.0px;stroke-linecap:butt;stroke-linejoin:miter;stroke-opacity:1\"/>\n",
       "<path class=\"bond-1 atom-1 atom-2\" d=\"M 140.9,91.4 L 182.8,115.5\" style=\"fill:none;fill-rule:evenodd;stroke:#A01EEF;stroke-width:2.0px;stroke-linecap:butt;stroke-linejoin:miter;stroke-opacity:1\"/>\n",
       "<path d=\"M 94.6,69.8 L 99.0,67.2 L 101.1,68.4\" style=\"fill:none;stroke:#000000;stroke-width:2.0px;stroke-linecap:butt;stroke-linejoin:miter;stroke-opacity:1;\"/>\n",
       "<path class=\"atom-2\" d=\"M 186.2 104.4 L 190.0 104.4 L 190.0 132.8 L 186.2 132.8 L 186.2 104.4 \" fill=\"#A01EEF\"/>\n",
       "</svg>"
      ],
      "text/plain": [
       "<IPython.core.display.SVG object>"
      ]
     },
     "metadata": {},
     "output_type": "display_data"
    },
    {
     "name": "stdout",
     "output_type": "stream",
     "text": [
      "Reactant 2\n"
     ]
    },
    {
     "data": {
      "image/svg+xml": [
       "<svg xmlns=\"http://www.w3.org/2000/svg\" xmlns:rdkit=\"http://www.rdkit.org/xml\" xmlns:xlink=\"http://www.w3.org/1999/xlink\" version=\"1.1\" baseProfile=\"full\" xml:space=\"preserve\" width=\"600px\" height=\"200px\" viewBox=\"0 0 600 200\">\n",
       "<!-- END OF HEADER -->\n",
       "<rect style=\"opacity:1.0;fill:#FFFFFF;stroke:none\" width=\"600.0\" height=\"200.0\" x=\"0.0\" y=\"0.0\"> </rect>\n",
       "<path class=\"bond-0 atom-0 atom-1\" d=\"M 56.3,99.8 L 84.6,99.8\" style=\"fill:none;fill-rule:evenodd;stroke:#000000;stroke-width:2.0px;stroke-linecap:butt;stroke-linejoin:miter;stroke-opacity:1\"/>\n",
       "<path class=\"bond-0 atom-0 atom-1\" d=\"M 84.6,99.8 L 113.0,99.8\" style=\"fill:none;fill-rule:evenodd;stroke:#CCCC00;stroke-width:2.0px;stroke-linecap:butt;stroke-linejoin:miter;stroke-opacity:1\"/>\n",
       "<path class=\"atom-1\" d=\"M 115.8 106.1 Q 116.0 106.1, 116.9 106.5 Q 117.7 106.9, 118.6 107.1 Q 119.6 107.3, 120.5 107.3 Q 122.3 107.3, 123.3 106.5 Q 124.3 105.6, 124.3 104.2 Q 124.3 103.1, 123.8 102.5 Q 123.3 101.9, 122.5 101.6 Q 121.7 101.2, 120.4 100.8 Q 118.8 100.3, 117.8 99.9 Q 116.9 99.4, 116.2 98.4 Q 115.5 97.5, 115.5 95.8 Q 115.5 93.5, 117.0 92.1 Q 118.6 90.7, 121.7 90.7 Q 123.8 90.7, 126.2 91.7 L 125.6 93.7 Q 123.5 92.7, 121.8 92.7 Q 120.0 92.7, 119.0 93.5 Q 118.0 94.2, 118.1 95.5 Q 118.1 96.5, 118.6 97.1 Q 119.1 97.7, 119.8 98.0 Q 120.6 98.3, 121.8 98.7 Q 123.5 99.2, 124.4 99.8 Q 125.4 100.3, 126.1 101.3 Q 126.8 102.4, 126.8 104.2 Q 126.8 106.7, 125.1 108.1 Q 123.5 109.4, 120.6 109.4 Q 119.0 109.4, 117.8 109.0 Q 116.5 108.7, 115.1 108.1 L 115.8 106.1 \" fill=\"#CCCC00\"/>\n",
       "<path class=\"atom-1\" d=\"M 129.4 90.6 L 131.8 90.6 L 131.8 98.4 L 141.2 98.4 L 141.2 90.6 L 143.7 90.6 L 143.7 108.9 L 141.2 108.9 L 141.2 100.5 L 131.8 100.5 L 131.8 108.9 L 129.4 108.9 L 129.4 90.6 \" fill=\"#CCCC00\"/>\n",
       "<path class=\"bond-0 atom-0 atom-1\" d=\"M 269.5,102.4 L 269.5,130.5\" style=\"fill:none;fill-rule:evenodd;stroke:#000000;stroke-width:2.0px;stroke-linecap:butt;stroke-linejoin:miter;stroke-opacity:1\"/>\n",
       "<path class=\"bond-0 atom-0 atom-1\" d=\"M 269.5,130.5 L 269.5,158.5\" style=\"fill:none;fill-rule:evenodd;stroke:#FF0000;stroke-width:2.0px;stroke-linecap:butt;stroke-linejoin:miter;stroke-opacity:1\"/>\n",
       "<path class=\"bond-0 atom-0 atom-1\" d=\"M 279.2,102.4 L 279.2,130.5\" style=\"fill:none;fill-rule:evenodd;stroke:#000000;stroke-width:2.0px;stroke-linecap:butt;stroke-linejoin:miter;stroke-opacity:1\"/>\n",
       "<path class=\"bond-0 atom-0 atom-1\" d=\"M 279.2,130.5 L 279.2,158.5\" style=\"fill:none;fill-rule:evenodd;stroke:#FF0000;stroke-width:2.0px;stroke-linecap:butt;stroke-linejoin:miter;stroke-opacity:1\"/>\n",
       "<path class=\"bond-1 atom-0 atom-2\" d=\"M 274.4,105.2 L 297.1,92.1\" style=\"fill:none;fill-rule:evenodd;stroke:#000000;stroke-width:2.0px;stroke-linecap:butt;stroke-linejoin:miter;stroke-opacity:1\"/>\n",
       "<path class=\"bond-1 atom-0 atom-2\" d=\"M 297.1,92.1 L 319.9,79.0\" style=\"fill:none;fill-rule:evenodd;stroke:#FF0000;stroke-width:2.0px;stroke-linecap:butt;stroke-linejoin:miter;stroke-opacity:1\"/>\n",
       "<path class=\"bond-2 atom-0 atom-3\" d=\"M 274.4,105.2 L 251.7,92.1\" style=\"fill:none;fill-rule:evenodd;stroke:#000000;stroke-width:2.0px;stroke-linecap:butt;stroke-linejoin:miter;stroke-opacity:1\"/>\n",
       "<path class=\"bond-2 atom-0 atom-3\" d=\"M 251.7,92.1 L 228.9,79.0\" style=\"fill:none;fill-rule:evenodd;stroke:#FF0000;stroke-width:2.0px;stroke-linecap:butt;stroke-linejoin:miter;stroke-opacity:1\"/>\n",
       "<path d=\"M 275.5,104.6 L 274.4,105.2 L 273.3,104.6\" style=\"fill:none;stroke:#000000;stroke-width:2.0px;stroke-linecap:butt;stroke-linejoin:miter;stroke-opacity:1;\"/>\n",
       "<path class=\"atom-1\" d=\"M 266.0 169.9 Q 266.0 165.6, 268.2 163.1 Q 270.3 160.6, 274.4 160.6 Q 278.5 160.6, 280.6 163.1 Q 282.8 165.6, 282.8 169.9 Q 282.8 174.4, 280.6 176.9 Q 278.4 179.4, 274.4 179.4 Q 270.4 179.4, 268.2 176.9 Q 266.0 174.4, 266.0 169.9 M 274.4 177.4 Q 277.2 177.4, 278.7 175.5 Q 280.2 173.6, 280.2 169.9 Q 280.2 166.4, 278.7 164.5 Q 277.2 162.7, 274.4 162.7 Q 271.6 162.7, 270.1 164.5 Q 268.6 166.3, 268.6 169.9 Q 268.6 173.6, 270.1 175.5 Q 271.6 177.4, 274.4 177.4 \" fill=\"#FF0000\"/>\n",
       "<path class=\"atom-2\" d=\"M 322.0 73.0 Q 322.0 68.6, 324.2 66.1 Q 326.3 63.7, 330.4 63.7 Q 334.4 63.7, 336.6 66.1 Q 338.8 68.6, 338.8 73.0 Q 338.8 77.4, 336.6 79.9 Q 334.4 82.5, 330.4 82.5 Q 326.4 82.5, 324.2 79.9 Q 322.0 77.4, 322.0 73.0 M 330.4 80.4 Q 333.2 80.4, 334.7 78.5 Q 336.2 76.6, 336.2 73.0 Q 336.2 69.4, 334.7 67.6 Q 333.2 65.7, 330.4 65.7 Q 327.6 65.7, 326.1 67.5 Q 324.6 69.3, 324.6 73.0 Q 324.6 76.7, 326.1 78.5 Q 327.6 80.4, 330.4 80.4 \" fill=\"#FF0000\"/>\n",
       "<path class=\"atom-2\" d=\"M 341.4 66.6 L 347.7 66.6 L 347.7 68.0 L 341.4 68.0 L 341.4 66.6 \" fill=\"#FF0000\"/>\n",
       "<path class=\"atom-3\" d=\"M 210.0 73.0 Q 210.0 68.6, 212.2 66.1 Q 214.3 63.7, 218.4 63.7 Q 222.5 63.7, 224.6 66.1 Q 226.8 68.6, 226.8 73.0 Q 226.8 77.4, 224.6 79.9 Q 222.4 82.5, 218.4 82.5 Q 214.4 82.5, 212.2 79.9 Q 210.0 77.4, 210.0 73.0 M 218.4 80.4 Q 221.2 80.4, 222.7 78.5 Q 224.2 76.6, 224.2 73.0 Q 224.2 69.4, 222.7 67.6 Q 221.2 65.7, 218.4 65.7 Q 215.6 65.7, 214.1 67.5 Q 212.6 69.3, 212.6 73.0 Q 212.6 76.7, 214.1 78.5 Q 215.6 80.4, 218.4 80.4 \" fill=\"#FF0000\"/>\n",
       "<path class=\"atom-3\" d=\"M 229.4 66.6 L 235.7 66.6 L 235.7 68.0 L 229.4 68.0 L 229.4 66.6 \" fill=\"#FF0000\"/>\n",
       "<path class=\"atom-4\" d=\"M 267.3 20.7 L 269.8 20.7 L 269.8 39.0 L 267.3 39.0 L 267.3 20.7 M 277.5 20.7 L 280.9 20.7 L 273.6 29.0 L 281.4 39.0 L 278.2 39.0 L 270.4 29.1 L 277.5 20.7 \" fill=\"#000000\"/>\n",
       "<path class=\"atom-4\" d=\"M 282.9 24.0 L 286.2 24.0 L 286.2 20.6 L 287.6 20.6 L 287.6 24.0 L 290.9 24.0 L 290.9 25.2 L 287.6 25.2 L 287.6 28.6 L 286.2 28.6 L 286.2 25.2 L 282.9 25.2 L 282.9 24.0 \" fill=\"#000000\"/>\n",
       "<path class=\"atom-5\" d=\"M 366.4 96.1 L 368.9 96.1 L 368.9 114.4 L 366.4 114.4 L 366.4 96.1 M 376.6 96.1 L 380.0 96.1 L 372.7 104.4 L 380.5 114.4 L 377.3 114.4 L 369.5 104.5 L 376.6 96.1 \" fill=\"#000000\"/>\n",
       "<path class=\"atom-5\" d=\"M 382.0 99.4 L 385.3 99.4 L 385.3 96.0 L 386.7 96.0 L 386.7 99.4 L 390.0 99.4 L 390.0 100.6 L 386.7 100.6 L 386.7 104.0 L 385.3 104.0 L 385.3 100.6 L 382.0 100.6 L 382.0 99.4 \" fill=\"#000000\"/>\n",
       "</svg>"
      ],
      "text/plain": [
       "<IPython.core.display.SVG object>"
      ]
     },
     "metadata": {},
     "output_type": "display_data"
    },
    {
     "name": "stdout",
     "output_type": "stream",
     "text": [
      "--------------------------------------\n",
      "--------------------------------------\n"
     ]
    }
   ],
   "source": [
    "mol = Chem.MolFromSmiles('CSCC') #Defines to molecule to be analyzed, using its SMILES representation and converts it to a Mol object\n",
    "reactant_list = C_S_disconnection(mol)[1]\n",
    "smiles_list = [Chem.MolToSmiles(reactant) for reactant in reactant_list] #The list of reactants is transformed in a list corresponding to their SMILES\n",
    "#It is checked if each smiles that should appear in the list of smiles indeed appears\n",
    "assert Chem.MolToSmiles(Chem.MolFromSmiles('CI')) in smiles_list\n",
    "assert Chem.MolToSmiles(Chem.MolFromSmiles('CCI')) in smiles_list\n",
    "assert Chem.MolToSmiles(Chem.MolFromSmiles('CS')) in smiles_list\n",
    "assert Chem.MolToSmiles(Chem.MolFromSmiles('CCS')) in smiles_list\n",
    "assert Chem.MolToSmiles(Chem.MolFromSmiles('C(=O)([O-])[O-].[K+].[K+]')) in smiles_list"
   ]
  },
  {
   "cell_type": "markdown",
   "id": "fbf44669-369a-48e5-a282-e877bcdd56d5",
   "metadata": {},
   "source": [
    "As no error was signaled, all the tests were sucessful."
   ]
  },
  {
   "cell_type": "markdown",
   "id": "d840df2e-324c-4347-8346-7dc15160242a",
   "metadata": {},
   "source": [
    "Using the principle used described in this part, functions for other chemical bonds or patterns were created in the same way. The function **unique_list_reactants** was always of great importance, as it permitted returning unique reactants. Each reactive site is treated separately, implying disconnection of only one reactive site at a time. Thus, the disconnection of each reactive site is presented as a different option. Also, in order to test the functions, the same 3 scenarios were evaluated using the same logic as for the tests of the C_S_disconnection"
   ]
  },
  {
   "cell_type": "markdown",
   "id": "698c3f45-e05b-4413-b3e6-91220809673b",
   "metadata": {},
   "source": [
    "## Functions corresponding to different molecular patterns"
   ]
  },
  {
   "cell_type": "markdown",
   "id": "632a0ed9-a557-4b22-810e-aca032580e80",
   "metadata": {},
   "source": [
    "The functions created correspond to functional groups or molecular patterns that are very frequently encountered in organic molecules, such as carboxylic acid derrivatives, ethers, amines, double bonds, aldehydes, alcohols, alcohols that contain a beta double or triple bond, alkylated carbonyl compounds."
   ]
  },
  {
   "cell_type": "markdown",
   "id": "1a590c70-5354-4da5-a62b-9b9117ca84ab",
   "metadata": {},
   "source": [
    "### Function for disconnecting esters"
   ]
  },
  {
   "cell_type": "markdown",
   "id": "5f867fa8-c430-4834-9391-823a2cfbed7d",
   "metadata": {},
   "source": [
    "The function that disconnects esters is called ester_disconnection, and gives as reactants a carboxylic acid and an alcohol. A strong acid, denoted as a proton is also displayed. The carboxylic acid and the alcohol react in the presence of the catalyst in order to give the ester, according to the Fischer esterification reaction. This functionality is presented in the cell below."
   ]
  },
  {
   "cell_type": "code",
   "execution_count": 28,
   "id": "1fc2107e-d7c7-418e-adfa-6786b1d2521b",
   "metadata": {},
   "outputs": [
    {
     "data": {
      "image/png": "[encoded data removed]",
      "image/svg+xml": [
       "<?xml version='1.0' encoding='iso-8859-1'?>\n",
       "<svg version='1.1' baseProfile='full'\n",
       "              xmlns='http://www.w3.org/2000/svg'\n",
       "                      xmlns:rdkit='http://www.rdkit.org/xml'\n",
       "                      xmlns:xlink='http://www.w3.org/1999/xlink'\n",
       "                  xml:space='preserve'\n",
       "width='450px' height='150px' viewBox='0 0 450 150'>\n",
       "<!-- END OF HEADER -->\n",
       "<rect style='opacity:1.0;fill:#FFFFFF;stroke:none' width='450.0' height='150.0' x='0.0' y='0.0'> </rect>\n",
       "<path class='bond-0 atom-0 atom-1' d='M 127.1,131.4 L 192.4,93.7' style='fill:none;fill-rule:evenodd;stroke:#000000;stroke-width:2.0px;stroke-linecap:butt;stroke-linejoin:miter;stroke-opacity:1' />\n",
       "<path class='bond-1 atom-1 atom-2' d='M 198.0,96.9 L 198.0,64.4' style='fill:none;fill-rule:evenodd;stroke:#000000;stroke-width:2.0px;stroke-linecap:butt;stroke-linejoin:miter;stroke-opacity:1' />\n",
       "<path class='bond-1 atom-1 atom-2' d='M 198.0,64.4 L 198.0,31.9' style='fill:none;fill-rule:evenodd;stroke:#FF0000;stroke-width:2.0px;stroke-linecap:butt;stroke-linejoin:miter;stroke-opacity:1' />\n",
       "<path class='bond-1 atom-1 atom-2' d='M 186.7,96.9 L 186.7,64.4' style='fill:none;fill-rule:evenodd;stroke:#000000;stroke-width:2.0px;stroke-linecap:butt;stroke-linejoin:miter;stroke-opacity:1' />\n",
       "<path class='bond-1 atom-1 atom-2' d='M 186.7,64.4 L 186.7,31.9' style='fill:none;fill-rule:evenodd;stroke:#FF0000;stroke-width:2.0px;stroke-linecap:butt;stroke-linejoin:miter;stroke-opacity:1' />\n",
       "<path class='bond-2 atom-1 atom-3' d='M 192.4,93.7 L 218.9,109.0' style='fill:none;fill-rule:evenodd;stroke:#000000;stroke-width:2.0px;stroke-linecap:butt;stroke-linejoin:miter;stroke-opacity:1' />\n",
       "<path class='bond-2 atom-1 atom-3' d='M 218.9,109.0 L 245.4,124.3' style='fill:none;fill-rule:evenodd;stroke:#FF0000;stroke-width:2.0px;stroke-linecap:butt;stroke-linejoin:miter;stroke-opacity:1' />\n",
       "<path class='bond-3 atom-3 atom-4' d='M 269.9,124.3 L 296.4,109.0' style='fill:none;fill-rule:evenodd;stroke:#FF0000;stroke-width:2.0px;stroke-linecap:butt;stroke-linejoin:miter;stroke-opacity:1' />\n",
       "<path class='bond-3 atom-3 atom-4' d='M 296.4,109.0 L 322.9,93.7' style='fill:none;fill-rule:evenodd;stroke:#000000;stroke-width:2.0px;stroke-linecap:butt;stroke-linejoin:miter;stroke-opacity:1' />\n",
       "<path d='M 189.1,95.6 L 192.4,93.7 L 193.7,94.4' style='fill:none;stroke:#000000;stroke-width:2.0px;stroke-linecap:butt;stroke-linejoin:miter;stroke-opacity:1;' />\n",
       "<path class='atom-2' d='M 182.6 18.4\n",
       "Q 182.6 13.2, 185.1 10.4\n",
       "Q 187.6 7.5, 192.4 7.5\n",
       "Q 197.1 7.5, 199.6 10.4\n",
       "Q 202.2 13.2, 202.2 18.4\n",
       "Q 202.2 23.5, 199.6 26.5\n",
       "Q 197.0 29.4, 192.4 29.4\n",
       "Q 187.7 29.4, 185.1 26.5\n",
       "Q 182.6 23.6, 182.6 18.4\n",
       "M 192.4 27.0\n",
       "Q 195.6 27.0, 197.4 24.8\n",
       "Q 199.1 22.6, 199.1 18.4\n",
       "Q 199.1 14.2, 197.4 12.1\n",
       "Q 195.6 9.9, 192.4 9.9\n",
       "Q 189.1 9.9, 187.3 12.0\n",
       "Q 185.6 14.1, 185.6 18.4\n",
       "Q 185.6 22.7, 187.3 24.8\n",
       "Q 189.1 27.0, 192.4 27.0\n",
       "' fill='#FF0000'/>\n",
       "<path class='atom-3' d='M 247.8 131.4\n",
       "Q 247.8 126.3, 250.4 123.4\n",
       "Q 252.9 120.6, 257.6 120.6\n",
       "Q 262.4 120.6, 264.9 123.4\n",
       "Q 267.4 126.3, 267.4 131.4\n",
       "Q 267.4 136.6, 264.9 139.6\n",
       "Q 262.3 142.5, 257.6 142.5\n",
       "Q 252.9 142.5, 250.4 139.6\n",
       "Q 247.8 136.7, 247.8 131.4\n",
       "M 257.6 140.1\n",
       "Q 260.9 140.1, 262.6 137.9\n",
       "Q 264.4 135.7, 264.4 131.4\n",
       "Q 264.4 127.2, 262.6 125.1\n",
       "Q 260.9 123.0, 257.6 123.0\n",
       "Q 254.4 123.0, 252.6 125.1\n",
       "Q 250.9 127.2, 250.9 131.4\n",
       "Q 250.9 135.7, 252.6 137.9\n",
       "Q 254.4 140.1, 257.6 140.1\n",
       "' fill='#FF0000'/>\n",
       "</svg>\n"
      ],
      "text/html": [
       "<?xml version='1.0' encoding='iso-8859-1'?>\n",
       "<svg version='1.1' baseProfile='full'\n",
       "              xmlns='http://www.w3.org/2000/svg'\n",
       "                      xmlns:rdkit='http://www.rdkit.org/xml'\n",
       "                      xmlns:xlink='http://www.w3.org/1999/xlink'\n",
       "                  xml:space='preserve'\n",
       "width='450px' height='150px' viewBox='0 0 450 150'>\n",
       "<!-- END OF HEADER -->\n",
       "<rect style='opacity:1.0;fill:#FFFFFF;stroke:none' width='450.0' height='150.0' x='0.0' y='0.0'> </rect>\n",
       "<path class='bond-0 atom-0 atom-1' d='M 127.1,131.4 L 192.4,93.7' style='fill:none;fill-rule:evenodd;stroke:#000000;stroke-width:2.0px;stroke-linecap:butt;stroke-linejoin:miter;stroke-opacity:1' />\n",
       "<path class='bond-1 atom-1 atom-2' d='M 198.0,96.9 L 198.0,64.4' style='fill:none;fill-rule:evenodd;stroke:#000000;stroke-width:2.0px;stroke-linecap:butt;stroke-linejoin:miter;stroke-opacity:1' />\n",
       "<path class='bond-1 atom-1 atom-2' d='M 198.0,64.4 L 198.0,31.9' style='fill:none;fill-rule:evenodd;stroke:#FF0000;stroke-width:2.0px;stroke-linecap:butt;stroke-linejoin:miter;stroke-opacity:1' />\n",
       "<path class='bond-1 atom-1 atom-2' d='M 186.7,96.9 L 186.7,64.4' style='fill:none;fill-rule:evenodd;stroke:#000000;stroke-width:2.0px;stroke-linecap:butt;stroke-linejoin:miter;stroke-opacity:1' />\n",
       "<path class='bond-1 atom-1 atom-2' d='M 186.7,64.4 L 186.7,31.9' style='fill:none;fill-rule:evenodd;stroke:#FF0000;stroke-width:2.0px;stroke-linecap:butt;stroke-linejoin:miter;stroke-opacity:1' />\n",
       "<path class='bond-2 atom-1 atom-3' d='M 192.4,93.7 L 218.9,109.0' style='fill:none;fill-rule:evenodd;stroke:#000000;stroke-width:2.0px;stroke-linecap:butt;stroke-linejoin:miter;stroke-opacity:1' />\n",
       "<path class='bond-2 atom-1 atom-3' d='M 218.9,109.0 L 245.4,124.3' style='fill:none;fill-rule:evenodd;stroke:#FF0000;stroke-width:2.0px;stroke-linecap:butt;stroke-linejoin:miter;stroke-opacity:1' />\n",
       "<path class='bond-3 atom-3 atom-4' d='M 269.9,124.3 L 296.4,109.0' style='fill:none;fill-rule:evenodd;stroke:#FF0000;stroke-width:2.0px;stroke-linecap:butt;stroke-linejoin:miter;stroke-opacity:1' />\n",
       "<path class='bond-3 atom-3 atom-4' d='M 296.4,109.0 L 322.9,93.7' style='fill:none;fill-rule:evenodd;stroke:#000000;stroke-width:2.0px;stroke-linecap:butt;stroke-linejoin:miter;stroke-opacity:1' />\n",
       "<path d='M 189.1,95.6 L 192.4,93.7 L 193.7,94.4' style='fill:none;stroke:#000000;stroke-width:2.0px;stroke-linecap:butt;stroke-linejoin:miter;stroke-opacity:1;' />\n",
       "<path class='atom-2' d='M 182.6 18.4\n",
       "Q 182.6 13.2, 185.1 10.4\n",
       "Q 187.6 7.5, 192.4 7.5\n",
       "Q 197.1 7.5, 199.6 10.4\n",
       "Q 202.2 13.2, 202.2 18.4\n",
       "Q 202.2 23.5, 199.6 26.5\n",
       "Q 197.0 29.4, 192.4 29.4\n",
       "Q 187.7 29.4, 185.1 26.5\n",
       "Q 182.6 23.6, 182.6 18.4\n",
       "M 192.4 27.0\n",
       "Q 195.6 27.0, 197.4 24.8\n",
       "Q 199.1 22.6, 199.1 18.4\n",
       "Q 199.1 14.2, 197.4 12.1\n",
       "Q 195.6 9.9, 192.4 9.9\n",
       "Q 189.1 9.9, 187.3 12.0\n",
       "Q 185.6 14.1, 185.6 18.4\n",
       "Q 185.6 22.7, 187.3 24.8\n",
       "Q 189.1 27.0, 192.4 27.0\n",
       "' fill='#FF0000'/>\n",
       "<path class='atom-3' d='M 247.8 131.4\n",
       "Q 247.8 126.3, 250.4 123.4\n",
       "Q 252.9 120.6, 257.6 120.6\n",
       "Q 262.4 120.6, 264.9 123.4\n",
       "Q 267.4 126.3, 267.4 131.4\n",
       "Q 267.4 136.6, 264.9 139.6\n",
       "Q 262.3 142.5, 257.6 142.5\n",
       "Q 252.9 142.5, 250.4 139.6\n",
       "Q 247.8 136.7, 247.8 131.4\n",
       "M 257.6 140.1\n",
       "Q 260.9 140.1, 262.6 137.9\n",
       "Q 264.4 135.7, 264.4 131.4\n",
       "Q 264.4 127.2, 262.6 125.1\n",
       "Q 260.9 123.0, 257.6 123.0\n",
       "Q 254.4 123.0, 252.6 125.1\n",
       "Q 250.9 127.2, 250.9 131.4\n",
       "Q 250.9 135.7, 252.6 137.9\n",
       "Q 254.4 140.1, 257.6 140.1\n",
       "' fill='#FF0000'/>\n",
       "</svg>\n"
      ],
      "text/plain": [
       "<rdkit.Chem.rdchem.Mol at 0x182808deea0>"
      ]
     },
     "metadata": {},
     "output_type": "display_data"
    }
   ],
   "source": [
    "ester_smiles = 'CC(=O)OC' #Defines to molecule to be analyzed, using its SMILES representation\n",
    "ester = Chem.MolFromSmiles(ester_smiles) #The Mol object is created from the SMILES representation\n",
    "display(ester) #The ester, methyl acetate is displayed"
   ]
  },
  {
   "cell_type": "code",
   "execution_count": 29,
   "id": "a2152055-256e-47d9-baae-7d362e150374",
   "metadata": {},
   "outputs": [
    {
     "name": "stdout",
     "output_type": "stream",
     "text": [
      "Ester disconnection available\n",
      "--------------------------------------\n",
      "Option 1\n",
      "Reactant 1\n"
     ]
    },
    {
     "data": {
      "image/svg+xml": [
       "<svg xmlns=\"http://www.w3.org/2000/svg\" xmlns:rdkit=\"http://www.rdkit.org/xml\" xmlns:xlink=\"http://www.w3.org/1999/xlink\" version=\"1.1\" baseProfile=\"full\" xml:space=\"preserve\" width=\"600px\" height=\"200px\" viewBox=\"0 0 600 200\">\n",
       "<!-- END OF HEADER -->\n",
       "<rect style=\"opacity:1.0;fill:#FFFFFF;stroke:none\" width=\"600.0\" height=\"200.0\" x=\"0.0\" y=\"0.0\"> </rect>\n",
       "<path class=\"bond-0 atom-0 atom-1\" d=\"M 10.0,163.3 L 83.3,121.0\" style=\"fill:none;fill-rule:evenodd;stroke:#000000;stroke-width:2.0px;stroke-linecap:butt;stroke-linejoin:miter;stroke-opacity:1\"/>\n",
       "<path class=\"bond-1 atom-1 atom-2\" d=\"M 89.6,124.6 L 89.6,88.1\" style=\"fill:none;fill-rule:evenodd;stroke:#000000;stroke-width:2.0px;stroke-linecap:butt;stroke-linejoin:miter;stroke-opacity:1\"/>\n",
       "<path class=\"bond-1 atom-1 atom-2\" d=\"M 89.6,88.1 L 89.6,51.6\" style=\"fill:none;fill-rule:evenodd;stroke:#FF0000;stroke-width:2.0px;stroke-linecap:butt;stroke-linejoin:miter;stroke-opacity:1\"/>\n",
       "<path class=\"bond-1 atom-1 atom-2\" d=\"M 76.9,124.6 L 76.9,88.1\" style=\"fill:none;fill-rule:evenodd;stroke:#000000;stroke-width:2.0px;stroke-linecap:butt;stroke-linejoin:miter;stroke-opacity:1\"/>\n",
       "<path class=\"bond-1 atom-1 atom-2\" d=\"M 76.9,88.1 L 76.9,51.6\" style=\"fill:none;fill-rule:evenodd;stroke:#FF0000;stroke-width:2.0px;stroke-linecap:butt;stroke-linejoin:miter;stroke-opacity:1\"/>\n",
       "<path class=\"bond-2 atom-1 atom-3\" d=\"M 83.3,121.0 L 113.0,138.1\" style=\"fill:none;fill-rule:evenodd;stroke:#000000;stroke-width:2.0px;stroke-linecap:butt;stroke-linejoin:miter;stroke-opacity:1\"/>\n",
       "<path class=\"bond-2 atom-1 atom-3\" d=\"M 113.0,138.1 L 142.7,155.3\" style=\"fill:none;fill-rule:evenodd;stroke:#FF0000;stroke-width:2.0px;stroke-linecap:butt;stroke-linejoin:miter;stroke-opacity:1\"/>\n",
       "<path d=\"M 79.6,123.1 L 83.3,121.0 L 84.8,121.8\" style=\"fill:none;stroke:#000000;stroke-width:2.0px;stroke-linecap:butt;stroke-linejoin:miter;stroke-opacity:1;\"/>\n",
       "<path class=\"atom-2\" d=\"M 72.3 36.4 Q 72.3 30.7, 75.1 27.5 Q 78.0 24.3, 83.3 24.3 Q 88.6 24.3, 91.4 27.5 Q 94.3 30.7, 94.3 36.4 Q 94.3 42.3, 91.4 45.6 Q 88.5 48.9, 83.3 48.9 Q 78.0 48.9, 75.1 45.6 Q 72.3 42.3, 72.3 36.4 M 83.3 46.1 Q 86.9 46.1, 88.9 43.7 Q 90.9 41.2, 90.9 36.4 Q 90.9 31.7, 88.9 29.4 Q 86.9 27.0, 83.3 27.0 Q 79.6 27.0, 77.6 29.3 Q 75.6 31.7, 75.6 36.4 Q 75.6 41.3, 77.6 43.7 Q 79.6 46.1, 83.3 46.1 \" fill=\"#FF0000\"/>\n",
       "<path class=\"atom-3\" d=\"M 145.5 163.3 Q 145.5 157.6, 148.4 154.4 Q 151.2 151.1, 156.5 151.1 Q 161.8 151.1, 164.7 154.4 Q 167.5 157.6, 167.5 163.3 Q 167.5 169.1, 164.6 172.5 Q 161.8 175.7, 156.5 175.7 Q 151.2 175.7, 148.4 172.5 Q 145.5 169.2, 145.5 163.3 M 156.5 173.0 Q 160.2 173.0, 162.1 170.6 Q 164.1 168.1, 164.1 163.3 Q 164.1 158.6, 162.1 156.3 Q 160.2 153.9, 156.5 153.9 Q 152.9 153.9, 150.9 156.2 Q 148.9 158.6, 148.9 163.3 Q 148.9 168.2, 150.9 170.6 Q 152.9 173.0, 156.5 173.0 \" fill=\"#FF0000\"/>\n",
       "<path class=\"atom-3\" d=\"M 171.3 151.4 L 174.5 151.4 L 174.5 161.6 L 186.8 161.6 L 186.8 151.4 L 190.0 151.4 L 190.0 175.4 L 186.8 175.4 L 186.8 164.3 L 174.5 164.3 L 174.5 175.4 L 171.3 175.4 L 171.3 151.4 \" fill=\"#FF0000\"/>\n",
       "</svg>"
      ],
      "text/plain": [
       "<IPython.core.display.SVG object>"
      ]
     },
     "metadata": {},
     "output_type": "display_data"
    },
    {
     "name": "stdout",
     "output_type": "stream",
     "text": [
      "Reactant 2\n"
     ]
    },
    {
     "data": {
      "image/svg+xml": [
       "<svg xmlns=\"http://www.w3.org/2000/svg\" xmlns:rdkit=\"http://www.rdkit.org/xml\" xmlns:xlink=\"http://www.w3.org/1999/xlink\" version=\"1.1\" baseProfile=\"full\" xml:space=\"preserve\" width=\"600px\" height=\"200px\" viewBox=\"0 0 600 200\">\n",
       "<!-- END OF HEADER -->\n",
       "<rect style=\"opacity:1.0;fill:#FFFFFF;stroke:none\" width=\"600.0\" height=\"200.0\" x=\"0.0\" y=\"0.0\"> </rect>\n",
       "<path class=\"bond-0 atom-0 atom-1\" d=\"M 15.7,99.8 L 71.6,99.8\" style=\"fill:none;fill-rule:evenodd;stroke:#000000;stroke-width:2.0px;stroke-linecap:butt;stroke-linejoin:miter;stroke-opacity:1\"/>\n",
       "<path class=\"bond-0 atom-0 atom-1\" d=\"M 71.6,99.8 L 127.4,99.8\" style=\"fill:none;fill-rule:evenodd;stroke:#FF0000;stroke-width:2.0px;stroke-linecap:butt;stroke-linejoin:miter;stroke-opacity:1\"/>\n",
       "<path class=\"atom-1\" d=\"M 131.7 99.9 Q 131.7 93.1, 135.1 89.3 Q 138.4 85.5, 144.7 85.5 Q 151.0 85.5, 154.3 89.3 Q 157.7 93.1, 157.7 99.9 Q 157.7 106.7, 154.3 110.7 Q 150.9 114.5, 144.7 114.5 Q 138.5 114.5, 135.1 110.7 Q 131.7 106.8, 131.7 99.9 M 144.7 111.3 Q 149.0 111.3, 151.3 108.5 Q 153.7 105.5, 153.7 99.9 Q 153.7 94.3, 151.3 91.5 Q 149.0 88.7, 144.7 88.7 Q 140.4 88.7, 138.0 91.5 Q 135.7 94.3, 135.7 99.9 Q 135.7 105.6, 138.0 108.5 Q 140.4 111.3, 144.7 111.3 \" fill=\"#FF0000\"/>\n",
       "<path class=\"atom-1\" d=\"M 162.1 85.8 L 165.9 85.8 L 165.9 97.8 L 180.4 97.8 L 180.4 85.8 L 184.3 85.8 L 184.3 114.1 L 180.4 114.1 L 180.4 101.0 L 165.9 101.0 L 165.9 114.1 L 162.1 114.1 L 162.1 85.8 \" fill=\"#FF0000\"/>\n",
       "</svg>"
      ],
      "text/plain": [
       "<IPython.core.display.SVG object>"
      ]
     },
     "metadata": {},
     "output_type": "display_data"
    },
    {
     "name": "stdout",
     "output_type": "stream",
     "text": [
      "Catalyst\n"
     ]
    },
    {
     "data": {
      "image/svg+xml": [
       "<svg xmlns=\"http://www.w3.org/2000/svg\" xmlns:rdkit=\"http://www.rdkit.org/xml\" xmlns:xlink=\"http://www.w3.org/1999/xlink\" version=\"1.1\" baseProfile=\"full\" xml:space=\"preserve\" width=\"600px\" height=\"200px\" viewBox=\"0 0 600 200\">\n",
       "<!-- END OF HEADER -->\n",
       "<rect style=\"opacity:1.0;fill:#FFFFFF;stroke:none\" width=\"600.0\" height=\"200.0\" x=\"0.0\" y=\"0.0\"> </rect>\n",
       "<path class=\"atom-0\" d=\"M 80.0 85.9 L 83.9 85.9 L 83.9 98.0 L 98.4 98.0 L 98.4 85.9 L 102.2 85.9 L 102.2 114.2 L 98.4 114.2 L 98.4 101.2 L 83.9 101.2 L 83.9 114.2 L 80.0 114.2 L 80.0 85.9 \" fill=\"#000000\"/>\n",
       "<path class=\"atom-0\" d=\"M 107.6 91.0 L 112.6 91.0 L 112.6 85.8 L 114.8 85.8 L 114.8 91.0 L 120.0 91.0 L 120.0 92.9 L 114.8 92.9 L 114.8 98.2 L 112.6 98.2 L 112.6 92.9 L 107.6 92.9 L 107.6 91.0 \" fill=\"#000000\"/>\n",
       "</svg>"
      ],
      "text/plain": [
       "<IPython.core.display.SVG object>"
      ]
     },
     "metadata": {},
     "output_type": "display_data"
    },
    {
     "name": "stdout",
     "output_type": "stream",
     "text": [
      "--------------------------------------\n",
      "--------------------------------------\n"
     ]
    },
    {
     "data": {
      "text/plain": [
       "[1,\n",
       " [<rdkit.Chem.rdchem.Mol at 0x182808ddfc0>,\n",
       "  <rdkit.Chem.rdchem.Mol at 0x182808ddf50>,\n",
       "  <rdkit.Chem.rdchem.Mol at 0x182808dc350>]]"
      ]
     },
     "execution_count": 29,
     "metadata": {},
     "output_type": "execute_result"
    }
   ],
   "source": [
    "from chemicalbd.bond_disconnector import ester_disconnection\n",
    "ester_disconnection(ester) #The function corresponding to the ester disconnection is run"
   ]
  },
  {
   "cell_type": "markdown",
   "id": "051f1ab6-5895-4616-a18a-c379dd0dfdd4",
   "metadata": {},
   "source": [
    "The expected reactants: acetic acid and methanol, with a strong acid as a catalyst are displayed. Also, a list containing as a first element 1 (signifying that an ester disconnection was found) and a list of Mol objects (corresponding to the displayed molecules) is returned."
   ]
  },
  {
   "cell_type": "markdown",
   "id": "86c21c82-e3fa-4b1b-aee4-141b2aa97095",
   "metadata": {},
   "source": [
    "### Function for disconnecting aldehydes"
   ]
  },
  {
   "cell_type": "markdown",
   "id": "d8c955c3-4ef6-465c-95eb-1bb2e508778a",
   "metadata": {},
   "source": [
    "The function that disconnects aldehydes is called swern_oxidation. The name comes from the name reaction that is used to generate the aldehyde from the oxidation of a primary alcohol. This method was chosen as the Swern Oxidation is a reaction that offers a good chemoselectivity, oxidizing selectively primary alcohols to the corresponding aldehyde."
   ]
  },
  {
   "cell_type": "markdown",
   "id": "30907e15-3398-4725-a7e8-cc097cb8026f",
   "metadata": {},
   "source": [
    "The functionality can be demonstrated by taking the example of succinaldehyde, which is displayed below."
   ]
  },
  {
   "cell_type": "code",
   "execution_count": 32,
   "id": "154ce81c-b324-429f-8bfe-50aa2cf2dbf4",
   "metadata": {},
   "outputs": [
    {
     "data": {
      "image/png": "[encoded data removed]",
      "image/svg+xml": [
       "<?xml version='1.0' encoding='iso-8859-1'?>\n",
       "<svg version='1.1' baseProfile='full'\n",
       "              xmlns='http://www.w3.org/2000/svg'\n",
       "                      xmlns:rdkit='http://www.rdkit.org/xml'\n",
       "                      xmlns:xlink='http://www.w3.org/1999/xlink'\n",
       "                  xml:space='preserve'\n",
       "width='450px' height='150px' viewBox='0 0 450 150'>\n",
       "<!-- END OF HEADER -->\n",
       "<rect style='opacity:1.0;fill:#FFFFFF;stroke:none' width='450.0' height='150.0' x='0.0' y='0.0'> </rect>\n",
       "<path class='bond-0 atom-0 atom-1' d='M 404.4,79.8 L 372.0,63.2' style='fill:none;fill-rule:evenodd;stroke:#FF0000;stroke-width:2.0px;stroke-linecap:butt;stroke-linejoin:miter;stroke-opacity:1' />\n",
       "<path class='bond-0 atom-0 atom-1' d='M 372.0,63.2 L 339.6,46.7' style='fill:none;fill-rule:evenodd;stroke:#000000;stroke-width:2.0px;stroke-linecap:butt;stroke-linejoin:miter;stroke-opacity:1' />\n",
       "<path class='bond-0 atom-0 atom-1' d='M 398.3,91.7 L 365.9,75.2' style='fill:none;fill-rule:evenodd;stroke:#FF0000;stroke-width:2.0px;stroke-linecap:butt;stroke-linejoin:miter;stroke-opacity:1' />\n",
       "<path class='bond-0 atom-0 atom-1' d='M 365.9,75.2 L 340.3,62.1' style='fill:none;fill-rule:evenodd;stroke:#000000;stroke-width:2.0px;stroke-linecap:butt;stroke-linejoin:miter;stroke-opacity:1' />\n",
       "<path class='bond-1 atom-1 atom-2' d='M 339.6,46.7 L 264.7,95.1' style='fill:none;fill-rule:evenodd;stroke:#000000;stroke-width:2.0px;stroke-linecap:butt;stroke-linejoin:miter;stroke-opacity:1' />\n",
       "<path class='bond-2 atom-2 atom-3' d='M 264.7,95.1 L 185.3,54.5' style='fill:none;fill-rule:evenodd;stroke:#000000;stroke-width:2.0px;stroke-linecap:butt;stroke-linejoin:miter;stroke-opacity:1' />\n",
       "<path class='bond-3 atom-3 atom-4' d='M 185.3,54.5 L 110.4,102.9' style='fill:none;fill-rule:evenodd;stroke:#000000;stroke-width:2.0px;stroke-linecap:butt;stroke-linejoin:miter;stroke-opacity:1' />\n",
       "<path class='bond-4 atom-4 atom-5' d='M 110.4,102.9 L 78.0,86.4' style='fill:none;fill-rule:evenodd;stroke:#000000;stroke-width:2.0px;stroke-linecap:butt;stroke-linejoin:miter;stroke-opacity:1' />\n",
       "<path class='bond-4 atom-4 atom-5' d='M 78.0,86.4 L 45.6,69.8' style='fill:none;fill-rule:evenodd;stroke:#FF0000;stroke-width:2.0px;stroke-linecap:butt;stroke-linejoin:miter;stroke-opacity:1' />\n",
       "<path class='bond-4 atom-4 atom-5' d='M 109.7,87.5 L 84.1,74.5' style='fill:none;fill-rule:evenodd;stroke:#000000;stroke-width:2.0px;stroke-linecap:butt;stroke-linejoin:miter;stroke-opacity:1' />\n",
       "<path class='bond-4 atom-4 atom-5' d='M 84.1,74.5 L 51.7,57.9' style='fill:none;fill-rule:evenodd;stroke:#FF0000;stroke-width:2.0px;stroke-linecap:butt;stroke-linejoin:miter;stroke-opacity:1' />\n",
       "<path d='M 341.2,47.5 L 339.6,46.7 L 335.8,49.1' style='fill:none;stroke:#000000;stroke-width:2.0px;stroke-linecap:butt;stroke-linejoin:miter;stroke-opacity:1;' />\n",
       "<path d='M 268.4,92.7 L 264.7,95.1 L 260.7,93.1' style='fill:none;stroke:#000000;stroke-width:2.0px;stroke-linecap:butt;stroke-linejoin:miter;stroke-opacity:1;' />\n",
       "<path d='M 189.3,56.5 L 185.3,54.5 L 181.6,56.9' style='fill:none;stroke:#000000;stroke-width:2.0px;stroke-linecap:butt;stroke-linejoin:miter;stroke-opacity:1;' />\n",
       "<path d='M 114.2,100.5 L 110.4,102.9 L 108.8,102.1' style='fill:none;stroke:#000000;stroke-width:2.0px;stroke-linecap:butt;stroke-linejoin:miter;stroke-opacity:1;' />\n",
       "<path class='atom-0' d='M 404.3 93.3\n",
       "Q 404.3 87.2, 407.3 83.8\n",
       "Q 410.3 80.5, 415.9 80.5\n",
       "Q 421.5 80.5, 424.5 83.8\n",
       "Q 427.5 87.2, 427.5 93.3\n",
       "Q 427.5 99.4, 424.5 102.9\n",
       "Q 421.4 106.4, 415.9 106.4\n",
       "Q 410.3 106.4, 407.3 102.9\n",
       "Q 404.3 99.5, 404.3 93.3\n",
       "M 415.9 103.5\n",
       "Q 419.8 103.5, 421.8 101.0\n",
       "Q 423.9 98.4, 423.9 93.3\n",
       "Q 423.9 88.3, 421.8 85.8\n",
       "Q 419.8 83.3, 415.9 83.3\n",
       "Q 412.1 83.3, 410.0 85.8\n",
       "Q 407.9 88.3, 407.9 93.3\n",
       "Q 407.9 98.4, 410.0 101.0\n",
       "Q 412.1 103.5, 415.9 103.5\n",
       "' fill='#FF0000'/>\n",
       "<path class='atom-5' d='M 22.5 56.5\n",
       "Q 22.5 50.4, 25.5 47.0\n",
       "Q 28.5 43.6, 34.1 43.6\n",
       "Q 39.7 43.6, 42.7 47.0\n",
       "Q 45.7 50.4, 45.7 56.5\n",
       "Q 45.7 62.6, 42.7 66.1\n",
       "Q 39.6 69.5, 34.1 69.5\n",
       "Q 28.5 69.5, 25.5 66.1\n",
       "Q 22.5 62.6, 22.5 56.5\n",
       "M 34.1 66.7\n",
       "Q 37.9 66.7, 40.0 64.1\n",
       "Q 42.1 61.5, 42.1 56.5\n",
       "Q 42.1 51.5, 40.0 49.0\n",
       "Q 37.9 46.5, 34.1 46.5\n",
       "Q 30.2 46.5, 28.1 49.0\n",
       "Q 26.1 51.5, 26.1 56.5\n",
       "Q 26.1 61.6, 28.1 64.1\n",
       "Q 30.2 66.7, 34.1 66.7\n",
       "' fill='#FF0000'/>\n",
       "</svg>\n"
      ],
      "text/html": [
       "<?xml version='1.0' encoding='iso-8859-1'?>\n",
       "<svg version='1.1' baseProfile='full'\n",
       "              xmlns='http://www.w3.org/2000/svg'\n",
       "                      xmlns:rdkit='http://www.rdkit.org/xml'\n",
       "                      xmlns:xlink='http://www.w3.org/1999/xlink'\n",
       "                  xml:space='preserve'\n",
       "width='450px' height='150px' viewBox='0 0 450 150'>\n",
       "<!-- END OF HEADER -->\n",
       "<rect style='opacity:1.0;fill:#FFFFFF;stroke:none' width='450.0' height='150.0' x='0.0' y='0.0'> </rect>\n",
       "<path class='bond-0 atom-0 atom-1' d='M 404.4,79.8 L 372.0,63.2' style='fill:none;fill-rule:evenodd;stroke:#FF0000;stroke-width:2.0px;stroke-linecap:butt;stroke-linejoin:miter;stroke-opacity:1' />\n",
       "<path class='bond-0 atom-0 atom-1' d='M 372.0,63.2 L 339.6,46.7' style='fill:none;fill-rule:evenodd;stroke:#000000;stroke-width:2.0px;stroke-linecap:butt;stroke-linejoin:miter;stroke-opacity:1' />\n",
       "<path class='bond-0 atom-0 atom-1' d='M 398.3,91.7 L 365.9,75.2' style='fill:none;fill-rule:evenodd;stroke:#FF0000;stroke-width:2.0px;stroke-linecap:butt;stroke-linejoin:miter;stroke-opacity:1' />\n",
       "<path class='bond-0 atom-0 atom-1' d='M 365.9,75.2 L 340.3,62.1' style='fill:none;fill-rule:evenodd;stroke:#000000;stroke-width:2.0px;stroke-linecap:butt;stroke-linejoin:miter;stroke-opacity:1' />\n",
       "<path class='bond-1 atom-1 atom-2' d='M 339.6,46.7 L 264.7,95.1' style='fill:none;fill-rule:evenodd;stroke:#000000;stroke-width:2.0px;stroke-linecap:butt;stroke-linejoin:miter;stroke-opacity:1' />\n",
       "<path class='bond-2 atom-2 atom-3' d='M 264.7,95.1 L 185.3,54.5' style='fill:none;fill-rule:evenodd;stroke:#000000;stroke-width:2.0px;stroke-linecap:butt;stroke-linejoin:miter;stroke-opacity:1' />\n",
       "<path class='bond-3 atom-3 atom-4' d='M 185.3,54.5 L 110.4,102.9' style='fill:none;fill-rule:evenodd;stroke:#000000;stroke-width:2.0px;stroke-linecap:butt;stroke-linejoin:miter;stroke-opacity:1' />\n",
       "<path class='bond-4 atom-4 atom-5' d='M 110.4,102.9 L 78.0,86.4' style='fill:none;fill-rule:evenodd;stroke:#000000;stroke-width:2.0px;stroke-linecap:butt;stroke-linejoin:miter;stroke-opacity:1' />\n",
       "<path class='bond-4 atom-4 atom-5' d='M 78.0,86.4 L 45.6,69.8' style='fill:none;fill-rule:evenodd;stroke:#FF0000;stroke-width:2.0px;stroke-linecap:butt;stroke-linejoin:miter;stroke-opacity:1' />\n",
       "<path class='bond-4 atom-4 atom-5' d='M 109.7,87.5 L 84.1,74.5' style='fill:none;fill-rule:evenodd;stroke:#000000;stroke-width:2.0px;stroke-linecap:butt;stroke-linejoin:miter;stroke-opacity:1' />\n",
       "<path class='bond-4 atom-4 atom-5' d='M 84.1,74.5 L 51.7,57.9' style='fill:none;fill-rule:evenodd;stroke:#FF0000;stroke-width:2.0px;stroke-linecap:butt;stroke-linejoin:miter;stroke-opacity:1' />\n",
       "<path d='M 341.2,47.5 L 339.6,46.7 L 335.8,49.1' style='fill:none;stroke:#000000;stroke-width:2.0px;stroke-linecap:butt;stroke-linejoin:miter;stroke-opacity:1;' />\n",
       "<path d='M 268.4,92.7 L 264.7,95.1 L 260.7,93.1' style='fill:none;stroke:#000000;stroke-width:2.0px;stroke-linecap:butt;stroke-linejoin:miter;stroke-opacity:1;' />\n",
       "<path d='M 189.3,56.5 L 185.3,54.5 L 181.6,56.9' style='fill:none;stroke:#000000;stroke-width:2.0px;stroke-linecap:butt;stroke-linejoin:miter;stroke-opacity:1;' />\n",
       "<path d='M 114.2,100.5 L 110.4,102.9 L 108.8,102.1' style='fill:none;stroke:#000000;stroke-width:2.0px;stroke-linecap:butt;stroke-linejoin:miter;stroke-opacity:1;' />\n",
       "<path class='atom-0' d='M 404.3 93.3\n",
       "Q 404.3 87.2, 407.3 83.8\n",
       "Q 410.3 80.5, 415.9 80.5\n",
       "Q 421.5 80.5, 424.5 83.8\n",
       "Q 427.5 87.2, 427.5 93.3\n",
       "Q 427.5 99.4, 424.5 102.9\n",
       "Q 421.4 106.4, 415.9 106.4\n",
       "Q 410.3 106.4, 407.3 102.9\n",
       "Q 404.3 99.5, 404.3 93.3\n",
       "M 415.9 103.5\n",
       "Q 419.8 103.5, 421.8 101.0\n",
       "Q 423.9 98.4, 423.9 93.3\n",
       "Q 423.9 88.3, 421.8 85.8\n",
       "Q 419.8 83.3, 415.9 83.3\n",
       "Q 412.1 83.3, 410.0 85.8\n",
       "Q 407.9 88.3, 407.9 93.3\n",
       "Q 407.9 98.4, 410.0 101.0\n",
       "Q 412.1 103.5, 415.9 103.5\n",
       "' fill='#FF0000'/>\n",
       "<path class='atom-5' d='M 22.5 56.5\n",
       "Q 22.5 50.4, 25.5 47.0\n",
       "Q 28.5 43.6, 34.1 43.6\n",
       "Q 39.7 43.6, 42.7 47.0\n",
       "Q 45.7 50.4, 45.7 56.5\n",
       "Q 45.7 62.6, 42.7 66.1\n",
       "Q 39.6 69.5, 34.1 69.5\n",
       "Q 28.5 69.5, 25.5 66.1\n",
       "Q 22.5 62.6, 22.5 56.5\n",
       "M 34.1 66.7\n",
       "Q 37.9 66.7, 40.0 64.1\n",
       "Q 42.1 61.5, 42.1 56.5\n",
       "Q 42.1 51.5, 40.0 49.0\n",
       "Q 37.9 46.5, 34.1 46.5\n",
       "Q 30.2 46.5, 28.1 49.0\n",
       "Q 26.1 51.5, 26.1 56.5\n",
       "Q 26.1 61.6, 28.1 64.1\n",
       "Q 30.2 66.7, 34.1 66.7\n",
       "' fill='#FF0000'/>\n",
       "</svg>\n"
      ],
      "text/plain": [
       "<rdkit.Chem.rdchem.Mol at 0x18280b4c820>"
      ]
     },
     "metadata": {},
     "output_type": "display_data"
    }
   ],
   "source": [
    "aldehyde_smiles = 'O=CCCC=O' #Defines to molecule to be analyzed, using its SMILES representation\n",
    "aldehyde = Chem.MolFromSmiles(aldehyde_smiles) #The Mol object is created from the SMILES representation\n",
    "display(aldehyde) #The dialdehyde, succinaldehyde, is displayed"
   ]
  },
  {
   "cell_type": "code",
   "execution_count": 39,
   "id": "ee9ce6db-f5dd-4d16-b564-63964e76d41f",
   "metadata": {},
   "outputs": [
    {
     "name": "stdout",
     "output_type": "stream",
     "text": [
      "Aldehyde disconnection spotted\n",
      "--------------------------------------\n",
      "Option 1\n",
      "Reactants\n"
     ]
    },
    {
     "data": {
      "image/svg+xml": [
       "<svg xmlns=\"http://www.w3.org/2000/svg\" xmlns:rdkit=\"http://www.rdkit.org/xml\" xmlns:xlink=\"http://www.w3.org/1999/xlink\" version=\"1.1\" baseProfile=\"full\" xml:space=\"preserve\" width=\"800px\" height=\"200px\" viewBox=\"0 0 800 200\">\n",
       "<!-- END OF HEADER -->\n",
       "<rect style=\"opacity:1.0;fill:#FFFFFF;stroke:none\" width=\"800.0\" height=\"200.0\" x=\"0.0\" y=\"0.0\"> </rect>\n",
       "<path class=\"bond-0 atom-0 atom-1\" d=\"M 180.4,101.4 L 166.9,94.5\" style=\"fill:none;fill-rule:evenodd;stroke:#FF0000;stroke-width:2.0px;stroke-linecap:butt;stroke-linejoin:miter;stroke-opacity:1\"/>\n",
       "<path class=\"bond-0 atom-0 atom-1\" d=\"M 166.9,94.5 L 153.4,87.6\" style=\"fill:none;fill-rule:evenodd;stroke:#000000;stroke-width:2.0px;stroke-linecap:butt;stroke-linejoin:miter;stroke-opacity:1\"/>\n",
       "<path class=\"bond-0 atom-0 atom-1\" d=\"M 177.9,106.3 L 164.4,99.4\" style=\"fill:none;fill-rule:evenodd;stroke:#FF0000;stroke-width:2.0px;stroke-linecap:butt;stroke-linejoin:miter;stroke-opacity:1\"/>\n",
       "<path class=\"bond-0 atom-0 atom-1\" d=\"M 164.4,99.4 L 153.8,94.0\" style=\"fill:none;fill-rule:evenodd;stroke:#000000;stroke-width:2.0px;stroke-linecap:butt;stroke-linejoin:miter;stroke-opacity:1\"/>\n",
       "<path class=\"bond-1 atom-1 atom-2\" d=\"M 153.4,87.6 L 122.3,107.7\" style=\"fill:none;fill-rule:evenodd;stroke:#000000;stroke-width:2.0px;stroke-linecap:butt;stroke-linejoin:miter;stroke-opacity:1\"/>\n",
       "<path class=\"bond-2 atom-2 atom-3\" d=\"M 122.3,107.7 L 89.3,90.8\" style=\"fill:none;fill-rule:evenodd;stroke:#000000;stroke-width:2.0px;stroke-linecap:butt;stroke-linejoin:miter;stroke-opacity:1\"/>\n",
       "<path class=\"bond-3 atom-3 atom-4\" d=\"M 89.3,90.8 L 58.2,111.0\" style=\"fill:none;fill-rule:evenodd;stroke:#000000;stroke-width:2.0px;stroke-linecap:butt;stroke-linejoin:miter;stroke-opacity:1\"/>\n",
       "<path class=\"bond-4 atom-4 atom-5\" d=\"M 58.2,111.0 L 44.7,104.1\" style=\"fill:none;fill-rule:evenodd;stroke:#000000;stroke-width:2.0px;stroke-linecap:butt;stroke-linejoin:miter;stroke-opacity:1\"/>\n",
       "<path class=\"bond-4 atom-4 atom-5\" d=\"M 44.7,104.1 L 31.2,97.2\" style=\"fill:none;fill-rule:evenodd;stroke:#FF0000;stroke-width:2.0px;stroke-linecap:butt;stroke-linejoin:miter;stroke-opacity:1\"/>\n",
       "<path d=\"M 154.1,87.9 L 153.4,87.6 L 151.9,88.6\" style=\"fill:none;stroke:#000000;stroke-width:2.0px;stroke-linecap:butt;stroke-linejoin:miter;stroke-opacity:1;\"/>\n",
       "<path d=\"M 123.9,106.7 L 122.3,107.7 L 120.7,106.9\" style=\"fill:none;stroke:#000000;stroke-width:2.0px;stroke-linecap:butt;stroke-linejoin:miter;stroke-opacity:1;\"/>\n",
       "<path d=\"M 91.0,91.7 L 89.3,90.8 L 87.8,91.9\" style=\"fill:none;stroke:#000000;stroke-width:2.0px;stroke-linecap:butt;stroke-linejoin:miter;stroke-opacity:1;\"/>\n",
       "<path d=\"M 59.7,110.0 L 58.2,111.0 L 57.5,110.6\" style=\"fill:none;stroke:#000000;stroke-width:2.0px;stroke-linecap:butt;stroke-linejoin:miter;stroke-opacity:1;\"/>\n",
       "<path class=\"atom-0\" d=\"M 180.4 107.0 Q 180.4 104.5, 181.6 103.0 Q 182.9 101.6, 185.2 101.6 Q 187.5 101.6, 188.8 103.0 Q 190.0 104.5, 190.0 107.0 Q 190.0 109.5, 188.7 111.0 Q 187.5 112.4, 185.2 112.4 Q 182.9 112.4, 181.6 111.0 Q 180.4 109.5, 180.4 107.0 M 185.2 111.2 Q 186.8 111.2, 187.6 110.2 Q 188.5 109.1, 188.5 107.0 Q 188.5 104.9, 187.6 103.9 Q 186.8 102.8, 185.2 102.8 Q 183.6 102.8, 182.7 103.9 Q 181.8 104.9, 181.8 107.0 Q 181.8 109.1, 182.7 110.2 Q 183.6 111.2, 185.2 111.2 \" fill=\"#FF0000\"/>\n",
       "<path class=\"atom-5\" d=\"M 10.0 88.9 L 11.4 88.9 L 11.4 93.4 L 16.8 93.4 L 16.8 88.9 L 18.2 88.9 L 18.2 99.4 L 16.8 99.4 L 16.8 94.6 L 11.4 94.6 L 11.4 99.4 L 10.0 99.4 L 10.0 88.9 \" fill=\"#FF0000\"/>\n",
       "<path class=\"atom-5\" d=\"M 20.4 94.1 Q 20.4 91.6, 21.6 90.2 Q 22.9 88.8, 25.2 88.8 Q 27.5 88.8, 28.8 90.2 Q 30.0 91.6, 30.0 94.1 Q 30.0 96.7, 28.7 98.1 Q 27.5 99.6, 25.2 99.6 Q 22.9 99.6, 21.6 98.1 Q 20.4 96.7, 20.4 94.1 M 25.2 98.4 Q 26.8 98.4, 27.6 97.3 Q 28.5 96.2, 28.5 94.1 Q 28.5 92.1, 27.6 91.0 Q 26.8 90.0, 25.2 90.0 Q 23.6 90.0, 22.7 91.0 Q 21.9 92.1, 21.9 94.1 Q 21.9 96.3, 22.7 97.3 Q 23.6 98.4, 25.2 98.4 \" fill=\"#FF0000\"/>\n",
       "<path class=\"bond-0 atom-0 atom-1\" d=\"M 267.9,130.5 L 281.7,122.5\" style=\"fill:none;fill-rule:evenodd;stroke:#000000;stroke-width:2.0px;stroke-linecap:butt;stroke-linejoin:miter;stroke-opacity:1\"/>\n",
       "<path class=\"bond-0 atom-0 atom-1\" d=\"M 281.7,122.5 L 295.4,114.6\" style=\"fill:none;fill-rule:evenodd;stroke:#CCCC00;stroke-width:2.0px;stroke-linecap:butt;stroke-linejoin:miter;stroke-opacity:1\"/>\n",
       "<path class=\"bond-1 atom-1 atom-2\" d=\"M 304.6,114.6 L 318.3,122.5\" style=\"fill:none;fill-rule:evenodd;stroke:#CCCC00;stroke-width:2.0px;stroke-linecap:butt;stroke-linejoin:miter;stroke-opacity:1\"/>\n",
       "<path class=\"bond-1 atom-1 atom-2\" d=\"M 318.3,122.5 L 332.1,130.5\" style=\"fill:none;fill-rule:evenodd;stroke:#000000;stroke-width:2.0px;stroke-linecap:butt;stroke-linejoin:miter;stroke-opacity:1\"/>\n",
       "<path class=\"bond-2 atom-1 atom-3\" d=\"M 302.8,105.5 L 302.8,93.5\" style=\"fill:none;fill-rule:evenodd;stroke:#CCCC00;stroke-width:2.0px;stroke-linecap:butt;stroke-linejoin:miter;stroke-opacity:1\"/>\n",
       "<path class=\"bond-2 atom-1 atom-3\" d=\"M 302.8,93.5 L 302.8,81.5\" style=\"fill:none;fill-rule:evenodd;stroke:#FF0000;stroke-width:2.0px;stroke-linecap:butt;stroke-linejoin:miter;stroke-opacity:1\"/>\n",
       "<path class=\"bond-2 atom-1 atom-3\" d=\"M 297.2,105.5 L 297.2,93.5\" style=\"fill:none;fill-rule:evenodd;stroke:#CCCC00;stroke-width:2.0px;stroke-linecap:butt;stroke-linejoin:miter;stroke-opacity:1\"/>\n",
       "<path class=\"bond-2 atom-1 atom-3\" d=\"M 297.2,93.5 L 297.2,81.5\" style=\"fill:none;fill-rule:evenodd;stroke:#FF0000;stroke-width:2.0px;stroke-linecap:butt;stroke-linejoin:miter;stroke-opacity:1\"/>\n",
       "<path class=\"atom-1\" d=\"M 297.0 115.5 Q 297.2 115.6, 297.6 115.8 Q 298.1 116.0, 298.7 116.1 Q 299.2 116.2, 299.7 116.2 Q 300.7 116.2, 301.3 115.8 Q 301.9 115.3, 301.9 114.4 Q 301.9 113.9, 301.6 113.5 Q 301.3 113.1, 300.9 112.9 Q 300.4 112.8, 299.7 112.5 Q 298.8 112.2, 298.2 112.0 Q 297.6 111.7, 297.2 111.2 Q 296.9 110.6, 296.9 109.6 Q 296.9 108.3, 297.7 107.5 Q 298.7 106.7, 300.4 106.7 Q 301.6 106.7, 303.0 107.3 L 302.7 108.4 Q 301.4 107.9, 300.5 107.9 Q 299.5 107.9, 298.9 108.3 Q 298.3 108.7, 298.3 109.5 Q 298.3 110.0, 298.6 110.4 Q 298.9 110.7, 299.3 110.9 Q 299.8 111.1, 300.5 111.3 Q 301.4 111.6, 302.0 111.9 Q 302.6 112.2, 303.0 112.8 Q 303.4 113.4, 303.4 114.4 Q 303.4 115.9, 302.4 116.7 Q 301.4 117.4, 299.8 117.4 Q 298.9 117.4, 298.2 117.2 Q 297.5 117.0, 296.6 116.7 L 297.0 115.5 \" fill=\"#CCCC00\"/>\n",
       "<path class=\"atom-3\" d=\"M 295.2 74.9 Q 295.2 72.4, 296.4 71.0 Q 297.7 69.5, 300.0 69.5 Q 302.3 69.5, 303.6 71.0 Q 304.8 72.4, 304.8 74.9 Q 304.8 77.4, 303.6 78.9 Q 302.3 80.3, 300.0 80.3 Q 297.7 80.3, 296.4 78.9 Q 295.2 77.4, 295.2 74.9 M 300.0 79.1 Q 301.6 79.1, 302.5 78.1 Q 303.3 77.0, 303.3 74.9 Q 303.3 72.8, 302.5 71.8 Q 301.6 70.7, 300.0 70.7 Q 298.4 70.7, 297.5 71.8 Q 296.7 72.8, 296.7 74.9 Q 296.7 77.0, 297.5 78.1 Q 298.4 79.1, 300.0 79.1 \" fill=\"#FF0000\"/>\n",
       "<path class=\"bond-0 atom-0 atom-1\" d=\"M 562.7,97.0 L 535.4,122.1\" style=\"fill:none;fill-rule:evenodd;stroke:#000000;stroke-width:2.0px;stroke-linecap:butt;stroke-linejoin:miter;stroke-opacity:1\"/>\n",
       "<path class=\"bond-1 atom-1 atom-2\" d=\"M 535.4,122.1 L 520.3,117.4\" style=\"fill:none;fill-rule:evenodd;stroke:#000000;stroke-width:2.0px;stroke-linecap:butt;stroke-linejoin:miter;stroke-opacity:1\"/>\n",
       "<path class=\"bond-1 atom-1 atom-2\" d=\"M 520.3,117.4 L 505.2,112.7\" style=\"fill:none;fill-rule:evenodd;stroke:#0000FF;stroke-width:2.0px;stroke-linecap:butt;stroke-linejoin:miter;stroke-opacity:1\"/>\n",
       "<path class=\"bond-2 atom-2 atom-3\" d=\"M 494.8,115.9 L 483.8,126.0\" style=\"fill:none;fill-rule:evenodd;stroke:#0000FF;stroke-width:2.0px;stroke-linecap:butt;stroke-linejoin:miter;stroke-opacity:1\"/>\n",
       "<path class=\"bond-2 atom-2 atom-3\" d=\"M 483.8,126.0 L 472.7,136.2\" style=\"fill:none;fill-rule:evenodd;stroke:#000000;stroke-width:2.0px;stroke-linecap:butt;stroke-linejoin:miter;stroke-opacity:1\"/>\n",
       "<path class=\"bond-3 atom-3 atom-4\" d=\"M 472.7,136.2 L 437.3,125.1\" style=\"fill:none;fill-rule:evenodd;stroke:#000000;stroke-width:2.0px;stroke-linecap:butt;stroke-linejoin:miter;stroke-opacity:1\"/>\n",
       "<path class=\"bond-4 atom-2 atom-5\" d=\"M 498.5,104.6 L 495.2,89.7\" style=\"fill:none;fill-rule:evenodd;stroke:#0000FF;stroke-width:2.0px;stroke-linecap:butt;stroke-linejoin:miter;stroke-opacity:1\"/>\n",
       "<path class=\"bond-4 atom-2 atom-5\" d=\"M 495.2,89.7 L 491.9,74.9\" style=\"fill:none;fill-rule:evenodd;stroke:#000000;stroke-width:2.0px;stroke-linecap:butt;stroke-linejoin:miter;stroke-opacity:1\"/>\n",
       "<path class=\"bond-5 atom-5 atom-6\" d=\"M 491.9,74.9 L 456.5,63.8\" style=\"fill:none;fill-rule:evenodd;stroke:#000000;stroke-width:2.0px;stroke-linecap:butt;stroke-linejoin:miter;stroke-opacity:1\"/>\n",
       "<path d=\"M 536.7,120.9 L 535.4,122.1 L 534.6,121.9\" style=\"fill:none;stroke:#000000;stroke-width:2.0px;stroke-linecap:butt;stroke-linejoin:miter;stroke-opacity:1;\"/>\n",
       "<path d=\"M 473.3,135.7 L 472.7,136.2 L 471.0,135.6\" style=\"fill:none;stroke:#000000;stroke-width:2.0px;stroke-linecap:butt;stroke-linejoin:miter;stroke-opacity:1;\"/>\n",
       "<path d=\"M 492.1,75.6 L 491.9,74.9 L 490.1,74.3\" style=\"fill:none;stroke:#000000;stroke-width:2.0px;stroke-linecap:butt;stroke-linejoin:miter;stroke-opacity:1;\"/>\n",
       "<path class=\"atom-2\" d=\"M 497.7 105.8 L 501.1 111.4 Q 501.5 111.9, 502.0 112.9 Q 502.6 113.9, 502.6 114.0 L 502.6 105.8 L 504.0 105.8 L 504.0 116.3 L 502.5 116.3 L 498.9 110.2 Q 498.4 109.5, 498.0 108.7 Q 497.5 107.9, 497.4 107.6 L 497.4 116.3 L 496.0 116.3 L 496.0 105.8 L 497.7 105.8 \" fill=\"#0000FF\"/>\n",
       "<path class=\"bond-0 atom-0 atom-1\" d=\"M 666.5,128.7 L 674.8,114.3\" style=\"fill:none;fill-rule:evenodd;stroke:#00CC00;stroke-width:2.0px;stroke-linecap:butt;stroke-linejoin:miter;stroke-opacity:1\"/>\n",
       "<path class=\"bond-0 atom-0 atom-1\" d=\"M 674.8,114.3 L 683.1,99.9\" style=\"fill:none;fill-rule:evenodd;stroke:#000000;stroke-width:2.0px;stroke-linecap:butt;stroke-linejoin:miter;stroke-opacity:1\"/>\n",
       "<path class=\"bond-1 atom-1 atom-2\" d=\"M 686.4,99.9 L 678.6,86.5\" style=\"fill:none;fill-rule:evenodd;stroke:#000000;stroke-width:2.0px;stroke-linecap:butt;stroke-linejoin:miter;stroke-opacity:1\"/>\n",
       "<path class=\"bond-1 atom-1 atom-2\" d=\"M 678.6,86.5 L 670.9,73.1\" style=\"fill:none;fill-rule:evenodd;stroke:#FF0000;stroke-width:2.0px;stroke-linecap:butt;stroke-linejoin:miter;stroke-opacity:1\"/>\n",
       "<path class=\"bond-1 atom-1 atom-2\" d=\"M 681.5,102.7 L 673.8,89.3\" style=\"fill:none;fill-rule:evenodd;stroke:#000000;stroke-width:2.0px;stroke-linecap:butt;stroke-linejoin:miter;stroke-opacity:1\"/>\n",
       "<path class=\"bond-1 atom-1 atom-2\" d=\"M 673.8,89.3 L 666.1,75.9\" style=\"fill:none;fill-rule:evenodd;stroke:#FF0000;stroke-width:2.0px;stroke-linecap:butt;stroke-linejoin:miter;stroke-opacity:1\"/>\n",
       "<path class=\"bond-2 atom-1 atom-3\" d=\"M 683.1,99.9 L 720.2,99.9\" style=\"fill:none;fill-rule:evenodd;stroke:#000000;stroke-width:2.0px;stroke-linecap:butt;stroke-linejoin:miter;stroke-opacity:1\"/>\n",
       "<path class=\"bond-3 atom-3 atom-4\" d=\"M 717.0,99.9 L 724.8,113.4\" style=\"fill:none;fill-rule:evenodd;stroke:#000000;stroke-width:2.0px;stroke-linecap:butt;stroke-linejoin:miter;stroke-opacity:1\"/>\n",
       "<path class=\"bond-3 atom-3 atom-4\" d=\"M 724.8,113.4 L 732.6,126.9\" style=\"fill:none;fill-rule:evenodd;stroke:#FF0000;stroke-width:2.0px;stroke-linecap:butt;stroke-linejoin:miter;stroke-opacity:1\"/>\n",
       "<path class=\"bond-3 atom-3 atom-4\" d=\"M 721.8,97.2 L 729.6,110.6\" style=\"fill:none;fill-rule:evenodd;stroke:#000000;stroke-width:2.0px;stroke-linecap:butt;stroke-linejoin:miter;stroke-opacity:1\"/>\n",
       "<path class=\"bond-3 atom-3 atom-4\" d=\"M 729.6,110.6 L 737.4,124.1\" style=\"fill:none;fill-rule:evenodd;stroke:#FF0000;stroke-width:2.0px;stroke-linecap:butt;stroke-linejoin:miter;stroke-opacity:1\"/>\n",
       "<path class=\"bond-4 atom-3 atom-5\" d=\"M 720.2,99.9 L 727.5,87.4\" style=\"fill:none;fill-rule:evenodd;stroke:#000000;stroke-width:2.0px;stroke-linecap:butt;stroke-linejoin:miter;stroke-opacity:1\"/>\n",
       "<path class=\"bond-4 atom-3 atom-5\" d=\"M 727.5,87.4 L 734.7,74.8\" style=\"fill:none;fill-rule:evenodd;stroke:#00CC00;stroke-width:2.0px;stroke-linecap:butt;stroke-linejoin:miter;stroke-opacity:1\"/>\n",
       "<path d=\"M 682.7,100.7 L 683.1,99.9 L 685.0,99.9\" style=\"fill:none;stroke:#000000;stroke-width:2.0px;stroke-linecap:butt;stroke-linejoin:miter;stroke-opacity:1;\"/>\n",
       "<path d=\"M 718.4,99.9 L 720.2,99.9 L 720.6,99.3\" style=\"fill:none;stroke:#000000;stroke-width:2.0px;stroke-linecap:butt;stroke-linejoin:miter;stroke-opacity:1;\"/>\n",
       "<path class=\"atom-0\" d=\"M 654.8 132.4 Q 654.8 129.8, 656.0 128.4 Q 657.2 127.0, 659.5 127.0 Q 661.7 127.0, 662.9 128.6 L 661.9 129.4 Q 661.0 128.3, 659.5 128.3 Q 658.0 128.3, 657.1 129.3 Q 656.3 130.4, 656.3 132.4 Q 656.3 134.5, 657.1 135.5 Q 658.0 136.6, 659.7 136.6 Q 660.9 136.6, 662.2 135.9 L 662.6 137.0 Q 662.1 137.4, 661.2 137.6 Q 660.4 137.8, 659.5 137.8 Q 657.2 137.8, 656.0 136.4 Q 654.8 135.0, 654.8 132.4 \" fill=\"#00CC00\"/>\n",
       "<path class=\"atom-0\" d=\"M 663.9 126.4 L 665.3 126.4 L 665.3 137.7 L 663.9 137.7 L 663.9 126.4 \" fill=\"#00CC00\"/>\n",
       "<path class=\"atom-2\" d=\"M 659.8 67.9 Q 659.8 65.3, 661.0 63.9 Q 662.3 62.5, 664.6 62.5 Q 666.9 62.5, 668.2 63.9 Q 669.4 65.3, 669.4 67.9 Q 669.4 70.4, 668.2 71.9 Q 666.9 73.3, 664.6 73.3 Q 662.3 73.3, 661.0 71.9 Q 659.8 70.4, 659.8 67.9 M 664.6 72.1 Q 666.2 72.1, 667.1 71.0 Q 667.9 70.0, 667.9 67.9 Q 667.9 65.8, 667.1 64.8 Q 666.2 63.7, 664.6 63.7 Q 663.0 63.7, 662.1 64.7 Q 661.3 65.8, 661.3 67.9 Q 661.3 70.0, 662.1 71.0 Q 663.0 72.1, 664.6 72.1 \" fill=\"#FF0000\"/>\n",
       "<path class=\"atom-4\" d=\"M 733.9 132.1 Q 733.9 129.5, 735.2 128.1 Q 736.4 126.7, 738.8 126.7 Q 741.1 126.7, 742.3 128.1 Q 743.6 129.5, 743.6 132.1 Q 743.6 134.6, 742.3 136.1 Q 741.1 137.5, 738.8 137.5 Q 736.4 137.5, 735.2 136.1 Q 733.9 134.6, 733.9 132.1 M 738.8 136.3 Q 740.4 136.3, 741.2 135.3 Q 742.1 134.2, 742.1 132.1 Q 742.1 130.0, 741.2 129.0 Q 740.4 127.9, 738.8 127.9 Q 737.2 127.9, 736.3 129.0 Q 735.4 130.0, 735.4 132.1 Q 735.4 134.2, 736.3 135.3 Q 737.2 136.3, 738.8 136.3 \" fill=\"#FF0000\"/>\n",
       "<path class=\"atom-5\" d=\"M 734.7 68.2 Q 734.7 65.6, 735.9 64.2 Q 737.2 62.8, 739.5 62.8 Q 741.6 62.8, 742.8 64.4 L 741.8 65.2 Q 741.0 64.1, 739.5 64.1 Q 737.9 64.1, 737.0 65.1 Q 736.2 66.2, 736.2 68.2 Q 736.2 70.3, 737.1 71.3 Q 738.0 72.4, 739.6 72.4 Q 740.8 72.4, 742.2 71.7 L 742.6 72.8 Q 742.0 73.2, 741.2 73.4 Q 740.4 73.6, 739.4 73.6 Q 737.2 73.6, 735.9 72.2 Q 734.7 70.8, 734.7 68.2 \" fill=\"#00CC00\"/>\n",
       "<path class=\"atom-5\" d=\"M 743.9 62.2 L 745.2 62.2 L 745.2 73.5 L 743.9 73.5 L 743.9 62.2 \" fill=\"#00CC00\"/>\n",
       "</svg>"
      ],
      "text/plain": [
       "<IPython.core.display.SVG object>"
      ]
     },
     "metadata": {},
     "output_type": "display_data"
    },
    {
     "name": "stdout",
     "output_type": "stream",
     "text": [
      "--------------------------------------\n",
      "--------------------------------------\n"
     ]
    },
    {
     "data": {
      "text/plain": [
       "[1,\n",
       " [<rdkit.Chem.rdchem.Mol at 0x18280b4d380>,\n",
       "  <rdkit.Chem.rdchem.Mol at 0x18280b4d150>,\n",
       "  <rdkit.Chem.rdchem.Mol at 0x18280b4d070>,\n",
       "  <rdkit.Chem.rdchem.Mol at 0x18280b4d1c0>]]"
      ]
     },
     "execution_count": 39,
     "metadata": {},
     "output_type": "execute_result"
    }
   ],
   "source": [
    "from chemicalbd.bond_disconnector import swern_oxidation\n",
    "swern_oxidation (aldehyde) #The function disconnecting the aldehyde is run"
   ]
  },
  {
   "cell_type": "markdown",
   "id": "7153def1-5f9c-46d9-91e1-526e475be1b8",
   "metadata": {},
   "source": [
    "As expected, only one option is returned as the molecule is symmetric. The reactants displayed are the corresponding primary alcohol, dimethylsulfoxide (DMSO), triethylamine (Et3N) and oxalyl chloride."
   ]
  },
  {
   "cell_type": "code",
   "execution_count": null,
   "id": "1a3d26d9-4e6b-49d0-9cbc-c0939b0fb3b7",
   "metadata": {},
   "outputs": [],
   "source": []
  },
  {
   "cell_type": "code",
   "execution_count": null,
   "id": "fc8115ef-e2e7-4db8-afb9-c4da27a6b05b",
   "metadata": {},
   "outputs": [],
   "source": []
  },
  {
   "cell_type": "code",
   "execution_count": null,
   "id": "e461eeea-03dc-4087-a4ff-01b5673dc46f",
   "metadata": {},
   "outputs": [],
   "source": []
  },
  {
   "cell_type": "code",
   "execution_count": null,
   "id": "e2ed471a-f4c7-417a-99b5-d3b04bf6877d",
   "metadata": {},
   "outputs": [],
   "source": []
  },
  {
   "cell_type": "code",
   "execution_count": null,
   "id": "397cda00-b41d-45e3-a40e-11b6155d914e",
   "metadata": {},
   "outputs": [],
   "source": []
  },
  {
   "cell_type": "code",
   "execution_count": null,
   "id": "fca4ae5f-02b5-4ebc-b6b1-786a2e2bd355",
   "metadata": {},
   "outputs": [],
   "source": []
  },
  {
   "cell_type": "code",
   "execution_count": null,
   "id": "e9173fc2-e006-4ea8-b7da-e2b66c82a612",
   "metadata": {},
   "outputs": [],
   "source": []
  },
  {
   "cell_type": "markdown",
   "id": "42c61fb8-a38a-4659-a232-2fcb41f9dd5b",
   "metadata": {},
   "source": [
    "### Function that disconnects alcohols containing triple bonds in their beta position"
   ]
  },
  {
   "cell_type": "markdown",
   "id": "e383cc00-abdf-4497-9ec2-614efd4768ef",
   "metadata": {},
   "source": [
    "Molecules that contain the pattern: alcohol together with a triple bond in the beta position may be disconnected giving the following reactants: an epoxide, and a terminal alkyne in the presence of a moderately strong base, such as sodium amide. The reactants give a classical SN2 reaction that form the target molecule."
   ]
  },
  {
   "cell_type": "markdown",
   "id": "772b5172-e7ce-4e96-ae30-a661301cbf6f",
   "metadata": {},
   "source": [
    "This functionality may be shown by taking as an example the molecule displayed below."
   ]
  },
  {
   "cell_type": "code",
   "execution_count": 40,
   "id": "c42cb8cb-bcc4-4d67-8cb2-a987c124a454",
   "metadata": {},
   "outputs": [
    {
     "data": {
      "image/png": "[encoded data removed]",
      "image/svg+xml": [
       "<?xml version='1.0' encoding='iso-8859-1'?>\n",
       "<svg version='1.1' baseProfile='full'\n",
       "              xmlns='http://www.w3.org/2000/svg'\n",
       "                      xmlns:rdkit='http://www.rdkit.org/xml'\n",
       "                      xmlns:xlink='http://www.w3.org/1999/xlink'\n",
       "                  xml:space='preserve'\n",
       "width='450px' height='150px' viewBox='0 0 450 150'>\n",
       "<!-- END OF HEADER -->\n",
       "<rect style='opacity:1.0;fill:#FFFFFF;stroke:none' width='450.0' height='150.0' x='0.0' y='0.0'> </rect>\n",
       "<path class='bond-0 atom-0 atom-1' d='M 165.7,32.5 L 161.2,63.7' style='fill:none;fill-rule:evenodd;stroke:#FF0000;stroke-width:2.0px;stroke-linecap:butt;stroke-linejoin:miter;stroke-opacity:1' />\n",
       "<path class='bond-0 atom-0 atom-1' d='M 161.2,63.7 L 156.7,94.9' style='fill:none;fill-rule:evenodd;stroke:#000000;stroke-width:2.0px;stroke-linecap:butt;stroke-linejoin:miter;stroke-opacity:1' />\n",
       "<path class='bond-1 atom-1 atom-2' d='M 156.7,94.9 L 85.2,123.6' style='fill:none;fill-rule:evenodd;stroke:#000000;stroke-width:2.0px;stroke-linecap:butt;stroke-linejoin:miter;stroke-opacity:1' />\n",
       "<path class='bond-2 atom-1 atom-3' d='M 156.7,94.9 L 217.4,142.5' style='fill:none;fill-rule:evenodd;stroke:#000000;stroke-width:2.0px;stroke-linecap:butt;stroke-linejoin:miter;stroke-opacity:1' />\n",
       "<path class='bond-3 atom-3 atom-4' d='M 217.4,142.5 L 288.9,113.8' style='fill:none;fill-rule:evenodd;stroke:#000000;stroke-width:2.0px;stroke-linecap:butt;stroke-linejoin:miter;stroke-opacity:1' />\n",
       "<path class='bond-4 atom-4 atom-5' d='M 288.9,113.8 L 360.5,85.1' style='fill:none;fill-rule:evenodd;stroke:#000000;stroke-width:2.0px;stroke-linecap:butt;stroke-linejoin:miter;stroke-opacity:1' />\n",
       "<path class='bond-4 atom-4 atom-5' d='M 284.6,103.1 L 356.2,74.4' style='fill:none;fill-rule:evenodd;stroke:#000000;stroke-width:2.0px;stroke-linecap:butt;stroke-linejoin:miter;stroke-opacity:1' />\n",
       "<path class='bond-4 atom-4 atom-5' d='M 293.3,124.5 L 364.8,95.8' style='fill:none;fill-rule:evenodd;stroke:#000000;stroke-width:2.0px;stroke-linecap:butt;stroke-linejoin:miter;stroke-opacity:1' />\n",
       "<path d='M 214.4,140.1 L 217.4,142.5 L 221.0,141.1' style='fill:none;stroke:#000000;stroke-width:2.0px;stroke-linecap:butt;stroke-linejoin:miter;stroke-opacity:1;' />\n",
       "<path d='M 285.4,115.2 L 288.9,113.8 L 292.5,112.4' style='fill:none;stroke:#000000;stroke-width:2.0px;stroke-linecap:butt;stroke-linejoin:miter;stroke-opacity:1;' />\n",
       "<path class='atom-0' d='M 157.7 18.6\n",
       "Q 157.7 13.4, 160.2 10.4\n",
       "Q 162.8 7.5, 167.7 7.5\n",
       "Q 172.5 7.5, 175.1 10.4\n",
       "Q 177.7 13.4, 177.7 18.6\n",
       "Q 177.7 23.9, 175.1 26.9\n",
       "Q 172.5 29.9, 167.7 29.9\n",
       "Q 162.9 29.9, 160.2 26.9\n",
       "Q 157.7 23.9, 157.7 18.6\n",
       "M 167.7 27.5\n",
       "Q 171.0 27.5, 172.8 25.2\n",
       "Q 174.6 23.0, 174.6 18.6\n",
       "Q 174.6 14.3, 172.8 12.2\n",
       "Q 171.0 10.0, 167.7 10.0\n",
       "Q 164.3 10.0, 162.5 12.1\n",
       "Q 160.7 14.3, 160.7 18.6\n",
       "Q 160.7 23.0, 162.5 25.2\n",
       "Q 164.3 27.5, 167.7 27.5\n",
       "' fill='#FF0000'/>\n",
       "<path class='atom-0' d='M 181.1 7.7\n",
       "L 184.1 7.7\n",
       "L 184.1 17.0\n",
       "L 195.2 17.0\n",
       "L 195.2 7.7\n",
       "L 198.2 7.7\n",
       "L 198.2 29.6\n",
       "L 195.2 29.6\n",
       "L 195.2 19.5\n",
       "L 184.1 19.5\n",
       "L 184.1 29.6\n",
       "L 181.1 29.6\n",
       "L 181.1 7.7\n",
       "' fill='#FF0000'/>\n",
       "</svg>\n"
      ],
      "text/html": [
       "<?xml version='1.0' encoding='iso-8859-1'?>\n",
       "<svg version='1.1' baseProfile='full'\n",
       "              xmlns='http://www.w3.org/2000/svg'\n",
       "                      xmlns:rdkit='http://www.rdkit.org/xml'\n",
       "                      xmlns:xlink='http://www.w3.org/1999/xlink'\n",
       "                  xml:space='preserve'\n",
       "width='450px' height='150px' viewBox='0 0 450 150'>\n",
       "<!-- END OF HEADER -->\n",
       "<rect style='opacity:1.0;fill:#FFFFFF;stroke:none' width='450.0' height='150.0' x='0.0' y='0.0'> </rect>\n",
       "<path class='bond-0 atom-0 atom-1' d='M 165.7,32.5 L 161.2,63.7' style='fill:none;fill-rule:evenodd;stroke:#FF0000;stroke-width:2.0px;stroke-linecap:butt;stroke-linejoin:miter;stroke-opacity:1' />\n",
       "<path class='bond-0 atom-0 atom-1' d='M 161.2,63.7 L 156.7,94.9' style='fill:none;fill-rule:evenodd;stroke:#000000;stroke-width:2.0px;stroke-linecap:butt;stroke-linejoin:miter;stroke-opacity:1' />\n",
       "<path class='bond-1 atom-1 atom-2' d='M 156.7,94.9 L 85.2,123.6' style='fill:none;fill-rule:evenodd;stroke:#000000;stroke-width:2.0px;stroke-linecap:butt;stroke-linejoin:miter;stroke-opacity:1' />\n",
       "<path class='bond-2 atom-1 atom-3' d='M 156.7,94.9 L 217.4,142.5' style='fill:none;fill-rule:evenodd;stroke:#000000;stroke-width:2.0px;stroke-linecap:butt;stroke-linejoin:miter;stroke-opacity:1' />\n",
       "<path class='bond-3 atom-3 atom-4' d='M 217.4,142.5 L 288.9,113.8' style='fill:none;fill-rule:evenodd;stroke:#000000;stroke-width:2.0px;stroke-linecap:butt;stroke-linejoin:miter;stroke-opacity:1' />\n",
       "<path class='bond-4 atom-4 atom-5' d='M 288.9,113.8 L 360.5,85.1' style='fill:none;fill-rule:evenodd;stroke:#000000;stroke-width:2.0px;stroke-linecap:butt;stroke-linejoin:miter;stroke-opacity:1' />\n",
       "<path class='bond-4 atom-4 atom-5' d='M 284.6,103.1 L 356.2,74.4' style='fill:none;fill-rule:evenodd;stroke:#000000;stroke-width:2.0px;stroke-linecap:butt;stroke-linejoin:miter;stroke-opacity:1' />\n",
       "<path class='bond-4 atom-4 atom-5' d='M 293.3,124.5 L 364.8,95.8' style='fill:none;fill-rule:evenodd;stroke:#000000;stroke-width:2.0px;stroke-linecap:butt;stroke-linejoin:miter;stroke-opacity:1' />\n",
       "<path d='M 214.4,140.1 L 217.4,142.5 L 221.0,141.1' style='fill:none;stroke:#000000;stroke-width:2.0px;stroke-linecap:butt;stroke-linejoin:miter;stroke-opacity:1;' />\n",
       "<path d='M 285.4,115.2 L 288.9,113.8 L 292.5,112.4' style='fill:none;stroke:#000000;stroke-width:2.0px;stroke-linecap:butt;stroke-linejoin:miter;stroke-opacity:1;' />\n",
       "<path class='atom-0' d='M 157.7 18.6\n",
       "Q 157.7 13.4, 160.2 10.4\n",
       "Q 162.8 7.5, 167.7 7.5\n",
       "Q 172.5 7.5, 175.1 10.4\n",
       "Q 177.7 13.4, 177.7 18.6\n",
       "Q 177.7 23.9, 175.1 26.9\n",
       "Q 172.5 29.9, 167.7 29.9\n",
       "Q 162.9 29.9, 160.2 26.9\n",
       "Q 157.7 23.9, 157.7 18.6\n",
       "M 167.7 27.5\n",
       "Q 171.0 27.5, 172.8 25.2\n",
       "Q 174.6 23.0, 174.6 18.6\n",
       "Q 174.6 14.3, 172.8 12.2\n",
       "Q 171.0 10.0, 167.7 10.0\n",
       "Q 164.3 10.0, 162.5 12.1\n",
       "Q 160.7 14.3, 160.7 18.6\n",
       "Q 160.7 23.0, 162.5 25.2\n",
       "Q 164.3 27.5, 167.7 27.5\n",
       "' fill='#FF0000'/>\n",
       "<path class='atom-0' d='M 181.1 7.7\n",
       "L 184.1 7.7\n",
       "L 184.1 17.0\n",
       "L 195.2 17.0\n",
       "L 195.2 7.7\n",
       "L 198.2 7.7\n",
       "L 198.2 29.6\n",
       "L 195.2 29.6\n",
       "L 195.2 19.5\n",
       "L 184.1 19.5\n",
       "L 184.1 29.6\n",
       "L 181.1 29.6\n",
       "L 181.1 7.7\n",
       "' fill='#FF0000'/>\n",
       "</svg>\n"
      ],
      "text/plain": [
       "<rdkit.Chem.rdchem.Mol at 0x182808dde70>"
      ]
     },
     "metadata": {},
     "output_type": "display_data"
    }
   ],
   "source": [
    "example_smiles = 'OC(C)CC#C' #Defines to molecule to be analyzed, using its SMILES representation\n",
    "example = Chem.MolFromSmiles(example_smiles) #The Mol object is created from the SMILES representation\n",
    "display(example) #The compound containing the alcohol and the triple bond in the beta position is displayed"
   ]
  },
  {
   "cell_type": "code",
   "execution_count": 44,
   "id": "1bff32c5-2d1b-44b0-95ca-13162a5864dc",
   "metadata": {},
   "outputs": [
    {
     "name": "stdout",
     "output_type": "stream",
     "text": [
      "Primary alcohol with beta alkyne disconnection available\n",
      "--------------------------------------\n",
      "Option 1\n",
      "Reactant 1\n"
     ]
    },
    {
     "data": {
      "image/svg+xml": [
       "<svg xmlns=\"http://www.w3.org/2000/svg\" xmlns:rdkit=\"http://www.rdkit.org/xml\" xmlns:xlink=\"http://www.w3.org/1999/xlink\" version=\"1.1\" baseProfile=\"full\" xml:space=\"preserve\" width=\"600px\" height=\"200px\" viewBox=\"0 0 600 200\">\n",
       "<!-- END OF HEADER -->\n",
       "<rect style=\"opacity:1.0;fill:#FFFFFF;stroke:none\" width=\"600.0\" height=\"200.0\" x=\"0.0\" y=\"0.0\"> </rect>\n",
       "<path class=\"bond-0 atom-0 atom-1\" d=\"M 170.5,100.0 L 29.5,100.0\" style=\"fill:none;fill-rule:evenodd;stroke:#000000;stroke-width:2.0px;stroke-linecap:butt;stroke-linejoin:miter;stroke-opacity:1\"/>\n",
       "<path class=\"bond-0 atom-0 atom-1\" d=\"M 170.5,121.2 L 29.5,121.2\" style=\"fill:none;fill-rule:evenodd;stroke:#000000;stroke-width:2.0px;stroke-linecap:butt;stroke-linejoin:miter;stroke-opacity:1\"/>\n",
       "<path class=\"bond-0 atom-0 atom-1\" d=\"M 170.5,78.8 L 29.5,78.8\" style=\"fill:none;fill-rule:evenodd;stroke:#000000;stroke-width:2.0px;stroke-linecap:butt;stroke-linejoin:miter;stroke-opacity:1\"/>\n",
       "<path class=\"atom-0\" d=\"M 321.0 78.8 L 330.3 93.8 Q 331.2 95.2, 332.7 97.9 Q 334.2 100.6, 334.3 100.8 L 334.3 78.8 L 338.0 78.8 L 338.0 107.1 L 334.2 107.1 L 324.2 90.7 Q 323.0 88.8, 321.8 86.6 Q 320.6 84.4, 320.2 83.7 L 320.2 107.1 L 316.6 107.1 L 316.6 78.8 L 321.0 78.8 \" fill=\"#000000\"/>\n",
       "<path class=\"atom-0\" d=\"M 343.3 101.5 Q 343.3 98.2, 345.9 96.4 Q 348.5 94.6, 353.4 94.6 L 356.4 94.6 L 356.4 93.8 Q 356.4 91.3, 355.3 90.2 Q 354.3 89.1, 351.7 89.1 Q 350.1 89.1, 348.8 89.4 Q 347.5 89.7, 345.5 90.6 L 344.4 88.0 Q 348.2 86.2, 351.8 86.2 Q 356.2 86.2, 358.2 88.0 Q 360.2 89.9, 360.2 93.9 L 360.2 107.1 L 357.3 107.1 Q 357.2 106.9, 357.1 106.3 Q 357.0 105.7, 356.7 104.7 Q 353.9 107.6, 350.0 107.6 Q 346.9 107.6, 345.1 105.9 Q 343.3 104.3, 343.3 101.5 M 347.0 101.4 Q 347.0 103.0, 348.0 103.8 Q 348.9 104.6, 350.7 104.6 Q 352.3 104.6, 353.9 103.9 Q 355.4 103.1, 356.4 101.8 L 356.4 97.4 L 353.6 97.4 Q 350.3 97.4, 348.7 98.4 Q 347.0 99.4, 347.0 101.4 \" fill=\"#000000\"/>\n",
       "<path class=\"atom-0\" d=\"M 365.2 87.3 L 370.1 87.3 L 370.1 82.1 L 372.4 82.1 L 372.4 87.3 L 377.5 87.3 L 377.5 89.2 L 372.4 89.2 L 372.4 94.5 L 370.1 94.5 L 370.1 89.2 L 365.2 89.2 L 365.2 87.3 \" fill=\"#000000\"/>\n",
       "<path class=\"atom-1\" d=\"M 227.0 78.8 L 236.3 93.8 Q 237.2 95.2, 238.7 97.9 Q 240.2 100.6, 240.2 100.8 L 240.2 78.8 L 244.0 78.8 L 244.0 107.1 L 240.1 107.1 L 230.2 90.7 Q 229.0 88.8, 227.8 86.6 Q 226.6 84.4, 226.2 83.7 L 226.2 107.1 L 222.5 107.1 L 222.5 78.8 L 227.0 78.8 \" fill=\"#0000FF\"/>\n",
       "<path class=\"atom-1\" d=\"M 249.2 78.8 L 253.1 78.8 L 253.1 90.8 L 267.6 90.8 L 267.6 78.8 L 271.4 78.8 L 271.4 107.1 L 267.6 107.1 L 267.6 94.0 L 253.1 94.0 L 253.1 107.1 L 249.2 107.1 L 249.2 78.8 \" fill=\"#0000FF\"/>\n",
       "<path class=\"atom-1\" d=\"M 276.8 106.1 Q 277.5 104.3, 279.1 103.3 Q 280.8 102.3, 283.0 102.3 Q 285.8 102.3, 287.4 103.9 Q 289.0 105.4, 289.0 108.1 Q 289.0 110.9, 287.0 113.5 Q 284.9 116.1, 280.7 119.1 L 289.3 119.1 L 289.3 121.2 L 276.7 121.2 L 276.7 119.5 Q 280.2 117.0, 282.3 115.1 Q 284.4 113.3, 285.4 111.6 Q 286.4 110.0, 286.4 108.3 Q 286.4 106.5, 285.5 105.5 Q 284.6 104.4, 283.0 104.4 Q 281.5 104.4, 280.5 105.1 Q 279.5 105.7, 278.8 107.0 L 276.8 106.1 \" fill=\"#0000FF\"/>\n",
       "<path class=\"atom-1\" d=\"M 278.2 83.4 L 287.9 83.4 L 287.9 85.6 L 278.2 85.6 L 278.2 83.4 \" fill=\"#0000FF\"/>\n",
       "</svg>"
      ],
      "text/plain": [
       "<IPython.core.display.SVG object>"
      ]
     },
     "metadata": {},
     "output_type": "display_data"
    },
    {
     "name": "stdout",
     "output_type": "stream",
     "text": [
      "Reactant 2\n"
     ]
    },
    {
     "data": {
      "image/svg+xml": [
       "<svg xmlns=\"http://www.w3.org/2000/svg\" xmlns:rdkit=\"http://www.rdkit.org/xml\" xmlns:xlink=\"http://www.w3.org/1999/xlink\" version=\"1.1\" baseProfile=\"full\" xml:space=\"preserve\" width=\"600px\" height=\"200px\" viewBox=\"0 0 600 200\">\n",
       "<!-- END OF HEADER -->\n",
       "<rect style=\"opacity:1.0;fill:#FFFFFF;stroke:none\" width=\"600.0\" height=\"200.0\" x=\"0.0\" y=\"0.0\"> </rect>\n",
       "<path class=\"bond-0 atom-0 atom-1\" d=\"M 190.0,93.3 L 99.8,93.3\" style=\"fill:none;fill-rule:evenodd;stroke:#000000;stroke-width:2.0px;stroke-linecap:butt;stroke-linejoin:miter;stroke-opacity:1\"/>\n",
       "<path class=\"bond-1 atom-1 atom-2\" d=\"M 99.8,93.3 L 21.7,48.3\" style=\"fill:none;fill-rule:evenodd;stroke:#000000;stroke-width:2.0px;stroke-linecap:butt;stroke-linejoin:miter;stroke-opacity:1\"/>\n",
       "<path class=\"bond-2 atom-2 atom-3\" d=\"M 21.7,48.3 L 21.7,85.4\" style=\"fill:none;fill-rule:evenodd;stroke:#000000;stroke-width:2.0px;stroke-linecap:butt;stroke-linejoin:miter;stroke-opacity:1\"/>\n",
       "<path class=\"bond-2 atom-2 atom-3\" d=\"M 21.7,85.4 L 21.7,122.5\" style=\"fill:none;fill-rule:evenodd;stroke:#FF0000;stroke-width:2.0px;stroke-linecap:butt;stroke-linejoin:miter;stroke-opacity:1\"/>\n",
       "<path class=\"bond-3 atom-3 atom-1\" d=\"M 36.4,129.9 L 68.1,111.6\" style=\"fill:none;fill-rule:evenodd;stroke:#FF0000;stroke-width:2.0px;stroke-linecap:butt;stroke-linejoin:miter;stroke-opacity:1\"/>\n",
       "<path class=\"bond-3 atom-3 atom-1\" d=\"M 68.1,111.6 L 99.8,93.3\" style=\"fill:none;fill-rule:evenodd;stroke:#000000;stroke-width:2.0px;stroke-linecap:butt;stroke-linejoin:miter;stroke-opacity:1\"/>\n",
       "<path d=\"M 25.6,50.5 L 21.7,48.3 L 21.7,50.1\" style=\"fill:none;stroke:#000000;stroke-width:2.0px;stroke-linecap:butt;stroke-linejoin:miter;stroke-opacity:1;\"/>\n",
       "<path class=\"atom-3\" d=\"M 10.0 138.5 Q 10.0 132.4, 13.0 128.9 Q 16.1 125.5, 21.7 125.5 Q 27.4 125.5, 30.4 128.9 Q 33.4 132.4, 33.4 138.5 Q 33.4 144.7, 30.4 148.2 Q 27.3 151.7, 21.7 151.7 Q 16.1 151.7, 13.0 148.2 Q 10.0 144.7, 10.0 138.5 M 21.7 148.9 Q 25.6 148.9, 27.7 146.3 Q 29.8 143.6, 29.8 138.5 Q 29.8 133.5, 27.7 131.0 Q 25.6 128.4, 21.7 128.4 Q 17.8 128.4, 15.7 130.9 Q 13.6 133.5, 13.6 138.5 Q 13.6 143.7, 15.7 146.3 Q 17.8 148.9, 21.7 148.9 \" fill=\"#FF0000\"/>\n",
       "</svg>"
      ],
      "text/plain": [
       "<IPython.core.display.SVG object>"
      ]
     },
     "metadata": {},
     "output_type": "display_data"
    },
    {
     "name": "stdout",
     "output_type": "stream",
     "text": [
      "--------------------------------------\n",
      "--------------------------------------\n"
     ]
    },
    {
     "data": {
      "text/plain": [
       "[1,\n",
       " [<rdkit.Chem.rdchem.Mol at 0x182808df760>,\n",
       "  <rdkit.Chem.rdchem.Mol at 0x182808df450>,\n",
       "  <rdkit.Chem.rdchem.Mol at 0x182808df7d0>]]"
      ]
     },
     "execution_count": 44,
     "metadata": {},
     "output_type": "execute_result"
    }
   ],
   "source": [
    "from chemicalbd.bond_disconnector import alcohol_beta_triple_bond\n",
    "alcohol_beta_triple_bond (example) #The function disconnecting the pattern is run"
   ]
  },
  {
   "cell_type": "markdown",
   "id": "40c03054-f10b-41ff-9b0e-8fb84e662bd0",
   "metadata": {},
   "source": [
    "The expected reactants are returned: acetylene in the presence of the amide and a methyl substituted epoxide\n",
    "\n",
    "Another example may be analyzed, the one in which also the alpha carbon with respect to the triple bond is subtituted."
   ]
  },
  {
   "cell_type": "code",
   "execution_count": 43,
   "id": "76d16546-ed13-4a31-b449-b52f6bacf9fe",
   "metadata": {},
   "outputs": [
    {
     "data": {
      "image/png": "[encoded data removed]",
      "image/svg+xml": [
       "<?xml version='1.0' encoding='iso-8859-1'?>\n",
       "<svg version='1.1' baseProfile='full'\n",
       "              xmlns='http://www.w3.org/2000/svg'\n",
       "                      xmlns:rdkit='http://www.rdkit.org/xml'\n",
       "                      xmlns:xlink='http://www.w3.org/1999/xlink'\n",
       "                  xml:space='preserve'\n",
       "width='450px' height='150px' viewBox='0 0 450 150'>\n",
       "<!-- END OF HEADER -->\n",
       "<rect style='opacity:1.0;fill:#FFFFFF;stroke:none' width='450.0' height='150.0' x='0.0' y='0.0'> </rect>\n",
       "<path class='bond-0 atom-0 atom-1' d='M 176.9,19.5 L 176.9,34.7' style='fill:none;fill-rule:evenodd;stroke:#FF0000;stroke-width:2.0px;stroke-linecap:butt;stroke-linejoin:miter;stroke-opacity:1' />\n",
       "<path class='bond-0 atom-0 atom-1' d='M 176.9,34.7 L 176.9,49.9' style='fill:none;fill-rule:evenodd;stroke:#000000;stroke-width:2.0px;stroke-linecap:butt;stroke-linejoin:miter;stroke-opacity:1' />\n",
       "<path class='bond-1 atom-1 atom-2' d='M 176.9,49.9 L 144.8,68.4' style='fill:none;fill-rule:evenodd;stroke:#000000;stroke-width:2.0px;stroke-linecap:butt;stroke-linejoin:miter;stroke-opacity:1' />\n",
       "<path class='bond-2 atom-1 atom-3' d='M 176.9,49.9 L 209.0,68.4' style='fill:none;fill-rule:evenodd;stroke:#000000;stroke-width:2.0px;stroke-linecap:butt;stroke-linejoin:miter;stroke-opacity:1' />\n",
       "<path class='bond-3 atom-3 atom-4' d='M 209.0,68.4 L 241.0,49.9' style='fill:none;fill-rule:evenodd;stroke:#000000;stroke-width:2.0px;stroke-linecap:butt;stroke-linejoin:miter;stroke-opacity:1' />\n",
       "<path class='bond-4 atom-4 atom-5' d='M 241.0,49.9 L 273.1,68.4' style='fill:none;fill-rule:evenodd;stroke:#000000;stroke-width:2.0px;stroke-linecap:butt;stroke-linejoin:miter;stroke-opacity:1' />\n",
       "<path class='bond-5 atom-5 atom-6' d='M 273.1,68.4 L 305.2,49.9' style='fill:none;fill-rule:evenodd;stroke:#000000;stroke-width:2.0px;stroke-linecap:butt;stroke-linejoin:miter;stroke-opacity:1' />\n",
       "<path class='bond-6 atom-3 atom-7' d='M 209.0,68.4 L 209.0,105.4' style='fill:none;fill-rule:evenodd;stroke:#000000;stroke-width:2.0px;stroke-linecap:butt;stroke-linejoin:miter;stroke-opacity:1' />\n",
       "<path class='bond-7 atom-7 atom-8' d='M 209.0,105.4 L 209.0,142.5' style='fill:none;fill-rule:evenodd;stroke:#000000;stroke-width:2.0px;stroke-linecap:butt;stroke-linejoin:miter;stroke-opacity:1' />\n",
       "<path class='bond-7 atom-7 atom-8' d='M 214.5,105.4 L 214.5,142.5' style='fill:none;fill-rule:evenodd;stroke:#000000;stroke-width:2.0px;stroke-linecap:butt;stroke-linejoin:miter;stroke-opacity:1' />\n",
       "<path class='bond-7 atom-7 atom-8' d='M 203.4,105.4 L 203.4,142.5' style='fill:none;fill-rule:evenodd;stroke:#000000;stroke-width:2.0px;stroke-linecap:butt;stroke-linejoin:miter;stroke-opacity:1' />\n",
       "<path d='M 239.4,50.8 L 241.0,49.9 L 242.6,50.8' style='fill:none;stroke:#000000;stroke-width:2.0px;stroke-linecap:butt;stroke-linejoin:miter;stroke-opacity:1;' />\n",
       "<path d='M 271.5,67.5 L 273.1,68.4 L 274.7,67.5' style='fill:none;stroke:#000000;stroke-width:2.0px;stroke-linecap:butt;stroke-linejoin:miter;stroke-opacity:1;' />\n",
       "<path d='M 209.0,103.6 L 209.0,105.4 L 209.0,107.3' style='fill:none;stroke:#000000;stroke-width:2.0px;stroke-linecap:butt;stroke-linejoin:miter;stroke-opacity:1;' />\n",
       "<path class='atom-0' d='M 172.0 12.8\n",
       "Q 172.0 10.3, 173.3 8.9\n",
       "Q 174.5 7.5, 176.9 7.5\n",
       "Q 179.2 7.5, 180.4 8.9\n",
       "Q 181.7 10.3, 181.7 12.8\n",
       "Q 181.7 15.4, 180.4 16.8\n",
       "Q 179.2 18.3, 176.9 18.3\n",
       "Q 174.6 18.3, 173.3 16.8\n",
       "Q 172.0 15.4, 172.0 12.8\n",
       "M 176.9 17.1\n",
       "Q 178.5 17.1, 179.3 16.0\n",
       "Q 180.2 14.9, 180.2 12.8\n",
       "Q 180.2 10.8, 179.3 9.7\n",
       "Q 178.5 8.7, 176.9 8.7\n",
       "Q 175.3 8.7, 174.4 9.7\n",
       "Q 173.5 10.8, 173.5 12.8\n",
       "Q 173.5 15.0, 174.4 16.0\n",
       "Q 175.3 17.1, 176.9 17.1\n",
       "' fill='#FF0000'/>\n",
       "<path class='atom-0' d='M 183.3 7.6\n",
       "L 184.7 7.6\n",
       "L 184.7 12.1\n",
       "L 190.1 12.1\n",
       "L 190.1 7.6\n",
       "L 191.5 7.6\n",
       "L 191.5 18.1\n",
       "L 190.1 18.1\n",
       "L 190.1 13.3\n",
       "L 184.7 13.3\n",
       "L 184.7 18.1\n",
       "L 183.3 18.1\n",
       "L 183.3 7.6\n",
       "' fill='#FF0000'/>\n",
       "</svg>\n"
      ],
      "text/html": [
       "<?xml version='1.0' encoding='iso-8859-1'?>\n",
       "<svg version='1.1' baseProfile='full'\n",
       "              xmlns='http://www.w3.org/2000/svg'\n",
       "                      xmlns:rdkit='http://www.rdkit.org/xml'\n",
       "                      xmlns:xlink='http://www.w3.org/1999/xlink'\n",
       "                  xml:space='preserve'\n",
       "width='450px' height='150px' viewBox='0 0 450 150'>\n",
       "<!-- END OF HEADER -->\n",
       "<rect style='opacity:1.0;fill:#FFFFFF;stroke:none' width='450.0' height='150.0' x='0.0' y='0.0'> </rect>\n",
       "<path class='bond-0 atom-0 atom-1' d='M 176.9,19.5 L 176.9,34.7' style='fill:none;fill-rule:evenodd;stroke:#FF0000;stroke-width:2.0px;stroke-linecap:butt;stroke-linejoin:miter;stroke-opacity:1' />\n",
       "<path class='bond-0 atom-0 atom-1' d='M 176.9,34.7 L 176.9,49.9' style='fill:none;fill-rule:evenodd;stroke:#000000;stroke-width:2.0px;stroke-linecap:butt;stroke-linejoin:miter;stroke-opacity:1' />\n",
       "<path class='bond-1 atom-1 atom-2' d='M 176.9,49.9 L 144.8,68.4' style='fill:none;fill-rule:evenodd;stroke:#000000;stroke-width:2.0px;stroke-linecap:butt;stroke-linejoin:miter;stroke-opacity:1' />\n",
       "<path class='bond-2 atom-1 atom-3' d='M 176.9,49.9 L 209.0,68.4' style='fill:none;fill-rule:evenodd;stroke:#000000;stroke-width:2.0px;stroke-linecap:butt;stroke-linejoin:miter;stroke-opacity:1' />\n",
       "<path class='bond-3 atom-3 atom-4' d='M 209.0,68.4 L 241.0,49.9' style='fill:none;fill-rule:evenodd;stroke:#000000;stroke-width:2.0px;stroke-linecap:butt;stroke-linejoin:miter;stroke-opacity:1' />\n",
       "<path class='bond-4 atom-4 atom-5' d='M 241.0,49.9 L 273.1,68.4' style='fill:none;fill-rule:evenodd;stroke:#000000;stroke-width:2.0px;stroke-linecap:butt;stroke-linejoin:miter;stroke-opacity:1' />\n",
       "<path class='bond-5 atom-5 atom-6' d='M 273.1,68.4 L 305.2,49.9' style='fill:none;fill-rule:evenodd;stroke:#000000;stroke-width:2.0px;stroke-linecap:butt;stroke-linejoin:miter;stroke-opacity:1' />\n",
       "<path class='bond-6 atom-3 atom-7' d='M 209.0,68.4 L 209.0,105.4' style='fill:none;fill-rule:evenodd;stroke:#000000;stroke-width:2.0px;stroke-linecap:butt;stroke-linejoin:miter;stroke-opacity:1' />\n",
       "<path class='bond-7 atom-7 atom-8' d='M 209.0,105.4 L 209.0,142.5' style='fill:none;fill-rule:evenodd;stroke:#000000;stroke-width:2.0px;stroke-linecap:butt;stroke-linejoin:miter;stroke-opacity:1' />\n",
       "<path class='bond-7 atom-7 atom-8' d='M 214.5,105.4 L 214.5,142.5' style='fill:none;fill-rule:evenodd;stroke:#000000;stroke-width:2.0px;stroke-linecap:butt;stroke-linejoin:miter;stroke-opacity:1' />\n",
       "<path class='bond-7 atom-7 atom-8' d='M 203.4,105.4 L 203.4,142.5' style='fill:none;fill-rule:evenodd;stroke:#000000;stroke-width:2.0px;stroke-linecap:butt;stroke-linejoin:miter;stroke-opacity:1' />\n",
       "<path d='M 239.4,50.8 L 241.0,49.9 L 242.6,50.8' style='fill:none;stroke:#000000;stroke-width:2.0px;stroke-linecap:butt;stroke-linejoin:miter;stroke-opacity:1;' />\n",
       "<path d='M 271.5,67.5 L 273.1,68.4 L 274.7,67.5' style='fill:none;stroke:#000000;stroke-width:2.0px;stroke-linecap:butt;stroke-linejoin:miter;stroke-opacity:1;' />\n",
       "<path d='M 209.0,103.6 L 209.0,105.4 L 209.0,107.3' style='fill:none;stroke:#000000;stroke-width:2.0px;stroke-linecap:butt;stroke-linejoin:miter;stroke-opacity:1;' />\n",
       "<path class='atom-0' d='M 172.0 12.8\n",
       "Q 172.0 10.3, 173.3 8.9\n",
       "Q 174.5 7.5, 176.9 7.5\n",
       "Q 179.2 7.5, 180.4 8.9\n",
       "Q 181.7 10.3, 181.7 12.8\n",
       "Q 181.7 15.4, 180.4 16.8\n",
       "Q 179.2 18.3, 176.9 18.3\n",
       "Q 174.6 18.3, 173.3 16.8\n",
       "Q 172.0 15.4, 172.0 12.8\n",
       "M 176.9 17.1\n",
       "Q 178.5 17.1, 179.3 16.0\n",
       "Q 180.2 14.9, 180.2 12.8\n",
       "Q 180.2 10.8, 179.3 9.7\n",
       "Q 178.5 8.7, 176.9 8.7\n",
       "Q 175.3 8.7, 174.4 9.7\n",
       "Q 173.5 10.8, 173.5 12.8\n",
       "Q 173.5 15.0, 174.4 16.0\n",
       "Q 175.3 17.1, 176.9 17.1\n",
       "' fill='#FF0000'/>\n",
       "<path class='atom-0' d='M 183.3 7.6\n",
       "L 184.7 7.6\n",
       "L 184.7 12.1\n",
       "L 190.1 12.1\n",
       "L 190.1 7.6\n",
       "L 191.5 7.6\n",
       "L 191.5 18.1\n",
       "L 190.1 18.1\n",
       "L 190.1 13.3\n",
       "L 184.7 13.3\n",
       "L 184.7 18.1\n",
       "L 183.3 18.1\n",
       "L 183.3 7.6\n",
       "' fill='#FF0000'/>\n",
       "</svg>\n"
      ],
      "text/plain": [
       "<rdkit.Chem.rdchem.Mol at 0x182808df1b0>"
      ]
     },
     "metadata": {},
     "output_type": "display_data"
    }
   ],
   "source": [
    "example_smiles_new = 'OC(C)C(CCC)C#C' #Defines to molecule to be analyzed, using its SMILES representation\n",
    "example_new = Chem.MolFromSmiles(example_smiles_new) #The Mol object is created from the SMILES representation\n",
    "display(example_new) #The compound containing the alcohol and the triple bond in the beta position is displayed"
   ]
  },
  {
   "cell_type": "code",
   "execution_count": 45,
   "id": "d39744e2-5fb2-49b0-8240-84cd4b6fc60f",
   "metadata": {},
   "outputs": [
    {
     "data": {
      "text/plain": [
       "[0]"
      ]
     },
     "execution_count": 45,
     "metadata": {},
     "output_type": "execute_result"
    }
   ],
   "source": [
    "alcohol_beta_triple_bond (example_new) #The function disconnecting the pattern is run"
   ]
  },
  {
   "cell_type": "markdown",
   "id": "3193e48b-a0e7-47d5-b7f0-78e0173f2a77",
   "metadata": {},
   "source": [
    "This result may seem surprising, as the pattern is contained in the molecule. However, the reaction used to make such compounds is effective and chemoselective if none of the two carbon atoms between the triple bond, or maximum the one next to the hydroxyl is subsituted. This is because the terminal deprotonated alkyne will open the epoxide preferrentially on the less subtituted side.\n",
    "\n",
    "In order to synthetize the molecule shown in the above example, the epoxide displayed below would be needed."
   ]
  },
  {
   "cell_type": "code",
   "execution_count": 47,
   "id": "fa67c2ae-57d0-4b5d-aea2-abb9a12b77a2",
   "metadata": {},
   "outputs": [
    {
     "data": {
      "image/png": "[encoded data removed]",
      "image/svg+xml": [
       "<?xml version='1.0' encoding='iso-8859-1'?>\n",
       "<svg version='1.1' baseProfile='full'\n",
       "              xmlns='http://www.w3.org/2000/svg'\n",
       "                      xmlns:rdkit='http://www.rdkit.org/xml'\n",
       "                      xmlns:xlink='http://www.w3.org/1999/xlink'\n",
       "                  xml:space='preserve'\n",
       "width='450px' height='150px' viewBox='0 0 450 150'>\n",
       "<!-- END OF HEADER -->\n",
       "<rect style='opacity:1.0;fill:#FFFFFF;stroke:none' width='450.0' height='150.0' x='0.0' y='0.0'> </rect>\n",
       "<path class='bond-0 atom-0 atom-1' d='M 38.8,112.9 L 114.4,76.9' style='fill:none;fill-rule:evenodd;stroke:#000000;stroke-width:2.0px;stroke-linecap:butt;stroke-linejoin:miter;stroke-opacity:1' />\n",
       "<path class='bond-1 atom-1 atom-2' d='M 114.4,76.9 L 183.3,124.4' style='fill:none;fill-rule:evenodd;stroke:#000000;stroke-width:2.0px;stroke-linecap:butt;stroke-linejoin:miter;stroke-opacity:1' />\n",
       "<path class='bond-2 atom-2 atom-3' d='M 183.3,124.4 L 258.9,88.4' style='fill:none;fill-rule:evenodd;stroke:#000000;stroke-width:2.0px;stroke-linecap:butt;stroke-linejoin:miter;stroke-opacity:1' />\n",
       "<path class='bond-3 atom-3 atom-4' d='M 258.9,88.4 L 342.3,95.0' style='fill:none;fill-rule:evenodd;stroke:#000000;stroke-width:2.0px;stroke-linecap:butt;stroke-linejoin:miter;stroke-opacity:1' />\n",
       "<path class='bond-4 atom-4 atom-5' d='M 342.3,95.0 L 411.2,142.5' style='fill:none;fill-rule:evenodd;stroke:#000000;stroke-width:2.0px;stroke-linecap:butt;stroke-linejoin:miter;stroke-opacity:1' />\n",
       "<path class='bond-5 atom-4 atom-6' d='M 342.3,95.0 L 327.9,64.8' style='fill:none;fill-rule:evenodd;stroke:#000000;stroke-width:2.0px;stroke-linecap:butt;stroke-linejoin:miter;stroke-opacity:1' />\n",
       "<path class='bond-5 atom-4 atom-6' d='M 327.9,64.8 L 313.5,34.6' style='fill:none;fill-rule:evenodd;stroke:#FF0000;stroke-width:2.0px;stroke-linecap:butt;stroke-linejoin:miter;stroke-opacity:1' />\n",
       "<path class='bond-6 atom-6 atom-3' d='M 295.9,34.6 L 277.4,61.5' style='fill:none;fill-rule:evenodd;stroke:#FF0000;stroke-width:2.0px;stroke-linecap:butt;stroke-linejoin:miter;stroke-opacity:1' />\n",
       "<path class='bond-6 atom-6 atom-3' d='M 277.4,61.5 L 258.9,88.4' style='fill:none;fill-rule:evenodd;stroke:#000000;stroke-width:2.0px;stroke-linecap:butt;stroke-linejoin:miter;stroke-opacity:1' />\n",
       "<path d='M 110.6,78.7 L 114.4,76.9 L 117.8,79.3' style='fill:none;stroke:#000000;stroke-width:2.0px;stroke-linecap:butt;stroke-linejoin:miter;stroke-opacity:1;' />\n",
       "<path d='M 179.8,122.0 L 183.3,124.4 L 187.1,122.6' style='fill:none;stroke:#000000;stroke-width:2.0px;stroke-linecap:butt;stroke-linejoin:miter;stroke-opacity:1;' />\n",
       "<path class='atom-6' d='M 295.4 19.5\n",
       "Q 295.4 13.9, 298.2 10.7\n",
       "Q 301.1 7.5, 306.3 7.5\n",
       "Q 311.6 7.5, 314.4 10.7\n",
       "Q 317.2 13.9, 317.2 19.5\n",
       "Q 317.2 25.3, 314.3 28.6\n",
       "Q 311.5 31.8, 306.3 31.8\n",
       "Q 301.1 31.8, 298.2 28.6\n",
       "Q 295.4 25.3, 295.4 19.5\n",
       "M 306.3 29.2\n",
       "Q 309.9 29.2, 311.9 26.7\n",
       "Q 313.8 24.3, 313.8 19.5\n",
       "Q 313.8 14.9, 311.9 12.6\n",
       "Q 309.9 10.2, 306.3 10.2\n",
       "Q 302.7 10.2, 300.7 12.5\n",
       "Q 298.8 14.9, 298.8 19.5\n",
       "Q 298.8 24.3, 300.7 26.7\n",
       "Q 302.7 29.2, 306.3 29.2\n",
       "' fill='#FF0000'/>\n",
       "</svg>\n"
      ],
      "text/html": [
       "<?xml version='1.0' encoding='iso-8859-1'?>\n",
       "<svg version='1.1' baseProfile='full'\n",
       "              xmlns='http://www.w3.org/2000/svg'\n",
       "                      xmlns:rdkit='http://www.rdkit.org/xml'\n",
       "                      xmlns:xlink='http://www.w3.org/1999/xlink'\n",
       "                  xml:space='preserve'\n",
       "width='450px' height='150px' viewBox='0 0 450 150'>\n",
       "<!-- END OF HEADER -->\n",
       "<rect style='opacity:1.0;fill:#FFFFFF;stroke:none' width='450.0' height='150.0' x='0.0' y='0.0'> </rect>\n",
       "<path class='bond-0 atom-0 atom-1' d='M 38.8,112.9 L 114.4,76.9' style='fill:none;fill-rule:evenodd;stroke:#000000;stroke-width:2.0px;stroke-linecap:butt;stroke-linejoin:miter;stroke-opacity:1' />\n",
       "<path class='bond-1 atom-1 atom-2' d='M 114.4,76.9 L 183.3,124.4' style='fill:none;fill-rule:evenodd;stroke:#000000;stroke-width:2.0px;stroke-linecap:butt;stroke-linejoin:miter;stroke-opacity:1' />\n",
       "<path class='bond-2 atom-2 atom-3' d='M 183.3,124.4 L 258.9,88.4' style='fill:none;fill-rule:evenodd;stroke:#000000;stroke-width:2.0px;stroke-linecap:butt;stroke-linejoin:miter;stroke-opacity:1' />\n",
       "<path class='bond-3 atom-3 atom-4' d='M 258.9,88.4 L 342.3,95.0' style='fill:none;fill-rule:evenodd;stroke:#000000;stroke-width:2.0px;stroke-linecap:butt;stroke-linejoin:miter;stroke-opacity:1' />\n",
       "<path class='bond-4 atom-4 atom-5' d='M 342.3,95.0 L 411.2,142.5' style='fill:none;fill-rule:evenodd;stroke:#000000;stroke-width:2.0px;stroke-linecap:butt;stroke-linejoin:miter;stroke-opacity:1' />\n",
       "<path class='bond-5 atom-4 atom-6' d='M 342.3,95.0 L 327.9,64.8' style='fill:none;fill-rule:evenodd;stroke:#000000;stroke-width:2.0px;stroke-linecap:butt;stroke-linejoin:miter;stroke-opacity:1' />\n",
       "<path class='bond-5 atom-4 atom-6' d='M 327.9,64.8 L 313.5,34.6' style='fill:none;fill-rule:evenodd;stroke:#FF0000;stroke-width:2.0px;stroke-linecap:butt;stroke-linejoin:miter;stroke-opacity:1' />\n",
       "<path class='bond-6 atom-6 atom-3' d='M 295.9,34.6 L 277.4,61.5' style='fill:none;fill-rule:evenodd;stroke:#FF0000;stroke-width:2.0px;stroke-linecap:butt;stroke-linejoin:miter;stroke-opacity:1' />\n",
       "<path class='bond-6 atom-6 atom-3' d='M 277.4,61.5 L 258.9,88.4' style='fill:none;fill-rule:evenodd;stroke:#000000;stroke-width:2.0px;stroke-linecap:butt;stroke-linejoin:miter;stroke-opacity:1' />\n",
       "<path d='M 110.6,78.7 L 114.4,76.9 L 117.8,79.3' style='fill:none;stroke:#000000;stroke-width:2.0px;stroke-linecap:butt;stroke-linejoin:miter;stroke-opacity:1;' />\n",
       "<path d='M 179.8,122.0 L 183.3,124.4 L 187.1,122.6' style='fill:none;stroke:#000000;stroke-width:2.0px;stroke-linecap:butt;stroke-linejoin:miter;stroke-opacity:1;' />\n",
       "<path class='atom-6' d='M 295.4 19.5\n",
       "Q 295.4 13.9, 298.2 10.7\n",
       "Q 301.1 7.5, 306.3 7.5\n",
       "Q 311.6 7.5, 314.4 10.7\n",
       "Q 317.2 13.9, 317.2 19.5\n",
       "Q 317.2 25.3, 314.3 28.6\n",
       "Q 311.5 31.8, 306.3 31.8\n",
       "Q 301.1 31.8, 298.2 28.6\n",
       "Q 295.4 25.3, 295.4 19.5\n",
       "M 306.3 29.2\n",
       "Q 309.9 29.2, 311.9 26.7\n",
       "Q 313.8 24.3, 313.8 19.5\n",
       "Q 313.8 14.9, 311.9 12.6\n",
       "Q 309.9 10.2, 306.3 10.2\n",
       "Q 302.7 10.2, 300.7 12.5\n",
       "Q 298.8 14.9, 298.8 19.5\n",
       "Q 298.8 24.3, 300.7 26.7\n",
       "Q 302.7 29.2, 306.3 29.2\n",
       "' fill='#FF0000'/>\n",
       "</svg>\n"
      ],
      "text/plain": [
       "<rdkit.Chem.rdchem.Mol at 0x182808de1f0>"
      ]
     },
     "metadata": {},
     "output_type": "display_data"
    }
   ],
   "source": [
    "epoxide_needed = Chem.MolFromSmiles('CCCC1C(C)O1') #Creates a mol object from the SMILES of the epoxide\n",
    "display(epoxide_needed) #The epoxide is displayed"
   ]
  },
  {
   "cell_type": "markdown",
   "id": "2a448952-b929-48c3-b330-1b2394c0b9fa",
   "metadata": {},
   "source": [
    "As it may be observed, this epoxide is substituted on both sides, and therefore the reaction with the alkyne is not chemoselective.\n",
    "\n",
    "The pattern given that was given in the function to be searched is '[C]#[C][CH2][C^3][OH]'. It was thus specifically stated that the carbon next to the triple bond needs to be non-substituted, so that the reaction given by the displayed molecules is chemoselective. \n",
    "\n",
    "This is why, in the previous example, the function did not return any reactant."
   ]
  },
  {
   "cell_type": "markdown",
   "id": "a757a01e-8c5d-4f11-aa92-9644a733aabe",
   "metadata": {},
   "source": [
    "### Function that disconnects alcohols containing double bonds in their beta position"
   ]
  },
  {
   "cell_type": "markdown",
   "id": "dca93ba8-54e8-49e3-823d-f4f528d509f8",
   "metadata": {},
   "source": [
    "This function is very similar to the one containing triple bonds instead of double bonds. This is because the first step of the synthesis is the same as before. Nonetheless, what was before a target molecule is now just a synthesis intermediate, which needs to be hydrogenated in order to obtain the target moleucule. This is thus the first function that displays and returns not only the reactants needed, but also a synthesis intermediate.\n",
    "\n",
    "Afterwards, the hydrogenation conditions are also displayed and returned. Two possibilities are given, depending on weather the (Z) or (E) isomer of the double bond is desired."
   ]
  },
  {
   "cell_type": "markdown",
   "id": "1e747576-d57e-4aa9-82b4-ec2ed7c3283f",
   "metadata": {},
   "source": [
    "This functionality may be shown by taking as an example the molecule displayed below."
   ]
  },
  {
   "cell_type": "code",
   "execution_count": 49,
   "id": "28e8c214-eed4-45e1-8e84-c22083c69b07",
   "metadata": {},
   "outputs": [
    {
     "data": {
      "image/png": "[encoded data removed]",
      "image/svg+xml": [
       "<?xml version='1.0' encoding='iso-8859-1'?>\n",
       "<svg version='1.1' baseProfile='full'\n",
       "              xmlns='http://www.w3.org/2000/svg'\n",
       "                      xmlns:rdkit='http://www.rdkit.org/xml'\n",
       "                      xmlns:xlink='http://www.w3.org/1999/xlink'\n",
       "                  xml:space='preserve'\n",
       "width='450px' height='150px' viewBox='0 0 450 150'>\n",
       "<!-- END OF HEADER -->\n",
       "<rect style='opacity:1.0;fill:#FFFFFF;stroke:none' width='450.0' height='150.0' x='0.0' y='0.0'> </rect>\n",
       "<path class='bond-0 atom-0 atom-1' d='M 324.1,44.3 L 311.2,63.7' style='fill:none;fill-rule:evenodd;stroke:#000000;stroke-width:2.0px;stroke-linecap:butt;stroke-linejoin:miter;stroke-opacity:1' />\n",
       "<path class='bond-1 atom-1 atom-2' d='M 311.2,63.7 L 287.9,62.2' style='fill:none;fill-rule:evenodd;stroke:#000000;stroke-width:2.0px;stroke-linecap:butt;stroke-linejoin:miter;stroke-opacity:1' />\n",
       "<path class='bond-1 atom-1 atom-2' d='M 309.4,60.1 L 288.2,58.7' style='fill:none;fill-rule:evenodd;stroke:#000000;stroke-width:2.0px;stroke-linecap:butt;stroke-linejoin:miter;stroke-opacity:1' />\n",
       "<path class='bond-2 atom-2 atom-3' d='M 287.9,62.2 L 275.0,81.6' style='fill:none;fill-rule:evenodd;stroke:#000000;stroke-width:2.0px;stroke-linecap:butt;stroke-linejoin:miter;stroke-opacity:1' />\n",
       "<path class='bond-3 atom-3 atom-4' d='M 275.0,81.6 L 251.8,80.1' style='fill:none;fill-rule:evenodd;stroke:#000000;stroke-width:2.0px;stroke-linecap:butt;stroke-linejoin:miter;stroke-opacity:1' />\n",
       "<path class='bond-4 atom-4 atom-5' d='M 251.8,80.1 L 247.7,71.7' style='fill:none;fill-rule:evenodd;stroke:#000000;stroke-width:2.0px;stroke-linecap:butt;stroke-linejoin:miter;stroke-opacity:1' />\n",
       "<path class='bond-4 atom-4 atom-5' d='M 247.7,71.7 L 243.6,63.4' style='fill:none;fill-rule:evenodd;stroke:#FF0000;stroke-width:2.0px;stroke-linecap:butt;stroke-linejoin:miter;stroke-opacity:1' />\n",
       "<path class='bond-5 atom-4 atom-6' d='M 251.8,80.1 L 238.9,99.4' style='fill:none;fill-rule:evenodd;stroke:#000000;stroke-width:2.0px;stroke-linecap:butt;stroke-linejoin:miter;stroke-opacity:1' />\n",
       "<path class='bond-6 atom-6 atom-7' d='M 238.9,99.4 L 215.7,98.0' style='fill:none;fill-rule:evenodd;stroke:#000000;stroke-width:2.0px;stroke-linecap:butt;stroke-linejoin:miter;stroke-opacity:1' />\n",
       "<path class='bond-7 atom-7 atom-8' d='M 215.7,98.0 L 202.8,117.3' style='fill:none;fill-rule:evenodd;stroke:#000000;stroke-width:2.0px;stroke-linecap:butt;stroke-linejoin:miter;stroke-opacity:1' />\n",
       "<path class='bond-8 atom-8 atom-9' d='M 202.8,117.3 L 179.6,115.8' style='fill:none;fill-rule:evenodd;stroke:#000000;stroke-width:2.0px;stroke-linecap:butt;stroke-linejoin:miter;stroke-opacity:1' />\n",
       "<path class='bond-9 atom-9 atom-10' d='M 179.6,115.8 L 179.0,125.4' style='fill:none;fill-rule:evenodd;stroke:#000000;stroke-width:2.0px;stroke-linecap:butt;stroke-linejoin:miter;stroke-opacity:1' />\n",
       "<path class='bond-9 atom-9 atom-10' d='M 179.0,125.4 L 178.4,135.0' style='fill:none;fill-rule:evenodd;stroke:#FF0000;stroke-width:2.0px;stroke-linecap:butt;stroke-linejoin:miter;stroke-opacity:1' />\n",
       "<path class='bond-10 atom-9 atom-11' d='M 179.6,115.8 L 156.4,114.4' style='fill:none;fill-rule:evenodd;stroke:#000000;stroke-width:2.0px;stroke-linecap:butt;stroke-linejoin:miter;stroke-opacity:1' />\n",
       "<path class='bond-11 atom-11 atom-12' d='M 156.4,114.4 L 146.1,93.5' style='fill:none;fill-rule:evenodd;stroke:#000000;stroke-width:2.0px;stroke-linecap:butt;stroke-linejoin:miter;stroke-opacity:1' />\n",
       "<path class='bond-12 atom-9 atom-13' d='M 179.6,115.8 L 181.1,92.6' style='fill:none;fill-rule:evenodd;stroke:#000000;stroke-width:2.0px;stroke-linecap:butt;stroke-linejoin:miter;stroke-opacity:1' />\n",
       "<path class='bond-13 atom-13 atom-14' d='M 181.1,92.6 L 161.7,79.7' style='fill:none;fill-rule:evenodd;stroke:#000000;stroke-width:2.0px;stroke-linecap:butt;stroke-linejoin:miter;stroke-opacity:1' />\n",
       "<path class='bond-14 atom-14 atom-15' d='M 161.7,79.7 L 163.2,56.5' style='fill:none;fill-rule:evenodd;stroke:#000000;stroke-width:2.0px;stroke-linecap:butt;stroke-linejoin:miter;stroke-opacity:1' />\n",
       "<path class='bond-14 atom-14 atom-15' d='M 165.3,77.9 L 166.7,56.7' style='fill:none;fill-rule:evenodd;stroke:#000000;stroke-width:2.0px;stroke-linecap:butt;stroke-linejoin:miter;stroke-opacity:1' />\n",
       "<path class='bond-15 atom-15 atom-16' d='M 163.2,56.5 L 143.8,43.6' style='fill:none;fill-rule:evenodd;stroke:#000000;stroke-width:2.0px;stroke-linecap:butt;stroke-linejoin:miter;stroke-opacity:1' />\n",
       "<path class='bond-16 atom-16 atom-17' d='M 143.8,43.6 L 145.3,20.4' style='fill:none;fill-rule:evenodd;stroke:#000000;stroke-width:2.0px;stroke-linecap:butt;stroke-linejoin:miter;stroke-opacity:1' />\n",
       "<path class='bond-17 atom-17 atom-18' d='M 145.3,20.4 L 125.9,7.5' style='fill:none;fill-rule:evenodd;stroke:#000000;stroke-width:2.0px;stroke-linecap:butt;stroke-linejoin:miter;stroke-opacity:1' />\n",
       "<path d='M 311.8,62.7 L 311.2,63.7 L 310.0,63.6' style='fill:none;stroke:#000000;stroke-width:2.0px;stroke-linecap:butt;stroke-linejoin:miter;stroke-opacity:1;' />\n",
       "<path d='M 289.1,62.3 L 287.9,62.2 L 287.3,63.2' style='fill:none;stroke:#000000;stroke-width:2.0px;stroke-linecap:butt;stroke-linejoin:miter;stroke-opacity:1;' />\n",
       "<path d='M 275.7,80.6 L 275.0,81.6 L 273.9,81.5' style='fill:none;stroke:#000000;stroke-width:2.0px;stroke-linecap:butt;stroke-linejoin:miter;stroke-opacity:1;' />\n",
       "<path d='M 239.6,98.5 L 238.9,99.4 L 237.8,99.4' style='fill:none;stroke:#000000;stroke-width:2.0px;stroke-linecap:butt;stroke-linejoin:miter;stroke-opacity:1;' />\n",
       "<path d='M 216.9,98.0 L 215.7,98.0 L 215.1,98.9' style='fill:none;stroke:#000000;stroke-width:2.0px;stroke-linecap:butt;stroke-linejoin:miter;stroke-opacity:1;' />\n",
       "<path d='M 203.5,116.4 L 202.8,117.3 L 201.7,117.3' style='fill:none;stroke:#000000;stroke-width:2.0px;stroke-linecap:butt;stroke-linejoin:miter;stroke-opacity:1;' />\n",
       "<path d='M 157.5,114.4 L 156.4,114.4 L 155.9,113.3' style='fill:none;stroke:#000000;stroke-width:2.0px;stroke-linecap:butt;stroke-linejoin:miter;stroke-opacity:1;' />\n",
       "<path d='M 181.0,93.8 L 181.1,92.6 L 180.1,92.0' style='fill:none;stroke:#000000;stroke-width:2.0px;stroke-linecap:butt;stroke-linejoin:miter;stroke-opacity:1;' />\n",
       "<path d='M 162.7,80.4 L 161.7,79.7 L 161.8,78.6' style='fill:none;stroke:#000000;stroke-width:2.0px;stroke-linecap:butt;stroke-linejoin:miter;stroke-opacity:1;' />\n",
       "<path d='M 163.1,57.7 L 163.2,56.5 L 162.2,55.9' style='fill:none;stroke:#000000;stroke-width:2.0px;stroke-linecap:butt;stroke-linejoin:miter;stroke-opacity:1;' />\n",
       "<path d='M 144.8,44.3 L 143.8,43.6 L 143.9,42.5' style='fill:none;stroke:#000000;stroke-width:2.0px;stroke-linecap:butt;stroke-linejoin:miter;stroke-opacity:1;' />\n",
       "<path d='M 145.2,21.6 L 145.3,20.4 L 144.3,19.7' style='fill:none;stroke:#000000;stroke-width:2.0px;stroke-linecap:butt;stroke-linejoin:miter;stroke-opacity:1;' />\n",
       "<path class='atom-5' d='M 232.0 56.0\n",
       "L 232.9 56.0\n",
       "L 232.9 58.8\n",
       "L 236.2 58.8\n",
       "L 236.2 56.0\n",
       "L 237.1 56.0\n",
       "L 237.1 62.6\n",
       "L 236.2 62.6\n",
       "L 236.2 59.5\n",
       "L 232.9 59.5\n",
       "L 232.9 62.6\n",
       "L 232.0 62.6\n",
       "L 232.0 56.0\n",
       "' fill='#FF0000'/>\n",
       "<path class='atom-5' d='M 238.5 59.2\n",
       "Q 238.5 57.7, 239.3 56.8\n",
       "Q 240.0 55.9, 241.5 55.9\n",
       "Q 243.0 55.9, 243.7 56.8\n",
       "Q 244.5 57.7, 244.5 59.2\n",
       "Q 244.5 60.8, 243.7 61.8\n",
       "Q 242.9 62.7, 241.5 62.7\n",
       "Q 240.1 62.7, 239.3 61.8\n",
       "Q 238.5 60.9, 238.5 59.2\n",
       "M 241.5 61.9\n",
       "Q 242.5 61.9, 243.0 61.2\n",
       "Q 243.6 60.6, 243.6 59.2\n",
       "Q 243.6 57.9, 243.0 57.3\n",
       "Q 242.5 56.6, 241.5 56.6\n",
       "Q 240.5 56.6, 239.9 57.3\n",
       "Q 239.4 57.9, 239.4 59.2\n",
       "Q 239.4 60.6, 239.9 61.2\n",
       "Q 240.5 61.9, 241.5 61.9\n",
       "' fill='#FF0000'/>\n",
       "<path class='atom-10' d='M 175.1 139.1\n",
       "Q 175.1 137.5, 175.9 136.6\n",
       "Q 176.7 135.7, 178.1 135.7\n",
       "Q 179.6 135.7, 180.4 136.6\n",
       "Q 181.1 137.5, 181.1 139.1\n",
       "Q 181.1 140.7, 180.3 141.6\n",
       "Q 179.6 142.5, 178.1 142.5\n",
       "Q 176.7 142.5, 175.9 141.6\n",
       "Q 175.1 140.7, 175.1 139.1\n",
       "M 178.1 141.8\n",
       "Q 179.1 141.8, 179.7 141.1\n",
       "Q 180.2 140.4, 180.2 139.1\n",
       "Q 180.2 137.8, 179.7 137.1\n",
       "Q 179.1 136.5, 178.1 136.5\n",
       "Q 177.1 136.5, 176.6 137.1\n",
       "Q 176.0 137.8, 176.0 139.1\n",
       "Q 176.0 140.4, 176.6 141.1\n",
       "Q 177.1 141.8, 178.1 141.8\n",
       "' fill='#FF0000'/>\n",
       "<path class='atom-10' d='M 182.2 135.8\n",
       "L 183.1 135.8\n",
       "L 183.1 138.6\n",
       "L 186.4 138.6\n",
       "L 186.4 135.8\n",
       "L 187.3 135.8\n",
       "L 187.3 142.4\n",
       "L 186.4 142.4\n",
       "L 186.4 139.4\n",
       "L 183.1 139.4\n",
       "L 183.1 142.4\n",
       "L 182.2 142.4\n",
       "L 182.2 135.8\n",
       "' fill='#FF0000'/>\n",
       "</svg>\n"
      ],
      "text/html": [
       "<?xml version='1.0' encoding='iso-8859-1'?>\n",
       "<svg version='1.1' baseProfile='full'\n",
       "              xmlns='http://www.w3.org/2000/svg'\n",
       "                      xmlns:rdkit='http://www.rdkit.org/xml'\n",
       "                      xmlns:xlink='http://www.w3.org/1999/xlink'\n",
       "                  xml:space='preserve'\n",
       "width='450px' height='150px' viewBox='0 0 450 150'>\n",
       "<!-- END OF HEADER -->\n",
       "<rect style='opacity:1.0;fill:#FFFFFF;stroke:none' width='450.0' height='150.0' x='0.0' y='0.0'> </rect>\n",
       "<path class='bond-0 atom-0 atom-1' d='M 324.1,44.3 L 311.2,63.7' style='fill:none;fill-rule:evenodd;stroke:#000000;stroke-width:2.0px;stroke-linecap:butt;stroke-linejoin:miter;stroke-opacity:1' />\n",
       "<path class='bond-1 atom-1 atom-2' d='M 311.2,63.7 L 287.9,62.2' style='fill:none;fill-rule:evenodd;stroke:#000000;stroke-width:2.0px;stroke-linecap:butt;stroke-linejoin:miter;stroke-opacity:1' />\n",
       "<path class='bond-1 atom-1 atom-2' d='M 309.4,60.1 L 288.2,58.7' style='fill:none;fill-rule:evenodd;stroke:#000000;stroke-width:2.0px;stroke-linecap:butt;stroke-linejoin:miter;stroke-opacity:1' />\n",
       "<path class='bond-2 atom-2 atom-3' d='M 287.9,62.2 L 275.0,81.6' style='fill:none;fill-rule:evenodd;stroke:#000000;stroke-width:2.0px;stroke-linecap:butt;stroke-linejoin:miter;stroke-opacity:1' />\n",
       "<path class='bond-3 atom-3 atom-4' d='M 275.0,81.6 L 251.8,80.1' style='fill:none;fill-rule:evenodd;stroke:#000000;stroke-width:2.0px;stroke-linecap:butt;stroke-linejoin:miter;stroke-opacity:1' />\n",
       "<path class='bond-4 atom-4 atom-5' d='M 251.8,80.1 L 247.7,71.7' style='fill:none;fill-rule:evenodd;stroke:#000000;stroke-width:2.0px;stroke-linecap:butt;stroke-linejoin:miter;stroke-opacity:1' />\n",
       "<path class='bond-4 atom-4 atom-5' d='M 247.7,71.7 L 243.6,63.4' style='fill:none;fill-rule:evenodd;stroke:#FF0000;stroke-width:2.0px;stroke-linecap:butt;stroke-linejoin:miter;stroke-opacity:1' />\n",
       "<path class='bond-5 atom-4 atom-6' d='M 251.8,80.1 L 238.9,99.4' style='fill:none;fill-rule:evenodd;stroke:#000000;stroke-width:2.0px;stroke-linecap:butt;stroke-linejoin:miter;stroke-opacity:1' />\n",
       "<path class='bond-6 atom-6 atom-7' d='M 238.9,99.4 L 215.7,98.0' style='fill:none;fill-rule:evenodd;stroke:#000000;stroke-width:2.0px;stroke-linecap:butt;stroke-linejoin:miter;stroke-opacity:1' />\n",
       "<path class='bond-7 atom-7 atom-8' d='M 215.7,98.0 L 202.8,117.3' style='fill:none;fill-rule:evenodd;stroke:#000000;stroke-width:2.0px;stroke-linecap:butt;stroke-linejoin:miter;stroke-opacity:1' />\n",
       "<path class='bond-8 atom-8 atom-9' d='M 202.8,117.3 L 179.6,115.8' style='fill:none;fill-rule:evenodd;stroke:#000000;stroke-width:2.0px;stroke-linecap:butt;stroke-linejoin:miter;stroke-opacity:1' />\n",
       "<path class='bond-9 atom-9 atom-10' d='M 179.6,115.8 L 179.0,125.4' style='fill:none;fill-rule:evenodd;stroke:#000000;stroke-width:2.0px;stroke-linecap:butt;stroke-linejoin:miter;stroke-opacity:1' />\n",
       "<path class='bond-9 atom-9 atom-10' d='M 179.0,125.4 L 178.4,135.0' style='fill:none;fill-rule:evenodd;stroke:#FF0000;stroke-width:2.0px;stroke-linecap:butt;stroke-linejoin:miter;stroke-opacity:1' />\n",
       "<path class='bond-10 atom-9 atom-11' d='M 179.6,115.8 L 156.4,114.4' style='fill:none;fill-rule:evenodd;stroke:#000000;stroke-width:2.0px;stroke-linecap:butt;stroke-linejoin:miter;stroke-opacity:1' />\n",
       "<path class='bond-11 atom-11 atom-12' d='M 156.4,114.4 L 146.1,93.5' style='fill:none;fill-rule:evenodd;stroke:#000000;stroke-width:2.0px;stroke-linecap:butt;stroke-linejoin:miter;stroke-opacity:1' />\n",
       "<path class='bond-12 atom-9 atom-13' d='M 179.6,115.8 L 181.1,92.6' style='fill:none;fill-rule:evenodd;stroke:#000000;stroke-width:2.0px;stroke-linecap:butt;stroke-linejoin:miter;stroke-opacity:1' />\n",
       "<path class='bond-13 atom-13 atom-14' d='M 181.1,92.6 L 161.7,79.7' style='fill:none;fill-rule:evenodd;stroke:#000000;stroke-width:2.0px;stroke-linecap:butt;stroke-linejoin:miter;stroke-opacity:1' />\n",
       "<path class='bond-14 atom-14 atom-15' d='M 161.7,79.7 L 163.2,56.5' style='fill:none;fill-rule:evenodd;stroke:#000000;stroke-width:2.0px;stroke-linecap:butt;stroke-linejoin:miter;stroke-opacity:1' />\n",
       "<path class='bond-14 atom-14 atom-15' d='M 165.3,77.9 L 166.7,56.7' style='fill:none;fill-rule:evenodd;stroke:#000000;stroke-width:2.0px;stroke-linecap:butt;stroke-linejoin:miter;stroke-opacity:1' />\n",
       "<path class='bond-15 atom-15 atom-16' d='M 163.2,56.5 L 143.8,43.6' style='fill:none;fill-rule:evenodd;stroke:#000000;stroke-width:2.0px;stroke-linecap:butt;stroke-linejoin:miter;stroke-opacity:1' />\n",
       "<path class='bond-16 atom-16 atom-17' d='M 143.8,43.6 L 145.3,20.4' style='fill:none;fill-rule:evenodd;stroke:#000000;stroke-width:2.0px;stroke-linecap:butt;stroke-linejoin:miter;stroke-opacity:1' />\n",
       "<path class='bond-17 atom-17 atom-18' d='M 145.3,20.4 L 125.9,7.5' style='fill:none;fill-rule:evenodd;stroke:#000000;stroke-width:2.0px;stroke-linecap:butt;stroke-linejoin:miter;stroke-opacity:1' />\n",
       "<path d='M 311.8,62.7 L 311.2,63.7 L 310.0,63.6' style='fill:none;stroke:#000000;stroke-width:2.0px;stroke-linecap:butt;stroke-linejoin:miter;stroke-opacity:1;' />\n",
       "<path d='M 289.1,62.3 L 287.9,62.2 L 287.3,63.2' style='fill:none;stroke:#000000;stroke-width:2.0px;stroke-linecap:butt;stroke-linejoin:miter;stroke-opacity:1;' />\n",
       "<path d='M 275.7,80.6 L 275.0,81.6 L 273.9,81.5' style='fill:none;stroke:#000000;stroke-width:2.0px;stroke-linecap:butt;stroke-linejoin:miter;stroke-opacity:1;' />\n",
       "<path d='M 239.6,98.5 L 238.9,99.4 L 237.8,99.4' style='fill:none;stroke:#000000;stroke-width:2.0px;stroke-linecap:butt;stroke-linejoin:miter;stroke-opacity:1;' />\n",
       "<path d='M 216.9,98.0 L 215.7,98.0 L 215.1,98.9' style='fill:none;stroke:#000000;stroke-width:2.0px;stroke-linecap:butt;stroke-linejoin:miter;stroke-opacity:1;' />\n",
       "<path d='M 203.5,116.4 L 202.8,117.3 L 201.7,117.3' style='fill:none;stroke:#000000;stroke-width:2.0px;stroke-linecap:butt;stroke-linejoin:miter;stroke-opacity:1;' />\n",
       "<path d='M 157.5,114.4 L 156.4,114.4 L 155.9,113.3' style='fill:none;stroke:#000000;stroke-width:2.0px;stroke-linecap:butt;stroke-linejoin:miter;stroke-opacity:1;' />\n",
       "<path d='M 181.0,93.8 L 181.1,92.6 L 180.1,92.0' style='fill:none;stroke:#000000;stroke-width:2.0px;stroke-linecap:butt;stroke-linejoin:miter;stroke-opacity:1;' />\n",
       "<path d='M 162.7,80.4 L 161.7,79.7 L 161.8,78.6' style='fill:none;stroke:#000000;stroke-width:2.0px;stroke-linecap:butt;stroke-linejoin:miter;stroke-opacity:1;' />\n",
       "<path d='M 163.1,57.7 L 163.2,56.5 L 162.2,55.9' style='fill:none;stroke:#000000;stroke-width:2.0px;stroke-linecap:butt;stroke-linejoin:miter;stroke-opacity:1;' />\n",
       "<path d='M 144.8,44.3 L 143.8,43.6 L 143.9,42.5' style='fill:none;stroke:#000000;stroke-width:2.0px;stroke-linecap:butt;stroke-linejoin:miter;stroke-opacity:1;' />\n",
       "<path d='M 145.2,21.6 L 145.3,20.4 L 144.3,19.7' style='fill:none;stroke:#000000;stroke-width:2.0px;stroke-linecap:butt;stroke-linejoin:miter;stroke-opacity:1;' />\n",
       "<path class='atom-5' d='M 232.0 56.0\n",
       "L 232.9 56.0\n",
       "L 232.9 58.8\n",
       "L 236.2 58.8\n",
       "L 236.2 56.0\n",
       "L 237.1 56.0\n",
       "L 237.1 62.6\n",
       "L 236.2 62.6\n",
       "L 236.2 59.5\n",
       "L 232.9 59.5\n",
       "L 232.9 62.6\n",
       "L 232.0 62.6\n",
       "L 232.0 56.0\n",
       "' fill='#FF0000'/>\n",
       "<path class='atom-5' d='M 238.5 59.2\n",
       "Q 238.5 57.7, 239.3 56.8\n",
       "Q 240.0 55.9, 241.5 55.9\n",
       "Q 243.0 55.9, 243.7 56.8\n",
       "Q 244.5 57.7, 244.5 59.2\n",
       "Q 244.5 60.8, 243.7 61.8\n",
       "Q 242.9 62.7, 241.5 62.7\n",
       "Q 240.1 62.7, 239.3 61.8\n",
       "Q 238.5 60.9, 238.5 59.2\n",
       "M 241.5 61.9\n",
       "Q 242.5 61.9, 243.0 61.2\n",
       "Q 243.6 60.6, 243.6 59.2\n",
       "Q 243.6 57.9, 243.0 57.3\n",
       "Q 242.5 56.6, 241.5 56.6\n",
       "Q 240.5 56.6, 239.9 57.3\n",
       "Q 239.4 57.9, 239.4 59.2\n",
       "Q 239.4 60.6, 239.9 61.2\n",
       "Q 240.5 61.9, 241.5 61.9\n",
       "' fill='#FF0000'/>\n",
       "<path class='atom-10' d='M 175.1 139.1\n",
       "Q 175.1 137.5, 175.9 136.6\n",
       "Q 176.7 135.7, 178.1 135.7\n",
       "Q 179.6 135.7, 180.4 136.6\n",
       "Q 181.1 137.5, 181.1 139.1\n",
       "Q 181.1 140.7, 180.3 141.6\n",
       "Q 179.6 142.5, 178.1 142.5\n",
       "Q 176.7 142.5, 175.9 141.6\n",
       "Q 175.1 140.7, 175.1 139.1\n",
       "M 178.1 141.8\n",
       "Q 179.1 141.8, 179.7 141.1\n",
       "Q 180.2 140.4, 180.2 139.1\n",
       "Q 180.2 137.8, 179.7 137.1\n",
       "Q 179.1 136.5, 178.1 136.5\n",
       "Q 177.1 136.5, 176.6 137.1\n",
       "Q 176.0 137.8, 176.0 139.1\n",
       "Q 176.0 140.4, 176.6 141.1\n",
       "Q 177.1 141.8, 178.1 141.8\n",
       "' fill='#FF0000'/>\n",
       "<path class='atom-10' d='M 182.2 135.8\n",
       "L 183.1 135.8\n",
       "L 183.1 138.6\n",
       "L 186.4 138.6\n",
       "L 186.4 135.8\n",
       "L 187.3 135.8\n",
       "L 187.3 142.4\n",
       "L 186.4 142.4\n",
       "L 186.4 139.4\n",
       "L 183.1 139.4\n",
       "L 183.1 142.4\n",
       "L 182.2 142.4\n",
       "L 182.2 135.8\n",
       "' fill='#FF0000'/>\n",
       "</svg>\n"
      ],
      "text/plain": [
       "<rdkit.Chem.rdchem.Mol at 0x182808de5e0>"
      ]
     },
     "metadata": {},
     "output_type": "display_data"
    }
   ],
   "source": [
    "example_alcohol_db_smiles = 'CC=CCC(O)CCCC(O)(CC)CC=CCCC' #Defines to molecule to be analyzed, using its SMILES representation\n",
    "alcohol_db = Chem.MolFromSmiles(example_alcohol_db_smiles) #The Mol object is created from the SMILES representation\n",
    "display(alcohol_db) #The compound containing the alcohol and the double bond in the beta position is displayed"
   ]
  },
  {
   "cell_type": "code",
   "execution_count": 51,
   "id": "2a09e787-a7bd-46ea-9a47-7e5a55cd0aea",
   "metadata": {},
   "outputs": [
    {
     "name": "stdout",
     "output_type": "stream",
     "text": [
      "Primary alcohol with beta alkene disconnection available\n",
      "--------------------------------------\n",
      "Option 1\n",
      "Reactant 1\n"
     ]
    },
    {
     "data": {
      "image/svg+xml": [
       "<svg xmlns=\"http://www.w3.org/2000/svg\" xmlns:rdkit=\"http://www.rdkit.org/xml\" xmlns:xlink=\"http://www.w3.org/1999/xlink\" version=\"1.1\" baseProfile=\"full\" xml:space=\"preserve\" width=\"600px\" height=\"200px\" viewBox=\"0 0 600 200\">\n",
       "<!-- END OF HEADER -->\n",
       "<rect style=\"opacity:1.0;fill:#FFFFFF;stroke:none\" width=\"600.0\" height=\"200.0\" x=\"0.0\" y=\"0.0\"> </rect>\n",
       "<path class=\"bond-0 atom-0 atom-1\" d=\"M 187.9,110.5 L 140.5,96.4\" style=\"fill:none;fill-rule:evenodd;stroke:#000000;stroke-width:2.0px;stroke-linecap:butt;stroke-linejoin:miter;stroke-opacity:1\"/>\n",
       "<path class=\"bond-0 atom-0 atom-1\" d=\"M 185.8,117.6 L 138.4,103.6\" style=\"fill:none;fill-rule:evenodd;stroke:#000000;stroke-width:2.0px;stroke-linecap:butt;stroke-linejoin:miter;stroke-opacity:1\"/>\n",
       "<path class=\"bond-0 atom-0 atom-1\" d=\"M 190.0,103.4 L 142.6,89.3\" style=\"fill:none;fill-rule:evenodd;stroke:#000000;stroke-width:2.0px;stroke-linecap:butt;stroke-linejoin:miter;stroke-opacity:1\"/>\n",
       "<path class=\"bond-1 atom-1 atom-2\" d=\"M 140.5,96.4 L 93.2,82.4\" style=\"fill:none;fill-rule:evenodd;stroke:#000000;stroke-width:2.0px;stroke-linecap:butt;stroke-linejoin:miter;stroke-opacity:1\"/>\n",
       "<path class=\"bond-2 atom-2 atom-3\" d=\"M 93.2,82.4 L 57.4,116.4\" style=\"fill:none;fill-rule:evenodd;stroke:#000000;stroke-width:2.0px;stroke-linecap:butt;stroke-linejoin:miter;stroke-opacity:1\"/>\n",
       "<path class=\"bond-3 atom-3 atom-4\" d=\"M 57.4,116.4 L 10.0,102.4\" style=\"fill:none;fill-rule:evenodd;stroke:#000000;stroke-width:2.0px;stroke-linecap:butt;stroke-linejoin:miter;stroke-opacity:1\"/>\n",
       "<path d=\"M 142.9,97.1 L 140.5,96.4 L 138.2,95.7\" style=\"fill:none;stroke:#000000;stroke-width:2.0px;stroke-linecap:butt;stroke-linejoin:miter;stroke-opacity:1;\"/>\n",
       "<path d=\"M 95.6,83.1 L 93.2,82.4 L 91.4,84.1\" style=\"fill:none;stroke:#000000;stroke-width:2.0px;stroke-linecap:butt;stroke-linejoin:miter;stroke-opacity:1;\"/>\n",
       "<path d=\"M 59.1,114.7 L 57.4,116.4 L 55.0,115.7\" style=\"fill:none;stroke:#000000;stroke-width:2.0px;stroke-linecap:butt;stroke-linejoin:miter;stroke-opacity:1;\"/>\n",
       "<path class=\"atom-0\" d=\"M 303.6 89.5 L 308.2 96.9 Q 308.7 97.6, 309.4 99.0 Q 310.1 100.3, 310.2 100.4 L 310.2 89.5 L 312.0 89.5 L 312.0 103.5 L 310.1 103.5 L 305.2 95.4 Q 304.6 94.4, 304.0 93.4 Q 303.4 92.3, 303.2 91.9 L 303.2 103.5 L 301.4 103.5 L 301.4 89.5 L 303.6 89.5 \" fill=\"#000000\"/>\n",
       "<path class=\"atom-0\" d=\"M 314.6 100.8 Q 314.6 99.1, 315.9 98.2 Q 317.2 97.4, 319.6 97.4 L 321.1 97.4 L 321.1 97.0 Q 321.1 95.7, 320.6 95.2 Q 320.1 94.6, 318.8 94.6 Q 318.0 94.6, 317.4 94.8 Q 316.7 94.9, 315.7 95.4 L 315.2 94.1 Q 317.0 93.2, 318.8 93.2 Q 321.0 93.2, 322.0 94.1 Q 323.0 95.0, 323.0 97.0 L 323.0 103.5 L 321.5 103.5 Q 321.5 103.4, 321.4 103.1 Q 321.4 102.8, 321.3 102.3 Q 319.8 103.7, 317.9 103.7 Q 316.4 103.7, 315.5 102.9 Q 314.6 102.1, 314.6 100.8 M 316.5 100.7 Q 316.5 101.5, 316.9 101.9 Q 317.4 102.3, 318.3 102.3 Q 319.1 102.3, 319.8 101.9 Q 320.6 101.5, 321.1 100.9 L 321.1 98.7 L 319.7 98.7 Q 318.1 98.7, 317.3 99.2 Q 316.5 99.7, 316.5 100.7 \" fill=\"#000000\"/>\n",
       "<path class=\"atom-0\" d=\"M 325.4 93.7 L 327.9 93.7 L 327.9 91.1 L 329.0 91.1 L 329.0 93.7 L 331.5 93.7 L 331.5 94.7 L 329.0 94.7 L 329.0 97.3 L 327.9 97.3 L 327.9 94.7 L 325.4 94.7 L 325.4 93.7 \" fill=\"#000000\"/>\n",
       "<path class=\"atom-1\" d=\"M 270.7 89.5 L 275.3 96.9 Q 275.7 97.6, 276.5 99.0 Q 277.2 100.3, 277.2 100.4 L 277.2 89.5 L 279.1 89.5 L 279.1 103.5 L 277.2 103.5 L 272.3 95.4 Q 271.7 94.4, 271.1 93.4 Q 270.5 92.3, 270.3 91.9 L 270.3 103.5 L 268.5 103.5 L 268.5 89.5 L 270.7 89.5 \" fill=\"#0000FF\"/>\n",
       "<path class=\"atom-1\" d=\"M 281.7 89.5 L 283.6 89.5 L 283.6 95.5 L 290.7 95.5 L 290.7 89.5 L 292.6 89.5 L 292.6 103.5 L 290.7 103.5 L 290.7 97.0 L 283.6 97.0 L 283.6 103.5 L 281.7 103.5 L 281.7 89.5 \" fill=\"#0000FF\"/>\n",
       "<path class=\"atom-1\" d=\"M 295.3 103.0 Q 295.6 102.1, 296.4 101.7 Q 297.3 101.2, 298.4 101.2 Q 299.8 101.2, 300.6 101.9 Q 301.3 102.7, 301.3 104.0 Q 301.3 105.4, 300.3 106.7 Q 299.3 107.9, 297.2 109.4 L 301.5 109.4 L 301.5 110.5 L 295.3 110.5 L 295.3 109.6 Q 297.0 108.4, 298.0 107.5 Q 299.0 106.6, 299.5 105.7 Q 300.0 104.9, 300.0 104.1 Q 300.0 103.2, 299.6 102.7 Q 299.1 102.2, 298.4 102.2 Q 297.6 102.2, 297.1 102.5 Q 296.6 102.8, 296.3 103.5 L 295.3 103.0 \" fill=\"#0000FF\"/>\n",
       "<path class=\"atom-1\" d=\"M 296.0 91.8 L 300.8 91.8 L 300.8 92.9 L 296.0 92.9 L 296.0 91.8 \" fill=\"#0000FF\"/>\n",
       "</svg>"
      ],
      "text/plain": [
       "<IPython.core.display.SVG object>"
      ]
     },
     "metadata": {},
     "output_type": "display_data"
    },
    {
     "name": "stdout",
     "output_type": "stream",
     "text": [
      "Reactant 2\n"
     ]
    },
    {
     "data": {
      "image/svg+xml": [
       "<svg xmlns=\"http://www.w3.org/2000/svg\" xmlns:rdkit=\"http://www.rdkit.org/xml\" xmlns:xlink=\"http://www.w3.org/1999/xlink\" version=\"1.1\" baseProfile=\"full\" xml:space=\"preserve\" width=\"600px\" height=\"200px\" viewBox=\"0 0 600 200\">\n",
       "<!-- END OF HEADER -->\n",
       "<rect style=\"opacity:1.0;fill:#FFFFFF;stroke:none\" width=\"600.0\" height=\"200.0\" x=\"0.0\" y=\"0.0\"> </rect>\n",
       "<path class=\"bond-0 atom-0 atom-1\" d=\"M 10.0,95.9 L 30.8,107.3\" style=\"fill:none;fill-rule:evenodd;stroke:#000000;stroke-width:2.0px;stroke-linecap:butt;stroke-linejoin:miter;stroke-opacity:1\"/>\n",
       "<path class=\"bond-1 atom-1 atom-2\" d=\"M 30.8,107.3 L 51.1,95.1\" style=\"fill:none;fill-rule:evenodd;stroke:#000000;stroke-width:2.0px;stroke-linecap:butt;stroke-linejoin:miter;stroke-opacity:1\"/>\n",
       "<path class=\"bond-1 atom-1 atom-2\" d=\"M 30.7,103.2 L 49.3,92.0\" style=\"fill:none;fill-rule:evenodd;stroke:#000000;stroke-width:2.0px;stroke-linecap:butt;stroke-linejoin:miter;stroke-opacity:1\"/>\n",
       "<path class=\"bond-2 atom-2 atom-3\" d=\"M 51.1,95.1 L 71.9,106.5\" style=\"fill:none;fill-rule:evenodd;stroke:#000000;stroke-width:2.0px;stroke-linecap:butt;stroke-linejoin:miter;stroke-opacity:1\"/>\n",
       "<path class=\"bond-3 atom-3 atom-4\" d=\"M 71.9,106.5 L 92.2,94.2\" style=\"fill:none;fill-rule:evenodd;stroke:#000000;stroke-width:2.0px;stroke-linecap:butt;stroke-linejoin:miter;stroke-opacity:1\"/>\n",
       "<path class=\"bond-4 atom-4 atom-5\" d=\"M 92.2,94.2 L 92.0,84.5\" style=\"fill:none;fill-rule:evenodd;stroke:#000000;stroke-width:2.0px;stroke-linecap:butt;stroke-linejoin:miter;stroke-opacity:1\"/>\n",
       "<path class=\"bond-4 atom-4 atom-5\" d=\"M 92.0,84.5 L 91.8,74.8\" style=\"fill:none;fill-rule:evenodd;stroke:#FF0000;stroke-width:2.0px;stroke-linecap:butt;stroke-linejoin:miter;stroke-opacity:1\"/>\n",
       "<path class=\"bond-5 atom-4 atom-6\" d=\"M 92.2,94.2 L 113.0,105.7\" style=\"fill:none;fill-rule:evenodd;stroke:#000000;stroke-width:2.0px;stroke-linecap:butt;stroke-linejoin:miter;stroke-opacity:1\"/>\n",
       "<path class=\"bond-6 atom-6 atom-7\" d=\"M 113.0,105.7 L 133.3,93.4\" style=\"fill:none;fill-rule:evenodd;stroke:#000000;stroke-width:2.0px;stroke-linecap:butt;stroke-linejoin:miter;stroke-opacity:1\"/>\n",
       "<path class=\"bond-7 atom-7 atom-8\" d=\"M 133.3,93.4 L 154.1,104.9\" style=\"fill:none;fill-rule:evenodd;stroke:#000000;stroke-width:2.0px;stroke-linecap:butt;stroke-linejoin:miter;stroke-opacity:1\"/>\n",
       "<path class=\"bond-8 atom-8 atom-9\" d=\"M 154.1,104.9 L 174.4,92.6\" style=\"fill:none;fill-rule:evenodd;stroke:#000000;stroke-width:2.0px;stroke-linecap:butt;stroke-linejoin:miter;stroke-opacity:1\"/>\n",
       "<path class=\"bond-9 atom-9 atom-10\" d=\"M 174.4,92.6 L 190.0,110.5\" style=\"fill:none;fill-rule:evenodd;stroke:#000000;stroke-width:2.0px;stroke-linecap:butt;stroke-linejoin:miter;stroke-opacity:1\"/>\n",
       "<path class=\"bond-10 atom-10 atom-11\" d=\"M 190.0,110.5 L 182.3,132.9\" style=\"fill:none;fill-rule:evenodd;stroke:#000000;stroke-width:2.0px;stroke-linecap:butt;stroke-linejoin:miter;stroke-opacity:1\"/>\n",
       "<path class=\"bond-11 atom-9 atom-12\" d=\"M 174.4,92.6 L 189.3,74.1\" style=\"fill:none;fill-rule:evenodd;stroke:#000000;stroke-width:2.0px;stroke-linecap:butt;stroke-linejoin:miter;stroke-opacity:1\"/>\n",
       "<path class=\"bond-12 atom-12 atom-13\" d=\"M 189.3,74.1 L 179.5,72.6\" style=\"fill:none;fill-rule:evenodd;stroke:#000000;stroke-width:2.0px;stroke-linecap:butt;stroke-linejoin:miter;stroke-opacity:1\"/>\n",
       "<path class=\"bond-12 atom-12 atom-13\" d=\"M 179.5,72.6 L 169.7,71.1\" style=\"fill:none;fill-rule:evenodd;stroke:#FF0000;stroke-width:2.0px;stroke-linecap:butt;stroke-linejoin:miter;stroke-opacity:1\"/>\n",
       "<path class=\"bond-13 atom-13 atom-9\" d=\"M 167.5,74.8 L 170.9,83.7\" style=\"fill:none;fill-rule:evenodd;stroke:#FF0000;stroke-width:2.0px;stroke-linecap:butt;stroke-linejoin:miter;stroke-opacity:1\"/>\n",
       "<path class=\"bond-13 atom-13 atom-9\" d=\"M 170.9,83.7 L 174.4,92.6\" style=\"fill:none;fill-rule:evenodd;stroke:#000000;stroke-width:2.0px;stroke-linecap:butt;stroke-linejoin:miter;stroke-opacity:1\"/>\n",
       "<path d=\"M 29.7,106.8 L 30.8,107.3 L 31.8,106.7\" style=\"fill:none;stroke:#000000;stroke-width:2.0px;stroke-linecap:butt;stroke-linejoin:miter;stroke-opacity:1;\"/>\n",
       "<path d=\"M 50.1,95.7 L 51.1,95.1 L 52.1,95.6\" style=\"fill:none;stroke:#000000;stroke-width:2.0px;stroke-linecap:butt;stroke-linejoin:miter;stroke-opacity:1;\"/>\n",
       "<path d=\"M 70.8,105.9 L 71.9,106.5 L 72.9,105.9\" style=\"fill:none;stroke:#000000;stroke-width:2.0px;stroke-linecap:butt;stroke-linejoin:miter;stroke-opacity:1;\"/>\n",
       "<path d=\"M 111.9,105.1 L 113.0,105.7 L 114.0,105.1\" style=\"fill:none;stroke:#000000;stroke-width:2.0px;stroke-linecap:butt;stroke-linejoin:miter;stroke-opacity:1;\"/>\n",
       "<path d=\"M 132.3,94.0 L 133.3,93.4 L 134.3,94.0\" style=\"fill:none;stroke:#000000;stroke-width:2.0px;stroke-linecap:butt;stroke-linejoin:miter;stroke-opacity:1;\"/>\n",
       "<path d=\"M 153.0,104.3 L 154.1,104.9 L 155.1,104.3\" style=\"fill:none;stroke:#000000;stroke-width:2.0px;stroke-linecap:butt;stroke-linejoin:miter;stroke-opacity:1;\"/>\n",
       "<path d=\"M 189.2,109.6 L 190.0,110.5 L 189.6,111.6\" style=\"fill:none;stroke:#000000;stroke-width:2.0px;stroke-linecap:butt;stroke-linejoin:miter;stroke-opacity:1;\"/>\n",
       "<path d=\"M 188.5,75.0 L 189.3,74.1 L 188.8,74.0\" style=\"fill:none;stroke:#000000;stroke-width:2.0px;stroke-linecap:butt;stroke-linejoin:miter;stroke-opacity:1;\"/>\n",
       "<path class=\"atom-5\" d=\"M 88.6 70.5 Q 88.6 68.9, 89.4 68.0 Q 90.2 67.1, 91.7 67.1 Q 93.2 67.1, 94.0 68.0 Q 94.8 68.9, 94.8 70.5 Q 94.8 72.2, 94.0 73.1 Q 93.2 74.0, 91.7 74.0 Q 90.2 74.0, 89.4 73.1 Q 88.6 72.2, 88.6 70.5 M 91.7 73.3 Q 92.7 73.3, 93.3 72.6 Q 93.9 71.9, 93.9 70.5 Q 93.9 69.2, 93.3 68.5 Q 92.7 67.9, 91.7 67.9 Q 90.7 67.9, 90.1 68.5 Q 89.6 69.2, 89.6 70.5 Q 89.6 71.9, 90.1 72.6 Q 90.7 73.3, 91.7 73.3 \" fill=\"#FF0000\"/>\n",
       "<path class=\"atom-5\" d=\"M 95.9 67.2 L 96.8 67.2 L 96.8 70.0 L 100.2 70.0 L 100.2 67.2 L 101.1 67.2 L 101.1 73.9 L 100.2 73.9 L 100.2 70.8 L 96.8 70.8 L 96.8 73.9 L 95.9 73.9 L 95.9 67.2 \" fill=\"#FF0000\"/>\n",
       "<path class=\"atom-13\" d=\"M 162.7 70.5 Q 162.7 68.9, 163.5 68.0 Q 164.3 67.1, 165.8 67.1 Q 167.3 67.1, 168.1 68.0 Q 168.9 68.9, 168.9 70.5 Q 168.9 72.1, 168.1 73.0 Q 167.3 74.0, 165.8 74.0 Q 164.3 74.0, 163.5 73.0 Q 162.7 72.1, 162.7 70.5 M 165.8 73.2 Q 166.9 73.2, 167.4 72.5 Q 168.0 71.8, 168.0 70.5 Q 168.0 69.2, 167.4 68.5 Q 166.9 67.8, 165.8 67.8 Q 164.8 67.8, 164.2 68.5 Q 163.7 69.2, 163.7 70.5 Q 163.7 71.8, 164.2 72.5 Q 164.8 73.2, 165.8 73.2 \" fill=\"#FF0000\"/>\n",
       "</svg>"
      ],
      "text/plain": [
       "<IPython.core.display.SVG object>"
      ]
     },
     "metadata": {},
     "output_type": "display_data"
    },
    {
     "name": "stdout",
     "output_type": "stream",
     "text": [
      "Once this two are combined, the following product is obtained\n"
     ]
    },
    {
     "data": {
      "image/svg+xml": [
       "<svg xmlns=\"http://www.w3.org/2000/svg\" xmlns:rdkit=\"http://www.rdkit.org/xml\" xmlns:xlink=\"http://www.w3.org/1999/xlink\" version=\"1.1\" baseProfile=\"full\" xml:space=\"preserve\" width=\"600px\" height=\"200px\" viewBox=\"0 0 600 200\">\n",
       "<!-- END OF HEADER -->\n",
       "<rect style=\"opacity:1.0;fill:#FFFFFF;stroke:none\" width=\"600.0\" height=\"200.0\" x=\"0.0\" y=\"0.0\"> </rect>\n",
       "<path class=\"bond-0 atom-0 atom-1\" d=\"M 190.0,69.3 L 179.5,85.3\" style=\"fill:none;fill-rule:evenodd;stroke:#000000;stroke-width:2.0px;stroke-linecap:butt;stroke-linejoin:miter;stroke-opacity:1\"/>\n",
       "<path class=\"bond-1 atom-1 atom-2\" d=\"M 179.5,85.3 L 160.5,84.2\" style=\"fill:none;fill-rule:evenodd;stroke:#000000;stroke-width:2.0px;stroke-linecap:butt;stroke-linejoin:miter;stroke-opacity:1\"/>\n",
       "<path class=\"bond-1 atom-1 atom-2\" d=\"M 178.1,82.3 L 160.6,81.3\" style=\"fill:none;fill-rule:evenodd;stroke:#000000;stroke-width:2.0px;stroke-linecap:butt;stroke-linejoin:miter;stroke-opacity:1\"/>\n",
       "<path class=\"bond-2 atom-2 atom-3\" d=\"M 160.5,84.2 L 150.0,100.2\" style=\"fill:none;fill-rule:evenodd;stroke:#000000;stroke-width:2.0px;stroke-linecap:butt;stroke-linejoin:miter;stroke-opacity:1\"/>\n",
       "<path class=\"bond-3 atom-3 atom-4\" d=\"M 150.0,100.2 L 130.9,99.1\" style=\"fill:none;fill-rule:evenodd;stroke:#000000;stroke-width:2.0px;stroke-linecap:butt;stroke-linejoin:miter;stroke-opacity:1\"/>\n",
       "<path class=\"bond-4 atom-4 atom-5\" d=\"M 130.9,99.1 L 127.5,92.3\" style=\"fill:none;fill-rule:evenodd;stroke:#000000;stroke-width:2.0px;stroke-linecap:butt;stroke-linejoin:miter;stroke-opacity:1\"/>\n",
       "<path class=\"bond-4 atom-4 atom-5\" d=\"M 127.5,92.3 L 124.1,85.5\" style=\"fill:none;fill-rule:evenodd;stroke:#FF0000;stroke-width:2.0px;stroke-linecap:butt;stroke-linejoin:miter;stroke-opacity:1\"/>\n",
       "<path class=\"bond-5 atom-4 atom-6\" d=\"M 130.9,99.1 L 120.5,115.1\" style=\"fill:none;fill-rule:evenodd;stroke:#000000;stroke-width:2.0px;stroke-linecap:butt;stroke-linejoin:miter;stroke-opacity:1\"/>\n",
       "<path class=\"bond-6 atom-6 atom-7\" d=\"M 120.5,115.1 L 101.4,114.1\" style=\"fill:none;fill-rule:evenodd;stroke:#000000;stroke-width:2.0px;stroke-linecap:butt;stroke-linejoin:miter;stroke-opacity:1\"/>\n",
       "<path class=\"bond-7 atom-7 atom-8\" d=\"M 101.4,114.1 L 91.0,130.1\" style=\"fill:none;fill-rule:evenodd;stroke:#000000;stroke-width:2.0px;stroke-linecap:butt;stroke-linejoin:miter;stroke-opacity:1\"/>\n",
       "<path class=\"bond-8 atom-8 atom-9\" d=\"M 91.0,130.1 L 71.9,129.0\" style=\"fill:none;fill-rule:evenodd;stroke:#000000;stroke-width:2.0px;stroke-linecap:butt;stroke-linejoin:miter;stroke-opacity:1\"/>\n",
       "<path class=\"bond-9 atom-9 atom-10\" d=\"M 71.9,129.0 L 71.4,136.9\" style=\"fill:none;fill-rule:evenodd;stroke:#000000;stroke-width:2.0px;stroke-linecap:butt;stroke-linejoin:miter;stroke-opacity:1\"/>\n",
       "<path class=\"bond-9 atom-9 atom-10\" d=\"M 71.4,136.9 L 71.0,144.7\" style=\"fill:none;fill-rule:evenodd;stroke:#FF0000;stroke-width:2.0px;stroke-linecap:butt;stroke-linejoin:miter;stroke-opacity:1\"/>\n",
       "<path class=\"bond-10 atom-9 atom-11\" d=\"M 71.9,129.0 L 52.8,128.0\" style=\"fill:none;fill-rule:evenodd;stroke:#000000;stroke-width:2.0px;stroke-linecap:butt;stroke-linejoin:miter;stroke-opacity:1\"/>\n",
       "<path class=\"bond-11 atom-11 atom-12\" d=\"M 52.8,128.0 L 44.2,110.9\" style=\"fill:none;fill-rule:evenodd;stroke:#000000;stroke-width:2.0px;stroke-linecap:butt;stroke-linejoin:miter;stroke-opacity:1\"/>\n",
       "<path class=\"bond-12 atom-9 atom-13\" d=\"M 71.9,129.0 L 72.9,110.0\" style=\"fill:none;fill-rule:evenodd;stroke:#000000;stroke-width:2.0px;stroke-linecap:butt;stroke-linejoin:miter;stroke-opacity:1\"/>\n",
       "<path class=\"bond-13 atom-13 atom-14\" d=\"M 72.9,110.0 L 56.9,99.5\" style=\"fill:none;fill-rule:evenodd;stroke:#000000;stroke-width:2.0px;stroke-linecap:butt;stroke-linejoin:miter;stroke-opacity:1\"/>\n",
       "<path class=\"bond-14 atom-14 atom-15\" d=\"M 56.9,99.5 L 40.9,89.1\" style=\"fill:none;fill-rule:evenodd;stroke:#000000;stroke-width:2.0px;stroke-linecap:butt;stroke-linejoin:miter;stroke-opacity:1\"/>\n",
       "<path class=\"bond-14 atom-14 atom-15\" d=\"M 55.4,101.9 L 39.4,91.4\" style=\"fill:none;fill-rule:evenodd;stroke:#000000;stroke-width:2.0px;stroke-linecap:butt;stroke-linejoin:miter;stroke-opacity:1\"/>\n",
       "<path class=\"bond-14 atom-14 atom-15\" d=\"M 58.5,97.1 L 42.5,86.7\" style=\"fill:none;fill-rule:evenodd;stroke:#000000;stroke-width:2.0px;stroke-linecap:butt;stroke-linejoin:miter;stroke-opacity:1\"/>\n",
       "<path class=\"bond-15 atom-15 atom-16\" d=\"M 40.9,89.1 L 24.9,78.6\" style=\"fill:none;fill-rule:evenodd;stroke:#000000;stroke-width:2.0px;stroke-linecap:butt;stroke-linejoin:miter;stroke-opacity:1\"/>\n",
       "<path class=\"bond-16 atom-16 atom-17\" d=\"M 24.9,78.6 L 26.0,59.5\" style=\"fill:none;fill-rule:evenodd;stroke:#000000;stroke-width:2.0px;stroke-linecap:butt;stroke-linejoin:miter;stroke-opacity:1\"/>\n",
       "<path class=\"bond-17 atom-17 atom-18\" d=\"M 26.0,59.5 L 10.0,49.1\" style=\"fill:none;fill-rule:evenodd;stroke:#000000;stroke-width:2.0px;stroke-linecap:butt;stroke-linejoin:miter;stroke-opacity:1\"/>\n",
       "<path d=\"M 180.1,84.5 L 179.5,85.3 L 178.6,85.2\" style=\"fill:none;stroke:#000000;stroke-width:2.0px;stroke-linecap:butt;stroke-linejoin:miter;stroke-opacity:1;\"/>\n",
       "<path d=\"M 161.4,84.3 L 160.5,84.2 L 159.9,85.0\" style=\"fill:none;stroke:#000000;stroke-width:2.0px;stroke-linecap:butt;stroke-linejoin:miter;stroke-opacity:1;\"/>\n",
       "<path d=\"M 150.5,99.4 L 150.0,100.2 L 149.1,100.1\" style=\"fill:none;stroke:#000000;stroke-width:2.0px;stroke-linecap:butt;stroke-linejoin:miter;stroke-opacity:1;\"/>\n",
       "<path d=\"M 121.0,114.3 L 120.5,115.1 L 119.5,115.1\" style=\"fill:none;stroke:#000000;stroke-width:2.0px;stroke-linecap:butt;stroke-linejoin:miter;stroke-opacity:1;\"/>\n",
       "<path d=\"M 102.4,114.1 L 101.4,114.1 L 100.9,114.9\" style=\"fill:none;stroke:#000000;stroke-width:2.0px;stroke-linecap:butt;stroke-linejoin:miter;stroke-opacity:1;\"/>\n",
       "<path d=\"M 91.5,129.3 L 91.0,130.1 L 90.0,130.0\" style=\"fill:none;stroke:#000000;stroke-width:2.0px;stroke-linecap:butt;stroke-linejoin:miter;stroke-opacity:1;\"/>\n",
       "<path d=\"M 53.8,128.0 L 52.8,128.0 L 52.4,127.1\" style=\"fill:none;stroke:#000000;stroke-width:2.0px;stroke-linecap:butt;stroke-linejoin:miter;stroke-opacity:1;\"/>\n",
       "<path d=\"M 72.9,110.9 L 72.9,110.0 L 72.1,109.4\" style=\"fill:none;stroke:#000000;stroke-width:2.0px;stroke-linecap:butt;stroke-linejoin:miter;stroke-opacity:1;\"/>\n",
       "<path d=\"M 57.7,100.0 L 56.9,99.5 L 56.1,99.0\" style=\"fill:none;stroke:#000000;stroke-width:2.0px;stroke-linecap:butt;stroke-linejoin:miter;stroke-opacity:1;\"/>\n",
       "<path d=\"M 41.7,89.6 L 40.9,89.1 L 40.1,88.5\" style=\"fill:none;stroke:#000000;stroke-width:2.0px;stroke-linecap:butt;stroke-linejoin:miter;stroke-opacity:1;\"/>\n",
       "<path d=\"M 25.7,79.1 L 24.9,78.6 L 25.0,77.6\" style=\"fill:none;stroke:#000000;stroke-width:2.0px;stroke-linecap:butt;stroke-linejoin:miter;stroke-opacity:1;\"/>\n",
       "<path d=\"M 25.9,60.5 L 26.0,59.5 L 25.2,59.0\" style=\"fill:none;stroke:#000000;stroke-width:2.0px;stroke-linecap:butt;stroke-linejoin:miter;stroke-opacity:1;\"/>\n",
       "<path class=\"atom-5\" d=\"M 114.5 79.4 L 115.2 79.4 L 115.2 81.7 L 118.0 81.7 L 118.0 79.4 L 118.7 79.4 L 118.7 84.8 L 118.0 84.8 L 118.0 82.3 L 115.2 82.3 L 115.2 84.8 L 114.5 84.8 L 114.5 79.4 \" fill=\"#FF0000\"/>\n",
       "<path class=\"atom-5\" d=\"M 119.8 82.1 Q 119.8 80.8, 120.5 80.1 Q 121.1 79.4, 122.3 79.4 Q 123.5 79.4, 124.2 80.1 Q 124.8 80.8, 124.8 82.1 Q 124.8 83.4, 124.1 84.2 Q 123.5 84.9, 122.3 84.9 Q 121.1 84.9, 120.5 84.2 Q 119.8 83.4, 119.8 82.1 M 122.3 84.3 Q 123.1 84.3, 123.6 83.8 Q 124.0 83.2, 124.0 82.1 Q 124.0 81.0, 123.6 80.5 Q 123.1 80.0, 122.3 80.0 Q 121.5 80.0, 121.0 80.5 Q 120.6 81.0, 120.6 82.1 Q 120.6 83.2, 121.0 83.8 Q 121.5 84.3, 122.3 84.3 \" fill=\"#FF0000\"/>\n",
       "<path class=\"atom-10\" d=\"M 68.3 148.1 Q 68.3 146.8, 69.0 146.1 Q 69.6 145.4, 70.8 145.4 Q 72.0 145.4, 72.7 146.1 Q 73.3 146.8, 73.3 148.1 Q 73.3 149.4, 72.7 150.2 Q 72.0 150.9, 70.8 150.9 Q 69.6 150.9, 69.0 150.2 Q 68.3 149.4, 68.3 148.1 M 70.8 150.3 Q 71.7 150.3, 72.1 149.8 Q 72.5 149.2, 72.5 148.1 Q 72.5 147.1, 72.1 146.5 Q 71.7 146.0, 70.8 146.0 Q 70.0 146.0, 69.6 146.5 Q 69.1 147.1, 69.1 148.1 Q 69.1 149.2, 69.6 149.8 Q 70.0 150.3, 70.8 150.3 \" fill=\"#FF0000\"/>\n",
       "<path class=\"atom-10\" d=\"M 74.2 145.4 L 74.9 145.4 L 74.9 147.7 L 77.7 147.7 L 77.7 145.4 L 78.4 145.4 L 78.4 150.8 L 77.7 150.8 L 77.7 148.3 L 74.9 148.3 L 74.9 150.8 L 74.2 150.8 L 74.2 145.4 \" fill=\"#FF0000\"/>\n",
       "</svg>"
      ],
      "text/plain": [
       "<IPython.core.display.SVG object>"
      ]
     },
     "metadata": {},
     "output_type": "display_data"
    },
    {
     "name": "stdout",
     "output_type": "stream",
     "text": [
      "The product needs to be hydrogenated in order to get to the target molecule\n",
      "If the Z geometry is needed for the double bond, then the following conditions, known as hydrogen on Lindlar catalyst, are employed\n"
     ]
    },
    {
     "data": {
      "image/svg+xml": [
       "<svg xmlns=\"http://www.w3.org/2000/svg\" xmlns:rdkit=\"http://www.rdkit.org/xml\" xmlns:xlink=\"http://www.w3.org/1999/xlink\" version=\"1.1\" baseProfile=\"full\" xml:space=\"preserve\" width=\"800px\" height=\"200px\" viewBox=\"0 0 800 200\">\n",
       "<!-- END OF HEADER -->\n",
       "<rect style=\"opacity:1.0;fill:#FFFFFF;stroke:none\" width=\"800.0\" height=\"200.0\" x=\"0.0\" y=\"0.0\"> </rect>\n",
       "<path class=\"bond-0 atom-0 atom-1\" d=\"M 126.0,100.0 L 74.0,100.0\" style=\"fill:none;fill-rule:evenodd;stroke:#000000;stroke-width:2.0px;stroke-linecap:butt;stroke-linejoin:miter;stroke-opacity:1\"/>\n",
       "<path class=\"atom-0\" d=\"M 128.4 89.7 L 131.2 89.7 L 131.2 98.5 L 141.8 98.5 L 141.8 89.7 L 144.6 89.7 L 144.6 110.3 L 141.8 110.3 L 141.8 100.8 L 131.2 100.8 L 131.2 110.3 L 128.4 110.3 L 128.4 89.7 \" fill=\"#000000\"/>\n",
       "<path class=\"atom-1\" d=\"M 55.4 89.7 L 58.2 89.7 L 58.2 98.5 L 68.8 98.5 L 68.8 89.7 L 71.6 89.7 L 71.6 110.3 L 68.8 110.3 L 68.8 100.8 L 58.2 100.8 L 58.2 110.3 L 55.4 110.3 L 55.4 89.7 \" fill=\"#000000\"/>\n",
       "<path class=\"atom-0\" d=\"M 291.3 90.3 Q 294.9 90.3, 296.6 91.9 Q 298.4 93.5, 298.4 96.4 Q 298.4 99.2, 296.6 100.9 Q 294.8 102.5, 291.3 102.5 L 288.0 102.5 L 288.0 111.0 L 285.2 111.0 L 285.2 90.3 L 291.3 90.3 M 291.3 100.1 Q 293.3 100.1, 294.4 99.2 Q 295.5 98.2, 295.5 96.4 Q 295.5 94.5, 294.4 93.6 Q 293.4 92.6, 291.3 92.6 L 288.0 92.6 L 288.0 100.1 L 291.3 100.1 \" fill=\"#000000\"/>\n",
       "<path class=\"atom-0\" d=\"M 314.8 88.8 L 314.8 110.9 L 312.5 110.9 L 312.2 109.1 Q 310.5 111.2, 307.7 111.2 Q 304.6 111.2, 302.9 109.3 Q 301.1 107.3, 301.1 103.7 Q 301.1 99.9, 303.2 97.8 Q 305.3 95.7, 308.8 95.7 Q 310.4 95.7, 312.0 96.1 L 312.0 88.8 L 314.8 88.8 M 307.9 109.0 Q 309.4 109.0, 310.5 108.2 Q 311.6 107.4, 312.0 105.9 L 312.0 98.3 Q 310.5 97.9, 308.9 97.9 Q 306.6 97.9, 305.3 99.4 Q 303.9 100.9, 303.9 103.7 Q 303.9 106.3, 305.0 107.7 Q 306.0 109.0, 307.9 109.0 \" fill=\"#000000\"/>\n",
       "<path class=\"bond-0 atom-1 atom-2\" d=\"M 546.3,76.7 L 520.6,91.5\" style=\"fill:none;fill-rule:evenodd;stroke:#FF0000;stroke-width:2.0px;stroke-linecap:butt;stroke-linejoin:miter;stroke-opacity:1\"/>\n",
       "<path class=\"bond-0 atom-1 atom-2\" d=\"M 520.6,91.5 L 495.0,106.3\" style=\"fill:none;fill-rule:evenodd;stroke:#000000;stroke-width:2.0px;stroke-linecap:butt;stroke-linejoin:miter;stroke-opacity:1\"/>\n",
       "<path class=\"bond-1 atom-2 atom-3\" d=\"M 495.0,106.3 L 469.3,91.5\" style=\"fill:none;fill-rule:evenodd;stroke:#000000;stroke-width:2.0px;stroke-linecap:butt;stroke-linejoin:miter;stroke-opacity:1\"/>\n",
       "<path class=\"bond-1 atom-2 atom-3\" d=\"M 469.3,91.5 L 443.7,76.7\" style=\"fill:none;fill-rule:evenodd;stroke:#FF0000;stroke-width:2.0px;stroke-linecap:butt;stroke-linejoin:miter;stroke-opacity:1\"/>\n",
       "<path class=\"bond-2 atom-2 atom-4\" d=\"M 489.5,103.1 L 489.5,134.7\" style=\"fill:none;fill-rule:evenodd;stroke:#000000;stroke-width:2.0px;stroke-linecap:butt;stroke-linejoin:miter;stroke-opacity:1\"/>\n",
       "<path class=\"bond-2 atom-2 atom-4\" d=\"M 489.5,134.7 L 489.5,166.4\" style=\"fill:none;fill-rule:evenodd;stroke:#FF0000;stroke-width:2.0px;stroke-linecap:butt;stroke-linejoin:miter;stroke-opacity:1\"/>\n",
       "<path class=\"bond-2 atom-2 atom-4\" d=\"M 500.5,103.1 L 500.5,134.7\" style=\"fill:none;fill-rule:evenodd;stroke:#000000;stroke-width:2.0px;stroke-linecap:butt;stroke-linejoin:miter;stroke-opacity:1\"/>\n",
       "<path class=\"bond-2 atom-2 atom-4\" d=\"M 500.5,134.7 L 500.5,166.4\" style=\"fill:none;fill-rule:evenodd;stroke:#FF0000;stroke-width:2.0px;stroke-linecap:butt;stroke-linejoin:miter;stroke-opacity:1\"/>\n",
       "<path d=\"M 496.3,105.5 L 495.0,106.3 L 493.7,105.5\" style=\"fill:none;stroke:#000000;stroke-width:2.0px;stroke-linecap:butt;stroke-linejoin:miter;stroke-opacity:1;\"/>\n",
       "<path class=\"atom-0\" d=\"M 487.0 21.2 Q 487.0 16.1, 489.4 13.4 Q 491.8 10.7, 496.4 10.7 Q 500.7 10.7, 503.0 13.7 L 501.0 15.3 Q 499.4 13.1, 496.4 13.1 Q 493.3 13.1, 491.6 15.2 Q 490.0 17.3, 490.0 21.2 Q 490.0 25.3, 491.7 27.4 Q 493.4 29.5, 496.7 29.5 Q 499.0 29.5, 501.7 28.2 L 502.5 30.3 Q 501.4 31.0, 499.8 31.5 Q 498.1 31.9, 496.3 31.9 Q 491.8 31.9, 489.4 29.1 Q 487.0 26.4, 487.0 21.2 \" fill=\"#000000\"/>\n",
       "<path class=\"atom-0\" d=\"M 505.5 27.5 Q 505.5 25.1, 507.5 23.8 Q 509.4 22.5, 512.9 22.5 L 515.1 22.5 L 515.1 21.9 Q 515.1 20.1, 514.3 19.3 Q 513.6 18.5, 511.7 18.5 Q 510.5 18.5, 509.6 18.7 Q 508.6 18.9, 507.2 19.6 L 506.4 17.7 Q 509.1 16.3, 511.8 16.3 Q 515.0 16.3, 516.4 17.7 Q 517.9 19.0, 517.9 22.0 L 517.9 31.6 L 515.7 31.6 Q 515.7 31.5, 515.6 31.0 Q 515.5 30.6, 515.4 29.8 Q 513.3 31.9, 510.5 31.9 Q 508.2 31.9, 506.9 30.8 Q 505.5 29.6, 505.5 27.5 M 508.3 27.5 Q 508.3 28.6, 509.0 29.2 Q 509.7 29.8, 511.0 29.8 Q 512.1 29.8, 513.3 29.3 Q 514.4 28.7, 515.1 27.8 L 515.1 24.6 L 513.1 24.6 Q 510.7 24.6, 509.5 25.3 Q 508.3 26.0, 508.3 27.5 \" fill=\"#000000\"/>\n",
       "<path class=\"atom-0\" d=\"M 521.6 12.7 Q 522.1 11.4, 523.2 10.7 Q 524.4 10.0, 526.1 10.0 Q 528.2 10.0, 529.3 11.1 Q 530.5 12.2, 530.5 14.2 Q 530.5 16.2, 529.0 18.1 Q 527.5 20.0, 524.4 22.3 L 530.7 22.3 L 530.7 23.8 L 521.5 23.8 L 521.5 22.5 Q 524.1 20.7, 525.6 19.3 Q 527.1 18.0, 527.8 16.8 Q 528.5 15.6, 528.5 14.3 Q 528.5 13.0, 527.9 12.3 Q 527.2 11.5, 526.1 11.5 Q 525.0 11.5, 524.3 12.0 Q 523.5 12.4, 523.0 13.4 L 521.6 12.7 \" fill=\"#000000\"/>\n",
       "<path class=\"atom-0\" d=\"M 533.3 17.2 L 536.9 17.2 L 536.9 13.4 L 538.5 13.4 L 538.5 17.2 L 542.2 17.2 L 542.2 18.6 L 538.5 18.6 L 538.5 22.4 L 536.9 22.4 L 536.9 18.6 L 533.3 18.6 L 533.3 17.2 \" fill=\"#000000\"/>\n",
       "<path class=\"atom-1\" d=\"M 548.7 69.8 Q 548.7 64.9, 551.1 62.1 Q 553.6 59.3, 558.2 59.3 Q 562.8 59.3, 565.2 62.1 Q 567.7 64.9, 567.7 69.8 Q 567.7 74.9, 565.2 77.7 Q 562.7 80.6, 558.2 80.6 Q 553.6 80.6, 551.1 77.7 Q 548.7 74.9, 548.7 69.8 M 558.2 78.2 Q 561.3 78.2, 563.0 76.1 Q 564.7 74.0, 564.7 69.8 Q 564.7 65.8, 563.0 63.7 Q 561.3 61.7, 558.2 61.7 Q 555.0 61.7, 553.3 63.7 Q 551.6 65.8, 551.6 69.8 Q 551.6 74.0, 553.3 76.1 Q 555.0 78.2, 558.2 78.2 \" fill=\"#FF0000\"/>\n",
       "<path class=\"atom-1\" d=\"M 570.6 62.7 L 577.7 62.7 L 577.7 64.3 L 570.6 64.3 L 570.6 62.7 \" fill=\"#FF0000\"/>\n",
       "<path class=\"atom-3\" d=\"M 422.3 69.8 Q 422.3 64.9, 424.8 62.1 Q 427.2 59.3, 431.8 59.3 Q 436.4 59.3, 438.8 62.1 Q 441.3 64.9, 441.3 69.8 Q 441.3 74.9, 438.8 77.7 Q 436.3 80.6, 431.8 80.6 Q 427.3 80.6, 424.8 77.7 Q 422.3 74.9, 422.3 69.8 M 431.8 78.2 Q 435.0 78.2, 436.7 76.1 Q 438.4 74.0, 438.4 69.8 Q 438.4 65.8, 436.7 63.7 Q 435.0 61.7, 431.8 61.7 Q 428.7 61.7, 426.9 63.7 Q 425.2 65.8, 425.2 69.8 Q 425.2 74.0, 426.9 76.1 Q 428.7 78.2, 431.8 78.2 \" fill=\"#FF0000\"/>\n",
       "<path class=\"atom-3\" d=\"M 444.2 62.7 L 451.3 62.7 L 451.3 64.3 L 444.2 64.3 L 444.2 62.7 \" fill=\"#FF0000\"/>\n",
       "<path class=\"atom-4\" d=\"M 485.5 179.3 Q 485.5 174.3, 488.0 171.6 Q 490.4 168.8, 495.0 168.8 Q 499.6 168.8, 502.0 171.6 Q 504.5 174.3, 504.5 179.3 Q 504.5 184.3, 502.0 187.2 Q 499.5 190.0, 495.0 190.0 Q 490.4 190.0, 488.0 187.2 Q 485.5 184.3, 485.5 179.3 M 495.0 187.7 Q 498.1 187.7, 499.8 185.6 Q 501.6 183.4, 501.6 179.3 Q 501.6 175.2, 499.8 173.2 Q 498.1 171.1, 495.0 171.1 Q 491.8 171.1, 490.1 173.2 Q 488.4 175.2, 488.4 179.3 Q 488.4 183.5, 490.1 185.6 Q 491.8 187.7, 495.0 187.7 \" fill=\"#FF0000\"/>\n",
       "<path class=\"atom-0\" d=\"M 688.6 90.3 Q 692.1 90.3, 693.9 91.9 Q 695.7 93.5, 695.7 96.4 Q 695.7 99.2, 693.9 100.9 Q 692.1 102.5, 688.6 102.5 L 685.3 102.5 L 685.3 111.0 L 682.5 111.0 L 682.5 90.3 L 688.6 90.3 M 688.6 100.1 Q 690.6 100.1, 691.7 99.2 Q 692.8 98.2, 692.8 96.4 Q 692.8 94.5, 691.7 93.6 Q 690.7 92.6, 688.6 92.6 L 685.3 92.6 L 685.3 100.1 L 688.6 100.1 \" fill=\"#000000\"/>\n",
       "<path class=\"atom-0\" d=\"M 705.4 95.7 Q 708.5 95.7, 710.3 97.7 Q 712.0 99.6, 712.0 103.2 Q 712.0 107.0, 709.9 109.1 Q 707.9 111.2, 704.3 111.2 Q 701.9 111.2, 699.7 110.3 L 698.4 110.0 L 698.4 88.8 L 701.2 88.8 L 701.2 97.6 Q 702.7 95.7, 705.4 95.7 M 704.3 109.0 Q 706.6 109.0, 707.9 107.5 Q 709.2 106.0, 709.2 103.2 Q 709.2 100.6, 708.2 99.3 Q 707.1 97.9, 705.2 97.9 Q 703.7 97.9, 702.6 98.7 Q 701.6 99.5, 701.2 100.9 L 701.2 108.6 Q 702.6 109.0, 704.3 109.0 \" fill=\"#000000\"/>\n",
       "<path class=\"atom-0\" d=\"M 717.9,108.6 L 717.8,108.8 L 717.8,108.9 L 717.8,109.0 L 717.8,109.1 L 717.7,109.2 L 717.7,109.4 L 717.6,109.5 L 717.5,109.6 L 717.4,109.7 L 717.3,109.7 L 717.2,109.8 L 717.1,109.9 L 717.0,110.0 L 716.9,110.0 L 716.8,110.0 L 716.7,110.1 L 716.5,110.1 L 716.4,110.1 L 716.3,110.1 L 716.2,110.1 L 716.1,110.1 L 715.9,110.0 L 715.8,110.0 L 715.7,109.9 L 715.6,109.9 L 715.5,109.8 L 715.4,109.7 L 715.3,109.6 L 715.2,109.5 L 715.2,109.4 L 715.1,109.3 L 715.0,109.2 L 715.0,109.1 L 715.0,109.0 L 714.9,108.8 L 714.9,108.7 L 714.9,108.6 L 714.9,108.5 L 715.0,108.3 L 715.0,108.2 L 715.0,108.1 L 715.1,108.0 L 715.2,107.9 L 715.2,107.8 L 715.3,107.7 L 715.4,107.6 L 715.5,107.5 L 715.6,107.4 L 715.7,107.4 L 715.8,107.3 L 715.9,107.3 L 716.1,107.2 L 716.2,107.2 L 716.3,107.2 L 716.4,107.2 L 716.5,107.2 L 716.7,107.2 L 716.8,107.2 L 716.9,107.3 L 717.0,107.3 L 717.1,107.4 L 717.2,107.5 L 717.3,107.5 L 717.4,107.6 L 717.5,107.7 L 717.6,107.8 L 717.7,107.9 L 717.7,108.0 L 717.8,108.1 L 717.8,108.3 L 717.8,108.4 L 717.8,108.5 L 717.9,108.6 L 716.4,108.6 Z\" style=\"fill:#000000;fill-rule:evenodd;fill-opacity:1;stroke:#000000;stroke-width:0.0px;stroke-linecap:butt;stroke-linejoin:miter;stroke-opacity:1;\"/>\n",
       "<path class=\"atom-0\" d=\"M 717.9,91.1 L 717.8,91.3 L 717.8,91.4 L 717.8,91.5 L 717.8,91.6 L 717.7,91.7 L 717.7,91.8 L 717.6,92.0 L 717.5,92.1 L 717.4,92.1 L 717.3,92.2 L 717.2,92.3 L 717.1,92.4 L 717.0,92.4 L 716.9,92.5 L 716.8,92.5 L 716.7,92.6 L 716.5,92.6 L 716.4,92.6 L 716.3,92.6 L 716.2,92.6 L 716.1,92.5 L 715.9,92.5 L 715.8,92.5 L 715.7,92.4 L 715.6,92.3 L 715.5,92.3 L 715.4,92.2 L 715.3,92.1 L 715.2,92.0 L 715.2,91.9 L 715.1,91.8 L 715.0,91.7 L 715.0,91.6 L 715.0,91.4 L 714.9,91.3 L 714.9,91.2 L 714.9,91.1 L 714.9,90.9 L 715.0,90.8 L 715.0,90.7 L 715.0,90.6 L 715.1,90.5 L 715.2,90.4 L 715.2,90.3 L 715.3,90.2 L 715.4,90.1 L 715.5,90.0 L 715.6,89.9 L 715.7,89.8 L 715.8,89.8 L 715.9,89.7 L 716.1,89.7 L 716.2,89.7 L 716.3,89.7 L 716.4,89.7 L 716.5,89.7 L 716.7,89.7 L 716.8,89.7 L 716.9,89.8 L 717.0,89.8 L 717.1,89.9 L 717.2,89.9 L 717.3,90.0 L 717.4,90.1 L 717.5,90.2 L 717.6,90.3 L 717.7,90.4 L 717.7,90.5 L 717.8,90.6 L 717.8,90.8 L 717.8,90.9 L 717.8,91.0 L 717.9,91.1 L 716.4,91.1 Z\" style=\"fill:#000000;fill-rule:evenodd;fill-opacity:1;stroke:#000000;stroke-width:0.0px;stroke-linecap:butt;stroke-linejoin:miter;stroke-opacity:1;\"/>\n",
       "<path class=\"atom-0\" d=\"M 717.9,102.8 L 717.8,102.9 L 717.8,103.1 L 717.8,103.2 L 717.8,103.3 L 717.7,103.4 L 717.7,103.5 L 717.6,103.6 L 717.5,103.7 L 717.4,103.8 L 717.3,103.9 L 717.2,104.0 L 717.1,104.1 L 717.0,104.1 L 716.9,104.2 L 716.8,104.2 L 716.7,104.2 L 716.5,104.3 L 716.4,104.3 L 716.3,104.3 L 716.2,104.2 L 716.1,104.2 L 715.9,104.2 L 715.8,104.1 L 715.7,104.1 L 715.6,104.0 L 715.5,103.9 L 715.4,103.9 L 715.3,103.8 L 715.2,103.7 L 715.2,103.6 L 715.1,103.5 L 715.0,103.4 L 715.0,103.2 L 715.0,103.1 L 714.9,103.0 L 714.9,102.9 L 714.9,102.7 L 714.9,102.6 L 715.0,102.5 L 715.0,102.4 L 715.0,102.3 L 715.1,102.1 L 715.2,102.0 L 715.2,101.9 L 715.3,101.8 L 715.4,101.7 L 715.5,101.7 L 715.6,101.6 L 715.7,101.5 L 715.8,101.5 L 715.9,101.4 L 716.1,101.4 L 716.2,101.4 L 716.3,101.3 L 716.4,101.3 L 716.5,101.4 L 716.7,101.4 L 716.8,101.4 L 716.9,101.4 L 717.0,101.5 L 717.1,101.5 L 717.2,101.6 L 717.3,101.7 L 717.4,101.8 L 717.5,101.9 L 717.6,102.0 L 717.7,102.1 L 717.7,102.2 L 717.8,102.3 L 717.8,102.4 L 717.8,102.6 L 717.8,102.7 L 717.9,102.8 L 716.4,102.8 Z\" style=\"fill:#000000;fill-rule:evenodd;fill-opacity:1;stroke:#000000;stroke-width:0.0px;stroke-linecap:butt;stroke-linejoin:miter;stroke-opacity:1;\"/>\n",
       "<path class=\"atom-0\" d=\"M 717.9,97.0 L 717.8,97.1 L 717.8,97.2 L 717.8,97.3 L 717.8,97.5 L 717.7,97.6 L 717.7,97.7 L 717.6,97.8 L 717.5,97.9 L 717.4,98.0 L 717.3,98.1 L 717.2,98.1 L 717.1,98.2 L 717.0,98.3 L 716.9,98.3 L 716.8,98.4 L 716.7,98.4 L 716.5,98.4 L 716.4,98.4 L 716.3,98.4 L 716.2,98.4 L 716.1,98.4 L 715.9,98.3 L 715.8,98.3 L 715.7,98.2 L 715.6,98.2 L 715.5,98.1 L 715.4,98.0 L 715.3,97.9 L 715.2,97.8 L 715.2,97.7 L 715.1,97.6 L 715.0,97.5 L 715.0,97.4 L 715.0,97.3 L 714.9,97.2 L 714.9,97.0 L 714.9,96.9 L 714.9,96.8 L 715.0,96.7 L 715.0,96.5 L 715.0,96.4 L 715.1,96.3 L 715.2,96.2 L 715.2,96.1 L 715.3,96.0 L 715.4,95.9 L 715.5,95.8 L 715.6,95.7 L 715.7,95.7 L 715.8,95.6 L 715.9,95.6 L 716.1,95.5 L 716.2,95.5 L 716.3,95.5 L 716.4,95.5 L 716.5,95.5 L 716.7,95.5 L 716.8,95.6 L 716.9,95.6 L 717.0,95.7 L 717.1,95.7 L 717.2,95.8 L 717.3,95.9 L 717.4,95.9 L 717.5,96.0 L 717.6,96.1 L 717.7,96.2 L 717.7,96.4 L 717.8,96.5 L 717.8,96.6 L 717.8,96.7 L 717.8,96.8 L 717.9,97.0 L 716.4,97.0 Z\" style=\"fill:#000000;fill-rule:evenodd;fill-opacity:1;stroke:#000000;stroke-width:0.0px;stroke-linecap:butt;stroke-linejoin:miter;stroke-opacity:1;\"/>\n",
       "</svg>"
      ],
      "text/plain": [
       "<IPython.core.display.SVG object>"
      ]
     },
     "metadata": {},
     "output_type": "display_data"
    },
    {
     "name": "stdout",
     "output_type": "stream",
     "text": [
      "If the E geometry is needed for the double bond, then the following conditions are employed\n"
     ]
    },
    {
     "data": {
      "image/svg+xml": [
       "<svg xmlns=\"http://www.w3.org/2000/svg\" xmlns:rdkit=\"http://www.rdkit.org/xml\" xmlns:xlink=\"http://www.w3.org/1999/xlink\" version=\"1.1\" baseProfile=\"full\" xml:space=\"preserve\" width=\"600px\" height=\"200px\" viewBox=\"0 0 600 200\">\n",
       "<!-- END OF HEADER -->\n",
       "<rect style=\"opacity:1.0;fill:#FFFFFF;stroke:none\" width=\"600.0\" height=\"200.0\" x=\"0.0\" y=\"0.0\"> </rect>\n",
       "<path class=\"atom-0\" d=\"M 79.8 86.2 L 88.7 100.6 Q 89.5 102.0, 91.0 104.6 Q 92.4 107.1, 92.5 107.3 L 92.5 86.2 L 96.1 86.2 L 96.1 113.4 L 92.3 113.4 L 82.8 97.6 Q 81.7 95.8, 80.5 93.7 Q 79.3 91.6, 79.0 90.9 L 79.0 113.4 L 75.5 113.4 L 75.5 86.2 L 79.8 86.2 \" fill=\"#000000\"/>\n",
       "<path class=\"atom-0\" d=\"M 101.1 108.0 Q 101.1 104.9, 103.6 103.1 Q 106.2 101.4, 110.8 101.4 L 113.7 101.4 L 113.7 100.7 Q 113.7 98.2, 112.7 97.2 Q 111.7 96.1, 109.2 96.1 Q 107.7 96.1, 106.4 96.4 Q 105.2 96.7, 103.3 97.5 L 102.2 95.0 Q 105.8 93.3, 109.3 93.3 Q 113.5 93.3, 115.4 95.1 Q 117.3 96.9, 117.3 100.7 L 117.3 113.4 L 114.5 113.4 Q 114.5 113.2, 114.4 112.6 Q 114.3 112.0, 114.0 111.1 Q 111.3 113.8, 107.6 113.8 Q 104.6 113.8, 102.9 112.2 Q 101.1 110.7, 101.1 108.0 M 104.7 107.9 Q 104.7 109.4, 105.6 110.2 Q 106.6 111.0, 108.3 111.0 Q 109.8 111.0, 111.3 110.3 Q 112.7 109.6, 113.7 108.3 L 113.7 104.1 L 111.0 104.1 Q 107.9 104.1, 106.3 105.1 Q 104.7 106.0, 104.7 107.9 \" fill=\"#000000\"/>\n",
       "<path class=\"atom-0\" d=\"M 125.0,99.8 L 125.0,99.9 L 125.0,100.1 L 125.0,100.3 L 124.9,100.4 L 124.8,100.6 L 124.8,100.7 L 124.7,100.9 L 124.6,101.0 L 124.5,101.1 L 124.4,101.2 L 124.2,101.3 L 124.1,101.4 L 123.9,101.5 L 123.8,101.6 L 123.6,101.6 L 123.5,101.7 L 123.3,101.7 L 123.1,101.7 L 123.0,101.7 L 122.8,101.7 L 122.7,101.6 L 122.5,101.6 L 122.3,101.5 L 122.2,101.5 L 122.1,101.4 L 121.9,101.3 L 121.8,101.2 L 121.7,101.1 L 121.6,100.9 L 121.5,100.8 L 121.4,100.6 L 121.3,100.5 L 121.3,100.3 L 121.2,100.2 L 121.2,100.0 L 121.2,99.9 L 121.2,99.7 L 121.2,99.5 L 121.2,99.4 L 121.3,99.2 L 121.3,99.0 L 121.4,98.9 L 121.5,98.8 L 121.6,98.6 L 121.7,98.5 L 121.8,98.4 L 121.9,98.3 L 122.1,98.2 L 122.2,98.1 L 122.3,98.0 L 122.5,97.9 L 122.7,97.9 L 122.8,97.9 L 123.0,97.9 L 123.1,97.9 L 123.3,97.9 L 123.5,97.9 L 123.6,97.9 L 123.8,98.0 L 123.9,98.0 L 124.1,98.1 L 124.2,98.2 L 124.4,98.3 L 124.5,98.4 L 124.6,98.5 L 124.7,98.7 L 124.8,98.8 L 124.8,99.0 L 124.9,99.1 L 125.0,99.3 L 125.0,99.4 L 125.0,99.6 L 125.0,99.8 L 123.1,99.8 Z\" style=\"fill:#000000;fill-rule:evenodd;fill-opacity:1;stroke:#000000;stroke-width:0.0px;stroke-linecap:butt;stroke-linejoin:miter;stroke-opacity:1;\"/>\n",
       "<path class=\"atom-0\" d=\"M 272.1 79.5 L 281.0 93.9 Q 281.9 95.3, 283.3 97.9 Q 284.7 100.4, 284.8 100.6 L 284.8 79.5 L 288.4 79.5 L 288.4 106.7 L 284.7 106.7 L 275.1 90.9 Q 274.0 89.1, 272.8 87.0 Q 271.7 84.9, 271.3 84.2 L 271.3 106.7 L 267.8 106.7 L 267.8 79.5 L 272.1 79.5 \" fill=\"#0000FF\"/>\n",
       "<path class=\"atom-0\" d=\"M 293.6 79.5 L 297.3 79.5 L 297.3 91.0 L 311.2 91.0 L 311.2 79.5 L 314.9 79.5 L 314.9 106.7 L 311.2 106.7 L 311.2 94.1 L 297.3 94.1 L 297.3 106.7 L 293.6 106.7 L 293.6 79.5 \" fill=\"#0000FF\"/>\n",
       "<path class=\"atom-0\" d=\"M 328.8 110.8 Q 330.5 111.3, 331.3 112.5 Q 332.2 113.6, 332.2 115.3 Q 332.2 116.9, 331.4 118.1 Q 330.7 119.2, 329.3 119.9 Q 327.9 120.5, 326.1 120.5 Q 324.1 120.5, 322.7 119.9 Q 321.3 119.2, 320.1 117.8 L 321.6 116.3 Q 322.7 117.5, 323.6 118.0 Q 324.6 118.5, 326.1 118.5 Q 327.7 118.5, 328.7 117.6 Q 329.7 116.7, 329.7 115.3 Q 329.7 113.5, 328.6 112.7 Q 327.6 111.8, 325.4 111.8 L 324.1 111.8 L 324.1 110.0 L 325.3 110.0 Q 327.2 110.0, 328.3 109.2 Q 329.3 108.3, 329.3 106.7 Q 329.3 105.5, 328.4 104.9 Q 327.6 104.1, 326.1 104.1 Q 324.6 104.1, 323.7 104.7 Q 322.8 105.2, 322.0 106.6 L 320.3 105.6 Q 320.9 104.1, 322.4 103.1 Q 324.0 102.1, 326.1 102.1 Q 328.7 102.1, 330.3 103.4 Q 331.8 104.6, 331.8 106.7 Q 331.8 108.1, 331.0 109.2 Q 330.3 110.2, 328.8 110.8 \" fill=\"#0000FF\"/>\n",
       "<path class=\"bond-0 atom-0 atom-1\" d=\"M 419.0,154.9 L 502.1,106.9\" style=\"fill:none;fill-rule:evenodd;stroke:#000000;stroke-width:2.0px;stroke-linecap:butt;stroke-linejoin:miter;stroke-opacity:1\"/>\n",
       "<path class=\"bond-1 atom-1 atom-2\" d=\"M 502.1,106.9 L 585.2,58.9\" style=\"fill:none;fill-rule:evenodd;stroke:#000000;stroke-width:2.0px;stroke-linecap:butt;stroke-linejoin:miter;stroke-opacity:1\"/>\n",
       "<path class=\"bond-2 atom-1 atom-3\" d=\"M 502.1,106.9 L 483.1,74.0\" style=\"fill:none;fill-rule:evenodd;stroke:#000000;stroke-width:2.0px;stroke-linecap:butt;stroke-linejoin:miter;stroke-opacity:1\"/>\n",
       "<path class=\"bond-2 atom-1 atom-3\" d=\"M 483.1,74.0 L 464.1,41.1\" style=\"fill:none;fill-rule:evenodd;stroke:#FF0000;stroke-width:2.0px;stroke-linecap:butt;stroke-linejoin:miter;stroke-opacity:1\"/>\n",
       "<path class=\"bond-3 atom-1 atom-4\" d=\"M 502.1,106.9 L 550.1,190.0\" style=\"fill:none;fill-rule:evenodd;stroke:#000000;stroke-width:2.0px;stroke-linecap:butt;stroke-linejoin:miter;stroke-opacity:1\"/>\n",
       "<path class=\"atom-3\" d=\"M 414.8 10.3 L 418.5 10.3 L 418.5 21.9 L 432.4 21.9 L 432.4 10.3 L 436.0 10.3 L 436.0 37.5 L 432.4 37.5 L 432.4 24.9 L 418.5 24.9 L 418.5 37.5 L 414.8 37.5 L 414.8 10.3 \" fill=\"#FF0000\"/>\n",
       "<path class=\"atom-3\" d=\"M 441.6 23.8 Q 441.6 17.3, 444.8 13.6 Q 448.1 10.0, 454.1 10.0 Q 460.1 10.0, 463.4 13.6 Q 466.6 17.3, 466.6 23.8 Q 466.6 30.4, 463.3 34.2 Q 460.1 37.9, 454.1 37.9 Q 448.1 37.9, 444.8 34.2 Q 441.6 30.5, 441.6 23.8 M 454.1 34.8 Q 458.2 34.8, 460.5 32.1 Q 462.7 29.3, 462.7 23.8 Q 462.7 18.5, 460.5 15.8 Q 458.2 13.1, 454.1 13.1 Q 450.0 13.1, 447.7 15.8 Q 445.5 18.4, 445.5 23.8 Q 445.5 29.3, 447.7 32.1 Q 450.0 34.8, 454.1 34.8 \" fill=\"#FF0000\"/>\n",
       "</svg>"
      ],
      "text/plain": [
       "<IPython.core.display.SVG object>"
      ]
     },
     "metadata": {},
     "output_type": "display_data"
    },
    {
     "name": "stdout",
     "output_type": "stream",
     "text": [
      "--------------------------------------\n",
      "Option 2\n",
      "Reactant 1\n"
     ]
    },
    {
     "data": {
      "image/svg+xml": [
       "<svg xmlns=\"http://www.w3.org/2000/svg\" xmlns:rdkit=\"http://www.rdkit.org/xml\" xmlns:xlink=\"http://www.w3.org/1999/xlink\" version=\"1.1\" baseProfile=\"full\" xml:space=\"preserve\" width=\"600px\" height=\"200px\" viewBox=\"0 0 600 200\">\n",
       "<!-- END OF HEADER -->\n",
       "<rect style=\"opacity:1.0;fill:#FFFFFF;stroke:none\" width=\"600.0\" height=\"200.0\" x=\"0.0\" y=\"0.0\"> </rect>\n",
       "<path class=\"bond-0 atom-0 atom-1\" d=\"M 190.0,100.0 L 100.0,100.0\" style=\"fill:none;fill-rule:evenodd;stroke:#000000;stroke-width:2.0px;stroke-linecap:butt;stroke-linejoin:miter;stroke-opacity:1\"/>\n",
       "<path class=\"bond-0 atom-0 atom-1\" d=\"M 190.0,113.5 L 100.0,113.5\" style=\"fill:none;fill-rule:evenodd;stroke:#000000;stroke-width:2.0px;stroke-linecap:butt;stroke-linejoin:miter;stroke-opacity:1\"/>\n",
       "<path class=\"bond-0 atom-0 atom-1\" d=\"M 190.0,86.5 L 100.0,86.5\" style=\"fill:none;fill-rule:evenodd;stroke:#000000;stroke-width:2.0px;stroke-linecap:butt;stroke-linejoin:miter;stroke-opacity:1\"/>\n",
       "<path class=\"bond-1 atom-1 atom-2\" d=\"M 100.0,100.0 L 10.0,100.0\" style=\"fill:none;fill-rule:evenodd;stroke:#000000;stroke-width:2.0px;stroke-linecap:butt;stroke-linejoin:miter;stroke-opacity:1\"/>\n",
       "<path d=\"M 104.5,100.0 L 100.0,100.0 L 95.5,100.0\" style=\"fill:none;stroke:#000000;stroke-width:2.0px;stroke-linecap:butt;stroke-linejoin:miter;stroke-opacity:1;\"/>\n",
       "<path class=\"atom-0\" d=\"M 306.6 80.9 L 315.0 94.4 Q 315.8 95.7, 317.1 98.1 Q 318.5 100.5, 318.5 100.7 L 318.5 80.9 L 321.9 80.9 L 321.9 106.4 L 318.4 106.4 L 309.5 91.6 Q 308.4 89.9, 307.3 87.9 Q 306.2 85.9, 305.9 85.3 L 305.9 106.4 L 302.6 106.4 L 302.6 80.9 L 306.6 80.9 \" fill=\"#000000\"/>\n",
       "<path class=\"atom-0\" d=\"M 326.6 101.4 Q 326.6 98.4, 329.0 96.8 Q 331.4 95.2, 335.7 95.2 L 338.5 95.2 L 338.5 94.5 Q 338.5 92.2, 337.5 91.2 Q 336.5 90.2, 334.2 90.2 Q 332.8 90.2, 331.6 90.5 Q 330.5 90.7, 328.7 91.5 L 327.7 89.2 Q 331.0 87.5, 334.3 87.5 Q 338.2 87.5, 340.0 89.2 Q 341.8 90.9, 341.8 94.5 L 341.8 106.4 L 339.2 106.4 Q 339.2 106.2, 339.1 105.7 Q 339.0 105.1, 338.7 104.2 Q 336.2 106.8, 332.7 106.8 Q 329.9 106.8, 328.3 105.3 Q 326.6 103.9, 326.6 101.4 M 330.0 101.3 Q 330.0 102.7, 330.9 103.4 Q 331.7 104.1, 333.3 104.1 Q 334.8 104.1, 336.2 103.5 Q 337.5 102.8, 338.5 101.7 L 338.5 97.7 L 335.9 97.7 Q 333.0 97.7, 331.5 98.6 Q 330.0 99.5, 330.0 101.3 \" fill=\"#000000\"/>\n",
       "<path class=\"atom-0\" d=\"M 346.3 88.6 L 350.8 88.6 L 350.8 83.9 L 352.8 83.9 L 352.8 88.6 L 357.4 88.6 L 357.4 90.3 L 352.8 90.3 L 352.8 95.1 L 350.8 95.1 L 350.8 90.3 L 346.3 90.3 L 346.3 88.6 \" fill=\"#000000\"/>\n",
       "<path class=\"atom-1\" d=\"M 246.6 80.9 L 255.0 94.4 Q 255.8 95.7, 257.1 98.1 Q 258.5 100.5, 258.5 100.7 L 258.5 80.9 L 261.9 80.9 L 261.9 106.4 L 258.4 106.4 L 249.5 91.6 Q 248.4 89.9, 247.3 87.9 Q 246.2 85.9, 245.9 85.3 L 245.9 106.4 L 242.6 106.4 L 242.6 80.9 L 246.6 80.9 \" fill=\"#0000FF\"/>\n",
       "<path class=\"atom-1\" d=\"M 266.6 80.9 L 270.1 80.9 L 270.1 91.7 L 283.1 91.7 L 283.1 80.9 L 286.6 80.9 L 286.6 106.4 L 283.1 106.4 L 283.1 94.6 L 270.1 94.6 L 270.1 106.4 L 266.6 106.4 L 266.6 80.9 \" fill=\"#0000FF\"/>\n",
       "<path class=\"atom-1\" d=\"M 291.4 105.5 Q 292.1 103.9, 293.5 103.0 Q 295.0 102.1, 297.0 102.1 Q 299.6 102.1, 301.0 103.5 Q 302.4 104.9, 302.4 107.3 Q 302.4 109.8, 300.6 112.1 Q 298.8 114.5, 295.0 117.2 L 302.7 117.2 L 302.7 119.1 L 291.4 119.1 L 291.4 117.5 Q 294.5 115.3, 296.4 113.6 Q 298.3 112.0, 299.2 110.5 Q 300.1 109.0, 300.1 107.4 Q 300.1 105.8, 299.3 104.9 Q 298.4 104.0, 297.0 104.0 Q 295.7 104.0, 294.8 104.6 Q 293.9 105.1, 293.2 106.3 L 291.4 105.5 \" fill=\"#0000FF\"/>\n",
       "<path class=\"atom-1\" d=\"M 292.7 85.1 L 301.4 85.1 L 301.4 87.0 L 292.7 87.0 L 292.7 85.1 \" fill=\"#0000FF\"/>\n",
       "</svg>"
      ],
      "text/plain": [
       "<IPython.core.display.SVG object>"
      ]
     },
     "metadata": {},
     "output_type": "display_data"
    },
    {
     "name": "stdout",
     "output_type": "stream",
     "text": [
      "Reactant 2\n"
     ]
    },
    {
     "data": {
      "image/svg+xml": [
       "<svg xmlns=\"http://www.w3.org/2000/svg\" xmlns:rdkit=\"http://www.rdkit.org/xml\" xmlns:xlink=\"http://www.w3.org/1999/xlink\" version=\"1.1\" baseProfile=\"full\" xml:space=\"preserve\" width=\"600px\" height=\"200px\" viewBox=\"0 0 600 200\">\n",
       "<!-- END OF HEADER -->\n",
       "<rect style=\"opacity:1.0;fill:#FFFFFF;stroke:none\" width=\"600.0\" height=\"200.0\" x=\"0.0\" y=\"0.0\"> </rect>\n",
       "<path class=\"bond-0 atom-0 atom-1\" d=\"M 10.0,47.9 L 35.9,52.3\" style=\"fill:none;fill-rule:evenodd;stroke:#000000;stroke-width:2.0px;stroke-linecap:butt;stroke-linejoin:miter;stroke-opacity:1\"/>\n",
       "<path class=\"bond-1 atom-1 atom-2\" d=\"M 35.9,52.3 L 45.1,77.0\" style=\"fill:none;fill-rule:evenodd;stroke:#000000;stroke-width:2.0px;stroke-linecap:butt;stroke-linejoin:miter;stroke-opacity:1\"/>\n",
       "<path class=\"bond-2 atom-2 atom-3\" d=\"M 45.1,77.0 L 71.0,81.3\" style=\"fill:none;fill-rule:evenodd;stroke:#000000;stroke-width:2.0px;stroke-linecap:butt;stroke-linejoin:miter;stroke-opacity:1\"/>\n",
       "<path class=\"bond-3 atom-3 atom-4\" d=\"M 71.0,81.3 L 80.1,106.0\" style=\"fill:none;fill-rule:evenodd;stroke:#000000;stroke-width:2.0px;stroke-linecap:butt;stroke-linejoin:miter;stroke-opacity:1\"/>\n",
       "<path class=\"bond-3 atom-3 atom-4\" d=\"M 68.1,84.8 L 76.4,107.4\" style=\"fill:none;fill-rule:evenodd;stroke:#000000;stroke-width:2.0px;stroke-linecap:butt;stroke-linejoin:miter;stroke-opacity:1\"/>\n",
       "<path class=\"bond-4 atom-4 atom-5\" d=\"M 80.1,106.0 L 106.0,110.4\" style=\"fill:none;fill-rule:evenodd;stroke:#000000;stroke-width:2.0px;stroke-linecap:butt;stroke-linejoin:miter;stroke-opacity:1\"/>\n",
       "<path class=\"bond-5 atom-5 atom-6\" d=\"M 106.0,110.4 L 115.2,135.0\" style=\"fill:none;fill-rule:evenodd;stroke:#000000;stroke-width:2.0px;stroke-linecap:butt;stroke-linejoin:miter;stroke-opacity:1\"/>\n",
       "<path class=\"bond-6 atom-6 atom-7\" d=\"M 115.2,135.0 L 118.9,145.0\" style=\"fill:none;fill-rule:evenodd;stroke:#000000;stroke-width:2.0px;stroke-linecap:butt;stroke-linejoin:miter;stroke-opacity:1\"/>\n",
       "<path class=\"bond-6 atom-6 atom-7\" d=\"M 118.9,145.0 L 122.6,155.0\" style=\"fill:none;fill-rule:evenodd;stroke:#FF0000;stroke-width:2.0px;stroke-linecap:butt;stroke-linejoin:miter;stroke-opacity:1\"/>\n",
       "<path class=\"bond-7 atom-6 atom-8\" d=\"M 115.2,135.0 L 90.6,144.2\" style=\"fill:none;fill-rule:evenodd;stroke:#000000;stroke-width:2.0px;stroke-linecap:butt;stroke-linejoin:miter;stroke-opacity:1\"/>\n",
       "<path class=\"bond-8 atom-8 atom-9\" d=\"M 90.6,144.2 L 70.3,127.4\" style=\"fill:none;fill-rule:evenodd;stroke:#000000;stroke-width:2.0px;stroke-linecap:butt;stroke-linejoin:miter;stroke-opacity:1\"/>\n",
       "<path class=\"bond-9 atom-6 atom-10\" d=\"M 115.2,135.0 L 139.8,125.9\" style=\"fill:none;fill-rule:evenodd;stroke:#000000;stroke-width:2.0px;stroke-linecap:butt;stroke-linejoin:miter;stroke-opacity:1\"/>\n",
       "<path class=\"bond-10 atom-10 atom-11\" d=\"M 139.8,125.9 L 144.2,99.9\" style=\"fill:none;fill-rule:evenodd;stroke:#000000;stroke-width:2.0px;stroke-linecap:butt;stroke-linejoin:miter;stroke-opacity:1\"/>\n",
       "<path class=\"bond-11 atom-11 atom-12\" d=\"M 144.2,99.9 L 168.8,90.8\" style=\"fill:none;fill-rule:evenodd;stroke:#000000;stroke-width:2.0px;stroke-linecap:butt;stroke-linejoin:miter;stroke-opacity:1\"/>\n",
       "<path class=\"bond-12 atom-12 atom-13\" d=\"M 168.8,90.8 L 173.2,64.9\" style=\"fill:none;fill-rule:evenodd;stroke:#000000;stroke-width:2.0px;stroke-linecap:butt;stroke-linejoin:miter;stroke-opacity:1\"/>\n",
       "<path class=\"bond-13 atom-13 atom-14\" d=\"M 173.2,64.9 L 190.0,44.6\" style=\"fill:none;fill-rule:evenodd;stroke:#000000;stroke-width:2.0px;stroke-linecap:butt;stroke-linejoin:miter;stroke-opacity:1\"/>\n",
       "<path class=\"bond-14 atom-14 atom-15\" d=\"M 190.0,44.6 L 179.2,42.8\" style=\"fill:none;fill-rule:evenodd;stroke:#000000;stroke-width:2.0px;stroke-linecap:butt;stroke-linejoin:miter;stroke-opacity:1\"/>\n",
       "<path class=\"bond-14 atom-14 atom-15\" d=\"M 179.2,42.8 L 168.4,41.0\" style=\"fill:none;fill-rule:evenodd;stroke:#FF0000;stroke-width:2.0px;stroke-linecap:butt;stroke-linejoin:miter;stroke-opacity:1\"/>\n",
       "<path class=\"bond-15 atom-15 atom-13\" d=\"M 165.9,45.0 L 169.5,54.9\" style=\"fill:none;fill-rule:evenodd;stroke:#FF0000;stroke-width:2.0px;stroke-linecap:butt;stroke-linejoin:miter;stroke-opacity:1\"/>\n",
       "<path class=\"bond-15 atom-15 atom-13\" d=\"M 169.5,54.9 L 173.2,64.9\" style=\"fill:none;fill-rule:evenodd;stroke:#000000;stroke-width:2.0px;stroke-linecap:butt;stroke-linejoin:miter;stroke-opacity:1\"/>\n",
       "<path d=\"M 34.6,52.1 L 35.9,52.3 L 36.4,53.5\" style=\"fill:none;stroke:#000000;stroke-width:2.0px;stroke-linecap:butt;stroke-linejoin:miter;stroke-opacity:1;\"/>\n",
       "<path d=\"M 44.6,75.7 L 45.1,77.0 L 46.4,77.2\" style=\"fill:none;stroke:#000000;stroke-width:2.0px;stroke-linecap:butt;stroke-linejoin:miter;stroke-opacity:1;\"/>\n",
       "<path d=\"M 69.7,81.1 L 71.0,81.3 L 71.4,82.6\" style=\"fill:none;stroke:#000000;stroke-width:2.0px;stroke-linecap:butt;stroke-linejoin:miter;stroke-opacity:1;\"/>\n",
       "<path d=\"M 79.7,104.7 L 80.1,106.0 L 81.4,106.2\" style=\"fill:none;stroke:#000000;stroke-width:2.0px;stroke-linecap:butt;stroke-linejoin:miter;stroke-opacity:1;\"/>\n",
       "<path d=\"M 104.7,110.1 L 106.0,110.4 L 106.5,111.6\" style=\"fill:none;stroke:#000000;stroke-width:2.0px;stroke-linecap:butt;stroke-linejoin:miter;stroke-opacity:1;\"/>\n",
       "<path d=\"M 91.8,143.7 L 90.6,144.2 L 89.5,143.3\" style=\"fill:none;stroke:#000000;stroke-width:2.0px;stroke-linecap:butt;stroke-linejoin:miter;stroke-opacity:1;\"/>\n",
       "<path d=\"M 138.6,126.3 L 139.8,125.9 L 140.0,124.6\" style=\"fill:none;stroke:#000000;stroke-width:2.0px;stroke-linecap:butt;stroke-linejoin:miter;stroke-opacity:1;\"/>\n",
       "<path d=\"M 144.0,101.2 L 144.2,99.9 L 145.4,99.5\" style=\"fill:none;stroke:#000000;stroke-width:2.0px;stroke-linecap:butt;stroke-linejoin:miter;stroke-opacity:1;\"/>\n",
       "<path d=\"M 167.6,91.2 L 168.8,90.8 L 169.1,89.5\" style=\"fill:none;stroke:#000000;stroke-width:2.0px;stroke-linecap:butt;stroke-linejoin:miter;stroke-opacity:1;\"/>\n",
       "<path d=\"M 189.2,45.6 L 190.0,44.6 L 189.5,44.5\" style=\"fill:none;stroke:#000000;stroke-width:2.0px;stroke-linecap:butt;stroke-linejoin:miter;stroke-opacity:1;\"/>\n",
       "<path class=\"atom-7\" d=\"M 120.9 159.7 Q 120.9 157.9, 121.8 156.9 Q 122.7 155.9, 124.3 155.9 Q 126.0 155.9, 126.9 156.9 Q 127.8 157.9, 127.8 159.7 Q 127.8 161.5, 126.9 162.5 Q 126.0 163.5, 124.3 163.5 Q 122.7 163.5, 121.8 162.5 Q 120.9 161.5, 120.9 159.7 M 124.3 162.7 Q 125.5 162.7, 126.1 161.9 Q 126.7 161.2, 126.7 159.7 Q 126.7 158.2, 126.1 157.5 Q 125.5 156.7, 124.3 156.7 Q 123.2 156.7, 122.6 157.5 Q 122.0 158.2, 122.0 159.7 Q 122.0 161.2, 122.6 161.9 Q 123.2 162.7, 124.3 162.7 \" fill=\"#FF0000\"/>\n",
       "<path class=\"atom-7\" d=\"M 128.9 156.0 L 129.9 156.0 L 129.9 159.1 L 133.7 159.1 L 133.7 156.0 L 134.7 156.0 L 134.7 163.4 L 133.7 163.4 L 133.7 160.0 L 129.9 160.0 L 129.9 163.4 L 128.9 163.4 L 128.9 156.0 \" fill=\"#FF0000\"/>\n",
       "<path class=\"atom-15\" d=\"M 160.7 40.3 Q 160.7 38.5, 161.6 37.5 Q 162.4 36.5, 164.1 36.5 Q 165.7 36.5, 166.6 37.5 Q 167.5 38.5, 167.5 40.3 Q 167.5 42.1, 166.6 43.1 Q 165.7 44.1, 164.1 44.1 Q 162.4 44.1, 161.6 43.1 Q 160.7 42.1, 160.7 40.3 M 164.1 43.3 Q 165.2 43.3, 165.8 42.5 Q 166.5 41.8, 166.5 40.3 Q 166.5 38.8, 165.8 38.1 Q 165.2 37.3, 164.1 37.3 Q 163.0 37.3, 162.3 38.1 Q 161.7 38.8, 161.7 40.3 Q 161.7 41.8, 162.3 42.5 Q 163.0 43.3, 164.1 43.3 \" fill=\"#FF0000\"/>\n",
       "</svg>"
      ],
      "text/plain": [
       "<IPython.core.display.SVG object>"
      ]
     },
     "metadata": {},
     "output_type": "display_data"
    },
    {
     "name": "stdout",
     "output_type": "stream",
     "text": [
      "Once this two are combined, the following product is obtained\n"
     ]
    },
    {
     "data": {
      "image/svg+xml": [
       "<svg xmlns=\"http://www.w3.org/2000/svg\" xmlns:rdkit=\"http://www.rdkit.org/xml\" xmlns:xlink=\"http://www.w3.org/1999/xlink\" version=\"1.1\" baseProfile=\"full\" xml:space=\"preserve\" width=\"600px\" height=\"200px\" viewBox=\"0 0 600 200\">\n",
       "<!-- END OF HEADER -->\n",
       "<rect style=\"opacity:1.0;fill:#FFFFFF;stroke:none\" width=\"600.0\" height=\"200.0\" x=\"0.0\" y=\"0.0\"> </rect>\n",
       "<path class=\"bond-0 atom-0 atom-1\" d=\"M 190.0,65.2 L 175.7,82.7\" style=\"fill:none;fill-rule:evenodd;stroke:#000000;stroke-width:2.0px;stroke-linecap:butt;stroke-linejoin:miter;stroke-opacity:1\"/>\n",
       "<path class=\"bond-1 atom-1 atom-2\" d=\"M 175.7,82.7 L 161.5,100.3\" style=\"fill:none;fill-rule:evenodd;stroke:#000000;stroke-width:2.0px;stroke-linecap:butt;stroke-linejoin:miter;stroke-opacity:1\"/>\n",
       "<path class=\"bond-1 atom-1 atom-2\" d=\"M 178.4,84.9 L 164.1,102.4\" style=\"fill:none;fill-rule:evenodd;stroke:#000000;stroke-width:2.0px;stroke-linecap:butt;stroke-linejoin:miter;stroke-opacity:1\"/>\n",
       "<path class=\"bond-1 atom-1 atom-2\" d=\"M 173.1,80.6 L 158.8,98.1\" style=\"fill:none;fill-rule:evenodd;stroke:#000000;stroke-width:2.0px;stroke-linecap:butt;stroke-linejoin:miter;stroke-opacity:1\"/>\n",
       "<path class=\"bond-2 atom-2 atom-3\" d=\"M 161.5,100.3 L 147.2,117.8\" style=\"fill:none;fill-rule:evenodd;stroke:#000000;stroke-width:2.0px;stroke-linecap:butt;stroke-linejoin:miter;stroke-opacity:1\"/>\n",
       "<path class=\"bond-3 atom-3 atom-4\" d=\"M 147.2,117.8 L 124.9,114.2\" style=\"fill:none;fill-rule:evenodd;stroke:#000000;stroke-width:2.0px;stroke-linecap:butt;stroke-linejoin:miter;stroke-opacity:1\"/>\n",
       "<path class=\"bond-4 atom-4 atom-5\" d=\"M 124.9,114.2 L 121.7,105.7\" style=\"fill:none;fill-rule:evenodd;stroke:#000000;stroke-width:2.0px;stroke-linecap:butt;stroke-linejoin:miter;stroke-opacity:1\"/>\n",
       "<path class=\"bond-4 atom-4 atom-5\" d=\"M 121.7,105.7 L 118.4,97.2\" style=\"fill:none;fill-rule:evenodd;stroke:#FF0000;stroke-width:2.0px;stroke-linecap:butt;stroke-linejoin:miter;stroke-opacity:1\"/>\n",
       "<path class=\"bond-5 atom-4 atom-6\" d=\"M 124.9,114.2 L 110.6,131.7\" style=\"fill:none;fill-rule:evenodd;stroke:#000000;stroke-width:2.0px;stroke-linecap:butt;stroke-linejoin:miter;stroke-opacity:1\"/>\n",
       "<path class=\"bond-6 atom-6 atom-7\" d=\"M 110.6,131.7 L 88.3,128.1\" style=\"fill:none;fill-rule:evenodd;stroke:#000000;stroke-width:2.0px;stroke-linecap:butt;stroke-linejoin:miter;stroke-opacity:1\"/>\n",
       "<path class=\"bond-7 atom-7 atom-8\" d=\"M 88.3,128.1 L 74.1,145.6\" style=\"fill:none;fill-rule:evenodd;stroke:#000000;stroke-width:2.0px;stroke-linecap:butt;stroke-linejoin:miter;stroke-opacity:1\"/>\n",
       "<path class=\"bond-8 atom-8 atom-9\" d=\"M 74.1,145.6 L 51.8,142.0\" style=\"fill:none;fill-rule:evenodd;stroke:#000000;stroke-width:2.0px;stroke-linecap:butt;stroke-linejoin:miter;stroke-opacity:1\"/>\n",
       "<path class=\"bond-9 atom-9 atom-10\" d=\"M 51.8,142.0 L 50.3,151.2\" style=\"fill:none;fill-rule:evenodd;stroke:#000000;stroke-width:2.0px;stroke-linecap:butt;stroke-linejoin:miter;stroke-opacity:1\"/>\n",
       "<path class=\"bond-9 atom-9 atom-10\" d=\"M 50.3,151.2 L 48.8,160.4\" style=\"fill:none;fill-rule:evenodd;stroke:#FF0000;stroke-width:2.0px;stroke-linecap:butt;stroke-linejoin:miter;stroke-opacity:1\"/>\n",
       "<path class=\"bond-10 atom-9 atom-11\" d=\"M 51.8,142.0 L 29.5,138.4\" style=\"fill:none;fill-rule:evenodd;stroke:#000000;stroke-width:2.0px;stroke-linecap:butt;stroke-linejoin:miter;stroke-opacity:1\"/>\n",
       "<path class=\"bond-11 atom-11 atom-12\" d=\"M 29.5,138.4 L 21.4,117.3\" style=\"fill:none;fill-rule:evenodd;stroke:#000000;stroke-width:2.0px;stroke-linecap:butt;stroke-linejoin:miter;stroke-opacity:1\"/>\n",
       "<path class=\"bond-12 atom-9 atom-13\" d=\"M 51.8,142.0 L 55.4,119.7\" style=\"fill:none;fill-rule:evenodd;stroke:#000000;stroke-width:2.0px;stroke-linecap:butt;stroke-linejoin:miter;stroke-opacity:1\"/>\n",
       "<path class=\"bond-13 atom-13 atom-14\" d=\"M 55.4,119.7 L 37.8,105.5\" style=\"fill:none;fill-rule:evenodd;stroke:#000000;stroke-width:2.0px;stroke-linecap:butt;stroke-linejoin:miter;stroke-opacity:1\"/>\n",
       "<path class=\"bond-14 atom-14 atom-15\" d=\"M 37.8,105.5 L 41.4,83.2\" style=\"fill:none;fill-rule:evenodd;stroke:#000000;stroke-width:2.0px;stroke-linecap:butt;stroke-linejoin:miter;stroke-opacity:1\"/>\n",
       "<path class=\"bond-14 atom-14 atom-15\" d=\"M 41.5,104.1 L 44.8,83.7\" style=\"fill:none;fill-rule:evenodd;stroke:#000000;stroke-width:2.0px;stroke-linecap:butt;stroke-linejoin:miter;stroke-opacity:1\"/>\n",
       "<path class=\"bond-15 atom-15 atom-16\" d=\"M 41.4,83.2 L 23.9,68.9\" style=\"fill:none;fill-rule:evenodd;stroke:#000000;stroke-width:2.0px;stroke-linecap:butt;stroke-linejoin:miter;stroke-opacity:1\"/>\n",
       "<path class=\"bond-16 atom-16 atom-17\" d=\"M 23.9,68.9 L 27.5,46.6\" style=\"fill:none;fill-rule:evenodd;stroke:#000000;stroke-width:2.0px;stroke-linecap:butt;stroke-linejoin:miter;stroke-opacity:1\"/>\n",
       "<path class=\"bond-17 atom-17 atom-18\" d=\"M 27.5,46.6 L 10.0,32.3\" style=\"fill:none;fill-rule:evenodd;stroke:#000000;stroke-width:2.0px;stroke-linecap:butt;stroke-linejoin:miter;stroke-opacity:1\"/>\n",
       "<path d=\"M 176.4,81.9 L 175.7,82.7 L 175.0,83.6\" style=\"fill:none;stroke:#000000;stroke-width:2.0px;stroke-linecap:butt;stroke-linejoin:miter;stroke-opacity:1;\"/>\n",
       "<path d=\"M 162.2,99.4 L 161.5,100.3 L 160.8,101.1\" style=\"fill:none;stroke:#000000;stroke-width:2.0px;stroke-linecap:butt;stroke-linejoin:miter;stroke-opacity:1;\"/>\n",
       "<path d=\"M 147.9,116.9 L 147.2,117.8 L 146.1,117.6\" style=\"fill:none;stroke:#000000;stroke-width:2.0px;stroke-linecap:butt;stroke-linejoin:miter;stroke-opacity:1;\"/>\n",
       "<path d=\"M 111.4,130.8 L 110.6,131.7 L 109.5,131.5\" style=\"fill:none;stroke:#000000;stroke-width:2.0px;stroke-linecap:butt;stroke-linejoin:miter;stroke-opacity:1;\"/>\n",
       "<path d=\"M 89.5,128.3 L 88.3,128.1 L 87.6,129.0\" style=\"fill:none;stroke:#000000;stroke-width:2.0px;stroke-linecap:butt;stroke-linejoin:miter;stroke-opacity:1;\"/>\n",
       "<path d=\"M 74.8,144.8 L 74.1,145.6 L 73.0,145.4\" style=\"fill:none;stroke:#000000;stroke-width:2.0px;stroke-linecap:butt;stroke-linejoin:miter;stroke-opacity:1;\"/>\n",
       "<path d=\"M 30.6,138.6 L 29.5,138.4 L 29.1,137.4\" style=\"fill:none;stroke:#000000;stroke-width:2.0px;stroke-linecap:butt;stroke-linejoin:miter;stroke-opacity:1;\"/>\n",
       "<path d=\"M 55.2,120.8 L 55.4,119.7 L 54.5,119.0\" style=\"fill:none;stroke:#000000;stroke-width:2.0px;stroke-linecap:butt;stroke-linejoin:miter;stroke-opacity:1;\"/>\n",
       "<path d=\"M 38.7,106.2 L 37.8,105.5 L 38.0,104.4\" style=\"fill:none;stroke:#000000;stroke-width:2.0px;stroke-linecap:butt;stroke-linejoin:miter;stroke-opacity:1;\"/>\n",
       "<path d=\"M 41.3,84.3 L 41.4,83.2 L 40.6,82.4\" style=\"fill:none;stroke:#000000;stroke-width:2.0px;stroke-linecap:butt;stroke-linejoin:miter;stroke-opacity:1;\"/>\n",
       "<path d=\"M 24.8,69.6 L 23.9,68.9 L 24.1,67.8\" style=\"fill:none;stroke:#000000;stroke-width:2.0px;stroke-linecap:butt;stroke-linejoin:miter;stroke-opacity:1;\"/>\n",
       "<path d=\"M 27.3,47.7 L 27.5,46.6 L 26.6,45.9\" style=\"fill:none;stroke:#000000;stroke-width:2.0px;stroke-linecap:butt;stroke-linejoin:miter;stroke-opacity:1;\"/>\n",
       "<path class=\"atom-5\" d=\"M 107.6 89.9 L 108.5 89.9 L 108.5 92.6 L 111.7 92.6 L 111.7 89.9 L 112.6 89.9 L 112.6 96.3 L 111.7 96.3 L 111.7 93.4 L 108.5 93.4 L 108.5 96.3 L 107.6 96.3 L 107.6 89.9 \" fill=\"#FF0000\"/>\n",
       "<path class=\"atom-5\" d=\"M 113.9 93.1 Q 113.9 91.6, 114.7 90.7 Q 115.4 89.8, 116.9 89.8 Q 118.3 89.8, 119.0 90.7 Q 119.8 91.6, 119.8 93.1 Q 119.8 94.6, 119.0 95.5 Q 118.3 96.4, 116.9 96.4 Q 115.5 96.4, 114.7 95.5 Q 113.9 94.7, 113.9 93.1 M 116.9 95.7 Q 117.8 95.7, 118.4 95.0 Q 118.9 94.4, 118.9 93.1 Q 118.9 91.8, 118.4 91.2 Q 117.8 90.6, 116.9 90.6 Q 115.9 90.6, 115.4 91.2 Q 114.8 91.8, 114.8 93.1 Q 114.8 94.4, 115.4 95.0 Q 115.9 95.7, 116.9 95.7 \" fill=\"#FF0000\"/>\n",
       "<path class=\"atom-10\" d=\"M 45.2 164.4 Q 45.2 162.8, 46.0 162.0 Q 46.8 161.1, 48.2 161.1 Q 49.6 161.1, 50.4 162.0 Q 51.1 162.8, 51.1 164.4 Q 51.1 165.9, 50.3 166.8 Q 49.6 167.7, 48.2 167.7 Q 46.8 167.7, 46.0 166.8 Q 45.2 165.9, 45.2 164.4 M 48.2 166.9 Q 49.1 166.9, 49.7 166.3 Q 50.2 165.6, 50.2 164.4 Q 50.2 163.1, 49.7 162.5 Q 49.1 161.8, 48.2 161.8 Q 47.2 161.8, 46.7 162.5 Q 46.1 163.1, 46.1 164.4 Q 46.1 165.6, 46.7 166.3 Q 47.2 166.9, 48.2 166.9 \" fill=\"#FF0000\"/>\n",
       "<path class=\"atom-10\" d=\"M 52.1 161.2 L 53.0 161.2 L 53.0 163.9 L 56.2 163.9 L 56.2 161.2 L 57.1 161.2 L 57.1 167.6 L 56.2 167.6 L 56.2 164.6 L 53.0 164.6 L 53.0 167.6 L 52.1 167.6 L 52.1 161.2 \" fill=\"#FF0000\"/>\n",
       "</svg>"
      ],
      "text/plain": [
       "<IPython.core.display.SVG object>"
      ]
     },
     "metadata": {},
     "output_type": "display_data"
    },
    {
     "name": "stdout",
     "output_type": "stream",
     "text": [
      "The product needs to be hydrogenated in order to get to the target molecule\n",
      "If the Z geometry is needed for the double bond, then the following conditions, known as hydrogen on Lindlar catalyst, are employed\n"
     ]
    },
    {
     "data": {
      "image/svg+xml": [
       "<svg xmlns=\"http://www.w3.org/2000/svg\" xmlns:rdkit=\"http://www.rdkit.org/xml\" xmlns:xlink=\"http://www.w3.org/1999/xlink\" version=\"1.1\" baseProfile=\"full\" xml:space=\"preserve\" width=\"800px\" height=\"200px\" viewBox=\"0 0 800 200\">\n",
       "<!-- END OF HEADER -->\n",
       "<rect style=\"opacity:1.0;fill:#FFFFFF;stroke:none\" width=\"800.0\" height=\"200.0\" x=\"0.0\" y=\"0.0\"> </rect>\n",
       "<path class=\"bond-0 atom-0 atom-1\" d=\"M 126.0,100.0 L 74.0,100.0\" style=\"fill:none;fill-rule:evenodd;stroke:#000000;stroke-width:2.0px;stroke-linecap:butt;stroke-linejoin:miter;stroke-opacity:1\"/>\n",
       "<path class=\"atom-0\" d=\"M 128.4 89.7 L 131.2 89.7 L 131.2 98.5 L 141.8 98.5 L 141.8 89.7 L 144.6 89.7 L 144.6 110.3 L 141.8 110.3 L 141.8 100.8 L 131.2 100.8 L 131.2 110.3 L 128.4 110.3 L 128.4 89.7 \" fill=\"#000000\"/>\n",
       "<path class=\"atom-1\" d=\"M 55.4 89.7 L 58.2 89.7 L 58.2 98.5 L 68.8 98.5 L 68.8 89.7 L 71.6 89.7 L 71.6 110.3 L 68.8 110.3 L 68.8 100.8 L 58.2 100.8 L 58.2 110.3 L 55.4 110.3 L 55.4 89.7 \" fill=\"#000000\"/>\n",
       "<path class=\"atom-0\" d=\"M 291.3 90.3 Q 294.9 90.3, 296.6 91.9 Q 298.4 93.5, 298.4 96.4 Q 298.4 99.2, 296.6 100.9 Q 294.8 102.5, 291.3 102.5 L 288.0 102.5 L 288.0 111.0 L 285.2 111.0 L 285.2 90.3 L 291.3 90.3 M 291.3 100.1 Q 293.3 100.1, 294.4 99.2 Q 295.5 98.2, 295.5 96.4 Q 295.5 94.5, 294.4 93.6 Q 293.4 92.6, 291.3 92.6 L 288.0 92.6 L 288.0 100.1 L 291.3 100.1 \" fill=\"#000000\"/>\n",
       "<path class=\"atom-0\" d=\"M 314.8 88.8 L 314.8 110.9 L 312.5 110.9 L 312.2 109.1 Q 310.5 111.2, 307.7 111.2 Q 304.6 111.2, 302.9 109.3 Q 301.1 107.3, 301.1 103.7 Q 301.1 99.9, 303.2 97.8 Q 305.3 95.7, 308.8 95.7 Q 310.4 95.7, 312.0 96.1 L 312.0 88.8 L 314.8 88.8 M 307.9 109.0 Q 309.4 109.0, 310.5 108.2 Q 311.6 107.4, 312.0 105.9 L 312.0 98.3 Q 310.5 97.9, 308.9 97.9 Q 306.6 97.9, 305.3 99.4 Q 303.9 100.9, 303.9 103.7 Q 303.9 106.3, 305.0 107.7 Q 306.0 109.0, 307.9 109.0 \" fill=\"#000000\"/>\n",
       "<path class=\"bond-0 atom-1 atom-2\" d=\"M 546.3,76.7 L 520.6,91.5\" style=\"fill:none;fill-rule:evenodd;stroke:#FF0000;stroke-width:2.0px;stroke-linecap:butt;stroke-linejoin:miter;stroke-opacity:1\"/>\n",
       "<path class=\"bond-0 atom-1 atom-2\" d=\"M 520.6,91.5 L 495.0,106.3\" style=\"fill:none;fill-rule:evenodd;stroke:#000000;stroke-width:2.0px;stroke-linecap:butt;stroke-linejoin:miter;stroke-opacity:1\"/>\n",
       "<path class=\"bond-1 atom-2 atom-3\" d=\"M 495.0,106.3 L 469.3,91.5\" style=\"fill:none;fill-rule:evenodd;stroke:#000000;stroke-width:2.0px;stroke-linecap:butt;stroke-linejoin:miter;stroke-opacity:1\"/>\n",
       "<path class=\"bond-1 atom-2 atom-3\" d=\"M 469.3,91.5 L 443.7,76.7\" style=\"fill:none;fill-rule:evenodd;stroke:#FF0000;stroke-width:2.0px;stroke-linecap:butt;stroke-linejoin:miter;stroke-opacity:1\"/>\n",
       "<path class=\"bond-2 atom-2 atom-4\" d=\"M 489.5,103.1 L 489.5,134.7\" style=\"fill:none;fill-rule:evenodd;stroke:#000000;stroke-width:2.0px;stroke-linecap:butt;stroke-linejoin:miter;stroke-opacity:1\"/>\n",
       "<path class=\"bond-2 atom-2 atom-4\" d=\"M 489.5,134.7 L 489.5,166.4\" style=\"fill:none;fill-rule:evenodd;stroke:#FF0000;stroke-width:2.0px;stroke-linecap:butt;stroke-linejoin:miter;stroke-opacity:1\"/>\n",
       "<path class=\"bond-2 atom-2 atom-4\" d=\"M 500.5,103.1 L 500.5,134.7\" style=\"fill:none;fill-rule:evenodd;stroke:#000000;stroke-width:2.0px;stroke-linecap:butt;stroke-linejoin:miter;stroke-opacity:1\"/>\n",
       "<path class=\"bond-2 atom-2 atom-4\" d=\"M 500.5,134.7 L 500.5,166.4\" style=\"fill:none;fill-rule:evenodd;stroke:#FF0000;stroke-width:2.0px;stroke-linecap:butt;stroke-linejoin:miter;stroke-opacity:1\"/>\n",
       "<path d=\"M 496.3,105.5 L 495.0,106.3 L 493.7,105.5\" style=\"fill:none;stroke:#000000;stroke-width:2.0px;stroke-linecap:butt;stroke-linejoin:miter;stroke-opacity:1;\"/>\n",
       "<path class=\"atom-0\" d=\"M 487.0 21.2 Q 487.0 16.1, 489.4 13.4 Q 491.8 10.7, 496.4 10.7 Q 500.7 10.7, 503.0 13.7 L 501.0 15.3 Q 499.4 13.1, 496.4 13.1 Q 493.3 13.1, 491.6 15.2 Q 490.0 17.3, 490.0 21.2 Q 490.0 25.3, 491.7 27.4 Q 493.4 29.5, 496.7 29.5 Q 499.0 29.5, 501.7 28.2 L 502.5 30.3 Q 501.4 31.0, 499.8 31.5 Q 498.1 31.9, 496.3 31.9 Q 491.8 31.9, 489.4 29.1 Q 487.0 26.4, 487.0 21.2 \" fill=\"#000000\"/>\n",
       "<path class=\"atom-0\" d=\"M 505.5 27.5 Q 505.5 25.1, 507.5 23.8 Q 509.4 22.5, 512.9 22.5 L 515.1 22.5 L 515.1 21.9 Q 515.1 20.1, 514.3 19.3 Q 513.6 18.5, 511.7 18.5 Q 510.5 18.5, 509.6 18.7 Q 508.6 18.9, 507.2 19.6 L 506.4 17.7 Q 509.1 16.3, 511.8 16.3 Q 515.0 16.3, 516.4 17.7 Q 517.9 19.0, 517.9 22.0 L 517.9 31.6 L 515.7 31.6 Q 515.7 31.5, 515.6 31.0 Q 515.5 30.6, 515.4 29.8 Q 513.3 31.9, 510.5 31.9 Q 508.2 31.9, 506.9 30.8 Q 505.5 29.6, 505.5 27.5 M 508.3 27.5 Q 508.3 28.6, 509.0 29.2 Q 509.7 29.8, 511.0 29.8 Q 512.1 29.8, 513.3 29.3 Q 514.4 28.7, 515.1 27.8 L 515.1 24.6 L 513.1 24.6 Q 510.7 24.6, 509.5 25.3 Q 508.3 26.0, 508.3 27.5 \" fill=\"#000000\"/>\n",
       "<path class=\"atom-0\" d=\"M 521.6 12.7 Q 522.1 11.4, 523.2 10.7 Q 524.4 10.0, 526.1 10.0 Q 528.2 10.0, 529.3 11.1 Q 530.5 12.2, 530.5 14.2 Q 530.5 16.2, 529.0 18.1 Q 527.5 20.0, 524.4 22.3 L 530.7 22.3 L 530.7 23.8 L 521.5 23.8 L 521.5 22.5 Q 524.1 20.7, 525.6 19.3 Q 527.1 18.0, 527.8 16.8 Q 528.5 15.6, 528.5 14.3 Q 528.5 13.0, 527.9 12.3 Q 527.2 11.5, 526.1 11.5 Q 525.0 11.5, 524.3 12.0 Q 523.5 12.4, 523.0 13.4 L 521.6 12.7 \" fill=\"#000000\"/>\n",
       "<path class=\"atom-0\" d=\"M 533.3 17.2 L 536.9 17.2 L 536.9 13.4 L 538.5 13.4 L 538.5 17.2 L 542.2 17.2 L 542.2 18.6 L 538.5 18.6 L 538.5 22.4 L 536.9 22.4 L 536.9 18.6 L 533.3 18.6 L 533.3 17.2 \" fill=\"#000000\"/>\n",
       "<path class=\"atom-1\" d=\"M 548.7 69.8 Q 548.7 64.9, 551.1 62.1 Q 553.6 59.3, 558.2 59.3 Q 562.8 59.3, 565.2 62.1 Q 567.7 64.9, 567.7 69.8 Q 567.7 74.9, 565.2 77.7 Q 562.7 80.6, 558.2 80.6 Q 553.6 80.6, 551.1 77.7 Q 548.7 74.9, 548.7 69.8 M 558.2 78.2 Q 561.3 78.2, 563.0 76.1 Q 564.7 74.0, 564.7 69.8 Q 564.7 65.8, 563.0 63.7 Q 561.3 61.7, 558.2 61.7 Q 555.0 61.7, 553.3 63.7 Q 551.6 65.8, 551.6 69.8 Q 551.6 74.0, 553.3 76.1 Q 555.0 78.2, 558.2 78.2 \" fill=\"#FF0000\"/>\n",
       "<path class=\"atom-1\" d=\"M 570.6 62.7 L 577.7 62.7 L 577.7 64.3 L 570.6 64.3 L 570.6 62.7 \" fill=\"#FF0000\"/>\n",
       "<path class=\"atom-3\" d=\"M 422.3 69.8 Q 422.3 64.9, 424.8 62.1 Q 427.2 59.3, 431.8 59.3 Q 436.4 59.3, 438.8 62.1 Q 441.3 64.9, 441.3 69.8 Q 441.3 74.9, 438.8 77.7 Q 436.3 80.6, 431.8 80.6 Q 427.3 80.6, 424.8 77.7 Q 422.3 74.9, 422.3 69.8 M 431.8 78.2 Q 435.0 78.2, 436.7 76.1 Q 438.4 74.0, 438.4 69.8 Q 438.4 65.8, 436.7 63.7 Q 435.0 61.7, 431.8 61.7 Q 428.7 61.7, 426.9 63.7 Q 425.2 65.8, 425.2 69.8 Q 425.2 74.0, 426.9 76.1 Q 428.7 78.2, 431.8 78.2 \" fill=\"#FF0000\"/>\n",
       "<path class=\"atom-3\" d=\"M 444.2 62.7 L 451.3 62.7 L 451.3 64.3 L 444.2 64.3 L 444.2 62.7 \" fill=\"#FF0000\"/>\n",
       "<path class=\"atom-4\" d=\"M 485.5 179.3 Q 485.5 174.3, 488.0 171.6 Q 490.4 168.8, 495.0 168.8 Q 499.6 168.8, 502.0 171.6 Q 504.5 174.3, 504.5 179.3 Q 504.5 184.3, 502.0 187.2 Q 499.5 190.0, 495.0 190.0 Q 490.4 190.0, 488.0 187.2 Q 485.5 184.3, 485.5 179.3 M 495.0 187.7 Q 498.1 187.7, 499.8 185.6 Q 501.6 183.4, 501.6 179.3 Q 501.6 175.2, 499.8 173.2 Q 498.1 171.1, 495.0 171.1 Q 491.8 171.1, 490.1 173.2 Q 488.4 175.2, 488.4 179.3 Q 488.4 183.5, 490.1 185.6 Q 491.8 187.7, 495.0 187.7 \" fill=\"#FF0000\"/>\n",
       "<path class=\"atom-0\" d=\"M 688.6 90.3 Q 692.1 90.3, 693.9 91.9 Q 695.7 93.5, 695.7 96.4 Q 695.7 99.2, 693.9 100.9 Q 692.1 102.5, 688.6 102.5 L 685.3 102.5 L 685.3 111.0 L 682.5 111.0 L 682.5 90.3 L 688.6 90.3 M 688.6 100.1 Q 690.6 100.1, 691.7 99.2 Q 692.8 98.2, 692.8 96.4 Q 692.8 94.5, 691.7 93.6 Q 690.7 92.6, 688.6 92.6 L 685.3 92.6 L 685.3 100.1 L 688.6 100.1 \" fill=\"#000000\"/>\n",
       "<path class=\"atom-0\" d=\"M 705.4 95.7 Q 708.5 95.7, 710.3 97.7 Q 712.0 99.6, 712.0 103.2 Q 712.0 107.0, 709.9 109.1 Q 707.9 111.2, 704.3 111.2 Q 701.9 111.2, 699.7 110.3 L 698.4 110.0 L 698.4 88.8 L 701.2 88.8 L 701.2 97.6 Q 702.7 95.7, 705.4 95.7 M 704.3 109.0 Q 706.6 109.0, 707.9 107.5 Q 709.2 106.0, 709.2 103.2 Q 709.2 100.6, 708.2 99.3 Q 707.1 97.9, 705.2 97.9 Q 703.7 97.9, 702.6 98.7 Q 701.6 99.5, 701.2 100.9 L 701.2 108.6 Q 702.6 109.0, 704.3 109.0 \" fill=\"#000000\"/>\n",
       "<path class=\"atom-0\" d=\"M 717.9,108.6 L 717.8,108.8 L 717.8,108.9 L 717.8,109.0 L 717.8,109.1 L 717.7,109.2 L 717.7,109.4 L 717.6,109.5 L 717.5,109.6 L 717.4,109.7 L 717.3,109.7 L 717.2,109.8 L 717.1,109.9 L 717.0,110.0 L 716.9,110.0 L 716.8,110.0 L 716.7,110.1 L 716.5,110.1 L 716.4,110.1 L 716.3,110.1 L 716.2,110.1 L 716.1,110.1 L 715.9,110.0 L 715.8,110.0 L 715.7,109.9 L 715.6,109.9 L 715.5,109.8 L 715.4,109.7 L 715.3,109.6 L 715.2,109.5 L 715.2,109.4 L 715.1,109.3 L 715.0,109.2 L 715.0,109.1 L 715.0,109.0 L 714.9,108.8 L 714.9,108.7 L 714.9,108.6 L 714.9,108.5 L 715.0,108.3 L 715.0,108.2 L 715.0,108.1 L 715.1,108.0 L 715.2,107.9 L 715.2,107.8 L 715.3,107.7 L 715.4,107.6 L 715.5,107.5 L 715.6,107.4 L 715.7,107.4 L 715.8,107.3 L 715.9,107.3 L 716.1,107.2 L 716.2,107.2 L 716.3,107.2 L 716.4,107.2 L 716.5,107.2 L 716.7,107.2 L 716.8,107.2 L 716.9,107.3 L 717.0,107.3 L 717.1,107.4 L 717.2,107.5 L 717.3,107.5 L 717.4,107.6 L 717.5,107.7 L 717.6,107.8 L 717.7,107.9 L 717.7,108.0 L 717.8,108.1 L 717.8,108.3 L 717.8,108.4 L 717.8,108.5 L 717.9,108.6 L 716.4,108.6 Z\" style=\"fill:#000000;fill-rule:evenodd;fill-opacity:1;stroke:#000000;stroke-width:0.0px;stroke-linecap:butt;stroke-linejoin:miter;stroke-opacity:1;\"/>\n",
       "<path class=\"atom-0\" d=\"M 717.9,91.1 L 717.8,91.3 L 717.8,91.4 L 717.8,91.5 L 717.8,91.6 L 717.7,91.7 L 717.7,91.8 L 717.6,92.0 L 717.5,92.1 L 717.4,92.1 L 717.3,92.2 L 717.2,92.3 L 717.1,92.4 L 717.0,92.4 L 716.9,92.5 L 716.8,92.5 L 716.7,92.6 L 716.5,92.6 L 716.4,92.6 L 716.3,92.6 L 716.2,92.6 L 716.1,92.5 L 715.9,92.5 L 715.8,92.5 L 715.7,92.4 L 715.6,92.3 L 715.5,92.3 L 715.4,92.2 L 715.3,92.1 L 715.2,92.0 L 715.2,91.9 L 715.1,91.8 L 715.0,91.7 L 715.0,91.6 L 715.0,91.4 L 714.9,91.3 L 714.9,91.2 L 714.9,91.1 L 714.9,90.9 L 715.0,90.8 L 715.0,90.7 L 715.0,90.6 L 715.1,90.5 L 715.2,90.4 L 715.2,90.3 L 715.3,90.2 L 715.4,90.1 L 715.5,90.0 L 715.6,89.9 L 715.7,89.8 L 715.8,89.8 L 715.9,89.7 L 716.1,89.7 L 716.2,89.7 L 716.3,89.7 L 716.4,89.7 L 716.5,89.7 L 716.7,89.7 L 716.8,89.7 L 716.9,89.8 L 717.0,89.8 L 717.1,89.9 L 717.2,89.9 L 717.3,90.0 L 717.4,90.1 L 717.5,90.2 L 717.6,90.3 L 717.7,90.4 L 717.7,90.5 L 717.8,90.6 L 717.8,90.8 L 717.8,90.9 L 717.8,91.0 L 717.9,91.1 L 716.4,91.1 Z\" style=\"fill:#000000;fill-rule:evenodd;fill-opacity:1;stroke:#000000;stroke-width:0.0px;stroke-linecap:butt;stroke-linejoin:miter;stroke-opacity:1;\"/>\n",
       "<path class=\"atom-0\" d=\"M 717.9,102.8 L 717.8,102.9 L 717.8,103.1 L 717.8,103.2 L 717.8,103.3 L 717.7,103.4 L 717.7,103.5 L 717.6,103.6 L 717.5,103.7 L 717.4,103.8 L 717.3,103.9 L 717.2,104.0 L 717.1,104.1 L 717.0,104.1 L 716.9,104.2 L 716.8,104.2 L 716.7,104.2 L 716.5,104.3 L 716.4,104.3 L 716.3,104.3 L 716.2,104.2 L 716.1,104.2 L 715.9,104.2 L 715.8,104.1 L 715.7,104.1 L 715.6,104.0 L 715.5,103.9 L 715.4,103.9 L 715.3,103.8 L 715.2,103.7 L 715.2,103.6 L 715.1,103.5 L 715.0,103.4 L 715.0,103.2 L 715.0,103.1 L 714.9,103.0 L 714.9,102.9 L 714.9,102.7 L 714.9,102.6 L 715.0,102.5 L 715.0,102.4 L 715.0,102.3 L 715.1,102.1 L 715.2,102.0 L 715.2,101.9 L 715.3,101.8 L 715.4,101.7 L 715.5,101.7 L 715.6,101.6 L 715.7,101.5 L 715.8,101.5 L 715.9,101.4 L 716.1,101.4 L 716.2,101.4 L 716.3,101.3 L 716.4,101.3 L 716.5,101.4 L 716.7,101.4 L 716.8,101.4 L 716.9,101.4 L 717.0,101.5 L 717.1,101.5 L 717.2,101.6 L 717.3,101.7 L 717.4,101.8 L 717.5,101.9 L 717.6,102.0 L 717.7,102.1 L 717.7,102.2 L 717.8,102.3 L 717.8,102.4 L 717.8,102.6 L 717.8,102.7 L 717.9,102.8 L 716.4,102.8 Z\" style=\"fill:#000000;fill-rule:evenodd;fill-opacity:1;stroke:#000000;stroke-width:0.0px;stroke-linecap:butt;stroke-linejoin:miter;stroke-opacity:1;\"/>\n",
       "<path class=\"atom-0\" d=\"M 717.9,97.0 L 717.8,97.1 L 717.8,97.2 L 717.8,97.3 L 717.8,97.5 L 717.7,97.6 L 717.7,97.7 L 717.6,97.8 L 717.5,97.9 L 717.4,98.0 L 717.3,98.1 L 717.2,98.1 L 717.1,98.2 L 717.0,98.3 L 716.9,98.3 L 716.8,98.4 L 716.7,98.4 L 716.5,98.4 L 716.4,98.4 L 716.3,98.4 L 716.2,98.4 L 716.1,98.4 L 715.9,98.3 L 715.8,98.3 L 715.7,98.2 L 715.6,98.2 L 715.5,98.1 L 715.4,98.0 L 715.3,97.9 L 715.2,97.8 L 715.2,97.7 L 715.1,97.6 L 715.0,97.5 L 715.0,97.4 L 715.0,97.3 L 714.9,97.2 L 714.9,97.0 L 714.9,96.9 L 714.9,96.8 L 715.0,96.7 L 715.0,96.5 L 715.0,96.4 L 715.1,96.3 L 715.2,96.2 L 715.2,96.1 L 715.3,96.0 L 715.4,95.9 L 715.5,95.8 L 715.6,95.7 L 715.7,95.7 L 715.8,95.6 L 715.9,95.6 L 716.1,95.5 L 716.2,95.5 L 716.3,95.5 L 716.4,95.5 L 716.5,95.5 L 716.7,95.5 L 716.8,95.6 L 716.9,95.6 L 717.0,95.7 L 717.1,95.7 L 717.2,95.8 L 717.3,95.9 L 717.4,95.9 L 717.5,96.0 L 717.6,96.1 L 717.7,96.2 L 717.7,96.4 L 717.8,96.5 L 717.8,96.6 L 717.8,96.7 L 717.8,96.8 L 717.9,97.0 L 716.4,97.0 Z\" style=\"fill:#000000;fill-rule:evenodd;fill-opacity:1;stroke:#000000;stroke-width:0.0px;stroke-linecap:butt;stroke-linejoin:miter;stroke-opacity:1;\"/>\n",
       "</svg>"
      ],
      "text/plain": [
       "<IPython.core.display.SVG object>"
      ]
     },
     "metadata": {},
     "output_type": "display_data"
    },
    {
     "name": "stdout",
     "output_type": "stream",
     "text": [
      "If the E geometry is needed for the double bond, then the following conditions are employed\n"
     ]
    },
    {
     "data": {
      "image/svg+xml": [
       "<svg xmlns=\"http://www.w3.org/2000/svg\" xmlns:rdkit=\"http://www.rdkit.org/xml\" xmlns:xlink=\"http://www.w3.org/1999/xlink\" version=\"1.1\" baseProfile=\"full\" xml:space=\"preserve\" width=\"600px\" height=\"200px\" viewBox=\"0 0 600 200\">\n",
       "<!-- END OF HEADER -->\n",
       "<rect style=\"opacity:1.0;fill:#FFFFFF;stroke:none\" width=\"600.0\" height=\"200.0\" x=\"0.0\" y=\"0.0\"> </rect>\n",
       "<path class=\"atom-0\" d=\"M 79.8 86.2 L 88.7 100.6 Q 89.5 102.0, 91.0 104.6 Q 92.4 107.1, 92.5 107.3 L 92.5 86.2 L 96.1 86.2 L 96.1 113.4 L 92.3 113.4 L 82.8 97.6 Q 81.7 95.8, 80.5 93.7 Q 79.3 91.6, 79.0 90.9 L 79.0 113.4 L 75.5 113.4 L 75.5 86.2 L 79.8 86.2 \" fill=\"#000000\"/>\n",
       "<path class=\"atom-0\" d=\"M 101.1 108.0 Q 101.1 104.9, 103.6 103.1 Q 106.2 101.4, 110.8 101.4 L 113.7 101.4 L 113.7 100.7 Q 113.7 98.2, 112.7 97.2 Q 111.7 96.1, 109.2 96.1 Q 107.7 96.1, 106.4 96.4 Q 105.2 96.7, 103.3 97.5 L 102.2 95.0 Q 105.8 93.3, 109.3 93.3 Q 113.5 93.3, 115.4 95.1 Q 117.3 96.9, 117.3 100.7 L 117.3 113.4 L 114.5 113.4 Q 114.5 113.2, 114.4 112.6 Q 114.3 112.0, 114.0 111.1 Q 111.3 113.8, 107.6 113.8 Q 104.6 113.8, 102.9 112.2 Q 101.1 110.7, 101.1 108.0 M 104.7 107.9 Q 104.7 109.4, 105.6 110.2 Q 106.6 111.0, 108.3 111.0 Q 109.8 111.0, 111.3 110.3 Q 112.7 109.6, 113.7 108.3 L 113.7 104.1 L 111.0 104.1 Q 107.9 104.1, 106.3 105.1 Q 104.7 106.0, 104.7 107.9 \" fill=\"#000000\"/>\n",
       "<path class=\"atom-0\" d=\"M 125.0,99.8 L 125.0,99.9 L 125.0,100.1 L 125.0,100.3 L 124.9,100.4 L 124.8,100.6 L 124.8,100.7 L 124.7,100.9 L 124.6,101.0 L 124.5,101.1 L 124.4,101.2 L 124.2,101.3 L 124.1,101.4 L 123.9,101.5 L 123.8,101.6 L 123.6,101.6 L 123.5,101.7 L 123.3,101.7 L 123.1,101.7 L 123.0,101.7 L 122.8,101.7 L 122.7,101.6 L 122.5,101.6 L 122.3,101.5 L 122.2,101.5 L 122.1,101.4 L 121.9,101.3 L 121.8,101.2 L 121.7,101.1 L 121.6,100.9 L 121.5,100.8 L 121.4,100.6 L 121.3,100.5 L 121.3,100.3 L 121.2,100.2 L 121.2,100.0 L 121.2,99.9 L 121.2,99.7 L 121.2,99.5 L 121.2,99.4 L 121.3,99.2 L 121.3,99.0 L 121.4,98.9 L 121.5,98.8 L 121.6,98.6 L 121.7,98.5 L 121.8,98.4 L 121.9,98.3 L 122.1,98.2 L 122.2,98.1 L 122.3,98.0 L 122.5,97.9 L 122.7,97.9 L 122.8,97.9 L 123.0,97.9 L 123.1,97.9 L 123.3,97.9 L 123.5,97.9 L 123.6,97.9 L 123.8,98.0 L 123.9,98.0 L 124.1,98.1 L 124.2,98.2 L 124.4,98.3 L 124.5,98.4 L 124.6,98.5 L 124.7,98.7 L 124.8,98.8 L 124.8,99.0 L 124.9,99.1 L 125.0,99.3 L 125.0,99.4 L 125.0,99.6 L 125.0,99.8 L 123.1,99.8 Z\" style=\"fill:#000000;fill-rule:evenodd;fill-opacity:1;stroke:#000000;stroke-width:0.0px;stroke-linecap:butt;stroke-linejoin:miter;stroke-opacity:1;\"/>\n",
       "<path class=\"atom-0\" d=\"M 272.1 79.5 L 281.0 93.9 Q 281.9 95.3, 283.3 97.9 Q 284.7 100.4, 284.8 100.6 L 284.8 79.5 L 288.4 79.5 L 288.4 106.7 L 284.7 106.7 L 275.1 90.9 Q 274.0 89.1, 272.8 87.0 Q 271.7 84.9, 271.3 84.2 L 271.3 106.7 L 267.8 106.7 L 267.8 79.5 L 272.1 79.5 \" fill=\"#0000FF\"/>\n",
       "<path class=\"atom-0\" d=\"M 293.6 79.5 L 297.3 79.5 L 297.3 91.0 L 311.2 91.0 L 311.2 79.5 L 314.9 79.5 L 314.9 106.7 L 311.2 106.7 L 311.2 94.1 L 297.3 94.1 L 297.3 106.7 L 293.6 106.7 L 293.6 79.5 \" fill=\"#0000FF\"/>\n",
       "<path class=\"atom-0\" d=\"M 328.8 110.8 Q 330.5 111.3, 331.3 112.5 Q 332.2 113.6, 332.2 115.3 Q 332.2 116.9, 331.4 118.1 Q 330.7 119.2, 329.3 119.9 Q 327.9 120.5, 326.1 120.5 Q 324.1 120.5, 322.7 119.9 Q 321.3 119.2, 320.1 117.8 L 321.6 116.3 Q 322.7 117.5, 323.6 118.0 Q 324.6 118.5, 326.1 118.5 Q 327.7 118.5, 328.7 117.6 Q 329.7 116.7, 329.7 115.3 Q 329.7 113.5, 328.6 112.7 Q 327.6 111.8, 325.4 111.8 L 324.1 111.8 L 324.1 110.0 L 325.3 110.0 Q 327.2 110.0, 328.3 109.2 Q 329.3 108.3, 329.3 106.7 Q 329.3 105.5, 328.4 104.9 Q 327.6 104.1, 326.1 104.1 Q 324.6 104.1, 323.7 104.7 Q 322.8 105.2, 322.0 106.6 L 320.3 105.6 Q 320.9 104.1, 322.4 103.1 Q 324.0 102.1, 326.1 102.1 Q 328.7 102.1, 330.3 103.4 Q 331.8 104.6, 331.8 106.7 Q 331.8 108.1, 331.0 109.2 Q 330.3 110.2, 328.8 110.8 \" fill=\"#0000FF\"/>\n",
       "<path class=\"bond-0 atom-0 atom-1\" d=\"M 419.0,154.9 L 502.1,106.9\" style=\"fill:none;fill-rule:evenodd;stroke:#000000;stroke-width:2.0px;stroke-linecap:butt;stroke-linejoin:miter;stroke-opacity:1\"/>\n",
       "<path class=\"bond-1 atom-1 atom-2\" d=\"M 502.1,106.9 L 585.2,58.9\" style=\"fill:none;fill-rule:evenodd;stroke:#000000;stroke-width:2.0px;stroke-linecap:butt;stroke-linejoin:miter;stroke-opacity:1\"/>\n",
       "<path class=\"bond-2 atom-1 atom-3\" d=\"M 502.1,106.9 L 483.1,74.0\" style=\"fill:none;fill-rule:evenodd;stroke:#000000;stroke-width:2.0px;stroke-linecap:butt;stroke-linejoin:miter;stroke-opacity:1\"/>\n",
       "<path class=\"bond-2 atom-1 atom-3\" d=\"M 483.1,74.0 L 464.1,41.1\" style=\"fill:none;fill-rule:evenodd;stroke:#FF0000;stroke-width:2.0px;stroke-linecap:butt;stroke-linejoin:miter;stroke-opacity:1\"/>\n",
       "<path class=\"bond-3 atom-1 atom-4\" d=\"M 502.1,106.9 L 550.1,190.0\" style=\"fill:none;fill-rule:evenodd;stroke:#000000;stroke-width:2.0px;stroke-linecap:butt;stroke-linejoin:miter;stroke-opacity:1\"/>\n",
       "<path class=\"atom-3\" d=\"M 414.8 10.3 L 418.5 10.3 L 418.5 21.9 L 432.4 21.9 L 432.4 10.3 L 436.0 10.3 L 436.0 37.5 L 432.4 37.5 L 432.4 24.9 L 418.5 24.9 L 418.5 37.5 L 414.8 37.5 L 414.8 10.3 \" fill=\"#FF0000\"/>\n",
       "<path class=\"atom-3\" d=\"M 441.6 23.8 Q 441.6 17.3, 444.8 13.6 Q 448.1 10.0, 454.1 10.0 Q 460.1 10.0, 463.4 13.6 Q 466.6 17.3, 466.6 23.8 Q 466.6 30.4, 463.3 34.2 Q 460.1 37.9, 454.1 37.9 Q 448.1 37.9, 444.8 34.2 Q 441.6 30.5, 441.6 23.8 M 454.1 34.8 Q 458.2 34.8, 460.5 32.1 Q 462.7 29.3, 462.7 23.8 Q 462.7 18.5, 460.5 15.8 Q 458.2 13.1, 454.1 13.1 Q 450.0 13.1, 447.7 15.8 Q 445.5 18.4, 445.5 23.8 Q 445.5 29.3, 447.7 32.1 Q 450.0 34.8, 454.1 34.8 \" fill=\"#FF0000\"/>\n",
       "</svg>"
      ],
      "text/plain": [
       "<IPython.core.display.SVG object>"
      ]
     },
     "metadata": {},
     "output_type": "display_data"
    },
    {
     "name": "stdout",
     "output_type": "stream",
     "text": [
      "--------------------------------------\n",
      "--------------------------------------\n"
     ]
    },
    {
     "data": {
      "text/plain": [
       "[1,\n",
       " [<rdkit.Chem.rdchem.Mol at 0x18280bfc580>,\n",
       "  <rdkit.Chem.rdchem.Mol at 0x182808dec70>,\n",
       "  <rdkit.Chem.rdchem.Mol at 0x18280bfc5f0>,\n",
       "  <rdkit.Chem.rdchem.Mol at 0x18280bff290>,\n",
       "  <rdkit.Chem.rdchem.Mol at 0x182808de570>,\n",
       "  <rdkit.Chem.rdchem.Mol at 0x182808ddd20>,\n",
       "  <rdkit.Chem.rdchem.Mol at 0x182808dec00>,\n",
       "  <rdkit.Chem.rdchem.Mol at 0x182808dc0b0>,\n",
       "  <rdkit.Chem.rdchem.Mol at 0x182808de730>,\n",
       "  <rdkit.Chem.rdchem.Mol at 0x182808de650>,\n",
       "  <rdkit.Chem.rdchem.Mol at 0x182808de7a0>,\n",
       "  <rdkit.Chem.rdchem.Mol at 0x18280bfc660>,\n",
       "  <rdkit.Chem.rdchem.Mol at 0x182808dec70>,\n",
       "  <rdkit.Chem.rdchem.Mol at 0x18280bfc6d0>,\n",
       "  <rdkit.Chem.rdchem.Mol at 0x182808ab7d0>,\n",
       "  <rdkit.Chem.rdchem.Mol at 0x182808de570>,\n",
       "  <rdkit.Chem.rdchem.Mol at 0x182808ddd20>,\n",
       "  <rdkit.Chem.rdchem.Mol at 0x182808dec00>,\n",
       "  <rdkit.Chem.rdchem.Mol at 0x182808dc0b0>,\n",
       "  <rdkit.Chem.rdchem.Mol at 0x182808de730>,\n",
       "  <rdkit.Chem.rdchem.Mol at 0x182808de650>,\n",
       "  <rdkit.Chem.rdchem.Mol at 0x182808de7a0>]]"
      ]
     },
     "execution_count": 51,
     "metadata": {},
     "output_type": "execute_result"
    }
   ],
   "source": [
    "from chemicalbd.bond_disconnector import alcohol_beta_double_bond\n",
    "alcohol_beta_double_bond(alcohol_db) #The function disconnecting the pattern is run"
   ]
  },
  {
   "cell_type": "markdown",
   "id": "f4553580-88f5-4d3e-9a2f-6a473fa4e228",
   "metadata": {},
   "source": [
    "The reactants expected, the intermediates and the hydrogenation conditions are returned, for each of the two reactive sites.\n",
    "\n",
    "One peculiar thing is related to the 3 unpaired electrons when the lead atom is displayed. This is due to the display settings of rdkit."
   ]
  },
  {
   "cell_type": "code",
   "execution_count": null,
   "id": "4f47ffed-97b2-4236-b0c2-38369530dbca",
   "metadata": {},
   "outputs": [],
   "source": []
  }
 ],
 "metadata": {
  "kernelspec": {
   "display_name": "Python 3 (ipykernel)",
   "language": "python",
   "name": "python3"
  },
  "language_info": {
   "codemirror_mode": {
    "name": "ipython",
    "version": 3
   },
   "file_extension": ".py",
   "mimetype": "text/x-python",
   "name": "python",
   "nbconvert_exporter": "python",
   "pygments_lexer": "ipython3",
   "version": "3.10.14"
  }
 },
 "nbformat": 4,
 "nbformat_minor": 5
}
